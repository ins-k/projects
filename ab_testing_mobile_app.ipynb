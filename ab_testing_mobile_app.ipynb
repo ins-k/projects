{
 "cells": [
  {
   "cell_type": "markdown",
   "metadata": {},
   "source": [
    "# А/B тест пользователей мобильного приложения (интерпретация результатов)"
   ]
  },
  {
   "cell_type": "markdown",
   "metadata": {},
   "source": [
    "<font color=\"DarkCyan\"> Что тут есть: проверка и обработка выборок A/B тестирования, EDA, воронки, функция z-теста по всем уровням воронки"
   ]
  },
  {
   "cell_type": "markdown",
   "metadata": {},
   "source": [
    "**Вводная:** заказчик провел А/В тестирование согласно собственному техническому заданию и запросил интерпретировать результаты теста\n",
    "<br>**Заказчик / платформа:** мобильное приложение с возможностью совершения покупок\n",
    "<br>**Задача:** EDA, проверка корректности выборки для А/В теста и интерпретация результатов А/В теста\n",
    "<br>**Описание источников данных от заказчика:**\n",
    ">- *ab_project_marketing_events.csv* - календарь маркетинговых событий на 2020 год\n",
    ">- *final_ab_new_users.csv* - все пользователи, зарегистрировавшиеся в интернет-магазине в период с 7 по 21 декабря 2020 года\n",
    ">- *final_ab_events.csv* - все события новых пользователей в период с 7 декабря 2020 по 4 января 2021 года\n",
    ">- *final_ab_participants.csv* - таблица участников тестов"
   ]
  },
  {
   "cell_type": "markdown",
   "metadata": {},
   "source": [
    "**Техническое задание от заказчика:**\n",
    "<br>**Название теста:** recommender_system_test\n",
    "<br>**Группы:** А (контрольная), B (новая платёжная воронка)\n",
    "<br>**Дата запуска:** 2020-12-07\n",
    "<br>**Дата остановки набора новых пользователей:** 2020-12-21\n",
    "<br>**Дата остановки:** 2021-01-04\n",
    "<br>**Аудитория:** 15% новых пользователей из региона EU\n",
    "<br>**Назначение теста:** тестирование изменений, связанных с внедрением улучшенной рекомендательной системы\n",
    "<br>**Ожидаемое количество участников теста:** 6000\n",
    "<br>**Ожидаемый эффект:** за 14 дней с момента регистрации в системе пользователи покажут улучшение каждой метрики не менее, чем на 10%:\n",
    ">- конверсии в просмотр карточек товаров — событие product_page\n",
    ">- просмотры корзины — product_cart\n",
    ">- покупки — purchase"
   ]
  },
  {
   "cell_type": "markdown",
   "metadata": {},
   "source": [
    "## Предобработка данных"
   ]
  },
  {
   "cell_type": "markdown",
   "metadata": {},
   "source": [
    "### Старт работ"
   ]
  },
  {
   "cell_type": "markdown",
   "metadata": {},
   "source": [
    ">- подгрузим библиотеки для работы\n",
    ">- объявим переменные с датасетами заказчика\n",
    ">- циклом посмотрим краткую инфу о датасете"
   ]
  },
  {
   "cell_type": "code",
   "execution_count": 1,
   "metadata": {},
   "outputs": [],
   "source": [
    "import pandas as pd\n",
    "import matplotlib.pyplot as plt\n",
    "import seaborn as sns\n",
    "#from plotly import graph_objects as go \n",
    "#import plotly.express as px\n",
    "import math as mth\n",
    "#import statistics as stat\n",
    "import numpy as np\n",
    "from scipy import stats as st"
   ]
  },
  {
   "cell_type": "code",
   "execution_count": 2,
   "metadata": {},
   "outputs": [],
   "source": [
    "import warnings\n",
    "warnings.filterwarnings('ignore')"
   ]
  },
  {
   "cell_type": "code",
   "execution_count": 3,
   "metadata": {},
   "outputs": [],
   "source": [
    "ev_20 = pd.read_csv('ab_project_marketing_events.csv') # календарь маркетинговых событий на 2020 год;\n",
    "users = pd.read_csv('final_ab_new_users.csv') # все пользователи, зарегистрировавшиеся в интернет-магазине в период с 7 по 21 декабря 2020 года;\n",
    "events = pd.read_csv('final_ab_events.csv') #  все события новых пользователей в период с 7 декабря 2020 по 4 января 2021 года;\n",
    "partis = pd.read_csv('final_ab_participants.csv') #  таблица участников тестов."
   ]
  },
  {
   "cell_type": "code",
   "execution_count": 4,
   "metadata": {},
   "outputs": [
    {
     "name": "stdout",
     "output_type": "stream",
     "text": [
      "<class 'pandas.core.frame.DataFrame'>\n",
      "RangeIndex: 14 entries, 0 to 13\n",
      "Data columns (total 4 columns):\n",
      " #   Column     Non-Null Count  Dtype \n",
      "---  ------     --------------  ----- \n",
      " 0   name       14 non-null     object\n",
      " 1   regions    14 non-null     object\n",
      " 2   start_dt   14 non-null     object\n",
      " 3   finish_dt  14 non-null     object\n",
      "dtypes: object(4)\n",
      "memory usage: 576.0+ bytes\n"
     ]
    },
    {
     "data": {
      "text/html": [
       "<div>\n",
       "<style scoped>\n",
       "    .dataframe tbody tr th:only-of-type {\n",
       "        vertical-align: middle;\n",
       "    }\n",
       "\n",
       "    .dataframe tbody tr th {\n",
       "        vertical-align: top;\n",
       "    }\n",
       "\n",
       "    .dataframe thead th {\n",
       "        text-align: right;\n",
       "    }\n",
       "</style>\n",
       "<table border=\"1\" class=\"dataframe\">\n",
       "  <thead>\n",
       "    <tr style=\"text-align: right;\">\n",
       "      <th></th>\n",
       "      <th>name</th>\n",
       "      <th>regions</th>\n",
       "      <th>start_dt</th>\n",
       "      <th>finish_dt</th>\n",
       "    </tr>\n",
       "  </thead>\n",
       "  <tbody>\n",
       "    <tr>\n",
       "      <th>0</th>\n",
       "      <td>Christmas&amp;New Year Promo</td>\n",
       "      <td>EU, N.America</td>\n",
       "      <td>2020-12-25</td>\n",
       "      <td>2021-01-03</td>\n",
       "    </tr>\n",
       "  </tbody>\n",
       "</table>\n",
       "</div>"
      ],
      "text/plain": [
       "                       name        regions    start_dt   finish_dt\n",
       "0  Christmas&New Year Promo  EU, N.America  2020-12-25  2021-01-03"
      ]
     },
     "metadata": {},
     "output_type": "display_data"
    },
    {
     "name": "stdout",
     "output_type": "stream",
     "text": [
      "<class 'pandas.core.frame.DataFrame'>\n",
      "RangeIndex: 61733 entries, 0 to 61732\n",
      "Data columns (total 4 columns):\n",
      " #   Column      Non-Null Count  Dtype \n",
      "---  ------      --------------  ----- \n",
      " 0   user_id     61733 non-null  object\n",
      " 1   first_date  61733 non-null  object\n",
      " 2   region      61733 non-null  object\n",
      " 3   device      61733 non-null  object\n",
      "dtypes: object(4)\n",
      "memory usage: 1.9+ MB\n"
     ]
    },
    {
     "data": {
      "text/html": [
       "<div>\n",
       "<style scoped>\n",
       "    .dataframe tbody tr th:only-of-type {\n",
       "        vertical-align: middle;\n",
       "    }\n",
       "\n",
       "    .dataframe tbody tr th {\n",
       "        vertical-align: top;\n",
       "    }\n",
       "\n",
       "    .dataframe thead th {\n",
       "        text-align: right;\n",
       "    }\n",
       "</style>\n",
       "<table border=\"1\" class=\"dataframe\">\n",
       "  <thead>\n",
       "    <tr style=\"text-align: right;\">\n",
       "      <th></th>\n",
       "      <th>user_id</th>\n",
       "      <th>first_date</th>\n",
       "      <th>region</th>\n",
       "      <th>device</th>\n",
       "    </tr>\n",
       "  </thead>\n",
       "  <tbody>\n",
       "    <tr>\n",
       "      <th>0</th>\n",
       "      <td>D72A72121175D8BE</td>\n",
       "      <td>2020-12-07</td>\n",
       "      <td>EU</td>\n",
       "      <td>PC</td>\n",
       "    </tr>\n",
       "  </tbody>\n",
       "</table>\n",
       "</div>"
      ],
      "text/plain": [
       "            user_id  first_date region device\n",
       "0  D72A72121175D8BE  2020-12-07     EU     PC"
      ]
     },
     "metadata": {},
     "output_type": "display_data"
    },
    {
     "name": "stdout",
     "output_type": "stream",
     "text": [
      "<class 'pandas.core.frame.DataFrame'>\n",
      "RangeIndex: 440317 entries, 0 to 440316\n",
      "Data columns (total 4 columns):\n",
      " #   Column      Non-Null Count   Dtype  \n",
      "---  ------      --------------   -----  \n",
      " 0   user_id     440317 non-null  object \n",
      " 1   event_dt    440317 non-null  object \n",
      " 2   event_name  440317 non-null  object \n",
      " 3   details     62740 non-null   float64\n",
      "dtypes: float64(1), object(3)\n",
      "memory usage: 13.4+ MB\n"
     ]
    },
    {
     "data": {
      "text/html": [
       "<div>\n",
       "<style scoped>\n",
       "    .dataframe tbody tr th:only-of-type {\n",
       "        vertical-align: middle;\n",
       "    }\n",
       "\n",
       "    .dataframe tbody tr th {\n",
       "        vertical-align: top;\n",
       "    }\n",
       "\n",
       "    .dataframe thead th {\n",
       "        text-align: right;\n",
       "    }\n",
       "</style>\n",
       "<table border=\"1\" class=\"dataframe\">\n",
       "  <thead>\n",
       "    <tr style=\"text-align: right;\">\n",
       "      <th></th>\n",
       "      <th>user_id</th>\n",
       "      <th>event_dt</th>\n",
       "      <th>event_name</th>\n",
       "      <th>details</th>\n",
       "    </tr>\n",
       "  </thead>\n",
       "  <tbody>\n",
       "    <tr>\n",
       "      <th>0</th>\n",
       "      <td>E1BDDCE0DAFA2679</td>\n",
       "      <td>2020-12-07 20:22:03</td>\n",
       "      <td>purchase</td>\n",
       "      <td>99.99</td>\n",
       "    </tr>\n",
       "  </tbody>\n",
       "</table>\n",
       "</div>"
      ],
      "text/plain": [
       "            user_id             event_dt event_name  details\n",
       "0  E1BDDCE0DAFA2679  2020-12-07 20:22:03   purchase    99.99"
      ]
     },
     "metadata": {},
     "output_type": "display_data"
    },
    {
     "name": "stdout",
     "output_type": "stream",
     "text": [
      "<class 'pandas.core.frame.DataFrame'>\n",
      "RangeIndex: 18268 entries, 0 to 18267\n",
      "Data columns (total 3 columns):\n",
      " #   Column   Non-Null Count  Dtype \n",
      "---  ------   --------------  ----- \n",
      " 0   user_id  18268 non-null  object\n",
      " 1   group    18268 non-null  object\n",
      " 2   ab_test  18268 non-null  object\n",
      "dtypes: object(3)\n",
      "memory usage: 428.3+ KB\n"
     ]
    },
    {
     "data": {
      "text/html": [
       "<div>\n",
       "<style scoped>\n",
       "    .dataframe tbody tr th:only-of-type {\n",
       "        vertical-align: middle;\n",
       "    }\n",
       "\n",
       "    .dataframe tbody tr th {\n",
       "        vertical-align: top;\n",
       "    }\n",
       "\n",
       "    .dataframe thead th {\n",
       "        text-align: right;\n",
       "    }\n",
       "</style>\n",
       "<table border=\"1\" class=\"dataframe\">\n",
       "  <thead>\n",
       "    <tr style=\"text-align: right;\">\n",
       "      <th></th>\n",
       "      <th>user_id</th>\n",
       "      <th>group</th>\n",
       "      <th>ab_test</th>\n",
       "    </tr>\n",
       "  </thead>\n",
       "  <tbody>\n",
       "    <tr>\n",
       "      <th>0</th>\n",
       "      <td>D1ABA3E2887B6A73</td>\n",
       "      <td>A</td>\n",
       "      <td>recommender_system_test</td>\n",
       "    </tr>\n",
       "  </tbody>\n",
       "</table>\n",
       "</div>"
      ],
      "text/plain": [
       "            user_id group                  ab_test\n",
       "0  D1ABA3E2887B6A73     A  recommender_system_test"
      ]
     },
     "metadata": {},
     "output_type": "display_data"
    }
   ],
   "source": [
    "for _ in [ev_20, users, events, partis]:\n",
    "    _.info()\n",
    "    display(_.head(1))"
   ]
  },
  {
   "cell_type": "markdown",
   "metadata": {},
   "source": [
    "**Увидели кол-во строк - во всех датасетах нет пропусков, кроме сета с событиями - в поле details заполняются не все данные, так как там находится цена покупки (по всей видимости, приходит не вся информация). Это поле некритично для нас, тк цена покупки не участвует в исследовании**"
   ]
  },
  {
   "cell_type": "code",
   "execution_count": 5,
   "metadata": {},
   "outputs": [
    {
     "data": {
      "text/html": [
       "<div>\n",
       "<style scoped>\n",
       "    .dataframe tbody tr th:only-of-type {\n",
       "        vertical-align: middle;\n",
       "    }\n",
       "\n",
       "    .dataframe tbody tr th {\n",
       "        vertical-align: top;\n",
       "    }\n",
       "\n",
       "    .dataframe thead th {\n",
       "        text-align: right;\n",
       "    }\n",
       "</style>\n",
       "<table border=\"1\" class=\"dataframe\">\n",
       "  <thead>\n",
       "    <tr style=\"text-align: right;\">\n",
       "      <th></th>\n",
       "      <th>event_name</th>\n",
       "      <th>details</th>\n",
       "    </tr>\n",
       "  </thead>\n",
       "  <tbody>\n",
       "    <tr>\n",
       "      <th>0</th>\n",
       "      <td>login</td>\n",
       "      <td>0</td>\n",
       "    </tr>\n",
       "    <tr>\n",
       "      <th>1</th>\n",
       "      <td>product_cart</td>\n",
       "      <td>0</td>\n",
       "    </tr>\n",
       "    <tr>\n",
       "      <th>2</th>\n",
       "      <td>product_page</td>\n",
       "      <td>0</td>\n",
       "    </tr>\n",
       "    <tr>\n",
       "      <th>3</th>\n",
       "      <td>purchase</td>\n",
       "      <td>1498082</td>\n",
       "    </tr>\n",
       "  </tbody>\n",
       "</table>\n",
       "</div>"
      ],
      "text/plain": [
       "     event_name  details\n",
       "0         login        0\n",
       "1  product_cart        0\n",
       "2  product_page        0\n",
       "3      purchase  1498082"
      ]
     },
     "execution_count": 5,
     "metadata": {},
     "output_type": "execute_result"
    }
   ],
   "source": [
    "temp_0001 = events.groupby('event_name', as_index=False).agg({'details': 'sum'})\n",
    "temp_0001['details'] = temp_0001['details'].astype(int)\n",
    "temp_0001"
   ]
  },
  {
   "cell_type": "markdown",
   "metadata": {},
   "source": [
    "### Дубликаты и формат полей"
   ]
  },
  {
   "cell_type": "markdown",
   "metadata": {},
   "source": [
    ">- проверим наличие строк дубликатов в датасетах (просуммируем строки-дубли, если дублей нет - получим 0)\n",
    ">- предобработаем формат дат и создадим столбец без времени в сете events\n",
    ">- посмотрим кол-во уникальных пользователей \"на заре\" анализа"
   ]
  },
  {
   "cell_type": "code",
   "execution_count": 6,
   "metadata": {},
   "outputs": [
    {
     "name": "stdout",
     "output_type": "stream",
     "text": [
      "0\n",
      "0\n",
      "0\n",
      "0\n"
     ]
    }
   ],
   "source": [
    "for _ in [ev_20, users, events, partis]:\n",
    "    print(_.duplicated().sum())"
   ]
  },
  {
   "cell_type": "code",
   "execution_count": 7,
   "metadata": {},
   "outputs": [],
   "source": [
    "ev_20['start_dt'] = pd.to_datetime(ev_20['start_dt'])\n",
    "ev_20['finish_dt'] = pd.to_datetime(ev_20['finish_dt'])\n",
    "users['first_date'] = pd.to_datetime(users['first_date'])\n",
    "users = users.rename(columns={'first_date': 'first_dt'})\n",
    "events['event_dt'] = pd.to_datetime(events['event_dt'])\n",
    "events['dt'] = events['event_dt'].dt.date\n",
    "events['dt'] = pd.to_datetime(events['dt'])"
   ]
  },
  {
   "cell_type": "code",
   "execution_count": 8,
   "metadata": {},
   "outputs": [
    {
     "data": {
      "text/plain": [
       "61733"
      ]
     },
     "execution_count": 8,
     "metadata": {},
     "output_type": "execute_result"
    }
   ],
   "source": [
    "users['user_id'].nunique()"
   ]
  },
  {
   "cell_type": "markdown",
   "metadata": {},
   "source": [
    "**Все ок - убедились в отсутствии дублей, поменяли формат на datetime там, где это было нужно. Увидели, что в исходном сете с регистрациями около 62 тысяч уникальных пользователей. Переходим к проверке выборки для теста.**"
   ]
  },
  {
   "cell_type": "markdown",
   "metadata": {},
   "source": [
    "## Проверка выборки теста"
   ]
  },
  {
   "cell_type": "markdown",
   "metadata": {},
   "source": [
    "### Фильтр по дате"
   ]
  },
  {
   "cell_type": "markdown",
   "metadata": {},
   "source": [
    ">- создадим функцию для оперативной группировки датасета\n",
    ">- проверим данные: в сете events должен быть период с 7 декабря 2020 по 4 января 2021\n",
    ">- проверим данные: в сете users (регистрации) должен быть период с 7 по 21 декабря 2020\n",
    ">- обрежем датасеты при необходимости. Проверим, сколько осталось юзеров"
   ]
  },
  {
   "cell_type": "markdown",
   "metadata": {},
   "source": [
    "#### функция группировки"
   ]
  },
  {
   "cell_type": "code",
   "execution_count": 9,
   "metadata": {},
   "outputs": [],
   "source": [
    "def group_me(data, level=[], agglevel='', aggfunc=''):\n",
    "    union = (data.groupby(level, as_index=False)\n",
    "             .agg({agglevel: aggfunc})\n",
    "             .rename(columns={agglevel: aggfunc})\n",
    "             .reset_index(drop=True)\n",
    "             .sort_values(by=aggfunc, ascending=False))\n",
    "    return union"
   ]
  },
  {
   "cell_type": "code",
   "execution_count": 10,
   "metadata": {},
   "outputs": [
    {
     "data": {
      "text/plain": [
       "Timestamp('2020-12-07 00:00:33')"
      ]
     },
     "metadata": {},
     "output_type": "display_data"
    },
    {
     "data": {
      "text/plain": [
       "Timestamp('2020-12-30 23:36:33')"
      ]
     },
     "metadata": {},
     "output_type": "display_data"
    }
   ],
   "source": [
    "display(events['event_dt'].min(), events['event_dt'].max())"
   ]
  },
  {
   "cell_type": "code",
   "execution_count": 11,
   "metadata": {},
   "outputs": [
    {
     "data": {
      "text/plain": [
       "Timestamp('2020-12-07 00:00:00')"
      ]
     },
     "metadata": {},
     "output_type": "display_data"
    },
    {
     "data": {
      "text/plain": [
       "Timestamp('2020-12-23 00:00:00')"
      ]
     },
     "metadata": {},
     "output_type": "display_data"
    }
   ],
   "source": [
    "display(users['first_dt'].min(), users['first_dt'].max())"
   ]
  },
  {
   "cell_type": "code",
   "execution_count": 12,
   "metadata": {},
   "outputs": [],
   "source": [
    "users = users.query('first_dt <= \"2020-12-21\"')"
   ]
  },
  {
   "cell_type": "code",
   "execution_count": 13,
   "metadata": {},
   "outputs": [
    {
     "data": {
      "text/plain": [
       "56470"
      ]
     },
     "execution_count": 13,
     "metadata": {},
     "output_type": "execute_result"
    }
   ],
   "source": [
    "users['user_id'].nunique()"
   ]
  },
  {
   "cell_type": "markdown",
   "metadata": {},
   "source": [
    "**Обрезали сет с регистрациями до периода, указанного в техническом задании (7-21 декабря 2020). Осталось ~56.5 тысяч юзеров. Сет с событиями в фильтрации не нуждался, период в нем меньше заданного (до 4 января 2021) - вместе с тем продолжим работать с теми данными, что у нас есть.**"
   ]
  },
  {
   "cell_type": "markdown",
   "metadata": {},
   "source": [
    "### фильтр по региону"
   ]
  },
  {
   "cell_type": "markdown",
   "metadata": {},
   "source": [
    ">- отфильтруем сет с пользователями по региону, оставив только заданный в тех.задании (EU). Посмотрим, сколько юзеров осталось\n",
    ">- рассчитаем долю 15% (заказчик указал, что 15% новых зарегистрированных из EU в заданный период должны попасть в тест)"
   ]
  },
  {
   "cell_type": "code",
   "execution_count": 14,
   "metadata": {},
   "outputs": [
    {
     "data": {
      "text/plain": [
       "42340"
      ]
     },
     "execution_count": 14,
     "metadata": {},
     "output_type": "execute_result"
    }
   ],
   "source": [
    "users = users.query('region == \"EU\"')\n",
    "unit = users['user_id'].nunique()\n",
    "unit"
   ]
  },
  {
   "cell_type": "code",
   "execution_count": 15,
   "metadata": {},
   "outputs": [
    {
     "name": "stdout",
     "output_type": "stream",
     "text": [
      "6351.0\n"
     ]
    }
   ],
   "source": [
    "print(unit * 0.15)"
   ]
  },
  {
   "cell_type": "markdown",
   "metadata": {},
   "source": [
    "**Осталось 42 тысячи пользователей + 6351 человек это желаемые 15% из их числа.**"
   ]
  },
  {
   "cell_type": "markdown",
   "metadata": {},
   "source": [
    "### соединение пользователей с событиями"
   ]
  },
  {
   "cell_type": "markdown",
   "metadata": {},
   "source": [
    ">- создадим список уникальных юзеров из EU (отфильтрованных по дате регистрации)\n",
    ">- отфильтруем датасет с событиями только по этим id. Посмотрим инфо о датасете\n",
    ">- присоединим таблицу пользователей к таблице событий, чтобы в объединенном сете появилась дата регистрации юзера\n",
    ">- создадим в новом сете колонку diff, рассчитывающую разницу между датой регистрацией и событием. По тех.заданию разница должна составлять не более 14 дней\n",
    ">- посмотрим инфо о новом объединенном датасете"
   ]
  },
  {
   "cell_type": "code",
   "execution_count": 16,
   "metadata": {},
   "outputs": [],
   "source": [
    "users_eu = list(users['user_id'].unique())"
   ]
  },
  {
   "cell_type": "code",
   "execution_count": 17,
   "metadata": {},
   "outputs": [
    {
     "name": "stdout",
     "output_type": "stream",
     "text": [
      "<class 'pandas.core.frame.DataFrame'>\n",
      "Int64Index: 302653 entries, 1 to 440316\n",
      "Data columns (total 5 columns):\n",
      " #   Column      Non-Null Count   Dtype         \n",
      "---  ------      --------------   -----         \n",
      " 0   user_id     302653 non-null  object        \n",
      " 1   event_dt    302653 non-null  datetime64[ns]\n",
      " 2   event_name  302653 non-null  object        \n",
      " 3   details     44918 non-null   float64       \n",
      " 4   dt          302653 non-null  datetime64[ns]\n",
      "dtypes: datetime64[ns](2), float64(1), object(2)\n",
      "memory usage: 13.9+ MB\n"
     ]
    }
   ],
   "source": [
    "events = events.query('user_id in @users_eu')\n",
    "events.info()"
   ]
  },
  {
   "cell_type": "code",
   "execution_count": 18,
   "metadata": {},
   "outputs": [],
   "source": [
    "union = events.merge(users, on='user_id', how='left')\n",
    "union['diff'] = (union['dt'] - union['first_dt']).dt.days"
   ]
  },
  {
   "cell_type": "code",
   "execution_count": 19,
   "metadata": {},
   "outputs": [
    {
     "data": {
      "text/html": [
       "<div>\n",
       "<style scoped>\n",
       "    .dataframe tbody tr th:only-of-type {\n",
       "        vertical-align: middle;\n",
       "    }\n",
       "\n",
       "    .dataframe tbody tr th {\n",
       "        vertical-align: top;\n",
       "    }\n",
       "\n",
       "    .dataframe thead th {\n",
       "        text-align: right;\n",
       "    }\n",
       "</style>\n",
       "<table border=\"1\" class=\"dataframe\">\n",
       "  <thead>\n",
       "    <tr style=\"text-align: right;\">\n",
       "      <th></th>\n",
       "      <th>user_id</th>\n",
       "      <th>event_dt</th>\n",
       "      <th>event_name</th>\n",
       "      <th>details</th>\n",
       "      <th>dt</th>\n",
       "      <th>first_dt</th>\n",
       "      <th>region</th>\n",
       "      <th>device</th>\n",
       "      <th>diff</th>\n",
       "    </tr>\n",
       "  </thead>\n",
       "  <tbody>\n",
       "    <tr>\n",
       "      <th>302623</th>\n",
       "      <td>2C29721DDDA76B2A</td>\n",
       "      <td>2020-12-29 05:58:20</td>\n",
       "      <td>login</td>\n",
       "      <td>NaN</td>\n",
       "      <td>2020-12-29</td>\n",
       "      <td>2020-12-20</td>\n",
       "      <td>EU</td>\n",
       "      <td>iPhone</td>\n",
       "      <td>9</td>\n",
       "    </tr>\n",
       "  </tbody>\n",
       "</table>\n",
       "</div>"
      ],
      "text/plain": [
       "                 user_id            event_dt event_name  details         dt  \\\n",
       "302623  2C29721DDDA76B2A 2020-12-29 05:58:20      login      NaN 2020-12-29   \n",
       "\n",
       "         first_dt region  device  diff  \n",
       "302623 2020-12-20     EU  iPhone     9  "
      ]
     },
     "execution_count": 19,
     "metadata": {},
     "output_type": "execute_result"
    }
   ],
   "source": [
    "union = union.query('diff <= 14')\n",
    "union.tail(1)"
   ]
  },
  {
   "cell_type": "code",
   "execution_count": 20,
   "metadata": {},
   "outputs": [
    {
     "name": "stdout",
     "output_type": "stream",
     "text": [
      "<class 'pandas.core.frame.DataFrame'>\n",
      "Int64Index: 291160 entries, 0 to 302623\n",
      "Data columns (total 9 columns):\n",
      " #   Column      Non-Null Count   Dtype         \n",
      "---  ------      --------------   -----         \n",
      " 0   user_id     291160 non-null  object        \n",
      " 1   event_dt    291160 non-null  datetime64[ns]\n",
      " 2   event_name  291160 non-null  object        \n",
      " 3   details     43227 non-null   float64       \n",
      " 4   dt          291160 non-null  datetime64[ns]\n",
      " 5   first_dt    291160 non-null  datetime64[ns]\n",
      " 6   region      291160 non-null  object        \n",
      " 7   device      291160 non-null  object        \n",
      " 8   diff        291160 non-null  int64         \n",
      "dtypes: datetime64[ns](3), float64(1), int64(1), object(4)\n",
      "memory usage: 22.2+ MB\n"
     ]
    }
   ],
   "source": [
    "union.info()"
   ]
  },
  {
   "cell_type": "markdown",
   "metadata": {},
   "source": [
    "**C учетом фильтра по пользователям из EU + фильтра по разнице в днях потеряли около 11 тысяч строк с событиями.**"
   ]
  },
  {
   "cell_type": "markdown",
   "metadata": {},
   "source": [
    ">- посмотрим сколько имеем событий тотал в разрезе типа"
   ]
  },
  {
   "cell_type": "code",
   "execution_count": 21,
   "metadata": {},
   "outputs": [
    {
     "data": {
      "text/html": [
       "<div>\n",
       "<style scoped>\n",
       "    .dataframe tbody tr th:only-of-type {\n",
       "        vertical-align: middle;\n",
       "    }\n",
       "\n",
       "    .dataframe tbody tr th {\n",
       "        vertical-align: top;\n",
       "    }\n",
       "\n",
       "    .dataframe thead th {\n",
       "        text-align: right;\n",
       "    }\n",
       "</style>\n",
       "<table border=\"1\" class=\"dataframe\">\n",
       "  <thead>\n",
       "    <tr style=\"text-align: right;\">\n",
       "      <th></th>\n",
       "      <th>event_name</th>\n",
       "      <th>count</th>\n",
       "    </tr>\n",
       "  </thead>\n",
       "  <tbody>\n",
       "    <tr>\n",
       "      <th>0</th>\n",
       "      <td>login</td>\n",
       "      <td>124584</td>\n",
       "    </tr>\n",
       "    <tr>\n",
       "      <th>1</th>\n",
       "      <td>product_page</td>\n",
       "      <td>82204</td>\n",
       "    </tr>\n",
       "    <tr>\n",
       "      <th>2</th>\n",
       "      <td>purchase</td>\n",
       "      <td>43227</td>\n",
       "    </tr>\n",
       "    <tr>\n",
       "      <th>3</th>\n",
       "      <td>product_cart</td>\n",
       "      <td>41145</td>\n",
       "    </tr>\n",
       "  </tbody>\n",
       "</table>\n",
       "</div>"
      ],
      "text/plain": [
       "     event_name   count\n",
       "0         login  124584\n",
       "1  product_page   82204\n",
       "2      purchase   43227\n",
       "3  product_cart   41145"
      ]
     },
     "execution_count": 21,
     "metadata": {},
     "output_type": "execute_result"
    }
   ],
   "source": [
    "temp_0 = group_me(union, level='event_name', agglevel='user_id', aggfunc='count')\n",
    "temp_0.reset_index(drop=True)"
   ]
  },
  {
   "cell_type": "markdown",
   "metadata": {},
   "source": [
    "**Вырисовывается воронка - но интересная: больше всего логинов, далее переходы на продуктовую страницу - после по кол-ву лидируют покупки и только потом продуктовая корзина. Вероятно, в приложении можно переходить на этап покупки напрямую. Подробнее с воронками разберемся на следующих этапах.**"
   ]
  },
  {
   "cell_type": "markdown",
   "metadata": {},
   "source": [
    "### пересечение с маркетинговыми кампаниями"
   ]
  },
  {
   "cell_type": "markdown",
   "metadata": {},
   "source": [
    ">- заказчик предоставил сет с рекламныии кампаниями, проходящими в 2020 году. Посмотрим, что за кампании проходили одновременно с тестом\n",
    ">- создадим функцию для форматирования дат для красивого отображения в графиках\n",
    ">- создадим новый стобец в датасете (с короткой датой) \n",
    ">- сделаем временный сет с кол-вом событий по дням\n",
    ">- и временный сет с кол-вом регистраций пользователей по дням\n",
    ">- посмотрим графики. Сделаем выводы"
   ]
  },
  {
   "cell_type": "code",
   "execution_count": 22,
   "metadata": {},
   "outputs": [
    {
     "data": {
      "text/html": [
       "<div>\n",
       "<style scoped>\n",
       "    .dataframe tbody tr th:only-of-type {\n",
       "        vertical-align: middle;\n",
       "    }\n",
       "\n",
       "    .dataframe tbody tr th {\n",
       "        vertical-align: top;\n",
       "    }\n",
       "\n",
       "    .dataframe thead th {\n",
       "        text-align: right;\n",
       "    }\n",
       "</style>\n",
       "<table border=\"1\" class=\"dataframe\">\n",
       "  <thead>\n",
       "    <tr style=\"text-align: right;\">\n",
       "      <th></th>\n",
       "      <th>name</th>\n",
       "      <th>regions</th>\n",
       "      <th>start_dt</th>\n",
       "      <th>finish_dt</th>\n",
       "    </tr>\n",
       "  </thead>\n",
       "  <tbody>\n",
       "    <tr>\n",
       "      <th>12</th>\n",
       "      <td>Christmas&amp;New Year Promo</td>\n",
       "      <td>EU, N.America</td>\n",
       "      <td>2020-12-25</td>\n",
       "      <td>2021-01-03</td>\n",
       "    </tr>\n",
       "  </tbody>\n",
       "</table>\n",
       "</div>"
      ],
      "text/plain": [
       "                        name        regions   start_dt  finish_dt\n",
       "12  Christmas&New Year Promo  EU, N.America 2020-12-25 2021-01-03"
      ]
     },
     "execution_count": 22,
     "metadata": {},
     "output_type": "execute_result"
    }
   ],
   "source": [
    "ev_20 = (ev_20.sort_values(by='start_dt')\n",
    "         .reset_index(drop=True).query('start_dt >= \"2020-12-01\" & regions != \"CIS\"'))\n",
    "ev_20"
   ]
  },
  {
   "cell_type": "markdown",
   "metadata": {},
   "source": [
    "#### функция форматирования дат"
   ]
  },
  {
   "cell_type": "code",
   "execution_count": 23,
   "metadata": {},
   "outputs": [],
   "source": [
    "def format_date(date):\n",
    "    return date.strftime(\"%m-%d\")"
   ]
  },
  {
   "cell_type": "code",
   "execution_count": 24,
   "metadata": {
    "scrolled": true
   },
   "outputs": [],
   "source": [
    "union['beauty_dt'] = union['dt'].apply(format_date)"
   ]
  },
  {
   "cell_type": "code",
   "execution_count": 25,
   "metadata": {},
   "outputs": [],
   "source": [
    "# здесь считаем количество событий, не уникальных\n",
    "temp_01 = group_me(union, level='beauty_dt', agglevel='user_id', aggfunc='count')\n",
    "temp_01 = temp_01.sort_values(by='beauty_dt')"
   ]
  },
  {
   "cell_type": "markdown",
   "metadata": {},
   "source": [
    "##### график"
   ]
  },
  {
   "cell_type": "code",
   "execution_count": 26,
   "metadata": {},
   "outputs": [
    {
     "data": {
      "image/png": "[encoded data removed]",
      "text/plain": [
       "<Figure size 1080x360 with 1 Axes>"
      ]
     },
     "metadata": {
      "needs_background": "light"
     },
     "output_type": "display_data"
    }
   ],
   "source": [
    "plt.figure(figsize=(15,5))\n",
    "plt.style.use('ggplot')\n",
    "sns.barplot(x=temp_01['beauty_dt'], y=temp_01['count']);\n",
    "plt.title('Распредедение событий по дням')\n",
    "plt.xlabel('Дата');\n",
    "plt.ylabel('Кол-во событий');"
   ]
  },
  {
   "cell_type": "code",
   "execution_count": 27,
   "metadata": {},
   "outputs": [],
   "source": [
    "temp_02 = group_me(union, level='first_dt', agglevel='user_id', aggfunc='nunique')\n",
    "temp_02['beauty_dt'] = temp_02['first_dt'].apply(format_date)\n",
    "temp_02 = temp_02.sort_values(by='first_dt')"
   ]
  },
  {
   "cell_type": "markdown",
   "metadata": {},
   "source": [
    "##### график"
   ]
  },
  {
   "cell_type": "code",
   "execution_count": 28,
   "metadata": {},
   "outputs": [
    {
     "data": {
      "image/png": "[encoded data removed]",
      "text/plain": [
       "<Figure size 1080x360 with 1 Axes>"
      ]
     },
     "metadata": {},
     "output_type": "display_data"
    }
   ],
   "source": [
    "plt.figure(figsize=(15,5))\n",
    "plt.style.use('ggplot')\n",
    "sns.barplot(x=temp_02['beauty_dt'], y=temp_02['nunique']);\n",
    "plt.title('Распредедение регистраций по дням')\n",
    "plt.xlabel('Дата');\n",
    "plt.ylabel('Кол-во регистраций');"
   ]
  },
  {
   "cell_type": "markdown",
   "metadata": {},
   "source": [
    "**Старт единственной кампании, которая пересекается с тестом, был 25 декабря. По графику событий не видим пиков в эти даты (плавный спад с 22 декабря). График с регистрациями составили справочно (кампания начинается позже периода набора новых юзеров). В обоих визуализациях видим подъем к дате 21/12/20. По кол-ву событий видим затихание к концу года (что характерно для сезонности перед НГ).\n",
    "<br>Итого считаем, что кампания не оказала существенного влияния на поведение юзеров. Можем переходить к проверки выборок.** "
   ]
  },
  {
   "cell_type": "markdown",
   "metadata": {},
   "source": [
    "### пересечение несколько групп АБ-тестирования"
   ]
  },
  {
   "cell_type": "markdown",
   "metadata": {},
   "source": [
    ">- посмотрим кол-во уникальных пользователей в сете\n",
    ">- посмотрим то же самое в группировке по группам и видам теста\n",
    ">- отфильтруем сет по пользователям из ЕС / с нужным периодом регистрации (базовая отсечка согласно тех.заданию). Посмотрим, сколько уникальных осталось"
   ]
  },
  {
   "cell_type": "code",
   "execution_count": 29,
   "metadata": {},
   "outputs": [
    {
     "data": {
      "text/plain": [
       "16666"
      ]
     },
     "execution_count": 29,
     "metadata": {},
     "output_type": "execute_result"
    }
   ],
   "source": [
    "eq = partis['user_id'].nunique()\n",
    "eq"
   ]
  },
  {
   "cell_type": "code",
   "execution_count": 30,
   "metadata": {},
   "outputs": [
    {
     "data": {
      "text/html": [
       "<div>\n",
       "<style scoped>\n",
       "    .dataframe tbody tr th:only-of-type {\n",
       "        vertical-align: middle;\n",
       "    }\n",
       "\n",
       "    .dataframe tbody tr th {\n",
       "        vertical-align: top;\n",
       "    }\n",
       "\n",
       "    .dataframe thead th {\n",
       "        text-align: right;\n",
       "    }\n",
       "</style>\n",
       "<table border=\"1\" class=\"dataframe\">\n",
       "  <thead>\n",
       "    <tr style=\"text-align: right;\">\n",
       "      <th></th>\n",
       "      <th>ab_test</th>\n",
       "      <th>group</th>\n",
       "      <th>nunique</th>\n",
       "    </tr>\n",
       "  </thead>\n",
       "  <tbody>\n",
       "    <tr>\n",
       "      <th>0</th>\n",
       "      <td>interface_eu_test</td>\n",
       "      <td>A</td>\n",
       "      <td>5831</td>\n",
       "    </tr>\n",
       "    <tr>\n",
       "      <th>1</th>\n",
       "      <td>interface_eu_test</td>\n",
       "      <td>B</td>\n",
       "      <td>5736</td>\n",
       "    </tr>\n",
       "    <tr>\n",
       "      <th>2</th>\n",
       "      <td>recommender_system_test</td>\n",
       "      <td>A</td>\n",
       "      <td>3824</td>\n",
       "    </tr>\n",
       "    <tr>\n",
       "      <th>3</th>\n",
       "      <td>recommender_system_test</td>\n",
       "      <td>B</td>\n",
       "      <td>2877</td>\n",
       "    </tr>\n",
       "  </tbody>\n",
       "</table>\n",
       "</div>"
      ],
      "text/plain": [
       "                   ab_test group  nunique\n",
       "0        interface_eu_test     A     5831\n",
       "1        interface_eu_test     B     5736\n",
       "2  recommender_system_test     A     3824\n",
       "3  recommender_system_test     B     2877"
      ]
     },
     "execution_count": 30,
     "metadata": {},
     "output_type": "execute_result"
    }
   ],
   "source": [
    "temp_03 = group_me(partis, level=['ab_test', 'group'], agglevel='user_id', aggfunc='nunique')\n",
    "temp_03"
   ]
  },
  {
   "cell_type": "code",
   "execution_count": 31,
   "metadata": {},
   "outputs": [
    {
     "name": "stdout",
     "output_type": "stream",
     "text": [
      "15314 | 1352\n"
     ]
    }
   ],
   "source": [
    "partis = partis.query('user_id in @users_eu')\n",
    "eq_2 = partis['user_id'].nunique()\n",
    "print(eq_2, '|', eq - eq_2)"
   ]
  },
  {
   "cell_type": "markdown",
   "metadata": {},
   "source": [
    "**На этом этапе отсеяли 1352 юзера.**\n",
    ">- сформируем лист юзеров, попавших в тестовую группу \"В\" в стороннем тестировании. **Их мы удаляем из всех групп без исключения. Что касается группы \"А\" стороннего теста - ее можно оставить во всех группах, так как на нее не оказывалось никакого влияния**\n",
    ">- удалим юзеров из группы В стороннего теста\n",
    ">- посмотрим, сколько юзеров осталось"
   ]
  },
  {
   "cell_type": "code",
   "execution_count": 32,
   "metadata": {},
   "outputs": [],
   "source": [
    "b_group_users = list(partis.query('group == \"B\" & ab_test == \"interface_eu_test\"')['user_id'].unique())"
   ]
  },
  {
   "cell_type": "code",
   "execution_count": 33,
   "metadata": {},
   "outputs": [],
   "source": [
    "partis = partis.query('user_id not in @b_group_users')"
   ]
  },
  {
   "cell_type": "code",
   "execution_count": 34,
   "metadata": {},
   "outputs": [
    {
     "data": {
      "text/html": [
       "<div>\n",
       "<style scoped>\n",
       "    .dataframe tbody tr th:only-of-type {\n",
       "        vertical-align: middle;\n",
       "    }\n",
       "\n",
       "    .dataframe tbody tr th {\n",
       "        vertical-align: top;\n",
       "    }\n",
       "\n",
       "    .dataframe thead th {\n",
       "        text-align: right;\n",
       "    }\n",
       "</style>\n",
       "<table border=\"1\" class=\"dataframe\">\n",
       "  <thead>\n",
       "    <tr style=\"text-align: right;\">\n",
       "      <th></th>\n",
       "      <th>ab_test</th>\n",
       "      <th>group</th>\n",
       "      <th>nunique</th>\n",
       "    </tr>\n",
       "  </thead>\n",
       "  <tbody>\n",
       "    <tr>\n",
       "      <th>0</th>\n",
       "      <td>interface_eu_test</td>\n",
       "      <td>A</td>\n",
       "      <td>5342</td>\n",
       "    </tr>\n",
       "    <tr>\n",
       "      <th>1</th>\n",
       "      <td>recommender_system_test</td>\n",
       "      <td>A</td>\n",
       "      <td>3195</td>\n",
       "    </tr>\n",
       "    <tr>\n",
       "      <th>2</th>\n",
       "      <td>recommender_system_test</td>\n",
       "      <td>B</td>\n",
       "      <td>2373</td>\n",
       "    </tr>\n",
       "  </tbody>\n",
       "</table>\n",
       "</div>"
      ],
      "text/plain": [
       "                   ab_test group  nunique\n",
       "0        interface_eu_test     A     5342\n",
       "1  recommender_system_test     A     3195\n",
       "2  recommender_system_test     B     2373"
      ]
     },
     "execution_count": 34,
     "metadata": {},
     "output_type": "execute_result"
    }
   ],
   "source": [
    "temp_03 = group_me(partis, level=['ab_test', 'group'], agglevel='user_id', aggfunc='nunique')\n",
    "temp_03"
   ]
  },
  {
   "cell_type": "code",
   "execution_count": 35,
   "metadata": {},
   "outputs": [
    {
     "name": "stdout",
     "output_type": "stream",
     "text": [
      "10091 | 5223 | 6575\n"
     ]
    }
   ],
   "source": [
    "eq_3 = partis['user_id'].nunique()\n",
    "print(eq_3, '|', eq_2 - eq_3, '|', eq - eq_3)"
   ]
  },
  {
   "cell_type": "markdown",
   "metadata": {},
   "source": [
    "**На этом этапе отсеяли 5223 юзера (и 6575 от общего кол-ва датасета). Из групп пользователи ушли равномерно.**\n",
    ">- удалим оставшихся юзеров стороннего теста из датасета\n",
    ">- посмотрим, сколько осталось в группах\n",
    ">- и сколько осталось тотал"
   ]
  },
  {
   "cell_type": "code",
   "execution_count": 36,
   "metadata": {},
   "outputs": [],
   "source": [
    "partis = partis.query('ab_test != \"interface_eu_test\"')"
   ]
  },
  {
   "cell_type": "code",
   "execution_count": 37,
   "metadata": {},
   "outputs": [
    {
     "data": {
      "text/html": [
       "<div>\n",
       "<style scoped>\n",
       "    .dataframe tbody tr th:only-of-type {\n",
       "        vertical-align: middle;\n",
       "    }\n",
       "\n",
       "    .dataframe tbody tr th {\n",
       "        vertical-align: top;\n",
       "    }\n",
       "\n",
       "    .dataframe thead th {\n",
       "        text-align: right;\n",
       "    }\n",
       "</style>\n",
       "<table border=\"1\" class=\"dataframe\">\n",
       "  <thead>\n",
       "    <tr style=\"text-align: right;\">\n",
       "      <th></th>\n",
       "      <th>ab_test</th>\n",
       "      <th>group</th>\n",
       "      <th>nunique</th>\n",
       "    </tr>\n",
       "  </thead>\n",
       "  <tbody>\n",
       "    <tr>\n",
       "      <th>0</th>\n",
       "      <td>recommender_system_test</td>\n",
       "      <td>A</td>\n",
       "      <td>3195</td>\n",
       "    </tr>\n",
       "    <tr>\n",
       "      <th>1</th>\n",
       "      <td>recommender_system_test</td>\n",
       "      <td>B</td>\n",
       "      <td>2373</td>\n",
       "    </tr>\n",
       "  </tbody>\n",
       "</table>\n",
       "</div>"
      ],
      "text/plain": [
       "                   ab_test group  nunique\n",
       "0  recommender_system_test     A     3195\n",
       "1  recommender_system_test     B     2373"
      ]
     },
     "execution_count": 37,
     "metadata": {},
     "output_type": "execute_result"
    }
   ],
   "source": [
    "temp_05 = group_me(partis, level=['ab_test', 'group'], agglevel='user_id', aggfunc='nunique')\n",
    "temp_05"
   ]
  },
  {
   "cell_type": "code",
   "execution_count": 38,
   "metadata": {},
   "outputs": [
    {
     "name": "stdout",
     "output_type": "stream",
     "text": [
      "5568 | 4523 | 9746 | 11098\n"
     ]
    }
   ],
   "source": [
    "eq_4 = partis['user_id'].nunique()\n",
    "print(eq_4, '|', eq_3 - eq_4, '|', eq_2 - eq_4, '|', eq - eq_4)"
   ]
  },
  {
   "cell_type": "markdown",
   "metadata": {},
   "source": [
    "**Итого осталась тестовая группа в размерез 5568 юзеров. Фильтрами / отсечками убрали 11098 юзеров (разница с исходным датасетом).**\n",
    ">- посмотрим, есть ли в оставшемся сете юзеры, которые присутствуют одновременно в 2 группах."
   ]
  },
  {
   "cell_type": "code",
   "execution_count": 39,
   "metadata": {},
   "outputs": [
    {
     "data": {
      "text/html": [
       "<div>\n",
       "<style scoped>\n",
       "    .dataframe tbody tr th:only-of-type {\n",
       "        vertical-align: middle;\n",
       "    }\n",
       "\n",
       "    .dataframe tbody tr th {\n",
       "        vertical-align: top;\n",
       "    }\n",
       "\n",
       "    .dataframe thead th {\n",
       "        text-align: right;\n",
       "    }\n",
       "</style>\n",
       "<table border=\"1\" class=\"dataframe\">\n",
       "  <thead>\n",
       "    <tr style=\"text-align: right;\">\n",
       "      <th></th>\n",
       "      <th>user_id</th>\n",
       "      <th>nunique</th>\n",
       "    </tr>\n",
       "  </thead>\n",
       "  <tbody>\n",
       "    <tr>\n",
       "      <th>0</th>\n",
       "      <td>000ABE35EE11412F</td>\n",
       "      <td>1</td>\n",
       "    </tr>\n",
       "  </tbody>\n",
       "</table>\n",
       "</div>"
      ],
      "text/plain": [
       "            user_id  nunique\n",
       "0  000ABE35EE11412F        1"
      ]
     },
     "execution_count": 39,
     "metadata": {},
     "output_type": "execute_result"
    }
   ],
   "source": [
    "temp_005 = group_me(partis, level='user_id', agglevel='group', aggfunc='nunique')\n",
    "temp_005.sort_values(by='nunique', ascending=False).head(1)"
   ]
  },
  {
   "cell_type": "markdown",
   "metadata": {},
   "source": [
    "**Увидели, что каждый юзер имеет только 1 группу - значит выборку можем считать корректной. Осталось объединить общий аналитический сет с группами А/В теста.**"
   ]
  },
  {
   "cell_type": "markdown",
   "metadata": {},
   "source": [
    "### Создание финального датасета для анализа"
   ]
  },
  {
   "cell_type": "markdown",
   "metadata": {},
   "source": [
    ">- создадим лист пользователей, входящих в финальный список участников теста\n",
    ">- отфильтруем по этому листу сет с событиями / регистрациями. Тем самым сразу оставим события только нужных юзеров. **Важно! Если у участника теста не было подходящих событий, отобранных на этапе 2.3 (у пользователя должно быть хотя бы 1 событие в пределах 14 дней с даты регистрации) -  такой участник А/В теста не попадет в объединенный датасет**\n",
    ">- сделаем объединение. Посмотрим инфо о датасете"
   ]
  },
  {
   "cell_type": "code",
   "execution_count": 40,
   "metadata": {},
   "outputs": [],
   "source": [
    "ab_list = list(partis['user_id'].unique())"
   ]
  },
  {
   "cell_type": "code",
   "execution_count": 41,
   "metadata": {},
   "outputs": [],
   "source": [
    "uni = union.query('user_id in @ab_list')"
   ]
  },
  {
   "cell_type": "code",
   "execution_count": 42,
   "metadata": {},
   "outputs": [
    {
     "data": {
      "text/plain": [
       "3050"
      ]
     },
     "execution_count": 42,
     "metadata": {},
     "output_type": "execute_result"
    }
   ],
   "source": [
    "uni = uni.merge(partis, on='user_id', how='left')\n",
    "uni['user_id'].nunique()"
   ]
  },
  {
   "cell_type": "code",
   "execution_count": 43,
   "metadata": {},
   "outputs": [
    {
     "data": {
      "text/html": [
       "<div>\n",
       "<style scoped>\n",
       "    .dataframe tbody tr th:only-of-type {\n",
       "        vertical-align: middle;\n",
       "    }\n",
       "\n",
       "    .dataframe tbody tr th {\n",
       "        vertical-align: top;\n",
       "    }\n",
       "\n",
       "    .dataframe thead th {\n",
       "        text-align: right;\n",
       "    }\n",
       "</style>\n",
       "<table border=\"1\" class=\"dataframe\">\n",
       "  <thead>\n",
       "    <tr style=\"text-align: right;\">\n",
       "      <th></th>\n",
       "      <th>group</th>\n",
       "      <th>nunique</th>\n",
       "    </tr>\n",
       "  </thead>\n",
       "  <tbody>\n",
       "    <tr>\n",
       "      <th>0</th>\n",
       "      <td>A</td>\n",
       "      <td>2279</td>\n",
       "    </tr>\n",
       "    <tr>\n",
       "      <th>1</th>\n",
       "      <td>B</td>\n",
       "      <td>771</td>\n",
       "    </tr>\n",
       "  </tbody>\n",
       "</table>\n",
       "</div>"
      ],
      "text/plain": [
       "  group  nunique\n",
       "0     A     2279\n",
       "1     B      771"
      ]
     },
     "execution_count": 43,
     "metadata": {},
     "output_type": "execute_result"
    }
   ],
   "source": [
    "temp_06 = group_me(uni, level='group', agglevel='user_id', aggfunc='nunique')\n",
    "temp_06.reset_index(drop=True)"
   ]
  },
  {
   "cell_type": "markdown",
   "metadata": {},
   "source": [
    "**Итого имеем, что после всех фильтров/отсечек итоговая выборка составила 3050 юзеров - что не соответствует заявленному ТЗ (15% от всех новых юзеров ЕС), но отвечает логике отбора (не можем взять пользователей, которые ничего не сделали за 14 дней, либо пользователей из стороннего теста).\n",
    "<br>Будем работать с получившейся выборкой. Отметим, что сформировалось разное распределение кол-ва юзеров между группами - но это не является препятствием для EDA и А/В теста.**"
   ]
  },
  {
   "cell_type": "markdown",
   "metadata": {},
   "source": [
    "## EDA"
   ]
  },
  {
   "cell_type": "markdown",
   "metadata": {},
   "source": [
    "### количество событий на пользоватей"
   ]
  },
  {
   "cell_type": "markdown",
   "metadata": {},
   "source": [
    ">- сделаем временные датасеты по каждой группе\n",
    ">- посмотрим распредение кол-ва событий на пользователя в разрезе групп"
   ]
  },
  {
   "cell_type": "code",
   "execution_count": 44,
   "metadata": {},
   "outputs": [],
   "source": [
    "uni_boxa = uni.query('group == \"A\"')\n",
    "temp_007 = group_me(uni_boxa, level='user_id', agglevel='event_name', aggfunc='count')\n",
    "\n",
    "uni_boxb = uni.query('group == \"B\"')\n",
    "temp_008 = group_me(uni_boxb, level='user_id', agglevel='event_name', aggfunc='count')"
   ]
  },
  {
   "cell_type": "markdown",
   "metadata": {},
   "source": [
    "##### боксплоты"
   ]
  },
  {
   "cell_type": "code",
   "execution_count": 45,
   "metadata": {},
   "outputs": [
    {
     "data": {
      "image/png": "[encoded data removed]",
      "text/plain": [
       "<Figure size 1080x144 with 1 Axes>"
      ]
     },
     "metadata": {},
     "output_type": "display_data"
    }
   ],
   "source": [
    "plt.figure(figsize=(15,2))\n",
    "plt.style.use('ggplot')\n",
    "sns.boxplot(x=temp_007['count'], color='MediumSeaGreen');\n",
    "plt.title('Частота событий у пользователей группы \"А\"')\n",
    "plt.xlabel('Кол-во событий');"
   ]
  },
  {
   "cell_type": "code",
   "execution_count": 46,
   "metadata": {
    "scrolled": true
   },
   "outputs": [
    {
     "data": {
      "image/png": "[encoded data removed]",
      "text/plain": [
       "<Figure size 1080x144 with 1 Axes>"
      ]
     },
     "metadata": {},
     "output_type": "display_data"
    }
   ],
   "source": [
    "plt.figure(figsize=(15,2))\n",
    "plt.style.use('ggplot')\n",
    "sns.boxplot(x=temp_008['count'], color='DarkCyan');\n",
    "plt.title('Частота событий у пользователей группы \"В\"')\n",
    "plt.xlabel('Кол-во событий');"
   ]
  },
  {
   "cell_type": "markdown",
   "metadata": {},
   "source": [
    "**Видим, что пользователи группы \"А\" в среднем совершают больше событий (медиана на уровне 6 + больший разброс), чем пользователи группы \"В\" (медиана на уровне 4).**"
   ]
  },
  {
   "cell_type": "markdown",
   "metadata": {},
   "source": [
    "### Количество событий по дням"
   ]
  },
  {
   "cell_type": "markdown",
   "metadata": {},
   "source": [
    ">- сделаем временный датасет с группировкой по датам события\n",
    ">- построим график в разрезе групп"
   ]
  },
  {
   "cell_type": "code",
   "execution_count": 47,
   "metadata": {},
   "outputs": [],
   "source": [
    "temp_08 = group_me(uni, level=['dt', 'group'], agglevel='user_id', aggfunc='count')\n",
    "temp_08['dt'] = temp_08['dt'].dt.day\n",
    "temp_08 = temp_08.sort_values(by='dt')\n",
    "temp_08_a = temp_08.query('group == \"A\"').reset_index(drop=True)\n",
    "temp_08_b = temp_08.query('group == \"B\"').reset_index(drop=True)\n",
    "#temp_08_a.head()"
   ]
  },
  {
   "cell_type": "code",
   "execution_count": 48,
   "metadata": {},
   "outputs": [
    {
     "data": {
      "image/png": "[encoded data removed]",
      "text/plain": [
       "<Figure size 1080x360 with 1 Axes>"
      ]
     },
     "metadata": {},
     "output_type": "display_data"
    }
   ],
   "source": [
    "plt.figure(figsize=(15,5))\n",
    "sns.barplot(data=temp_08_a, x='dt', y='count')\n",
    "plt.title('Кол-во событий в день по группе \"А\"');"
   ]
  },
  {
   "cell_type": "code",
   "execution_count": 49,
   "metadata": {},
   "outputs": [
    {
     "data": {
      "image/png": "[encoded data removed]",
      "text/plain": [
       "<Figure size 1080x360 with 1 Axes>"
      ]
     },
     "metadata": {},
     "output_type": "display_data"
    }
   ],
   "source": [
    "plt.figure(figsize=(15,5))\n",
    "sns.barplot(data=temp_08_b, x='dt', y='count')\n",
    "plt.title('Кол-во событий в день по группе \"B\"');"
   ]
  },
  {
   "cell_type": "code",
   "execution_count": 50,
   "metadata": {},
   "outputs": [],
   "source": [
    "# fig = (px.bar(temp_08, x='dt', y='count', color='group', \n",
    "#               title='Распределение событий по дням в разрезе групп'))\n",
    "# fig.update_xaxes(title_text='Дата')\n",
    "# fig.update_yaxes(title_text='Количество событий')\n",
    "# fig.show() "
   ]
  },
  {
   "cell_type": "markdown",
   "metadata": {},
   "source": [
    "**Видим уже знакомый пик на 21 декабря. Также стабильно пользователи группы \"А\" совершают больше событий, нежели пользователи группы \"В\". Интересно, что в начале периода группа \"В\" была +- наравне (где-то даже лидировала).**"
   ]
  },
  {
   "cell_type": "markdown",
   "metadata": {},
   "source": [
    "### Количество регистраций по дням"
   ]
  },
  {
   "cell_type": "markdown",
   "metadata": {},
   "source": [
    ">- проанализируем регистрации в разрезе групп, также создав датасет\n",
    ">- и построим визуализации"
   ]
  },
  {
   "cell_type": "code",
   "execution_count": 51,
   "metadata": {},
   "outputs": [],
   "source": [
    "temp_09 = group_me(uni, level=['first_dt', 'group'], agglevel='user_id', aggfunc='nunique')"
   ]
  },
  {
   "cell_type": "code",
   "execution_count": 52,
   "metadata": {},
   "outputs": [],
   "source": [
    "temp_09['first_dt'] = temp_09['first_dt'].dt.day\n",
    "temp_09 = temp_09.sort_values(by='first_dt')\n",
    "temp_09_a = temp_09.query('group == \"A\"').reset_index(drop=True)\n",
    "temp_09_b = temp_09.query('group == \"B\"').reset_index(drop=True)"
   ]
  },
  {
   "cell_type": "code",
   "execution_count": 53,
   "metadata": {
    "scrolled": true
   },
   "outputs": [
    {
     "data": {
      "image/png": "[encoded data removed]",
      "text/plain": [
       "<Figure size 1080x360 with 1 Axes>"
      ]
     },
     "metadata": {},
     "output_type": "display_data"
    }
   ],
   "source": [
    "plt.figure(figsize=(15,5))\n",
    "sns.barplot(data=temp_09_a, x='first_dt', y='nunique')\n",
    "plt.title('Кол-во регистраций по группе \"А\"');"
   ]
  },
  {
   "cell_type": "code",
   "execution_count": 54,
   "metadata": {},
   "outputs": [
    {
     "data": {
      "image/png": "[encoded data removed]",
      "text/plain": [
       "<Figure size 1080x360 with 1 Axes>"
      ]
     },
     "metadata": {},
     "output_type": "display_data"
    }
   ],
   "source": [
    "plt.figure(figsize=(15,5))\n",
    "sns.barplot(data=temp_09_b, x='first_dt', y='nunique')\n",
    "plt.title('Кол-во регистраций по группе \"B\"');"
   ]
  },
  {
   "cell_type": "code",
   "execution_count": 55,
   "metadata": {},
   "outputs": [],
   "source": [
    "# fig = (px.bar(temp_09, x='first_dt', y='nunique', color='group', \n",
    "#               title='Распределение регистраций уникальных пользователей'))\n",
    "# fig.update_xaxes(title_text='Дата')\n",
    "# fig.update_yaxes(title_text='Количество пользователей')\n",
    "# fig.show() "
   ]
  },
  {
   "cell_type": "markdown",
   "metadata": {},
   "source": [
    "**Есть 3 пика регистраций - 7, 14 и 21 декабря. Возможно, специфика приложения предполагает, что по понедельникам там регистрируются чаще (все 3 пика - это понедельники). Группа \"А\" по кол-ву лидирует и здесь.**"
   ]
  },
  {
   "cell_type": "markdown",
   "metadata": {},
   "source": [
    "### Воронки"
   ]
  },
  {
   "cell_type": "markdown",
   "metadata": {},
   "source": [
    ">- создадим функцию для создания датафрейма с воронками в разрезе групп\n",
    ">- создадим фреймы с воронками\n",
    ">- визуализируем воронки, сделаем выводы"
   ]
  },
  {
   "cell_type": "markdown",
   "metadata": {},
   "source": [
    "##### функция воронки по группе"
   ]
  },
  {
   "cell_type": "code",
   "execution_count": 56,
   "metadata": {},
   "outputs": [],
   "source": [
    "def funnel_me(data):\n",
    "    \n",
    "    basa = list(data['user_id'].unique())\n",
    "    log = list(data.query('event_name == \"login\"')['user_id'].unique())\n",
    "    prod = list(data.query('event_name == \"product_page\"')['user_id'].unique())\n",
    "    cart = list(data.query('event_name == \"product_cart\"')['user_id'].unique())\n",
    "    purch = list(data.query('event_name == \"purchase\"')['user_id'].unique())\n",
    "    \n",
    "    df = pd.DataFrame({'level': ['basa', 'login', 'product_page', 'product_cart', 'purchase'],\n",
    "                      'users': [len(basa), len(log), len(prod), len(cart), len(purch)]})\n",
    "    \n",
    "    return df"
   ]
  },
  {
   "cell_type": "code",
   "execution_count": 57,
   "metadata": {},
   "outputs": [],
   "source": [
    "a_uni = uni.query('group == \"A\"')\n",
    "a_funnel = funnel_me(a_uni)\n",
    "a_all = a_funnel.iloc[0]['users']\n",
    "a_funnel['share'] = round(a_funnel['users'] / a_all,2)\n",
    "\n",
    "b_uni = uni.query('group == \"B\"')\n",
    "b_funnel = funnel_me(b_uni)\n",
    "b_all = b_funnel.iloc[0]['users']\n",
    "b_funnel['share'] = round(b_funnel['users'] / b_all,2)\n",
    "#print(a_all, b_all, b_funnel)"
   ]
  },
  {
   "cell_type": "code",
   "execution_count": 58,
   "metadata": {},
   "outputs": [
    {
     "data": {
      "image/png": "[encoded data removed]",
      "text/plain": [
       "<Figure size 1224x720 with 2 Axes>"
      ]
     },
     "metadata": {},
     "output_type": "display_data"
    }
   ],
   "source": [
    "plt.figure(figsize=(17,10))\n",
    "plt.style.use('ggplot')\n",
    "\n",
    "ax_1 = plt.subplot(2,2,1)\n",
    "sns.barplot(data=a_funnel, x='level', y='share', palette='rocket')\n",
    "for index, value in enumerate(a_funnel['share']):\n",
    "    plt.text(index, value, str(value), ha='center', va='bottom')\n",
    "\n",
    "plt.title(\"A_group\")\n",
    "\n",
    "ax_2 = plt.subplot(2,2,2)\n",
    "sns.barplot(data=b_funnel, x='level', y='share', palette='mako')\n",
    "for index, value in enumerate(b_funnel['share']):\n",
    "    plt.text(index, value, str(value), ha='center', va='bottom')\n",
    "plt.title(\"B_group\");"
   ]
  },
  {
   "cell_type": "code",
   "execution_count": 59,
   "metadata": {},
   "outputs": [],
   "source": [
    "# fig = go.Figure(go.Funnel(\n",
    "#     y = a_funnel['level'],\n",
    "#     x = a_funnel['users'],\n",
    "#     textposition = \"inside\",\n",
    "#     textinfo = \"value+percent initial\"))\n",
    "                                \n",
    "# fig.update_layout(\n",
    "#     title=\"Воронка группы А\",\n",
    "#     yaxis_title=\"Этап воронки\")\n",
    "\n",
    "# fig.show()"
   ]
  },
  {
   "cell_type": "code",
   "execution_count": 60,
   "metadata": {},
   "outputs": [],
   "source": [
    "# fig = go.Figure(go.Funnel(\n",
    "#     y = b_funnel['level'],\n",
    "#     x = b_funnel['users'],\n",
    "#     textposition = \"inside\",\n",
    "#     textinfo = \"value+percent initial\"))\n",
    "                                \n",
    "# fig.update_layout(\n",
    "#     title=\"Воронка группы B\",\n",
    "#     yaxis_title=\"Этап воронки\")\n",
    "\n",
    "# fig.show()"
   ]
  },
  {
   "cell_type": "markdown",
   "metadata": {},
   "source": [
    "<b>Предварительно воронка группы \"А\" показала себя лучше на всех этапах - конверсия незначительно выше. До того, как переходить к А/В тестированию, сформулируем промежуточные выводы о данных:\n",
    "    \n",
    ">- в первоначальном датасете от заказчика собраны данные не по заявленному периоду (не хватает данных в период 31/12/20-04/01/21). Также в последние дни декабря набор событий минимален. Это может оказать влияние на результаты теста, тк события части пользователей отсуствуют, а те, кто зарегистрировался после 17 декабря - и вовсе по логам не успел \"прожить\" в приложении положенные 14 дней\n",
    ">- выборка также меньше заявленной: около 3000 оказались релеватной выборкой для теста. Результат теста может оказаться нерелеватным для представления результатов по всему ЕС (заказчик изначально хотел сделать вывод по региону на основе 15% от всех новых пользователей, что составило цифру около 6000 человек)\n",
    ">- заказчик не указал, может ли клиент напрямую переходить на любой из этапов воронки, поэтому в данном случае будем проводить z-тест с базой в виде кол-ва пользователей в групппах (гибкая воронка)"
   ]
  },
  {
   "cell_type": "markdown",
   "metadata": {},
   "source": [
    "## Анализ результатов А/В-теста"
   ]
  },
  {
   "cell_type": "markdown",
   "metadata": {},
   "source": [
    ">- создадим функцию для проведения z-теста\n",
    ">- сформулируем нулевую и альтернативную гипотезы на каждом этапе воронки\n",
    ">- проведем z-тест и сделаем выводы"
   ]
  },
  {
   "cell_type": "code",
   "execution_count": 61,
   "metadata": {},
   "outputs": [],
   "source": [
    "def z_test(group_1, group_2, level, alpha=0.05): # group_n - выборки, level - уровень воронки, alpha - уровень стат знач-ти\n",
    "    \n",
    "    def get_array(group_1, group_2, level=level): #функция для формирования списков по заданному уровню (офферы, корзина, оплата)              \n",
    "        base = np.array([group_1.loc[0, 'users'], group_2.loc[0, 'users']]) # кол-во юзеров в группах \n",
    "        converse = np.array([group_1.loc[level, 'users'], group_2.loc[level, 'users']]) # рассматриваемый уровень воронки\n",
    "        return base, converse \n",
    "   \n",
    "    base, converse = get_array(group_1, group_2, level)\n",
    "    \n",
    "    p_1 = converse[0] / base[0]\n",
    "    p_2 = converse[1] / base[1]\n",
    "    \n",
    "    print(converse[0], converse[1], base[0],base[1])\n",
    "\n",
    "    p_combo = (converse[0] + converse[1]) / (base[0] + base[1])\n",
    "    diff = p_1 - p_2\n",
    "\n",
    "    z_value = diff / mth.sqrt(p_combo * (1 - p_combo) * (1/base[0] + 1/base[1]))\n",
    "    distr = st.norm(0,1)\n",
    "\n",
    "    p_value = round((1 - distr.cdf(abs(z_value))) * 2,5)\n",
    "    \n",
    "    if p_value < alpha:\n",
    "        text_me = 'Отвергаем нулевую гипотезу: между долями есть значимая разница'\n",
    "    else:\n",
    "        text_me = 'Не получилось отвергнуть нулевую гипотезу, нет оснований считать доли разными'   \n",
    "    \n",
    "    return p_value, text_me"
   ]
  },
  {
   "cell_type": "markdown",
   "metadata": {},
   "source": [
    "<div class=\"alert alert-info\"><b>\n",
    "Сформулируем гипотезы (конверсия в login):\n",
    "    <br>H0 (нулевая гипотеза) - между долями нет статистически значимых различий\n",
    "    <br>H1 (альтеративная гипотеза) - между долями есть статистически значимые различия"
   ]
  },
  {
   "cell_type": "code",
   "execution_count": 62,
   "metadata": {},
   "outputs": [
    {
     "name": "stdout",
     "output_type": "stream",
     "text": [
      "2279 770 2279 771\n"
     ]
    },
    {
     "data": {
      "text/plain": [
       "0.08551"
      ]
     },
     "metadata": {},
     "output_type": "display_data"
    },
    {
     "data": {
      "text/plain": [
       "'Не получилось отвергнуть нулевую гипотезу, нет оснований считать доли разными'"
      ]
     },
     "metadata": {},
     "output_type": "display_data"
    }
   ],
   "source": [
    "p_value, text_me = z_test(a_funnel, b_funnel, 1)\n",
    "display(p_value, text_me)"
   ]
  },
  {
   "cell_type": "markdown",
   "metadata": {},
   "source": [
    "<b> Формально оставляем этот этап - здесь нет стат.значимой разницы, тк цифры +- одинаковы в разрезе групп (почти все перешли на этап login)"
   ]
  },
  {
   "cell_type": "markdown",
   "metadata": {},
   "source": [
    "<div class=\"alert alert-info\"><b>\n",
    "Сформулируем гипотезы (конверсия в product_page):\n",
    "    <br>H0 (нулевая гипотеза) - между долями нет статистически значимых различий\n",
    "    <br>H1 (альтеративная гипотеза) - между долями есть статистически значимые различия"
   ]
  },
  {
   "cell_type": "code",
   "execution_count": 63,
   "metadata": {},
   "outputs": [
    {
     "name": "stdout",
     "output_type": "stream",
     "text": [
      "1476 429 2279 771\n"
     ]
    },
    {
     "data": {
      "text/plain": [
       "1e-05"
      ]
     },
     "metadata": {},
     "output_type": "display_data"
    },
    {
     "data": {
      "text/plain": [
       "'Отвергаем нулевую гипотезу: между долями есть значимая разница'"
      ]
     },
     "metadata": {},
     "output_type": "display_data"
    }
   ],
   "source": [
    "p_value, text_me = z_test(a_funnel, b_funnel, 2)\n",
    "display(p_value, text_me)"
   ]
  },
  {
   "cell_type": "markdown",
   "metadata": {},
   "source": [
    "**На этапе перехода на продуктовую страницу есть разница в группах. Конверсия группы \"А\" фактически выше конверсии группы \"В\" (видели это на этапе воронок).**"
   ]
  },
  {
   "cell_type": "markdown",
   "metadata": {},
   "source": [
    "<div class=\"alert alert-info\"><b>\n",
    "Сформулируем гипотезы (конверсия в product_cart):\n",
    "    <br>H0 (нулевая гипотеза) - между долями нет статистически значимых различий\n",
    "    <br>H1 (альтеративная гипотеза) - между долями есть статистически значимые различия**"
   ]
  },
  {
   "cell_type": "code",
   "execution_count": 64,
   "metadata": {},
   "outputs": [
    {
     "name": "stdout",
     "output_type": "stream",
     "text": [
      "686 214 2279 771\n"
     ]
    },
    {
     "data": {
      "text/plain": [
       "0.21721"
      ]
     },
     "metadata": {},
     "output_type": "display_data"
    },
    {
     "data": {
      "text/plain": [
       "'Не получилось отвергнуть нулевую гипотезу, нет оснований считать доли разными'"
      ]
     },
     "metadata": {},
     "output_type": "display_data"
    }
   ],
   "source": [
    "p_value, text_me = z_test(a_funnel, b_funnel, 3)\n",
    "display(p_value, text_me)"
   ]
  },
  {
   "cell_type": "markdown",
   "metadata": {},
   "source": [
    "<b>На этом этапе z-тест не показал стат.значимых различий между группами."
   ]
  },
  {
   "cell_type": "markdown",
   "metadata": {},
   "source": [
    "<div class=\"alert alert-info\"><b>\n",
    "Сформулируем гипотезы (конверсия в purchase):\n",
    "    <br>H0 (нулевая гипотеза) - между долями нет статистически значимых различий\n",
    "    <br>H1 (альтеративная гипотеза) - между долями есть статистически значимые различия**"
   ]
  },
  {
   "cell_type": "code",
   "execution_count": 65,
   "metadata": {},
   "outputs": [
    {
     "name": "stdout",
     "output_type": "stream",
     "text": [
      "734 219 2279 771\n"
     ]
    },
    {
     "data": {
      "text/plain": [
       "0.04894"
      ]
     },
     "metadata": {},
     "output_type": "display_data"
    },
    {
     "data": {
      "text/plain": [
       "'Отвергаем нулевую гипотезу: между долями есть значимая разница'"
      ]
     },
     "metadata": {},
     "output_type": "display_data"
    }
   ],
   "source": [
    "p_value, text_me = z_test(a_funnel, b_funnel, 4)\n",
    "display(p_value, text_me)"
   ]
  },
  {
   "cell_type": "markdown",
   "metadata": {},
   "source": [
    "<b>На конверсии в покупку найдены статистически значимые различия между группами (конверсия больше в группе \"А\")"
   ]
  },
  {
   "cell_type": "markdown",
   "metadata": {},
   "source": [
    "## Выводы"
   ]
  },
  {
   "cell_type": "markdown",
   "metadata": {},
   "source": [
    "**Итого что сделали:**\n",
    "- предобработали данные, посмотрели на предмет пропусков, дубликатов, форматирования полей\n",
    "- проверили и отфильтровали данные заказчика согласно техническому заданию (период и регион анализа)\n",
    "- проверили группы и отобрали выборку для А/В тестирования\n",
    "- построили воронки, посмотрев конверсии по всем этапам воронки в разрезе уникального пользователя / группы пользователя\n",
    "- проанализировали результаты в разрезе групп А/В тестирования\n",
    "<br>\n",
    "\n",
    "**Выводы по результатам А/В теста:**\n",
    "- Проведя z-тест на всех уровнях воронки, статистически значимые различия мы увидели на этапах перехода в продуктовую корзину / в покупку.\n",
    "- На этапах перехода в продукт.карточку / на этап с логином статистически значимых отличий между выборками не найдено.\n",
    "- По расчету конверсий в воронках НЕ увидели рост на 10% на каждом этапе по группе \"В\". В целом, по конверсиям на всех этапах группа \"А\" показала себя лучше группы \"В\".\n",
    "\n",
    "<br>**По увиденному можно сказать, что группа \"А\" по результатам исследования оказалась лучше группы \"В\". Вместе с тем см. следующий блок.**\n",
    "\n",
    "**Комментарий по поводу данных от заказчика:**\n",
    "- данные по событиями собраны не по заявленному периоду (не хватает данных в период 31/12/20-04/01/21). Также в последние дни декабря набор событий минимален\n",
    "- из-за пункта выше не все пользователи по логам успели провести в приложении 14 дней - некоторые события не попали в анализ, хотя должны были (и возможно это бы повлияло на итоговые рез-ты теста)\n",
    "- часть пользователей в сете с участниками А/В тестирования не совершила никаких действий в тестируемый период\n",
    "- одновременно проводилось 2 А/В тестирования, что вызвало пересечение групп и существенно сократило выборку (убрали 11 тысяч юзеров из 16 тысяч)\n",
    "\n",
    "**Анализ А/В тестирования сделан, вместе с тем нельзя до конца доверять выявленным результатам - тк нарушен ряд правил сбора данных для теста.**\n",
    "    \n",
    "\n",
    "<br>Из рекомендаций заказчику: \n",
    "- подключать аналитика на этапе продумывания дизайна эксперимента, чтобы избежать наложения выборок / составлять исполнимые ожидания от эксперимента\n",
    "- по возможности исключать единовременное проведение 2 А/В тестирований (как вариант - разводить по регионам/датам)\n",
    "- для проверки гипотезы, по которой проводили А/В тест (новая платежная воронка) рекомендовано повторить тестирование - с иной организацией сбора данных согласно комментариям выше"
   ]
  }
 ],
 "metadata": {
  "ExecuteTimeLog": [
   {
    "duration": 430,
    "start_time": "2023-08-09T05:24:42.982Z"
   },
   {
    "duration": 3,
    "start_time": "2023-08-09T05:24:50.116Z"
   },
   {
    "duration": 2472,
    "start_time": "2023-08-09T05:27:45.390Z"
   },
   {
    "duration": 20,
    "start_time": "2023-08-09T05:27:59.877Z"
   },
   {
    "duration": 102,
    "start_time": "2023-08-09T05:28:52.577Z"
   },
   {
    "duration": 657,
    "start_time": "2023-08-09T05:29:52.062Z"
   },
   {
    "duration": 111,
    "start_time": "2023-08-09T05:29:55.881Z"
   },
   {
    "duration": 14,
    "start_time": "2023-08-09T05:30:51.374Z"
   },
   {
    "duration": 13,
    "start_time": "2023-08-09T05:31:09.323Z"
   },
   {
    "duration": 1560,
    "start_time": "2023-08-09T05:32:15.457Z"
   },
   {
    "duration": 1476,
    "start_time": "2023-08-09T05:32:17.464Z"
   },
   {
    "duration": 1471,
    "start_time": "2023-08-09T05:33:06.724Z"
   },
   {
    "duration": 7,
    "start_time": "2023-08-09T05:33:21.123Z"
   },
   {
    "duration": 17,
    "start_time": "2023-08-09T05:33:24.026Z"
   },
   {
    "duration": 50,
    "start_time": "2023-08-09T05:33:42.768Z"
   },
   {
    "duration": 113,
    "start_time": "2023-08-09T05:34:20.484Z"
   },
   {
    "duration": 59,
    "start_time": "2023-08-09T05:34:26.960Z"
   },
   {
    "duration": 1447,
    "start_time": "2023-08-09T05:34:49.864Z"
   },
   {
    "duration": 423,
    "start_time": "2023-08-09T05:35:06.872Z"
   },
   {
    "duration": 639,
    "start_time": "2023-08-09T05:35:07.296Z"
   },
   {
    "duration": 134,
    "start_time": "2023-08-09T05:35:07.937Z"
   },
   {
    "duration": 53,
    "start_time": "2023-08-09T05:35:08.074Z"
   },
   {
    "duration": 119,
    "start_time": "2023-08-09T05:35:08.130Z"
   },
   {
    "duration": 1661,
    "start_time": "2023-08-09T05:35:30.908Z"
   },
   {
    "duration": 388,
    "start_time": "2023-08-09T05:35:39.631Z"
   },
   {
    "duration": 659,
    "start_time": "2023-08-09T05:35:40.021Z"
   },
   {
    "duration": 123,
    "start_time": "2023-08-09T05:35:40.682Z"
   },
   {
    "duration": 76,
    "start_time": "2023-08-09T05:35:40.807Z"
   },
   {
    "duration": 115,
    "start_time": "2023-08-09T05:35:40.884Z"
   },
   {
    "duration": 46,
    "start_time": "2023-08-09T05:35:47.770Z"
   },
   {
    "duration": 60,
    "start_time": "2023-08-09T05:36:07.169Z"
   },
   {
    "duration": 63,
    "start_time": "2023-08-09T05:36:12.812Z"
   },
   {
    "duration": 77,
    "start_time": "2023-08-09T05:36:30.902Z"
   },
   {
    "duration": 144,
    "start_time": "2023-08-09T05:37:00.322Z"
   },
   {
    "duration": 15,
    "start_time": "2023-08-09T05:37:08.921Z"
   },
   {
    "duration": 391,
    "start_time": "2023-08-09T05:37:36.994Z"
   },
   {
    "duration": 643,
    "start_time": "2023-08-09T05:37:37.388Z"
   },
   {
    "duration": 150,
    "start_time": "2023-08-09T05:37:38.033Z"
   },
   {
    "duration": 193,
    "start_time": "2023-08-09T05:37:38.185Z"
   },
   {
    "duration": 9,
    "start_time": "2023-08-09T05:47:05.082Z"
   },
   {
    "duration": 10,
    "start_time": "2023-08-09T05:47:16.925Z"
   },
   {
    "duration": 21,
    "start_time": "2023-08-09T05:47:28.612Z"
   },
   {
    "duration": 11,
    "start_time": "2023-08-09T05:52:34.803Z"
   },
   {
    "duration": 6,
    "start_time": "2023-08-09T05:52:47.913Z"
   },
   {
    "duration": 429,
    "start_time": "2023-08-09T05:53:20.378Z"
   },
   {
    "duration": 686,
    "start_time": "2023-08-09T05:53:20.812Z"
   },
   {
    "duration": 133,
    "start_time": "2023-08-09T05:53:21.500Z"
   },
   {
    "duration": 173,
    "start_time": "2023-08-09T05:53:21.635Z"
   },
   {
    "duration": 4,
    "start_time": "2023-08-09T05:53:21.811Z"
   },
   {
    "duration": 86,
    "start_time": "2023-08-09T05:53:21.817Z"
   },
   {
    "duration": 0,
    "start_time": "2023-08-09T05:53:21.905Z"
   },
   {
    "duration": 0,
    "start_time": "2023-08-09T05:53:21.906Z"
   },
   {
    "duration": 0,
    "start_time": "2023-08-09T05:53:21.907Z"
   },
   {
    "duration": 0,
    "start_time": "2023-08-09T05:53:21.908Z"
   },
   {
    "duration": 0,
    "start_time": "2023-08-09T05:53:21.909Z"
   },
   {
    "duration": 0,
    "start_time": "2023-08-09T05:53:21.911Z"
   },
   {
    "duration": 8,
    "start_time": "2023-08-09T05:53:55.932Z"
   },
   {
    "duration": 14,
    "start_time": "2023-08-09T05:54:27.968Z"
   },
   {
    "duration": 8,
    "start_time": "2023-08-09T05:55:46.821Z"
   },
   {
    "duration": 10,
    "start_time": "2023-08-09T05:55:55.029Z"
   },
   {
    "duration": 13,
    "start_time": "2023-08-09T05:56:23.202Z"
   },
   {
    "duration": 11,
    "start_time": "2023-08-09T05:56:26.274Z"
   },
   {
    "duration": 7,
    "start_time": "2023-08-09T06:36:42.759Z"
   },
   {
    "duration": 52,
    "start_time": "2023-08-09T06:37:32.824Z"
   },
   {
    "duration": 23,
    "start_time": "2023-08-09T06:37:48.705Z"
   },
   {
    "duration": 70,
    "start_time": "2023-08-09T06:38:13.488Z"
   },
   {
    "duration": 8,
    "start_time": "2023-08-09T06:39:33.836Z"
   },
   {
    "duration": 62,
    "start_time": "2023-08-09T06:40:18.070Z"
   },
   {
    "duration": 7,
    "start_time": "2023-08-09T06:40:20.595Z"
   },
   {
    "duration": 18,
    "start_time": "2023-08-09T06:41:00.054Z"
   },
   {
    "duration": 7,
    "start_time": "2023-08-09T06:41:11.776Z"
   },
   {
    "duration": 20,
    "start_time": "2023-08-09T06:41:40.320Z"
   },
   {
    "duration": 400,
    "start_time": "2023-08-09T06:42:19.058Z"
   },
   {
    "duration": 614,
    "start_time": "2023-08-09T06:42:19.460Z"
   },
   {
    "duration": 120,
    "start_time": "2023-08-09T06:42:20.076Z"
   },
   {
    "duration": 133,
    "start_time": "2023-08-09T06:42:20.198Z"
   },
   {
    "duration": 3,
    "start_time": "2023-08-09T06:42:20.334Z"
   },
   {
    "duration": 20,
    "start_time": "2023-08-09T06:42:20.339Z"
   },
   {
    "duration": 24,
    "start_time": "2023-08-09T06:42:20.361Z"
   },
   {
    "duration": 43,
    "start_time": "2023-08-09T06:42:20.387Z"
   },
   {
    "duration": 29,
    "start_time": "2023-08-09T06:42:20.432Z"
   },
   {
    "duration": 59,
    "start_time": "2023-08-09T06:42:20.463Z"
   },
   {
    "duration": 7,
    "start_time": "2023-08-09T06:42:20.524Z"
   },
   {
    "duration": 28,
    "start_time": "2023-08-09T06:42:20.533Z"
   },
   {
    "duration": 20,
    "start_time": "2023-08-09T06:42:20.563Z"
   },
   {
    "duration": 6,
    "start_time": "2023-08-09T06:42:20.586Z"
   },
   {
    "duration": 19,
    "start_time": "2023-08-09T06:42:20.594Z"
   },
   {
    "duration": 7,
    "start_time": "2023-08-09T06:42:20.615Z"
   },
   {
    "duration": 39,
    "start_time": "2023-08-09T06:42:20.624Z"
   },
   {
    "duration": 67,
    "start_time": "2023-08-09T06:42:20.665Z"
   },
   {
    "duration": 0,
    "start_time": "2023-08-09T06:42:20.734Z"
   },
   {
    "duration": 0,
    "start_time": "2023-08-09T06:42:20.735Z"
   },
   {
    "duration": 0,
    "start_time": "2023-08-09T06:42:20.736Z"
   },
   {
    "duration": 0,
    "start_time": "2023-08-09T06:42:20.737Z"
   },
   {
    "duration": 86,
    "start_time": "2023-08-09T06:42:41.537Z"
   },
   {
    "duration": 20,
    "start_time": "2023-08-09T06:42:46.124Z"
   },
   {
    "duration": 10,
    "start_time": "2023-08-09T06:42:55.798Z"
   },
   {
    "duration": 32,
    "start_time": "2023-08-09T06:43:09.063Z"
   },
   {
    "duration": 16,
    "start_time": "2023-08-09T06:43:19.996Z"
   },
   {
    "duration": 111,
    "start_time": "2023-08-09T06:43:33.966Z"
   },
   {
    "duration": 10,
    "start_time": "2023-08-09T06:44:31.786Z"
   },
   {
    "duration": 72,
    "start_time": "2023-08-09T06:44:46.555Z"
   },
   {
    "duration": 77,
    "start_time": "2023-08-09T06:44:55.933Z"
   },
   {
    "duration": 109,
    "start_time": "2023-08-09T06:45:20.271Z"
   },
   {
    "duration": 75,
    "start_time": "2023-08-09T06:45:24.143Z"
   },
   {
    "duration": 18,
    "start_time": "2023-08-09T06:46:55.304Z"
   },
   {
    "duration": 18,
    "start_time": "2023-08-09T06:51:52.731Z"
   },
   {
    "duration": 15,
    "start_time": "2023-08-09T06:54:13.623Z"
   },
   {
    "duration": 11,
    "start_time": "2023-08-09T06:54:53.268Z"
   },
   {
    "duration": 20,
    "start_time": "2023-08-09T06:55:02.463Z"
   },
   {
    "duration": 12,
    "start_time": "2023-08-09T06:57:08.202Z"
   },
   {
    "duration": 12,
    "start_time": "2023-08-09T06:57:12.121Z"
   },
   {
    "duration": 109,
    "start_time": "2023-08-09T06:57:30.754Z"
   },
   {
    "duration": 91,
    "start_time": "2023-08-09T06:57:34.950Z"
   },
   {
    "duration": 93,
    "start_time": "2023-08-09T06:57:48.665Z"
   },
   {
    "duration": 12,
    "start_time": "2023-08-09T06:57:56.715Z"
   },
   {
    "duration": 15,
    "start_time": "2023-08-09T06:58:00.115Z"
   },
   {
    "duration": 11,
    "start_time": "2023-08-09T06:58:35.411Z"
   },
   {
    "duration": 14,
    "start_time": "2023-08-09T06:58:38.913Z"
   },
   {
    "duration": 11,
    "start_time": "2023-08-09T07:00:18.086Z"
   },
   {
    "duration": 16,
    "start_time": "2023-08-09T07:16:30.363Z"
   },
   {
    "duration": 487,
    "start_time": "2023-08-09T07:16:45.261Z"
   },
   {
    "duration": 656,
    "start_time": "2023-08-09T07:16:45.751Z"
   },
   {
    "duration": 150,
    "start_time": "2023-08-09T07:16:46.409Z"
   },
   {
    "duration": 133,
    "start_time": "2023-08-09T07:16:46.562Z"
   },
   {
    "duration": 5,
    "start_time": "2023-08-09T07:16:46.697Z"
   },
   {
    "duration": 14,
    "start_time": "2023-08-09T07:16:46.703Z"
   },
   {
    "duration": 44,
    "start_time": "2023-08-09T07:16:46.718Z"
   },
   {
    "duration": 43,
    "start_time": "2023-08-09T07:16:46.764Z"
   },
   {
    "duration": 10,
    "start_time": "2023-08-09T07:16:46.813Z"
   },
   {
    "duration": 94,
    "start_time": "2023-08-09T07:16:46.827Z"
   },
   {
    "duration": 9,
    "start_time": "2023-08-09T07:16:46.923Z"
   },
   {
    "duration": 26,
    "start_time": "2023-08-09T07:16:46.934Z"
   },
   {
    "duration": 31,
    "start_time": "2023-08-09T07:16:46.962Z"
   },
   {
    "duration": 26,
    "start_time": "2023-08-09T07:16:46.995Z"
   },
   {
    "duration": 185,
    "start_time": "2023-08-09T07:16:47.023Z"
   },
   {
    "duration": 141,
    "start_time": "2023-08-09T07:16:47.210Z"
   },
   {
    "duration": 13,
    "start_time": "2023-08-09T07:16:47.357Z"
   },
   {
    "duration": 23,
    "start_time": "2023-08-09T07:16:47.372Z"
   },
   {
    "duration": 15,
    "start_time": "2023-08-09T07:16:47.398Z"
   },
   {
    "duration": 48,
    "start_time": "2023-08-09T07:16:47.415Z"
   },
   {
    "duration": 67,
    "start_time": "2023-08-09T07:16:47.465Z"
   },
   {
    "duration": 0,
    "start_time": "2023-08-09T07:16:47.535Z"
   },
   {
    "duration": 0,
    "start_time": "2023-08-09T07:16:47.537Z"
   },
   {
    "duration": 0,
    "start_time": "2023-08-09T07:16:47.539Z"
   },
   {
    "duration": 0,
    "start_time": "2023-08-09T07:16:47.556Z"
   },
   {
    "duration": 0,
    "start_time": "2023-08-09T07:16:47.558Z"
   },
   {
    "duration": 0,
    "start_time": "2023-08-09T07:16:47.559Z"
   },
   {
    "duration": 0,
    "start_time": "2023-08-09T07:16:47.561Z"
   },
   {
    "duration": 0,
    "start_time": "2023-08-09T07:16:47.562Z"
   },
   {
    "duration": 0,
    "start_time": "2023-08-09T07:16:47.564Z"
   },
   {
    "duration": 9,
    "start_time": "2023-08-09T07:20:31.442Z"
   },
   {
    "duration": 29,
    "start_time": "2023-08-09T07:20:48.733Z"
   },
   {
    "duration": 33,
    "start_time": "2023-08-09T07:20:56.050Z"
   },
   {
    "duration": 24,
    "start_time": "2023-08-09T07:21:59.174Z"
   },
   {
    "duration": 28,
    "start_time": "2023-08-09T07:22:23.296Z"
   },
   {
    "duration": 7,
    "start_time": "2023-08-09T07:22:44.760Z"
   },
   {
    "duration": 11,
    "start_time": "2023-08-09T07:22:49.688Z"
   },
   {
    "duration": 11,
    "start_time": "2023-08-09T07:22:54.396Z"
   },
   {
    "duration": 7,
    "start_time": "2023-08-09T07:23:07.546Z"
   },
   {
    "duration": 7,
    "start_time": "2023-08-09T07:23:58.714Z"
   },
   {
    "duration": 15,
    "start_time": "2023-08-09T07:24:52.325Z"
   },
   {
    "duration": 10,
    "start_time": "2023-08-09T07:26:48.732Z"
   },
   {
    "duration": 39,
    "start_time": "2023-08-09T07:27:39.838Z"
   },
   {
    "duration": 9,
    "start_time": "2023-08-09T07:27:43.521Z"
   },
   {
    "duration": 8,
    "start_time": "2023-08-09T07:28:09.343Z"
   },
   {
    "duration": 414,
    "start_time": "2023-08-09T07:28:14.345Z"
   },
   {
    "duration": 624,
    "start_time": "2023-08-09T07:28:14.761Z"
   },
   {
    "duration": 120,
    "start_time": "2023-08-09T07:28:15.386Z"
   },
   {
    "duration": 133,
    "start_time": "2023-08-09T07:28:15.508Z"
   },
   {
    "duration": 3,
    "start_time": "2023-08-09T07:28:15.644Z"
   },
   {
    "duration": 10,
    "start_time": "2023-08-09T07:28:15.649Z"
   },
   {
    "duration": 24,
    "start_time": "2023-08-09T07:28:15.661Z"
   },
   {
    "duration": 42,
    "start_time": "2023-08-09T07:28:15.687Z"
   },
   {
    "duration": 9,
    "start_time": "2023-08-09T07:28:15.756Z"
   },
   {
    "duration": 60,
    "start_time": "2023-08-09T07:28:15.769Z"
   },
   {
    "duration": 29,
    "start_time": "2023-08-09T07:28:15.831Z"
   },
   {
    "duration": 9,
    "start_time": "2023-08-09T07:28:15.862Z"
   },
   {
    "duration": 25,
    "start_time": "2023-08-09T07:28:15.873Z"
   },
   {
    "duration": 56,
    "start_time": "2023-08-09T07:28:15.900Z"
   },
   {
    "duration": 124,
    "start_time": "2023-08-09T07:28:15.959Z"
   },
   {
    "duration": 100,
    "start_time": "2023-08-09T07:28:16.085Z"
   },
   {
    "duration": 8,
    "start_time": "2023-08-09T07:28:16.187Z"
   },
   {
    "duration": 26,
    "start_time": "2023-08-09T07:28:16.197Z"
   },
   {
    "duration": 8,
    "start_time": "2023-08-09T07:28:16.225Z"
   },
   {
    "duration": 48,
    "start_time": "2023-08-09T07:28:16.235Z"
   },
   {
    "duration": 6,
    "start_time": "2023-08-09T07:28:16.285Z"
   },
   {
    "duration": 8,
    "start_time": "2023-08-09T07:28:16.293Z"
   },
   {
    "duration": 14,
    "start_time": "2023-08-09T07:28:16.303Z"
   },
   {
    "duration": 11,
    "start_time": "2023-08-09T07:28:16.319Z"
   },
   {
    "duration": 86,
    "start_time": "2023-08-09T07:28:16.331Z"
   },
   {
    "duration": 0,
    "start_time": "2023-08-09T07:28:16.420Z"
   },
   {
    "duration": 0,
    "start_time": "2023-08-09T07:28:16.421Z"
   },
   {
    "duration": 0,
    "start_time": "2023-08-09T07:28:16.423Z"
   },
   {
    "duration": 0,
    "start_time": "2023-08-09T07:28:16.424Z"
   },
   {
    "duration": 0,
    "start_time": "2023-08-09T07:28:16.426Z"
   },
   {
    "duration": 0,
    "start_time": "2023-08-09T07:28:16.427Z"
   },
   {
    "duration": 0,
    "start_time": "2023-08-09T07:28:16.428Z"
   },
   {
    "duration": 0,
    "start_time": "2023-08-09T07:28:16.430Z"
   },
   {
    "duration": 0,
    "start_time": "2023-08-09T07:28:16.431Z"
   },
   {
    "duration": 14,
    "start_time": "2023-08-09T07:30:12.322Z"
   },
   {
    "duration": 14,
    "start_time": "2023-08-09T07:30:16.599Z"
   },
   {
    "duration": 12,
    "start_time": "2023-08-09T07:30:19.357Z"
   },
   {
    "duration": 12,
    "start_time": "2023-08-09T07:30:24.418Z"
   },
   {
    "duration": 412,
    "start_time": "2023-08-09T07:30:31.373Z"
   },
   {
    "duration": 622,
    "start_time": "2023-08-09T07:30:31.787Z"
   },
   {
    "duration": 120,
    "start_time": "2023-08-09T07:30:32.410Z"
   },
   {
    "duration": 145,
    "start_time": "2023-08-09T07:30:32.532Z"
   },
   {
    "duration": 4,
    "start_time": "2023-08-09T07:30:32.679Z"
   },
   {
    "duration": 11,
    "start_time": "2023-08-09T07:30:32.685Z"
   },
   {
    "duration": 36,
    "start_time": "2023-08-09T07:30:32.698Z"
   },
   {
    "duration": 62,
    "start_time": "2023-08-09T07:30:32.736Z"
   },
   {
    "duration": 8,
    "start_time": "2023-08-09T07:30:32.800Z"
   },
   {
    "duration": 70,
    "start_time": "2023-08-09T07:30:32.810Z"
   },
   {
    "duration": 8,
    "start_time": "2023-08-09T07:30:32.882Z"
   },
   {
    "duration": 33,
    "start_time": "2023-08-09T07:30:32.891Z"
   },
   {
    "duration": 22,
    "start_time": "2023-08-09T07:30:32.926Z"
   },
   {
    "duration": 16,
    "start_time": "2023-08-09T07:30:32.950Z"
   },
   {
    "duration": 122,
    "start_time": "2023-08-09T07:30:32.967Z"
   },
   {
    "duration": 101,
    "start_time": "2023-08-09T07:30:33.090Z"
   },
   {
    "duration": 9,
    "start_time": "2023-08-09T07:30:33.193Z"
   },
   {
    "duration": 23,
    "start_time": "2023-08-09T07:30:33.204Z"
   },
   {
    "duration": 27,
    "start_time": "2023-08-09T07:30:33.229Z"
   },
   {
    "duration": 23,
    "start_time": "2023-08-09T07:30:33.259Z"
   },
   {
    "duration": 5,
    "start_time": "2023-08-09T07:30:33.284Z"
   },
   {
    "duration": 36,
    "start_time": "2023-08-09T07:30:33.291Z"
   },
   {
    "duration": 28,
    "start_time": "2023-08-09T07:30:33.329Z"
   },
   {
    "duration": 10,
    "start_time": "2023-08-09T07:30:33.358Z"
   },
   {
    "duration": 78,
    "start_time": "2023-08-09T07:30:33.370Z"
   },
   {
    "duration": 0,
    "start_time": "2023-08-09T07:30:33.450Z"
   },
   {
    "duration": 0,
    "start_time": "2023-08-09T07:30:33.451Z"
   },
   {
    "duration": 0,
    "start_time": "2023-08-09T07:30:33.452Z"
   },
   {
    "duration": 0,
    "start_time": "2023-08-09T07:30:33.453Z"
   },
   {
    "duration": 0,
    "start_time": "2023-08-09T07:30:33.455Z"
   },
   {
    "duration": 0,
    "start_time": "2023-08-09T07:30:33.455Z"
   },
   {
    "duration": 0,
    "start_time": "2023-08-09T07:30:33.457Z"
   },
   {
    "duration": 0,
    "start_time": "2023-08-09T07:30:33.457Z"
   },
   {
    "duration": 0,
    "start_time": "2023-08-09T07:30:33.458Z"
   },
   {
    "duration": 11,
    "start_time": "2023-08-09T07:32:28.733Z"
   },
   {
    "duration": 38,
    "start_time": "2023-08-09T07:33:02.286Z"
   },
   {
    "duration": 16,
    "start_time": "2023-08-09T07:33:05.186Z"
   },
   {
    "duration": 8,
    "start_time": "2023-08-09T07:33:28.500Z"
   },
   {
    "duration": 10,
    "start_time": "2023-08-09T07:33:33.399Z"
   },
   {
    "duration": 409,
    "start_time": "2023-08-09T07:36:51.165Z"
   },
   {
    "duration": 623,
    "start_time": "2023-08-09T07:36:51.577Z"
   },
   {
    "duration": 119,
    "start_time": "2023-08-09T07:36:52.202Z"
   },
   {
    "duration": 313,
    "start_time": "2023-08-09T07:36:52.323Z"
   },
   {
    "duration": 3,
    "start_time": "2023-08-09T07:36:52.639Z"
   },
   {
    "duration": 17,
    "start_time": "2023-08-09T07:36:52.643Z"
   },
   {
    "duration": 41,
    "start_time": "2023-08-09T07:36:52.662Z"
   },
   {
    "duration": 54,
    "start_time": "2023-08-09T07:36:52.705Z"
   },
   {
    "duration": 7,
    "start_time": "2023-08-09T07:36:52.761Z"
   },
   {
    "duration": 75,
    "start_time": "2023-08-09T07:36:52.770Z"
   },
   {
    "duration": 14,
    "start_time": "2023-08-09T07:36:52.847Z"
   },
   {
    "duration": 7,
    "start_time": "2023-08-09T07:36:52.863Z"
   },
   {
    "duration": 40,
    "start_time": "2023-08-09T07:36:52.872Z"
   },
   {
    "duration": 18,
    "start_time": "2023-08-09T07:36:52.915Z"
   },
   {
    "duration": 139,
    "start_time": "2023-08-09T07:36:52.935Z"
   },
   {
    "duration": 103,
    "start_time": "2023-08-09T07:36:53.076Z"
   },
   {
    "duration": 10,
    "start_time": "2023-08-09T07:36:53.181Z"
   },
   {
    "duration": 24,
    "start_time": "2023-08-09T07:36:53.193Z"
   },
   {
    "duration": 10,
    "start_time": "2023-08-09T07:36:53.219Z"
   },
   {
    "duration": 64,
    "start_time": "2023-08-09T07:36:53.230Z"
   },
   {
    "duration": 7,
    "start_time": "2023-08-09T07:36:53.296Z"
   },
   {
    "duration": 10,
    "start_time": "2023-08-09T07:36:53.305Z"
   },
   {
    "duration": 17,
    "start_time": "2023-08-09T07:36:53.317Z"
   },
   {
    "duration": 34,
    "start_time": "2023-08-09T07:36:53.335Z"
   },
   {
    "duration": 89,
    "start_time": "2023-08-09T07:36:53.371Z"
   },
   {
    "duration": 0,
    "start_time": "2023-08-09T07:36:53.462Z"
   },
   {
    "duration": 0,
    "start_time": "2023-08-09T07:36:53.463Z"
   },
   {
    "duration": 0,
    "start_time": "2023-08-09T07:36:53.464Z"
   },
   {
    "duration": 0,
    "start_time": "2023-08-09T07:36:53.465Z"
   },
   {
    "duration": 0,
    "start_time": "2023-08-09T07:36:53.467Z"
   },
   {
    "duration": 0,
    "start_time": "2023-08-09T07:36:53.468Z"
   },
   {
    "duration": 0,
    "start_time": "2023-08-09T07:36:53.469Z"
   },
   {
    "duration": 0,
    "start_time": "2023-08-09T07:36:53.470Z"
   },
   {
    "duration": 0,
    "start_time": "2023-08-09T07:36:53.471Z"
   },
   {
    "duration": 0,
    "start_time": "2023-08-09T07:36:53.473Z"
   },
   {
    "duration": 10,
    "start_time": "2023-08-09T07:37:16.309Z"
   },
   {
    "duration": 26,
    "start_time": "2023-08-09T07:37:34.164Z"
   },
   {
    "duration": 26,
    "start_time": "2023-08-09T07:37:54.062Z"
   },
   {
    "duration": 359,
    "start_time": "2023-08-09T07:39:00.403Z"
   },
   {
    "duration": 635,
    "start_time": "2023-08-09T07:39:00.764Z"
   },
   {
    "duration": 138,
    "start_time": "2023-08-09T07:39:01.401Z"
   },
   {
    "duration": 323,
    "start_time": "2023-08-09T07:39:01.542Z"
   },
   {
    "duration": 4,
    "start_time": "2023-08-09T07:39:01.866Z"
   },
   {
    "duration": 47,
    "start_time": "2023-08-09T07:39:01.872Z"
   },
   {
    "duration": 49,
    "start_time": "2023-08-09T07:39:01.921Z"
   },
   {
    "duration": 79,
    "start_time": "2023-08-09T07:39:01.971Z"
   },
   {
    "duration": 77,
    "start_time": "2023-08-09T07:39:02.052Z"
   },
   {
    "duration": 27,
    "start_time": "2023-08-09T07:39:02.132Z"
   },
   {
    "duration": 73,
    "start_time": "2023-08-09T07:39:02.161Z"
   },
   {
    "duration": 7,
    "start_time": "2023-08-09T07:39:02.236Z"
   },
   {
    "duration": 42,
    "start_time": "2023-08-09T07:39:02.245Z"
   },
   {
    "duration": 56,
    "start_time": "2023-08-09T07:39:02.289Z"
   },
   {
    "duration": 29,
    "start_time": "2023-08-09T07:39:02.347Z"
   },
   {
    "duration": 133,
    "start_time": "2023-08-09T07:39:02.378Z"
   },
   {
    "duration": 112,
    "start_time": "2023-08-09T07:39:02.513Z"
   },
   {
    "duration": 11,
    "start_time": "2023-08-09T07:39:02.627Z"
   },
   {
    "duration": 32,
    "start_time": "2023-08-09T07:39:02.640Z"
   },
   {
    "duration": 57,
    "start_time": "2023-08-09T07:39:02.674Z"
   },
   {
    "duration": 52,
    "start_time": "2023-08-09T07:39:02.733Z"
   },
   {
    "duration": 24,
    "start_time": "2023-08-09T07:39:02.787Z"
   },
   {
    "duration": 50,
    "start_time": "2023-08-09T07:39:02.813Z"
   },
   {
    "duration": 38,
    "start_time": "2023-08-09T07:39:02.864Z"
   },
   {
    "duration": 50,
    "start_time": "2023-08-09T07:39:02.904Z"
   },
   {
    "duration": 52,
    "start_time": "2023-08-09T07:39:02.956Z"
   },
   {
    "duration": 49,
    "start_time": "2023-08-09T07:39:03.009Z"
   },
   {
    "duration": 68,
    "start_time": "2023-08-09T07:39:03.061Z"
   },
   {
    "duration": 0,
    "start_time": "2023-08-09T07:39:03.130Z"
   },
   {
    "duration": 0,
    "start_time": "2023-08-09T07:39:03.132Z"
   },
   {
    "duration": 0,
    "start_time": "2023-08-09T07:39:03.133Z"
   },
   {
    "duration": 0,
    "start_time": "2023-08-09T07:39:03.134Z"
   },
   {
    "duration": 0,
    "start_time": "2023-08-09T07:39:03.136Z"
   },
   {
    "duration": 0,
    "start_time": "2023-08-09T07:39:03.137Z"
   },
   {
    "duration": 0,
    "start_time": "2023-08-09T07:39:03.138Z"
   },
   {
    "duration": 0,
    "start_time": "2023-08-09T07:39:03.139Z"
   },
   {
    "duration": 0,
    "start_time": "2023-08-09T07:39:03.140Z"
   },
   {
    "duration": 398,
    "start_time": "2023-08-09T07:39:35.184Z"
   },
   {
    "duration": 642,
    "start_time": "2023-08-09T07:39:35.585Z"
   },
   {
    "duration": 135,
    "start_time": "2023-08-09T07:39:36.228Z"
   },
   {
    "duration": 349,
    "start_time": "2023-08-09T07:39:36.366Z"
   },
   {
    "duration": 5,
    "start_time": "2023-08-09T07:39:36.717Z"
   },
   {
    "duration": 24,
    "start_time": "2023-08-09T07:39:36.724Z"
   },
   {
    "duration": 8,
    "start_time": "2023-08-09T07:39:36.757Z"
   },
   {
    "duration": 61,
    "start_time": "2023-08-09T07:39:36.767Z"
   },
   {
    "duration": 60,
    "start_time": "2023-08-09T07:39:36.830Z"
   },
   {
    "duration": 8,
    "start_time": "2023-08-09T07:39:36.893Z"
   },
   {
    "duration": 25,
    "start_time": "2023-08-09T07:39:36.902Z"
   },
   {
    "duration": 64,
    "start_time": "2023-08-09T07:39:36.929Z"
   },
   {
    "duration": 53,
    "start_time": "2023-08-09T07:39:36.995Z"
   },
   {
    "duration": 228,
    "start_time": "2023-08-09T07:39:37.050Z"
   },
   {
    "duration": 164,
    "start_time": "2023-08-09T07:39:37.280Z"
   },
   {
    "duration": 18,
    "start_time": "2023-08-09T07:39:37.446Z"
   },
   {
    "duration": 26,
    "start_time": "2023-08-09T07:39:37.466Z"
   },
   {
    "duration": 14,
    "start_time": "2023-08-09T07:39:37.494Z"
   },
   {
    "duration": 62,
    "start_time": "2023-08-09T07:39:37.510Z"
   },
   {
    "duration": 7,
    "start_time": "2023-08-09T07:39:37.574Z"
   },
   {
    "duration": 8,
    "start_time": "2023-08-09T07:39:37.583Z"
   },
   {
    "duration": 14,
    "start_time": "2023-08-09T07:39:37.593Z"
   },
   {
    "duration": 17,
    "start_time": "2023-08-09T07:39:37.610Z"
   },
   {
    "duration": 12,
    "start_time": "2023-08-09T07:39:37.656Z"
   },
   {
    "duration": 33,
    "start_time": "2023-08-09T07:39:37.670Z"
   },
   {
    "duration": 83,
    "start_time": "2023-08-09T07:39:37.705Z"
   },
   {
    "duration": 0,
    "start_time": "2023-08-09T07:39:37.790Z"
   },
   {
    "duration": 0,
    "start_time": "2023-08-09T07:39:37.792Z"
   },
   {
    "duration": 0,
    "start_time": "2023-08-09T07:39:37.793Z"
   },
   {
    "duration": 0,
    "start_time": "2023-08-09T07:39:37.795Z"
   },
   {
    "duration": 0,
    "start_time": "2023-08-09T07:39:37.797Z"
   },
   {
    "duration": 0,
    "start_time": "2023-08-09T07:39:37.799Z"
   },
   {
    "duration": 0,
    "start_time": "2023-08-09T07:39:37.800Z"
   },
   {
    "duration": 0,
    "start_time": "2023-08-09T07:39:37.801Z"
   },
   {
    "duration": 0,
    "start_time": "2023-08-09T07:39:37.802Z"
   },
   {
    "duration": 26,
    "start_time": "2023-08-09T07:40:02.101Z"
   },
   {
    "duration": 1050,
    "start_time": "2023-08-09T07:40:37.358Z"
   },
   {
    "duration": 1452,
    "start_time": "2023-08-09T07:41:30.353Z"
   },
   {
    "duration": 82,
    "start_time": "2023-08-09T07:41:44.101Z"
   },
   {
    "duration": 323,
    "start_time": "2023-08-09T07:41:47.897Z"
   },
   {
    "duration": 337,
    "start_time": "2023-08-09T07:41:52.781Z"
   },
   {
    "duration": 356,
    "start_time": "2023-08-09T07:42:01.667Z"
   },
   {
    "duration": 33,
    "start_time": "2023-08-09T07:42:13.564Z"
   },
   {
    "duration": 496,
    "start_time": "2023-08-09T07:42:31.349Z"
   },
   {
    "duration": 343,
    "start_time": "2023-08-09T07:42:36.133Z"
   },
   {
    "duration": 2,
    "start_time": "2023-08-09T07:42:56.612Z"
   },
   {
    "duration": 35,
    "start_time": "2023-08-09T07:43:29.413Z"
   },
   {
    "duration": 298,
    "start_time": "2023-08-09T07:43:42.804Z"
   },
   {
    "duration": 3792,
    "start_time": "2023-08-09T07:43:59.571Z"
   },
   {
    "duration": 36,
    "start_time": "2023-08-09T07:44:13.211Z"
   },
   {
    "duration": 486,
    "start_time": "2023-08-09T07:44:18.321Z"
   },
   {
    "duration": 6,
    "start_time": "2023-08-09T07:44:28.392Z"
   },
   {
    "duration": 321,
    "start_time": "2023-08-09T07:44:33.200Z"
   },
   {
    "duration": 291,
    "start_time": "2023-08-09T07:44:54.100Z"
   },
   {
    "duration": 27,
    "start_time": "2023-08-09T07:44:59.986Z"
   },
   {
    "duration": 14,
    "start_time": "2023-08-09T07:49:31.040Z"
   },
   {
    "duration": 13,
    "start_time": "2023-08-09T07:49:38.288Z"
   },
   {
    "duration": 4,
    "start_time": "2023-08-09T07:49:56.036Z"
   },
   {
    "duration": 23,
    "start_time": "2023-08-09T07:50:28.084Z"
   },
   {
    "duration": 14,
    "start_time": "2023-08-09T07:50:41.226Z"
   },
   {
    "duration": 23,
    "start_time": "2023-08-09T07:52:02.551Z"
   },
   {
    "duration": 23,
    "start_time": "2023-08-09T07:52:24.070Z"
   },
   {
    "duration": 16,
    "start_time": "2023-08-09T07:53:43.297Z"
   },
   {
    "duration": 38,
    "start_time": "2023-08-09T07:54:15.542Z"
   },
   {
    "duration": 72,
    "start_time": "2023-08-09T07:54:51.868Z"
   },
   {
    "duration": 27,
    "start_time": "2023-08-09T07:56:15.084Z"
   },
   {
    "duration": 31,
    "start_time": "2023-08-09T07:56:28.924Z"
   },
   {
    "duration": 28,
    "start_time": "2023-08-09T07:56:35.582Z"
   },
   {
    "duration": 12,
    "start_time": "2023-08-09T08:04:25.934Z"
   },
   {
    "duration": 12,
    "start_time": "2023-08-09T08:05:16.155Z"
   },
   {
    "duration": 14,
    "start_time": "2023-08-09T08:05:28.198Z"
   },
   {
    "duration": 20,
    "start_time": "2023-08-09T08:05:32.414Z"
   },
   {
    "duration": 116,
    "start_time": "2023-08-09T08:30:39.554Z"
   },
   {
    "duration": 1218,
    "start_time": "2023-08-09T17:47:44.472Z"
   },
   {
    "duration": 662,
    "start_time": "2023-08-09T17:47:45.692Z"
   },
   {
    "duration": 130,
    "start_time": "2023-08-09T17:47:46.356Z"
   },
   {
    "duration": 312,
    "start_time": "2023-08-09T17:47:46.487Z"
   },
   {
    "duration": 4,
    "start_time": "2023-08-09T17:47:46.801Z"
   },
   {
    "duration": 16,
    "start_time": "2023-08-09T17:47:46.807Z"
   },
   {
    "duration": 7,
    "start_time": "2023-08-09T17:47:46.825Z"
   },
   {
    "duration": 43,
    "start_time": "2023-08-09T17:47:46.833Z"
   },
   {
    "duration": 46,
    "start_time": "2023-08-09T17:47:46.878Z"
   },
   {
    "duration": 30,
    "start_time": "2023-08-09T17:47:46.926Z"
   },
   {
    "duration": 24,
    "start_time": "2023-08-09T17:47:46.958Z"
   },
   {
    "duration": 23,
    "start_time": "2023-08-09T17:47:46.984Z"
   },
   {
    "duration": 238,
    "start_time": "2023-08-09T17:47:47.010Z"
   },
   {
    "duration": 16,
    "start_time": "2023-08-09T17:47:47.252Z"
   },
   {
    "duration": 114,
    "start_time": "2023-08-09T17:47:47.270Z"
   },
   {
    "duration": 0,
    "start_time": "2023-08-09T17:47:47.386Z"
   },
   {
    "duration": 0,
    "start_time": "2023-08-09T17:47:47.388Z"
   },
   {
    "duration": 0,
    "start_time": "2023-08-09T17:47:47.390Z"
   },
   {
    "duration": 0,
    "start_time": "2023-08-09T17:47:47.391Z"
   },
   {
    "duration": 0,
    "start_time": "2023-08-09T17:47:47.393Z"
   },
   {
    "duration": 1,
    "start_time": "2023-08-09T17:47:47.394Z"
   },
   {
    "duration": 0,
    "start_time": "2023-08-09T17:47:47.396Z"
   },
   {
    "duration": 0,
    "start_time": "2023-08-09T17:47:47.397Z"
   },
   {
    "duration": 0,
    "start_time": "2023-08-09T17:47:47.399Z"
   },
   {
    "duration": 0,
    "start_time": "2023-08-09T17:47:47.400Z"
   },
   {
    "duration": 0,
    "start_time": "2023-08-09T17:47:47.401Z"
   },
   {
    "duration": 0,
    "start_time": "2023-08-09T17:47:47.403Z"
   },
   {
    "duration": 0,
    "start_time": "2023-08-09T17:47:47.404Z"
   },
   {
    "duration": 0,
    "start_time": "2023-08-09T17:47:47.405Z"
   },
   {
    "duration": 0,
    "start_time": "2023-08-09T17:47:47.411Z"
   },
   {
    "duration": 0,
    "start_time": "2023-08-09T17:47:47.412Z"
   },
   {
    "duration": 0,
    "start_time": "2023-08-09T17:47:47.414Z"
   },
   {
    "duration": 0,
    "start_time": "2023-08-09T17:47:47.415Z"
   },
   {
    "duration": 0,
    "start_time": "2023-08-09T17:47:47.416Z"
   },
   {
    "duration": 0,
    "start_time": "2023-08-09T17:47:47.457Z"
   },
   {
    "duration": 0,
    "start_time": "2023-08-09T17:47:47.459Z"
   },
   {
    "duration": 0,
    "start_time": "2023-08-09T17:47:47.460Z"
   },
   {
    "duration": 0,
    "start_time": "2023-08-09T17:47:47.462Z"
   },
   {
    "duration": 0,
    "start_time": "2023-08-09T17:47:47.464Z"
   },
   {
    "duration": 0,
    "start_time": "2023-08-09T17:47:47.465Z"
   },
   {
    "duration": 0,
    "start_time": "2023-08-09T17:47:47.466Z"
   },
   {
    "duration": 0,
    "start_time": "2023-08-09T17:47:47.468Z"
   },
   {
    "duration": 0,
    "start_time": "2023-08-09T17:47:47.469Z"
   },
   {
    "duration": 0,
    "start_time": "2023-08-09T17:47:47.471Z"
   },
   {
    "duration": 0,
    "start_time": "2023-08-09T17:47:47.472Z"
   },
   {
    "duration": 44,
    "start_time": "2023-08-09T17:48:33.337Z"
   },
   {
    "duration": 55,
    "start_time": "2023-08-09T17:48:52.732Z"
   },
   {
    "duration": 12,
    "start_time": "2023-08-09T17:49:21.665Z"
   },
   {
    "duration": 266,
    "start_time": "2023-08-09T17:50:06.052Z"
   },
   {
    "duration": 238,
    "start_time": "2023-08-09T17:50:42.347Z"
   },
   {
    "duration": 9,
    "start_time": "2023-08-09T17:51:49.720Z"
   },
   {
    "duration": 122,
    "start_time": "2023-08-09T17:52:23.333Z"
   },
   {
    "duration": 175,
    "start_time": "2023-08-09T17:52:31.433Z"
   },
   {
    "duration": 164,
    "start_time": "2023-08-09T17:53:06.268Z"
   },
   {
    "duration": 169,
    "start_time": "2023-08-09T17:53:15.903Z"
   },
   {
    "duration": 86,
    "start_time": "2023-08-09T17:53:36.022Z"
   },
   {
    "duration": 85,
    "start_time": "2023-08-09T17:53:51.358Z"
   },
   {
    "duration": 49,
    "start_time": "2023-08-09T17:53:58.793Z"
   },
   {
    "duration": 94,
    "start_time": "2023-08-09T17:54:57.568Z"
   },
   {
    "duration": 89,
    "start_time": "2023-08-09T17:55:09.511Z"
   },
   {
    "duration": 95,
    "start_time": "2023-08-09T17:55:14.741Z"
   },
   {
    "duration": 3,
    "start_time": "2023-08-09T17:56:04.958Z"
   },
   {
    "duration": 34,
    "start_time": "2023-08-09T17:56:48.000Z"
   },
   {
    "duration": 25,
    "start_time": "2023-08-09T17:56:57.542Z"
   },
   {
    "duration": 288,
    "start_time": "2023-08-09T17:57:04.706Z"
   },
   {
    "duration": 1558,
    "start_time": "2023-08-09T17:57:54.116Z"
   },
   {
    "duration": 1617,
    "start_time": "2023-08-09T17:58:03.122Z"
   },
   {
    "duration": 1492,
    "start_time": "2023-08-09T17:58:22.350Z"
   },
   {
    "duration": 53,
    "start_time": "2023-08-09T17:58:39.067Z"
   },
   {
    "duration": 38,
    "start_time": "2023-08-09T17:58:47.552Z"
   },
   {
    "duration": 277,
    "start_time": "2023-08-09T17:58:52.304Z"
   },
   {
    "duration": 39,
    "start_time": "2023-08-09T17:59:05.931Z"
   },
   {
    "duration": 363,
    "start_time": "2023-08-09T17:59:07.102Z"
   },
   {
    "duration": 1150,
    "start_time": "2023-08-09T17:59:15.400Z"
   },
   {
    "duration": 604,
    "start_time": "2023-08-09T17:59:16.552Z"
   },
   {
    "duration": 126,
    "start_time": "2023-08-09T17:59:17.159Z"
   },
   {
    "duration": 322,
    "start_time": "2023-08-09T17:59:17.287Z"
   },
   {
    "duration": 3,
    "start_time": "2023-08-09T17:59:17.612Z"
   },
   {
    "duration": 16,
    "start_time": "2023-08-09T17:59:17.617Z"
   },
   {
    "duration": 24,
    "start_time": "2023-08-09T17:59:17.634Z"
   },
   {
    "duration": 20,
    "start_time": "2023-08-09T17:59:17.660Z"
   },
   {
    "duration": 42,
    "start_time": "2023-08-09T17:59:17.682Z"
   },
   {
    "duration": 6,
    "start_time": "2023-08-09T17:59:17.725Z"
   },
   {
    "duration": 18,
    "start_time": "2023-08-09T17:59:17.756Z"
   },
   {
    "duration": 16,
    "start_time": "2023-08-09T17:59:17.775Z"
   },
   {
    "duration": 219,
    "start_time": "2023-08-09T17:59:17.793Z"
   },
   {
    "duration": 13,
    "start_time": "2023-08-09T17:59:18.015Z"
   },
   {
    "duration": 62,
    "start_time": "2023-08-09T17:59:18.029Z"
   },
   {
    "duration": 9,
    "start_time": "2023-08-09T17:59:18.093Z"
   },
   {
    "duration": 269,
    "start_time": "2023-08-09T17:59:18.104Z"
   },
   {
    "duration": 397,
    "start_time": "2023-08-09T17:59:18.376Z"
   },
   {
    "duration": 199,
    "start_time": "2023-08-09T17:59:18.775Z"
   },
   {
    "duration": 313,
    "start_time": "2023-08-09T17:59:18.977Z"
   },
   {
    "duration": 3,
    "start_time": "2023-08-09T17:59:19.291Z"
   },
   {
    "duration": 1970,
    "start_time": "2023-08-09T17:59:19.296Z"
   },
   {
    "duration": 38,
    "start_time": "2023-08-09T17:59:21.268Z"
   },
   {
    "duration": 290,
    "start_time": "2023-08-09T17:59:21.309Z"
   },
   {
    "duration": 1579,
    "start_time": "2023-08-09T17:59:21.601Z"
   },
   {
    "duration": 0,
    "start_time": "2023-08-09T17:59:23.182Z"
   },
   {
    "duration": 0,
    "start_time": "2023-08-09T17:59:23.183Z"
   },
   {
    "duration": 0,
    "start_time": "2023-08-09T17:59:23.184Z"
   },
   {
    "duration": 0,
    "start_time": "2023-08-09T17:59:23.185Z"
   },
   {
    "duration": 0,
    "start_time": "2023-08-09T17:59:23.186Z"
   },
   {
    "duration": 0,
    "start_time": "2023-08-09T17:59:23.187Z"
   },
   {
    "duration": 0,
    "start_time": "2023-08-09T17:59:23.188Z"
   },
   {
    "duration": 0,
    "start_time": "2023-08-09T17:59:23.189Z"
   },
   {
    "duration": 0,
    "start_time": "2023-08-09T17:59:23.190Z"
   },
   {
    "duration": 0,
    "start_time": "2023-08-09T17:59:23.191Z"
   },
   {
    "duration": 0,
    "start_time": "2023-08-09T17:59:23.193Z"
   },
   {
    "duration": 0,
    "start_time": "2023-08-09T17:59:23.194Z"
   },
   {
    "duration": 0,
    "start_time": "2023-08-09T17:59:23.195Z"
   },
   {
    "duration": 0,
    "start_time": "2023-08-09T17:59:23.196Z"
   },
   {
    "duration": 0,
    "start_time": "2023-08-09T17:59:23.197Z"
   },
   {
    "duration": 0,
    "start_time": "2023-08-09T17:59:23.198Z"
   },
   {
    "duration": 0,
    "start_time": "2023-08-09T17:59:23.200Z"
   },
   {
    "duration": 0,
    "start_time": "2023-08-09T17:59:23.201Z"
   },
   {
    "duration": 0,
    "start_time": "2023-08-09T17:59:23.202Z"
   },
   {
    "duration": 0,
    "start_time": "2023-08-09T17:59:23.203Z"
   },
   {
    "duration": 0,
    "start_time": "2023-08-09T17:59:23.204Z"
   },
   {
    "duration": 0,
    "start_time": "2023-08-09T17:59:23.205Z"
   },
   {
    "duration": 0,
    "start_time": "2023-08-09T17:59:23.206Z"
   },
   {
    "duration": 0,
    "start_time": "2023-08-09T17:59:23.208Z"
   },
   {
    "duration": 0,
    "start_time": "2023-08-09T17:59:23.208Z"
   },
   {
    "duration": 0,
    "start_time": "2023-08-09T17:59:23.209Z"
   },
   {
    "duration": 0,
    "start_time": "2023-08-09T17:59:23.210Z"
   },
   {
    "duration": 0,
    "start_time": "2023-08-09T17:59:23.212Z"
   },
   {
    "duration": 0,
    "start_time": "2023-08-09T17:59:23.213Z"
   },
   {
    "duration": 0,
    "start_time": "2023-08-09T17:59:23.214Z"
   },
   {
    "duration": 0,
    "start_time": "2023-08-09T17:59:23.216Z"
   },
   {
    "duration": 37,
    "start_time": "2023-08-09T18:00:09.904Z"
   },
   {
    "duration": 38,
    "start_time": "2023-08-09T18:00:29.324Z"
   },
   {
    "duration": 1563,
    "start_time": "2023-08-09T18:00:34.140Z"
   },
   {
    "duration": 1552,
    "start_time": "2023-08-09T18:00:37.733Z"
   },
   {
    "duration": 1222,
    "start_time": "2023-08-09T18:01:06.075Z"
   },
   {
    "duration": 629,
    "start_time": "2023-08-09T18:01:07.299Z"
   },
   {
    "duration": 113,
    "start_time": "2023-08-09T18:01:07.929Z"
   },
   {
    "duration": 327,
    "start_time": "2023-08-09T18:01:08.044Z"
   },
   {
    "duration": 4,
    "start_time": "2023-08-09T18:01:08.374Z"
   },
   {
    "duration": 11,
    "start_time": "2023-08-09T18:01:08.380Z"
   },
   {
    "duration": 16,
    "start_time": "2023-08-09T18:01:08.393Z"
   },
   {
    "duration": 24,
    "start_time": "2023-08-09T18:01:08.411Z"
   },
   {
    "duration": 65,
    "start_time": "2023-08-09T18:01:08.437Z"
   },
   {
    "duration": 7,
    "start_time": "2023-08-09T18:01:08.503Z"
   },
   {
    "duration": 46,
    "start_time": "2023-08-09T18:01:08.511Z"
   },
   {
    "duration": 19,
    "start_time": "2023-08-09T18:01:08.559Z"
   },
   {
    "duration": 404,
    "start_time": "2023-08-09T18:01:08.580Z"
   },
   {
    "duration": 69,
    "start_time": "2023-08-09T18:01:08.988Z"
   },
   {
    "duration": 115,
    "start_time": "2023-08-09T18:01:09.060Z"
   },
   {
    "duration": 81,
    "start_time": "2023-08-09T18:01:09.177Z"
   },
   {
    "duration": 323,
    "start_time": "2023-08-09T18:01:09.260Z"
   },
   {
    "duration": 389,
    "start_time": "2023-08-09T18:01:09.584Z"
   },
   {
    "duration": 194,
    "start_time": "2023-08-09T18:01:09.975Z"
   },
   {
    "duration": 222,
    "start_time": "2023-08-09T18:01:10.170Z"
   },
   {
    "duration": 3,
    "start_time": "2023-08-09T18:01:10.393Z"
   },
   {
    "duration": 73,
    "start_time": "2023-08-09T18:01:10.398Z"
   },
   {
    "duration": 2704,
    "start_time": "2023-08-09T18:01:10.473Z"
   },
   {
    "duration": 12,
    "start_time": "2023-08-09T18:01:13.179Z"
   },
   {
    "duration": 51,
    "start_time": "2023-08-09T18:01:13.193Z"
   },
   {
    "duration": 282,
    "start_time": "2023-08-09T18:01:13.259Z"
   },
   {
    "duration": 104,
    "start_time": "2023-08-09T18:01:13.543Z"
   },
   {
    "duration": 0,
    "start_time": "2023-08-09T18:01:13.649Z"
   },
   {
    "duration": 0,
    "start_time": "2023-08-09T18:01:13.650Z"
   },
   {
    "duration": 0,
    "start_time": "2023-08-09T18:01:13.655Z"
   },
   {
    "duration": 0,
    "start_time": "2023-08-09T18:01:13.657Z"
   },
   {
    "duration": 0,
    "start_time": "2023-08-09T18:01:13.658Z"
   },
   {
    "duration": 0,
    "start_time": "2023-08-09T18:01:13.659Z"
   },
   {
    "duration": 0,
    "start_time": "2023-08-09T18:01:13.660Z"
   },
   {
    "duration": 0,
    "start_time": "2023-08-09T18:01:13.661Z"
   },
   {
    "duration": 0,
    "start_time": "2023-08-09T18:01:13.662Z"
   },
   {
    "duration": 0,
    "start_time": "2023-08-09T18:01:13.663Z"
   },
   {
    "duration": 0,
    "start_time": "2023-08-09T18:01:13.664Z"
   },
   {
    "duration": 0,
    "start_time": "2023-08-09T18:01:13.666Z"
   },
   {
    "duration": 0,
    "start_time": "2023-08-09T18:01:13.667Z"
   },
   {
    "duration": 0,
    "start_time": "2023-08-09T18:01:13.668Z"
   },
   {
    "duration": 0,
    "start_time": "2023-08-09T18:01:13.669Z"
   },
   {
    "duration": 0,
    "start_time": "2023-08-09T18:01:13.670Z"
   },
   {
    "duration": 0,
    "start_time": "2023-08-09T18:01:13.671Z"
   },
   {
    "duration": 0,
    "start_time": "2023-08-09T18:01:13.672Z"
   },
   {
    "duration": 0,
    "start_time": "2023-08-09T18:01:13.673Z"
   },
   {
    "duration": 0,
    "start_time": "2023-08-09T18:01:13.674Z"
   },
   {
    "duration": 0,
    "start_time": "2023-08-09T18:01:13.675Z"
   },
   {
    "duration": 0,
    "start_time": "2023-08-09T18:01:13.676Z"
   },
   {
    "duration": 0,
    "start_time": "2023-08-09T18:01:13.678Z"
   },
   {
    "duration": 0,
    "start_time": "2023-08-09T18:01:13.678Z"
   },
   {
    "duration": 0,
    "start_time": "2023-08-09T18:01:13.680Z"
   },
   {
    "duration": 0,
    "start_time": "2023-08-09T18:01:13.681Z"
   },
   {
    "duration": 0,
    "start_time": "2023-08-09T18:01:13.682Z"
   },
   {
    "duration": 0,
    "start_time": "2023-08-09T18:01:13.683Z"
   },
   {
    "duration": 0,
    "start_time": "2023-08-09T18:01:13.684Z"
   },
   {
    "duration": 0,
    "start_time": "2023-08-09T18:01:13.685Z"
   },
   {
    "duration": 0,
    "start_time": "2023-08-09T18:01:13.686Z"
   },
   {
    "duration": 0,
    "start_time": "2023-08-09T18:01:13.687Z"
   },
   {
    "duration": 3,
    "start_time": "2023-08-09T18:02:03.144Z"
   },
   {
    "duration": 1483,
    "start_time": "2023-08-09T18:02:11.533Z"
   },
   {
    "duration": 40,
    "start_time": "2023-08-09T18:02:45.503Z"
   },
   {
    "duration": 276,
    "start_time": "2023-08-09T18:02:47.201Z"
   },
   {
    "duration": 90,
    "start_time": "2023-08-09T18:03:43.809Z"
   },
   {
    "duration": 237,
    "start_time": "2023-08-09T18:04:04.258Z"
   },
   {
    "duration": 1415,
    "start_time": "2023-08-09T18:04:32.110Z"
   },
   {
    "duration": 82,
    "start_time": "2023-08-09T18:04:38.334Z"
   },
   {
    "duration": 217,
    "start_time": "2023-08-09T18:04:47.297Z"
   },
   {
    "duration": 15,
    "start_time": "2023-08-09T18:05:24.928Z"
   },
   {
    "duration": 16,
    "start_time": "2023-08-09T18:05:28.940Z"
   },
   {
    "duration": 1786,
    "start_time": "2023-08-09T18:05:32.204Z"
   },
   {
    "duration": 13,
    "start_time": "2023-08-09T18:05:34.956Z"
   },
   {
    "duration": 103,
    "start_time": "2023-08-09T18:06:08.096Z"
   },
   {
    "duration": 102,
    "start_time": "2023-08-09T18:06:10.714Z"
   },
   {
    "duration": 242,
    "start_time": "2023-08-09T18:06:11.865Z"
   },
   {
    "duration": 18,
    "start_time": "2023-08-09T18:07:19.638Z"
   },
   {
    "duration": 27,
    "start_time": "2023-08-09T18:08:33.634Z"
   },
   {
    "duration": 15,
    "start_time": "2023-08-09T18:09:25.903Z"
   },
   {
    "duration": 20,
    "start_time": "2023-08-09T18:09:36.915Z"
   },
   {
    "duration": 9,
    "start_time": "2023-08-09T18:09:51.437Z"
   },
   {
    "duration": 1229,
    "start_time": "2023-08-09T18:10:00.256Z"
   },
   {
    "duration": 4,
    "start_time": "2023-08-09T18:10:01.488Z"
   },
   {
    "duration": 674,
    "start_time": "2023-08-09T18:10:01.494Z"
   },
   {
    "duration": 136,
    "start_time": "2023-08-09T18:10:02.169Z"
   },
   {
    "duration": 340,
    "start_time": "2023-08-09T18:10:02.307Z"
   },
   {
    "duration": 7,
    "start_time": "2023-08-09T18:10:02.649Z"
   },
   {
    "duration": 21,
    "start_time": "2023-08-09T18:10:02.658Z"
   },
   {
    "duration": 16,
    "start_time": "2023-08-09T18:10:02.681Z"
   },
   {
    "duration": 40,
    "start_time": "2023-08-09T18:10:02.699Z"
   },
   {
    "duration": 49,
    "start_time": "2023-08-09T18:10:02.741Z"
   },
   {
    "duration": 6,
    "start_time": "2023-08-09T18:10:02.791Z"
   },
   {
    "duration": 39,
    "start_time": "2023-08-09T18:10:02.799Z"
   },
   {
    "duration": 51,
    "start_time": "2023-08-09T18:10:02.840Z"
   },
   {
    "duration": 240,
    "start_time": "2023-08-09T18:10:02.894Z"
   },
   {
    "duration": 23,
    "start_time": "2023-08-09T18:10:03.136Z"
   },
   {
    "duration": 57,
    "start_time": "2023-08-09T18:10:03.161Z"
   },
   {
    "duration": 11,
    "start_time": "2023-08-09T18:10:03.220Z"
   },
   {
    "duration": 152,
    "start_time": "2023-08-09T18:10:03.233Z"
   },
   {
    "duration": 158,
    "start_time": "2023-08-09T18:10:03.386Z"
   },
   {
    "duration": 91,
    "start_time": "2023-08-09T18:10:03.546Z"
   },
   {
    "duration": 147,
    "start_time": "2023-08-09T18:10:03.639Z"
   },
   {
    "duration": 13,
    "start_time": "2023-08-09T18:10:03.788Z"
   },
   {
    "duration": 4,
    "start_time": "2023-08-09T18:10:03.803Z"
   },
   {
    "duration": 13,
    "start_time": "2023-08-09T18:10:03.809Z"
   },
   {
    "duration": 1572,
    "start_time": "2023-08-09T18:10:03.824Z"
   },
   {
    "duration": 13,
    "start_time": "2023-08-09T18:10:05.397Z"
   },
   {
    "duration": 54,
    "start_time": "2023-08-09T18:10:05.412Z"
   },
   {
    "duration": 277,
    "start_time": "2023-08-09T18:10:05.468Z"
   },
   {
    "duration": 87,
    "start_time": "2023-08-09T18:10:05.747Z"
   },
   {
    "duration": 212,
    "start_time": "2023-08-09T18:10:05.835Z"
   },
   {
    "duration": 12,
    "start_time": "2023-08-09T18:10:06.056Z"
   },
   {
    "duration": 24,
    "start_time": "2023-08-09T18:10:06.070Z"
   },
   {
    "duration": 31,
    "start_time": "2023-08-09T18:10:06.096Z"
   },
   {
    "duration": 24,
    "start_time": "2023-08-09T18:10:06.129Z"
   },
   {
    "duration": 91,
    "start_time": "2023-08-09T18:10:06.154Z"
   },
   {
    "duration": 0,
    "start_time": "2023-08-09T18:10:06.248Z"
   },
   {
    "duration": 0,
    "start_time": "2023-08-09T18:10:06.249Z"
   },
   {
    "duration": 0,
    "start_time": "2023-08-09T18:10:06.256Z"
   },
   {
    "duration": 0,
    "start_time": "2023-08-09T18:10:06.257Z"
   },
   {
    "duration": 0,
    "start_time": "2023-08-09T18:10:06.258Z"
   },
   {
    "duration": 0,
    "start_time": "2023-08-09T18:10:06.259Z"
   },
   {
    "duration": 0,
    "start_time": "2023-08-09T18:10:06.260Z"
   },
   {
    "duration": 0,
    "start_time": "2023-08-09T18:10:06.261Z"
   },
   {
    "duration": 0,
    "start_time": "2023-08-09T18:10:06.262Z"
   },
   {
    "duration": 0,
    "start_time": "2023-08-09T18:10:06.263Z"
   },
   {
    "duration": 0,
    "start_time": "2023-08-09T18:10:06.265Z"
   },
   {
    "duration": 0,
    "start_time": "2023-08-09T18:10:06.266Z"
   },
   {
    "duration": 0,
    "start_time": "2023-08-09T18:10:06.267Z"
   },
   {
    "duration": 0,
    "start_time": "2023-08-09T18:10:06.268Z"
   },
   {
    "duration": 0,
    "start_time": "2023-08-09T18:10:06.269Z"
   },
   {
    "duration": 0,
    "start_time": "2023-08-09T18:10:06.271Z"
   },
   {
    "duration": 0,
    "start_time": "2023-08-09T18:10:06.272Z"
   },
   {
    "duration": 0,
    "start_time": "2023-08-09T18:10:06.273Z"
   },
   {
    "duration": 0,
    "start_time": "2023-08-09T18:10:06.274Z"
   },
   {
    "duration": 0,
    "start_time": "2023-08-09T18:10:06.276Z"
   },
   {
    "duration": 0,
    "start_time": "2023-08-09T18:10:06.277Z"
   },
   {
    "duration": 0,
    "start_time": "2023-08-09T18:10:06.279Z"
   },
   {
    "duration": 0,
    "start_time": "2023-08-09T18:10:06.280Z"
   },
   {
    "duration": 0,
    "start_time": "2023-08-09T18:10:06.281Z"
   },
   {
    "duration": 0,
    "start_time": "2023-08-09T18:10:06.283Z"
   },
   {
    "duration": 0,
    "start_time": "2023-08-09T18:10:06.284Z"
   },
   {
    "duration": 0,
    "start_time": "2023-08-09T18:10:06.285Z"
   },
   {
    "duration": 0,
    "start_time": "2023-08-09T18:10:06.287Z"
   },
   {
    "duration": 0,
    "start_time": "2023-08-09T18:10:06.288Z"
   },
   {
    "duration": 0,
    "start_time": "2023-08-09T18:10:06.289Z"
   },
   {
    "duration": 0,
    "start_time": "2023-08-09T18:10:06.291Z"
   },
   {
    "duration": 0,
    "start_time": "2023-08-09T18:10:06.292Z"
   },
   {
    "duration": 9,
    "start_time": "2023-08-09T18:13:08.348Z"
   },
   {
    "duration": 19,
    "start_time": "2023-08-09T18:13:32.064Z"
   },
   {
    "duration": 10,
    "start_time": "2023-08-09T18:13:49.710Z"
   },
   {
    "duration": 8,
    "start_time": "2023-08-09T18:14:37.629Z"
   },
   {
    "duration": 17,
    "start_time": "2023-08-09T18:14:47.957Z"
   },
   {
    "duration": 9,
    "start_time": "2023-08-09T18:15:17.140Z"
   },
   {
    "duration": 117,
    "start_time": "2023-08-09T18:15:52.188Z"
   },
   {
    "duration": 29,
    "start_time": "2023-08-09T18:16:05.158Z"
   },
   {
    "duration": 14,
    "start_time": "2023-08-09T18:16:20.118Z"
   },
   {
    "duration": 1277,
    "start_time": "2023-08-09T18:16:41.453Z"
   },
   {
    "duration": 2,
    "start_time": "2023-08-09T18:16:42.733Z"
   },
   {
    "duration": 664,
    "start_time": "2023-08-09T18:16:42.737Z"
   },
   {
    "duration": 121,
    "start_time": "2023-08-09T18:16:43.403Z"
   },
   {
    "duration": 334,
    "start_time": "2023-08-09T18:16:43.526Z"
   },
   {
    "duration": 4,
    "start_time": "2023-08-09T18:16:43.862Z"
   },
   {
    "duration": 12,
    "start_time": "2023-08-09T18:16:43.868Z"
   },
   {
    "duration": 7,
    "start_time": "2023-08-09T18:16:43.881Z"
   },
   {
    "duration": 27,
    "start_time": "2023-08-09T18:16:43.890Z"
   },
   {
    "duration": 48,
    "start_time": "2023-08-09T18:16:43.956Z"
   },
   {
    "duration": 14,
    "start_time": "2023-08-09T18:16:44.005Z"
   },
   {
    "duration": 39,
    "start_time": "2023-08-09T18:16:44.021Z"
   },
   {
    "duration": 21,
    "start_time": "2023-08-09T18:16:44.062Z"
   },
   {
    "duration": 265,
    "start_time": "2023-08-09T18:16:44.085Z"
   },
   {
    "duration": 17,
    "start_time": "2023-08-09T18:16:44.352Z"
   },
   {
    "duration": 47,
    "start_time": "2023-08-09T18:16:44.371Z"
   },
   {
    "duration": 37,
    "start_time": "2023-08-09T18:16:44.420Z"
   },
   {
    "duration": 139,
    "start_time": "2023-08-09T18:16:44.459Z"
   },
   {
    "duration": 174,
    "start_time": "2023-08-09T18:16:44.600Z"
   },
   {
    "duration": 104,
    "start_time": "2023-08-09T18:16:44.776Z"
   },
   {
    "duration": 126,
    "start_time": "2023-08-09T18:16:44.882Z"
   },
   {
    "duration": 14,
    "start_time": "2023-08-09T18:16:45.010Z"
   },
   {
    "duration": 32,
    "start_time": "2023-08-09T18:16:45.026Z"
   },
   {
    "duration": 45,
    "start_time": "2023-08-09T18:16:45.060Z"
   },
   {
    "duration": 1563,
    "start_time": "2023-08-09T18:16:45.106Z"
   },
   {
    "duration": 14,
    "start_time": "2023-08-09T18:16:46.671Z"
   },
   {
    "duration": 44,
    "start_time": "2023-08-09T18:16:46.687Z"
   },
   {
    "duration": 295,
    "start_time": "2023-08-09T18:16:46.736Z"
   },
   {
    "duration": 94,
    "start_time": "2023-08-09T18:16:47.032Z"
   },
   {
    "duration": 238,
    "start_time": "2023-08-09T18:16:47.128Z"
   },
   {
    "duration": 17,
    "start_time": "2023-08-09T18:16:47.369Z"
   },
   {
    "duration": 36,
    "start_time": "2023-08-09T18:16:47.389Z"
   },
   {
    "duration": 23,
    "start_time": "2023-08-09T18:16:47.428Z"
   },
   {
    "duration": 22,
    "start_time": "2023-08-09T18:16:47.453Z"
   },
   {
    "duration": 13,
    "start_time": "2023-08-09T18:16:47.477Z"
   },
   {
    "duration": 9,
    "start_time": "2023-08-09T18:16:47.493Z"
   },
   {
    "duration": 60,
    "start_time": "2023-08-09T18:16:47.504Z"
   },
   {
    "duration": 6,
    "start_time": "2023-08-09T18:16:47.566Z"
   },
   {
    "duration": 492,
    "start_time": "2023-08-09T18:16:47.574Z"
   },
   {
    "duration": 13,
    "start_time": "2023-08-09T18:16:48.068Z"
   },
   {
    "duration": 206,
    "start_time": "2023-08-09T18:16:48.083Z"
   },
   {
    "duration": 0,
    "start_time": "2023-08-09T18:16:48.291Z"
   },
   {
    "duration": 0,
    "start_time": "2023-08-09T18:16:48.292Z"
   },
   {
    "duration": 0,
    "start_time": "2023-08-09T18:16:48.293Z"
   },
   {
    "duration": 0,
    "start_time": "2023-08-09T18:16:48.295Z"
   },
   {
    "duration": 0,
    "start_time": "2023-08-09T18:16:48.297Z"
   },
   {
    "duration": 0,
    "start_time": "2023-08-09T18:16:48.299Z"
   },
   {
    "duration": 0,
    "start_time": "2023-08-09T18:16:48.300Z"
   },
   {
    "duration": 0,
    "start_time": "2023-08-09T18:16:48.356Z"
   },
   {
    "duration": 0,
    "start_time": "2023-08-09T18:16:48.358Z"
   },
   {
    "duration": 0,
    "start_time": "2023-08-09T18:16:48.359Z"
   },
   {
    "duration": 0,
    "start_time": "2023-08-09T18:16:48.360Z"
   },
   {
    "duration": 0,
    "start_time": "2023-08-09T18:16:48.361Z"
   },
   {
    "duration": 0,
    "start_time": "2023-08-09T18:16:48.362Z"
   },
   {
    "duration": 0,
    "start_time": "2023-08-09T18:16:48.363Z"
   },
   {
    "duration": 0,
    "start_time": "2023-08-09T18:16:48.364Z"
   },
   {
    "duration": 0,
    "start_time": "2023-08-09T18:16:48.365Z"
   },
   {
    "duration": 0,
    "start_time": "2023-08-09T18:16:48.366Z"
   },
   {
    "duration": 0,
    "start_time": "2023-08-09T18:16:48.368Z"
   },
   {
    "duration": 0,
    "start_time": "2023-08-09T18:16:48.368Z"
   },
   {
    "duration": 0,
    "start_time": "2023-08-09T18:16:48.369Z"
   },
   {
    "duration": 0,
    "start_time": "2023-08-09T18:16:48.371Z"
   },
   {
    "duration": 0,
    "start_time": "2023-08-09T18:16:48.372Z"
   },
   {
    "duration": 0,
    "start_time": "2023-08-09T18:16:48.373Z"
   },
   {
    "duration": 0,
    "start_time": "2023-08-09T18:16:48.375Z"
   },
   {
    "duration": 0,
    "start_time": "2023-08-09T18:16:48.376Z"
   },
   {
    "duration": 0,
    "start_time": "2023-08-09T18:16:48.378Z"
   },
   {
    "duration": 0,
    "start_time": "2023-08-09T18:16:48.380Z"
   },
   {
    "duration": 0,
    "start_time": "2023-08-09T18:16:48.381Z"
   },
   {
    "duration": 0,
    "start_time": "2023-08-09T18:16:48.382Z"
   },
   {
    "duration": 0,
    "start_time": "2023-08-09T18:16:48.383Z"
   },
   {
    "duration": 0,
    "start_time": "2023-08-09T18:16:48.385Z"
   },
   {
    "duration": 0,
    "start_time": "2023-08-09T18:16:48.387Z"
   },
   {
    "duration": 13,
    "start_time": "2023-08-09T18:17:22.919Z"
   },
   {
    "duration": 4,
    "start_time": "2023-08-09T18:17:32.872Z"
   },
   {
    "duration": 1337,
    "start_time": "2023-08-09T18:17:37.831Z"
   },
   {
    "duration": 3,
    "start_time": "2023-08-09T18:17:39.170Z"
   },
   {
    "duration": 690,
    "start_time": "2023-08-09T18:17:39.175Z"
   },
   {
    "duration": 138,
    "start_time": "2023-08-09T18:17:39.867Z"
   },
   {
    "duration": 329,
    "start_time": "2023-08-09T18:17:40.007Z"
   },
   {
    "duration": 4,
    "start_time": "2023-08-09T18:17:40.338Z"
   },
   {
    "duration": 29,
    "start_time": "2023-08-09T18:17:40.343Z"
   },
   {
    "duration": 6,
    "start_time": "2023-08-09T18:17:40.374Z"
   },
   {
    "duration": 72,
    "start_time": "2023-08-09T18:17:40.382Z"
   },
   {
    "duration": 61,
    "start_time": "2023-08-09T18:17:40.456Z"
   },
   {
    "duration": 7,
    "start_time": "2023-08-09T18:17:40.519Z"
   },
   {
    "duration": 38,
    "start_time": "2023-08-09T18:17:40.528Z"
   },
   {
    "duration": 17,
    "start_time": "2023-08-09T18:17:40.568Z"
   },
   {
    "duration": 255,
    "start_time": "2023-08-09T18:17:40.590Z"
   },
   {
    "duration": 22,
    "start_time": "2023-08-09T18:17:40.847Z"
   },
   {
    "duration": 65,
    "start_time": "2023-08-09T18:17:40.871Z"
   },
   {
    "duration": 21,
    "start_time": "2023-08-09T18:17:40.938Z"
   },
   {
    "duration": 190,
    "start_time": "2023-08-09T18:17:40.961Z"
   },
   {
    "duration": 189,
    "start_time": "2023-08-09T18:17:41.158Z"
   },
   {
    "duration": 87,
    "start_time": "2023-08-09T18:17:41.349Z"
   },
   {
    "duration": 119,
    "start_time": "2023-08-09T18:17:41.438Z"
   },
   {
    "duration": 14,
    "start_time": "2023-08-09T18:17:41.559Z"
   },
   {
    "duration": 28,
    "start_time": "2023-08-09T18:17:41.574Z"
   },
   {
    "duration": 20,
    "start_time": "2023-08-09T18:17:41.604Z"
   },
   {
    "duration": 2067,
    "start_time": "2023-08-09T18:17:41.627Z"
   },
   {
    "duration": 67,
    "start_time": "2023-08-09T18:17:43.696Z"
   },
   {
    "duration": 100,
    "start_time": "2023-08-09T18:17:43.764Z"
   },
   {
    "duration": 628,
    "start_time": "2023-08-09T18:17:43.866Z"
   },
   {
    "duration": 180,
    "start_time": "2023-08-09T18:17:44.496Z"
   },
   {
    "duration": 233,
    "start_time": "2023-08-09T18:17:44.678Z"
   },
   {
    "duration": 12,
    "start_time": "2023-08-09T18:17:44.913Z"
   },
   {
    "duration": 22,
    "start_time": "2023-08-09T18:17:44.927Z"
   },
   {
    "duration": 23,
    "start_time": "2023-08-09T18:17:44.955Z"
   },
   {
    "duration": 20,
    "start_time": "2023-08-09T18:17:44.981Z"
   },
   {
    "duration": 14,
    "start_time": "2023-08-09T18:17:45.003Z"
   },
   {
    "duration": 52,
    "start_time": "2023-08-09T18:17:45.019Z"
   },
   {
    "duration": 64,
    "start_time": "2023-08-09T18:17:45.074Z"
   },
   {
    "duration": 43,
    "start_time": "2023-08-09T18:17:45.139Z"
   },
   {
    "duration": 25,
    "start_time": "2023-08-09T18:17:45.184Z"
   },
   {
    "duration": 301,
    "start_time": "2023-08-09T18:17:45.210Z"
   },
   {
    "duration": 14,
    "start_time": "2023-08-09T18:17:45.516Z"
   },
   {
    "duration": 175,
    "start_time": "2023-08-09T18:17:45.532Z"
   },
   {
    "duration": 0,
    "start_time": "2023-08-09T18:17:45.709Z"
   },
   {
    "duration": 0,
    "start_time": "2023-08-09T18:17:45.710Z"
   },
   {
    "duration": 0,
    "start_time": "2023-08-09T18:17:45.712Z"
   },
   {
    "duration": 0,
    "start_time": "2023-08-09T18:17:45.713Z"
   },
   {
    "duration": 0,
    "start_time": "2023-08-09T18:17:45.715Z"
   },
   {
    "duration": 0,
    "start_time": "2023-08-09T18:17:45.716Z"
   },
   {
    "duration": 1,
    "start_time": "2023-08-09T18:17:45.718Z"
   },
   {
    "duration": 0,
    "start_time": "2023-08-09T18:17:45.758Z"
   },
   {
    "duration": 0,
    "start_time": "2023-08-09T18:17:45.760Z"
   },
   {
    "duration": 0,
    "start_time": "2023-08-09T18:17:45.761Z"
   },
   {
    "duration": 0,
    "start_time": "2023-08-09T18:17:45.763Z"
   },
   {
    "duration": 0,
    "start_time": "2023-08-09T18:17:45.765Z"
   },
   {
    "duration": 0,
    "start_time": "2023-08-09T18:17:45.766Z"
   },
   {
    "duration": 0,
    "start_time": "2023-08-09T18:17:45.767Z"
   },
   {
    "duration": 0,
    "start_time": "2023-08-09T18:17:45.768Z"
   },
   {
    "duration": 0,
    "start_time": "2023-08-09T18:17:45.770Z"
   },
   {
    "duration": 0,
    "start_time": "2023-08-09T18:17:45.772Z"
   },
   {
    "duration": 0,
    "start_time": "2023-08-09T18:17:45.773Z"
   },
   {
    "duration": 0,
    "start_time": "2023-08-09T18:17:45.775Z"
   },
   {
    "duration": 0,
    "start_time": "2023-08-09T18:17:45.776Z"
   },
   {
    "duration": 0,
    "start_time": "2023-08-09T18:17:45.778Z"
   },
   {
    "duration": 0,
    "start_time": "2023-08-09T18:17:45.779Z"
   },
   {
    "duration": 0,
    "start_time": "2023-08-09T18:17:45.780Z"
   },
   {
    "duration": 0,
    "start_time": "2023-08-09T18:17:45.782Z"
   },
   {
    "duration": 0,
    "start_time": "2023-08-09T18:17:45.784Z"
   },
   {
    "duration": 0,
    "start_time": "2023-08-09T18:17:45.785Z"
   },
   {
    "duration": 0,
    "start_time": "2023-08-09T18:17:45.786Z"
   },
   {
    "duration": 0,
    "start_time": "2023-08-09T18:17:45.788Z"
   },
   {
    "duration": 0,
    "start_time": "2023-08-09T18:17:45.789Z"
   },
   {
    "duration": 0,
    "start_time": "2023-08-09T18:17:45.791Z"
   },
   {
    "duration": 0,
    "start_time": "2023-08-09T18:17:45.793Z"
   },
   {
    "duration": 0,
    "start_time": "2023-08-09T18:17:45.794Z"
   },
   {
    "duration": 15,
    "start_time": "2023-08-09T18:18:21.945Z"
   },
   {
    "duration": 16,
    "start_time": "2023-08-09T18:18:28.328Z"
   },
   {
    "duration": 15,
    "start_time": "2023-08-09T18:19:12.532Z"
   },
   {
    "duration": 4,
    "start_time": "2023-08-09T18:19:37.240Z"
   },
   {
    "duration": 86,
    "start_time": "2023-08-09T18:19:55.995Z"
   },
   {
    "duration": 1276,
    "start_time": "2023-08-09T18:20:13.037Z"
   },
   {
    "duration": 3,
    "start_time": "2023-08-09T18:20:14.316Z"
   },
   {
    "duration": 650,
    "start_time": "2023-08-09T18:20:14.322Z"
   },
   {
    "duration": 132,
    "start_time": "2023-08-09T18:20:14.975Z"
   },
   {
    "duration": 326,
    "start_time": "2023-08-09T18:20:15.109Z"
   },
   {
    "duration": 3,
    "start_time": "2023-08-09T18:20:15.437Z"
   },
   {
    "duration": 34,
    "start_time": "2023-08-09T18:20:15.442Z"
   },
   {
    "duration": 36,
    "start_time": "2023-08-09T18:20:15.477Z"
   },
   {
    "duration": 38,
    "start_time": "2023-08-09T18:20:15.514Z"
   },
   {
    "duration": 54,
    "start_time": "2023-08-09T18:20:15.554Z"
   },
   {
    "duration": 6,
    "start_time": "2023-08-09T18:20:15.609Z"
   },
   {
    "duration": 17,
    "start_time": "2023-08-09T18:20:15.617Z"
   },
   {
    "duration": 42,
    "start_time": "2023-08-09T18:20:15.635Z"
   },
   {
    "duration": 207,
    "start_time": "2023-08-09T18:20:15.680Z"
   },
   {
    "duration": 14,
    "start_time": "2023-08-09T18:20:15.889Z"
   },
   {
    "duration": 83,
    "start_time": "2023-08-09T18:20:15.904Z"
   },
   {
    "duration": 9,
    "start_time": "2023-08-09T18:20:15.989Z"
   },
   {
    "duration": 150,
    "start_time": "2023-08-09T18:20:16.000Z"
   },
   {
    "duration": 171,
    "start_time": "2023-08-09T18:20:16.152Z"
   },
   {
    "duration": 97,
    "start_time": "2023-08-09T18:20:16.325Z"
   },
   {
    "duration": 121,
    "start_time": "2023-08-09T18:20:16.424Z"
   },
   {
    "duration": 26,
    "start_time": "2023-08-09T18:20:16.547Z"
   },
   {
    "duration": 5,
    "start_time": "2023-08-09T18:20:16.575Z"
   },
   {
    "duration": 15,
    "start_time": "2023-08-09T18:20:16.582Z"
   },
   {
    "duration": 2904,
    "start_time": "2023-08-09T18:20:16.598Z"
   },
   {
    "duration": 12,
    "start_time": "2023-08-09T18:20:19.503Z"
   },
   {
    "duration": 64,
    "start_time": "2023-08-09T18:20:19.517Z"
   },
   {
    "duration": 270,
    "start_time": "2023-08-09T18:20:19.583Z"
   },
   {
    "duration": 81,
    "start_time": "2023-08-09T18:20:19.874Z"
   },
   {
    "duration": 233,
    "start_time": "2023-08-09T18:20:19.964Z"
   },
   {
    "duration": 13,
    "start_time": "2023-08-09T18:20:20.198Z"
   },
   {
    "duration": 8,
    "start_time": "2023-08-09T18:20:20.213Z"
   },
   {
    "duration": 44,
    "start_time": "2023-08-09T18:20:20.223Z"
   },
   {
    "duration": 21,
    "start_time": "2023-08-09T18:20:20.269Z"
   },
   {
    "duration": 13,
    "start_time": "2023-08-09T18:20:20.291Z"
   },
   {
    "duration": 7,
    "start_time": "2023-08-09T18:20:20.306Z"
   },
   {
    "duration": 17,
    "start_time": "2023-08-09T18:20:20.315Z"
   },
   {
    "duration": 40,
    "start_time": "2023-08-09T18:20:20.334Z"
   },
   {
    "duration": 20,
    "start_time": "2023-08-09T18:20:20.376Z"
   },
   {
    "duration": 4,
    "start_time": "2023-08-09T18:20:20.398Z"
   },
   {
    "duration": 119,
    "start_time": "2023-08-09T18:20:20.407Z"
   },
   {
    "duration": 41,
    "start_time": "2023-08-09T18:20:20.528Z"
   },
   {
    "duration": 19,
    "start_time": "2023-08-09T18:20:20.571Z"
   },
   {
    "duration": 116,
    "start_time": "2023-08-09T18:20:20.592Z"
   },
   {
    "duration": 0,
    "start_time": "2023-08-09T18:20:20.710Z"
   },
   {
    "duration": 0,
    "start_time": "2023-08-09T18:20:20.711Z"
   },
   {
    "duration": 0,
    "start_time": "2023-08-09T18:20:20.713Z"
   },
   {
    "duration": 0,
    "start_time": "2023-08-09T18:20:20.714Z"
   },
   {
    "duration": 0,
    "start_time": "2023-08-09T18:20:20.715Z"
   },
   {
    "duration": 0,
    "start_time": "2023-08-09T18:20:20.716Z"
   },
   {
    "duration": 0,
    "start_time": "2023-08-09T18:20:20.717Z"
   },
   {
    "duration": 0,
    "start_time": "2023-08-09T18:20:20.718Z"
   },
   {
    "duration": 1,
    "start_time": "2023-08-09T18:20:20.719Z"
   },
   {
    "duration": 0,
    "start_time": "2023-08-09T18:20:20.720Z"
   },
   {
    "duration": 0,
    "start_time": "2023-08-09T18:20:20.721Z"
   },
   {
    "duration": 0,
    "start_time": "2023-08-09T18:20:20.723Z"
   },
   {
    "duration": 0,
    "start_time": "2023-08-09T18:20:20.723Z"
   },
   {
    "duration": 0,
    "start_time": "2023-08-09T18:20:20.724Z"
   },
   {
    "duration": 0,
    "start_time": "2023-08-09T18:20:20.725Z"
   },
   {
    "duration": 0,
    "start_time": "2023-08-09T18:20:20.726Z"
   },
   {
    "duration": 0,
    "start_time": "2023-08-09T18:20:20.727Z"
   },
   {
    "duration": 0,
    "start_time": "2023-08-09T18:20:20.728Z"
   },
   {
    "duration": 0,
    "start_time": "2023-08-09T18:20:20.729Z"
   },
   {
    "duration": 0,
    "start_time": "2023-08-09T18:20:20.757Z"
   },
   {
    "duration": 0,
    "start_time": "2023-08-09T18:20:20.758Z"
   },
   {
    "duration": 0,
    "start_time": "2023-08-09T18:20:20.759Z"
   },
   {
    "duration": 0,
    "start_time": "2023-08-09T18:20:20.764Z"
   },
   {
    "duration": 0,
    "start_time": "2023-08-09T18:20:20.765Z"
   },
   {
    "duration": 0,
    "start_time": "2023-08-09T18:20:20.766Z"
   },
   {
    "duration": 0,
    "start_time": "2023-08-09T18:20:20.767Z"
   },
   {
    "duration": 0,
    "start_time": "2023-08-09T18:20:20.768Z"
   },
   {
    "duration": 0,
    "start_time": "2023-08-09T18:20:20.769Z"
   },
   {
    "duration": 0,
    "start_time": "2023-08-09T18:20:20.772Z"
   },
   {
    "duration": 0,
    "start_time": "2023-08-09T18:20:20.773Z"
   },
   {
    "duration": 0,
    "start_time": "2023-08-09T18:20:20.775Z"
   },
   {
    "duration": 0,
    "start_time": "2023-08-09T18:20:20.776Z"
   },
   {
    "duration": 15,
    "start_time": "2023-08-09T18:21:06.102Z"
   },
   {
    "duration": 18,
    "start_time": "2023-08-09T18:21:17.029Z"
   },
   {
    "duration": 24,
    "start_time": "2023-08-09T18:22:17.916Z"
   },
   {
    "duration": 14,
    "start_time": "2023-08-09T18:24:16.732Z"
   },
   {
    "duration": 82,
    "start_time": "2023-08-09T18:26:52.566Z"
   },
   {
    "duration": 1415,
    "start_time": "2023-08-09T18:27:02.693Z"
   },
   {
    "duration": 14,
    "start_time": "2023-08-09T18:27:21.183Z"
   },
   {
    "duration": 18,
    "start_time": "2023-08-09T18:28:00.924Z"
   },
   {
    "duration": 25,
    "start_time": "2023-08-09T18:29:18.284Z"
   },
   {
    "duration": 26,
    "start_time": "2023-08-09T18:29:23.135Z"
   },
   {
    "duration": 1366,
    "start_time": "2023-08-09T18:29:57.771Z"
   },
   {
    "duration": 84,
    "start_time": "2023-08-09T18:30:10.322Z"
   },
   {
    "duration": 89,
    "start_time": "2023-08-09T18:30:15.109Z"
   },
   {
    "duration": 1400,
    "start_time": "2023-08-09T18:30:17.751Z"
   },
   {
    "duration": 27,
    "start_time": "2023-08-09T18:30:29.340Z"
   },
   {
    "duration": 29,
    "start_time": "2023-08-09T18:30:58.543Z"
   },
   {
    "duration": 27,
    "start_time": "2023-08-09T18:31:02.809Z"
   },
   {
    "duration": 23,
    "start_time": "2023-08-09T18:31:10.939Z"
   },
   {
    "duration": 359,
    "start_time": "2023-08-09T18:31:33.748Z"
   },
   {
    "duration": 20,
    "start_time": "2023-08-09T18:31:37.358Z"
   },
   {
    "duration": 24,
    "start_time": "2023-08-09T18:31:45.742Z"
   },
   {
    "duration": 82,
    "start_time": "2023-08-09T18:43:25.513Z"
   },
   {
    "duration": 376,
    "start_time": "2023-08-09T18:44:43.137Z"
   },
   {
    "duration": 61,
    "start_time": "2023-08-09T18:47:11.614Z"
   },
   {
    "duration": 19,
    "start_time": "2023-08-09T18:48:08.921Z"
   },
   {
    "duration": 84,
    "start_time": "2023-08-09T18:50:53.380Z"
   },
   {
    "duration": 17,
    "start_time": "2023-08-09T18:50:57.774Z"
   },
   {
    "duration": 56,
    "start_time": "2023-08-09T18:51:01.496Z"
   },
   {
    "duration": 56,
    "start_time": "2023-08-09T18:51:23.678Z"
   },
   {
    "duration": 11,
    "start_time": "2023-08-09T18:52:26.398Z"
   },
   {
    "duration": 32,
    "start_time": "2023-08-09T18:58:16.921Z"
   },
   {
    "duration": 10,
    "start_time": "2023-08-09T18:58:38.235Z"
   },
   {
    "duration": 8,
    "start_time": "2023-08-09T18:58:46.826Z"
   },
   {
    "duration": 2,
    "start_time": "2023-08-09T19:02:15.932Z"
   },
   {
    "duration": 2,
    "start_time": "2023-08-09T19:02:24.025Z"
   },
   {
    "duration": 26,
    "start_time": "2023-08-09T19:02:38.597Z"
   },
   {
    "duration": 37,
    "start_time": "2023-08-09T19:04:59.478Z"
   },
   {
    "duration": 30,
    "start_time": "2023-08-09T19:05:51.750Z"
   },
   {
    "duration": 78,
    "start_time": "2023-08-09T19:06:18.239Z"
   },
   {
    "duration": 30,
    "start_time": "2023-08-09T19:06:43.746Z"
   },
   {
    "duration": 12,
    "start_time": "2023-08-09T19:06:55.912Z"
   },
   {
    "duration": 16,
    "start_time": "2023-08-09T19:07:02.977Z"
   },
   {
    "duration": 60,
    "start_time": "2023-08-09T19:07:08.052Z"
   },
   {
    "duration": 66,
    "start_time": "2023-08-09T19:07:27.690Z"
   },
   {
    "duration": 19,
    "start_time": "2023-08-09T19:07:45.154Z"
   },
   {
    "duration": 72,
    "start_time": "2023-08-09T19:07:58.400Z"
   },
   {
    "duration": 25,
    "start_time": "2023-08-09T19:22:41.802Z"
   },
   {
    "duration": 16,
    "start_time": "2023-08-09T19:23:48.404Z"
   },
   {
    "duration": 6,
    "start_time": "2023-08-09T19:25:19.033Z"
   },
   {
    "duration": 19,
    "start_time": "2023-08-09T19:26:39.428Z"
   },
   {
    "duration": 31,
    "start_time": "2023-08-09T19:28:03.821Z"
   },
   {
    "duration": 24,
    "start_time": "2023-08-09T19:28:07.469Z"
   },
   {
    "duration": 28,
    "start_time": "2023-08-09T19:28:30.866Z"
   },
   {
    "duration": 38,
    "start_time": "2023-08-09T19:28:48.518Z"
   },
   {
    "duration": 40,
    "start_time": "2023-08-09T19:28:54.264Z"
   },
   {
    "duration": 9,
    "start_time": "2023-08-09T19:32:27.496Z"
   },
   {
    "duration": 10,
    "start_time": "2023-08-09T19:33:14.900Z"
   },
   {
    "duration": 15,
    "start_time": "2023-08-09T19:33:18.556Z"
   },
   {
    "duration": 10,
    "start_time": "2023-08-09T19:33:20.604Z"
   },
   {
    "duration": 19,
    "start_time": "2023-08-09T19:34:28.904Z"
   },
   {
    "duration": 23,
    "start_time": "2023-08-09T19:34:45.597Z"
   },
   {
    "duration": 24,
    "start_time": "2023-08-09T19:34:53.338Z"
   },
   {
    "duration": 13,
    "start_time": "2023-08-09T19:35:07.538Z"
   },
   {
    "duration": 16,
    "start_time": "2023-08-09T19:35:14.359Z"
   },
   {
    "duration": 30,
    "start_time": "2023-08-09T19:35:34.670Z"
   },
   {
    "duration": 29,
    "start_time": "2023-08-09T19:35:49.831Z"
   },
   {
    "duration": 24,
    "start_time": "2023-08-09T19:36:05.360Z"
   },
   {
    "duration": 28,
    "start_time": "2023-08-09T19:37:25.763Z"
   },
   {
    "duration": 29,
    "start_time": "2023-08-09T19:37:31.600Z"
   },
   {
    "duration": 20,
    "start_time": "2023-08-09T19:37:55.804Z"
   },
   {
    "duration": 28,
    "start_time": "2023-08-09T19:38:17.137Z"
   },
   {
    "duration": 12,
    "start_time": "2023-08-09T19:38:33.250Z"
   },
   {
    "duration": 8,
    "start_time": "2023-08-09T19:38:44.943Z"
   },
   {
    "duration": 4,
    "start_time": "2023-08-09T19:39:49.959Z"
   },
   {
    "duration": 5,
    "start_time": "2023-08-09T19:43:08.265Z"
   },
   {
    "duration": 26,
    "start_time": "2023-08-09T19:43:21.116Z"
   },
   {
    "duration": 3,
    "start_time": "2023-08-09T19:44:10.440Z"
   },
   {
    "duration": 8,
    "start_time": "2023-08-09T19:44:11.701Z"
   },
   {
    "duration": 29,
    "start_time": "2023-08-09T19:44:30.423Z"
   },
   {
    "duration": 8,
    "start_time": "2023-08-09T19:45:21.309Z"
   },
   {
    "duration": 21,
    "start_time": "2023-08-09T19:45:34.294Z"
   },
   {
    "duration": 12,
    "start_time": "2023-08-09T19:46:26.015Z"
   },
   {
    "duration": 16,
    "start_time": "2023-08-09T19:46:33.818Z"
   },
   {
    "duration": 20,
    "start_time": "2023-08-09T19:46:36.836Z"
   },
   {
    "duration": 10,
    "start_time": "2023-08-09T19:46:47.292Z"
   },
   {
    "duration": 12,
    "start_time": "2023-08-09T19:47:06.965Z"
   },
   {
    "duration": 11,
    "start_time": "2023-08-09T19:47:09.522Z"
   },
   {
    "duration": 13,
    "start_time": "2023-08-09T19:47:52.295Z"
   },
   {
    "duration": 15,
    "start_time": "2023-08-09T19:48:31.146Z"
   },
   {
    "duration": 15,
    "start_time": "2023-08-09T19:48:34.459Z"
   },
   {
    "duration": 58,
    "start_time": "2023-08-09T19:48:35.646Z"
   },
   {
    "duration": 55,
    "start_time": "2023-08-09T19:49:01.023Z"
   },
   {
    "duration": 54,
    "start_time": "2023-08-09T19:49:08.561Z"
   },
   {
    "duration": 7,
    "start_time": "2023-08-09T19:58:33.015Z"
   },
   {
    "duration": 11,
    "start_time": "2023-08-09T19:59:33.019Z"
   },
   {
    "duration": 21,
    "start_time": "2023-08-09T19:59:44.836Z"
   },
   {
    "duration": 4,
    "start_time": "2023-08-09T20:00:05.951Z"
   },
   {
    "duration": 21,
    "start_time": "2023-08-09T20:00:12.099Z"
   },
   {
    "duration": 4,
    "start_time": "2023-08-09T20:00:25.299Z"
   },
   {
    "duration": 6,
    "start_time": "2023-08-09T20:00:29.543Z"
   },
   {
    "duration": 1536,
    "start_time": "2023-08-09T20:00:31.012Z"
   },
   {
    "duration": 7,
    "start_time": "2023-08-09T20:00:47.151Z"
   },
   {
    "duration": 6,
    "start_time": "2023-08-09T20:01:02.166Z"
   },
   {
    "duration": 19,
    "start_time": "2023-08-09T20:01:03.903Z"
   },
   {
    "duration": 3,
    "start_time": "2023-08-09T20:01:17.501Z"
   },
   {
    "duration": 7,
    "start_time": "2023-08-09T20:01:20.100Z"
   },
   {
    "duration": 8,
    "start_time": "2023-08-09T20:01:21.703Z"
   },
   {
    "duration": 7,
    "start_time": "2023-08-09T20:02:00.804Z"
   },
   {
    "duration": 20,
    "start_time": "2023-08-09T20:02:02.303Z"
   },
   {
    "duration": 6,
    "start_time": "2023-08-09T20:02:12.399Z"
   },
   {
    "duration": 7,
    "start_time": "2023-08-09T20:02:18.320Z"
   },
   {
    "duration": 8,
    "start_time": "2023-08-09T20:02:44.894Z"
   },
   {
    "duration": 9,
    "start_time": "2023-08-09T20:02:50.827Z"
   },
   {
    "duration": 8,
    "start_time": "2023-08-09T20:02:54.883Z"
   },
   {
    "duration": 8,
    "start_time": "2023-08-09T20:03:02.749Z"
   },
   {
    "duration": 6,
    "start_time": "2023-08-09T20:04:47.940Z"
   },
   {
    "duration": 8,
    "start_time": "2023-08-09T20:04:50.659Z"
   },
   {
    "duration": 7,
    "start_time": "2023-08-09T20:04:52.835Z"
   },
   {
    "duration": 7,
    "start_time": "2023-08-09T20:04:55.332Z"
   },
   {
    "duration": 1292,
    "start_time": "2023-08-09T20:22:23.361Z"
   },
   {
    "duration": 3,
    "start_time": "2023-08-09T20:22:24.655Z"
   },
   {
    "duration": 626,
    "start_time": "2023-08-09T20:22:24.659Z"
   },
   {
    "duration": 104,
    "start_time": "2023-08-09T20:22:25.287Z"
   },
   {
    "duration": 306,
    "start_time": "2023-08-09T20:22:25.393Z"
   },
   {
    "duration": 3,
    "start_time": "2023-08-09T20:22:25.701Z"
   },
   {
    "duration": 19,
    "start_time": "2023-08-09T20:22:25.706Z"
   },
   {
    "duration": 9,
    "start_time": "2023-08-09T20:22:25.726Z"
   },
   {
    "duration": 33,
    "start_time": "2023-08-09T20:22:25.736Z"
   },
   {
    "duration": 41,
    "start_time": "2023-08-09T20:22:25.771Z"
   },
   {
    "duration": 7,
    "start_time": "2023-08-09T20:22:25.814Z"
   },
   {
    "duration": 40,
    "start_time": "2023-08-09T20:22:25.822Z"
   },
   {
    "duration": 17,
    "start_time": "2023-08-09T20:22:25.864Z"
   },
   {
    "duration": 218,
    "start_time": "2023-08-09T20:22:25.885Z"
   },
   {
    "duration": 15,
    "start_time": "2023-08-09T20:22:26.104Z"
   },
   {
    "duration": 54,
    "start_time": "2023-08-09T20:22:26.121Z"
   },
   {
    "duration": 9,
    "start_time": "2023-08-09T20:22:26.176Z"
   },
   {
    "duration": 145,
    "start_time": "2023-08-09T20:22:26.187Z"
   },
   {
    "duration": 177,
    "start_time": "2023-08-09T20:22:26.334Z"
   },
   {
    "duration": 89,
    "start_time": "2023-08-09T20:22:26.512Z"
   },
   {
    "duration": 114,
    "start_time": "2023-08-09T20:22:26.603Z"
   },
   {
    "duration": 13,
    "start_time": "2023-08-09T20:22:26.720Z"
   },
   {
    "duration": 3,
    "start_time": "2023-08-09T20:22:26.735Z"
   },
   {
    "duration": 13,
    "start_time": "2023-08-09T20:22:26.755Z"
   },
   {
    "duration": 2488,
    "start_time": "2023-08-09T20:22:26.770Z"
   },
   {
    "duration": 13,
    "start_time": "2023-08-09T20:22:29.260Z"
   },
   {
    "duration": 91,
    "start_time": "2023-08-09T20:22:29.274Z"
   },
   {
    "duration": 318,
    "start_time": "2023-08-09T20:22:29.367Z"
   },
   {
    "duration": 91,
    "start_time": "2023-08-09T20:22:29.686Z"
   },
   {
    "duration": 203,
    "start_time": "2023-08-09T20:22:29.778Z"
   },
   {
    "duration": 11,
    "start_time": "2023-08-09T20:22:29.983Z"
   },
   {
    "duration": 10,
    "start_time": "2023-08-09T20:22:29.996Z"
   },
   {
    "duration": 48,
    "start_time": "2023-08-09T20:22:30.007Z"
   },
   {
    "duration": 20,
    "start_time": "2023-08-09T20:22:30.057Z"
   },
   {
    "duration": 20,
    "start_time": "2023-08-09T20:22:30.079Z"
   },
   {
    "duration": 9,
    "start_time": "2023-08-09T20:22:30.101Z"
   },
   {
    "duration": 36,
    "start_time": "2023-08-09T20:22:30.112Z"
   },
   {
    "duration": 28,
    "start_time": "2023-08-09T20:22:30.150Z"
   },
   {
    "duration": 41,
    "start_time": "2023-08-09T20:22:30.180Z"
   },
   {
    "duration": 19,
    "start_time": "2023-08-09T20:22:30.223Z"
   },
   {
    "duration": 118,
    "start_time": "2023-08-09T20:22:30.247Z"
   },
   {
    "duration": 28,
    "start_time": "2023-08-09T20:22:30.366Z"
   },
   {
    "duration": 47,
    "start_time": "2023-08-09T20:22:30.395Z"
   },
   {
    "duration": 53,
    "start_time": "2023-08-09T20:22:30.444Z"
   },
   {
    "duration": 31,
    "start_time": "2023-08-09T20:22:30.498Z"
   },
   {
    "duration": 68,
    "start_time": "2023-08-09T20:22:30.531Z"
   },
   {
    "duration": 25,
    "start_time": "2023-08-09T20:22:30.601Z"
   },
   {
    "duration": 378,
    "start_time": "2023-08-09T20:22:30.628Z"
   },
   {
    "duration": 15,
    "start_time": "2023-08-09T20:22:31.008Z"
   },
   {
    "duration": 110,
    "start_time": "2023-08-09T20:22:31.056Z"
   },
   {
    "duration": 17,
    "start_time": "2023-08-09T20:22:31.168Z"
   },
   {
    "duration": 39,
    "start_time": "2023-08-09T20:22:31.187Z"
   },
   {
    "duration": 50,
    "start_time": "2023-08-09T20:22:31.228Z"
   },
   {
    "duration": 8,
    "start_time": "2023-08-09T20:22:31.280Z"
   },
   {
    "duration": 57,
    "start_time": "2023-08-09T20:22:31.289Z"
   },
   {
    "duration": 30,
    "start_time": "2023-08-09T20:22:31.348Z"
   },
   {
    "duration": 33,
    "start_time": "2023-08-09T20:22:31.380Z"
   },
   {
    "duration": 85,
    "start_time": "2023-08-09T20:22:31.415Z"
   },
   {
    "duration": 0,
    "start_time": "2023-08-09T20:22:31.501Z"
   },
   {
    "duration": 0,
    "start_time": "2023-08-09T20:22:31.503Z"
   },
   {
    "duration": 0,
    "start_time": "2023-08-09T20:22:31.504Z"
   },
   {
    "duration": 0,
    "start_time": "2023-08-09T20:22:31.505Z"
   },
   {
    "duration": 0,
    "start_time": "2023-08-09T20:22:31.506Z"
   },
   {
    "duration": 0,
    "start_time": "2023-08-09T20:22:31.507Z"
   },
   {
    "duration": 0,
    "start_time": "2023-08-09T20:22:31.508Z"
   },
   {
    "duration": 0,
    "start_time": "2023-08-09T20:22:31.509Z"
   },
   {
    "duration": 0,
    "start_time": "2023-08-09T20:22:31.510Z"
   },
   {
    "duration": 0,
    "start_time": "2023-08-09T20:22:31.512Z"
   },
   {
    "duration": 0,
    "start_time": "2023-08-09T20:22:31.513Z"
   },
   {
    "duration": 0,
    "start_time": "2023-08-09T20:22:31.513Z"
   },
   {
    "duration": 0,
    "start_time": "2023-08-09T20:22:31.514Z"
   },
   {
    "duration": 0,
    "start_time": "2023-08-09T20:22:31.515Z"
   },
   {
    "duration": 0,
    "start_time": "2023-08-09T20:22:31.516Z"
   },
   {
    "duration": 0,
    "start_time": "2023-08-09T20:22:31.517Z"
   },
   {
    "duration": 0,
    "start_time": "2023-08-09T20:22:31.518Z"
   },
   {
    "duration": 0,
    "start_time": "2023-08-09T20:22:31.519Z"
   },
   {
    "duration": 0,
    "start_time": "2023-08-09T20:22:31.519Z"
   },
   {
    "duration": 0,
    "start_time": "2023-08-09T20:22:31.520Z"
   },
   {
    "duration": 0,
    "start_time": "2023-08-09T20:22:31.521Z"
   },
   {
    "duration": 0,
    "start_time": "2023-08-09T20:22:31.522Z"
   },
   {
    "duration": 0,
    "start_time": "2023-08-09T20:22:31.523Z"
   },
   {
    "duration": 0,
    "start_time": "2023-08-09T20:22:31.524Z"
   },
   {
    "duration": 0,
    "start_time": "2023-08-09T20:22:31.525Z"
   },
   {
    "duration": 0,
    "start_time": "2023-08-09T20:22:31.526Z"
   },
   {
    "duration": 0,
    "start_time": "2023-08-09T20:22:31.527Z"
   },
   {
    "duration": 0,
    "start_time": "2023-08-09T20:22:31.528Z"
   },
   {
    "duration": 0,
    "start_time": "2023-08-09T20:22:31.529Z"
   },
   {
    "duration": 0,
    "start_time": "2023-08-09T20:22:31.530Z"
   },
   {
    "duration": 0,
    "start_time": "2023-08-09T20:22:31.531Z"
   },
   {
    "duration": 0,
    "start_time": "2023-08-09T20:22:31.532Z"
   },
   {
    "duration": 0,
    "start_time": "2023-08-09T20:22:31.532Z"
   },
   {
    "duration": 0,
    "start_time": "2023-08-09T20:22:31.533Z"
   },
   {
    "duration": 0,
    "start_time": "2023-08-09T20:22:31.534Z"
   },
   {
    "duration": 0,
    "start_time": "2023-08-09T20:22:31.535Z"
   },
   {
    "duration": 0,
    "start_time": "2023-08-09T20:22:31.536Z"
   },
   {
    "duration": 0,
    "start_time": "2023-08-09T20:22:31.537Z"
   },
   {
    "duration": 0,
    "start_time": "2023-08-09T20:22:31.538Z"
   },
   {
    "duration": 0,
    "start_time": "2023-08-09T20:22:31.539Z"
   },
   {
    "duration": 0,
    "start_time": "2023-08-09T20:22:31.540Z"
   },
   {
    "duration": 0,
    "start_time": "2023-08-09T20:22:31.558Z"
   },
   {
    "duration": 0,
    "start_time": "2023-08-09T20:22:31.559Z"
   },
   {
    "duration": 0,
    "start_time": "2023-08-09T20:22:31.561Z"
   },
   {
    "duration": 0,
    "start_time": "2023-08-09T20:22:31.562Z"
   },
   {
    "duration": 0,
    "start_time": "2023-08-09T20:22:31.563Z"
   },
   {
    "duration": 0,
    "start_time": "2023-08-09T20:22:31.565Z"
   },
   {
    "duration": 3,
    "start_time": "2023-08-09T20:22:43.069Z"
   },
   {
    "duration": 127,
    "start_time": "2023-08-09T20:28:09.341Z"
   },
   {
    "duration": 1215,
    "start_time": "2023-08-09T20:28:14.070Z"
   },
   {
    "duration": 3,
    "start_time": "2023-08-09T20:28:15.286Z"
   },
   {
    "duration": 622,
    "start_time": "2023-08-09T20:28:15.291Z"
   },
   {
    "duration": 110,
    "start_time": "2023-08-09T20:28:15.914Z"
   },
   {
    "duration": 357,
    "start_time": "2023-08-09T20:28:16.026Z"
   },
   {
    "duration": 30,
    "start_time": "2023-08-09T20:28:16.385Z"
   },
   {
    "duration": 301,
    "start_time": "2023-08-09T20:28:16.417Z"
   },
   {
    "duration": 310,
    "start_time": "2023-08-09T20:28:16.719Z"
   },
   {
    "duration": 4,
    "start_time": "2023-08-09T20:28:17.031Z"
   },
   {
    "duration": 24,
    "start_time": "2023-08-09T20:28:17.037Z"
   },
   {
    "duration": 17,
    "start_time": "2023-08-09T20:28:17.063Z"
   },
   {
    "duration": 26,
    "start_time": "2023-08-09T20:28:17.081Z"
   },
   {
    "duration": 61,
    "start_time": "2023-08-09T20:28:17.109Z"
   },
   {
    "duration": 6,
    "start_time": "2023-08-09T20:28:17.173Z"
   },
   {
    "duration": 19,
    "start_time": "2023-08-09T20:28:17.181Z"
   },
   {
    "duration": 13,
    "start_time": "2023-08-09T20:28:17.202Z"
   },
   {
    "duration": 82,
    "start_time": "2023-08-09T20:28:17.217Z"
   },
   {
    "duration": 66,
    "start_time": "2023-08-09T20:28:17.301Z"
   },
   {
    "duration": 320,
    "start_time": "2023-08-09T20:28:17.373Z"
   },
   {
    "duration": 365,
    "start_time": "2023-08-09T20:28:17.694Z"
   },
   {
    "duration": 131,
    "start_time": "2023-08-09T20:28:18.064Z"
   },
   {
    "duration": 274,
    "start_time": "2023-08-09T20:28:18.197Z"
   },
   {
    "duration": 16,
    "start_time": "2023-08-09T20:28:18.473Z"
   },
   {
    "duration": 3,
    "start_time": "2023-08-09T20:28:18.491Z"
   },
   {
    "duration": 67,
    "start_time": "2023-08-09T20:28:18.496Z"
   },
   {
    "duration": 1986,
    "start_time": "2023-08-09T20:28:18.565Z"
   },
   {
    "duration": 20,
    "start_time": "2023-08-09T20:28:20.553Z"
   },
   {
    "duration": 40,
    "start_time": "2023-08-09T20:28:20.575Z"
   },
   {
    "duration": 291,
    "start_time": "2023-08-09T20:28:20.617Z"
   },
   {
    "duration": 100,
    "start_time": "2023-08-09T20:28:20.910Z"
   },
   {
    "duration": 209,
    "start_time": "2023-08-09T20:28:21.011Z"
   },
   {
    "duration": 13,
    "start_time": "2023-08-09T20:28:21.222Z"
   },
   {
    "duration": 32,
    "start_time": "2023-08-09T20:28:21.237Z"
   },
   {
    "duration": 18,
    "start_time": "2023-08-09T20:28:21.271Z"
   },
   {
    "duration": 19,
    "start_time": "2023-08-09T20:28:21.291Z"
   },
   {
    "duration": 16,
    "start_time": "2023-08-09T20:28:21.311Z"
   },
   {
    "duration": 7,
    "start_time": "2023-08-09T20:28:21.329Z"
   },
   {
    "duration": 36,
    "start_time": "2023-08-09T20:28:21.337Z"
   },
   {
    "duration": 11,
    "start_time": "2023-08-09T20:28:21.375Z"
   },
   {
    "duration": 13,
    "start_time": "2023-08-09T20:28:21.387Z"
   },
   {
    "duration": 4,
    "start_time": "2023-08-09T20:28:21.405Z"
   },
   {
    "duration": 106,
    "start_time": "2023-08-09T20:28:21.410Z"
   },
   {
    "duration": 26,
    "start_time": "2023-08-09T20:28:21.519Z"
   },
   {
    "duration": 27,
    "start_time": "2023-08-09T20:28:21.547Z"
   },
   {
    "duration": 31,
    "start_time": "2023-08-09T20:28:21.575Z"
   },
   {
    "duration": 12,
    "start_time": "2023-08-09T20:28:21.608Z"
   },
   {
    "duration": 30,
    "start_time": "2023-08-09T20:28:21.622Z"
   },
   {
    "duration": 20,
    "start_time": "2023-08-09T20:28:21.653Z"
   },
   {
    "duration": 340,
    "start_time": "2023-08-09T20:28:21.674Z"
   },
   {
    "duration": 46,
    "start_time": "2023-08-09T20:28:22.016Z"
   },
   {
    "duration": 106,
    "start_time": "2023-08-09T20:28:22.071Z"
   },
   {
    "duration": 4,
    "start_time": "2023-08-09T20:28:22.179Z"
   },
   {
    "duration": 14,
    "start_time": "2023-08-09T20:28:22.184Z"
   },
   {
    "duration": 22,
    "start_time": "2023-08-09T20:28:22.199Z"
   },
   {
    "duration": 7,
    "start_time": "2023-08-09T20:28:22.222Z"
   },
   {
    "duration": 43,
    "start_time": "2023-08-09T20:28:22.230Z"
   },
   {
    "duration": 13,
    "start_time": "2023-08-09T20:28:22.275Z"
   },
   {
    "duration": 12,
    "start_time": "2023-08-09T20:28:22.289Z"
   },
   {
    "duration": 4,
    "start_time": "2023-08-09T20:28:22.302Z"
   },
   {
    "duration": 11,
    "start_time": "2023-08-09T20:28:22.307Z"
   },
   {
    "duration": 7,
    "start_time": "2023-08-09T20:28:22.319Z"
   },
   {
    "duration": 44,
    "start_time": "2023-08-09T20:28:22.327Z"
   },
   {
    "duration": 6,
    "start_time": "2023-08-09T20:28:22.373Z"
   },
   {
    "duration": 9,
    "start_time": "2023-08-09T20:28:22.380Z"
   },
   {
    "duration": 155,
    "start_time": "2023-08-09T20:28:22.391Z"
   },
   {
    "duration": 0,
    "start_time": "2023-08-09T20:28:22.548Z"
   },
   {
    "duration": 0,
    "start_time": "2023-08-09T20:28:22.557Z"
   },
   {
    "duration": 0,
    "start_time": "2023-08-09T20:28:22.568Z"
   },
   {
    "duration": 1,
    "start_time": "2023-08-09T20:28:22.569Z"
   },
   {
    "duration": 0,
    "start_time": "2023-08-09T20:28:22.570Z"
   },
   {
    "duration": 0,
    "start_time": "2023-08-09T20:28:22.572Z"
   },
   {
    "duration": 0,
    "start_time": "2023-08-09T20:28:22.573Z"
   },
   {
    "duration": 0,
    "start_time": "2023-08-09T20:28:22.574Z"
   },
   {
    "duration": 0,
    "start_time": "2023-08-09T20:28:22.575Z"
   },
   {
    "duration": 0,
    "start_time": "2023-08-09T20:28:22.576Z"
   },
   {
    "duration": 0,
    "start_time": "2023-08-09T20:28:22.577Z"
   },
   {
    "duration": 0,
    "start_time": "2023-08-09T20:28:22.578Z"
   },
   {
    "duration": 0,
    "start_time": "2023-08-09T20:28:22.580Z"
   },
   {
    "duration": 0,
    "start_time": "2023-08-09T20:28:22.580Z"
   },
   {
    "duration": 0,
    "start_time": "2023-08-09T20:28:22.581Z"
   },
   {
    "duration": 0,
    "start_time": "2023-08-09T20:28:22.582Z"
   },
   {
    "duration": 0,
    "start_time": "2023-08-09T20:28:22.583Z"
   },
   {
    "duration": 0,
    "start_time": "2023-08-09T20:28:22.584Z"
   },
   {
    "duration": 0,
    "start_time": "2023-08-09T20:28:22.585Z"
   },
   {
    "duration": 0,
    "start_time": "2023-08-09T20:28:22.586Z"
   },
   {
    "duration": 0,
    "start_time": "2023-08-09T20:28:22.587Z"
   },
   {
    "duration": 0,
    "start_time": "2023-08-09T20:28:22.588Z"
   },
   {
    "duration": 0,
    "start_time": "2023-08-09T20:28:22.589Z"
   },
   {
    "duration": 0,
    "start_time": "2023-08-09T20:28:22.590Z"
   },
   {
    "duration": 0,
    "start_time": "2023-08-09T20:28:22.591Z"
   },
   {
    "duration": 0,
    "start_time": "2023-08-09T20:28:22.592Z"
   },
   {
    "duration": 0,
    "start_time": "2023-08-09T20:28:22.593Z"
   },
   {
    "duration": 0,
    "start_time": "2023-08-09T20:28:22.594Z"
   },
   {
    "duration": 0,
    "start_time": "2023-08-09T20:28:22.595Z"
   },
   {
    "duration": 0,
    "start_time": "2023-08-09T20:28:22.596Z"
   },
   {
    "duration": 0,
    "start_time": "2023-08-09T20:28:22.597Z"
   },
   {
    "duration": 0,
    "start_time": "2023-08-09T20:28:22.598Z"
   },
   {
    "duration": 0,
    "start_time": "2023-08-09T20:28:22.598Z"
   },
   {
    "duration": 0,
    "start_time": "2023-08-09T20:28:22.599Z"
   },
   {
    "duration": 0,
    "start_time": "2023-08-09T20:28:22.600Z"
   },
   {
    "duration": 0,
    "start_time": "2023-08-09T20:28:22.601Z"
   },
   {
    "duration": 1,
    "start_time": "2023-08-09T20:28:22.602Z"
   },
   {
    "duration": 0,
    "start_time": "2023-08-09T20:28:22.603Z"
   },
   {
    "duration": 0,
    "start_time": "2023-08-09T20:28:22.662Z"
   },
   {
    "duration": 0,
    "start_time": "2023-08-09T20:28:22.663Z"
   },
   {
    "duration": 0,
    "start_time": "2023-08-09T20:28:22.663Z"
   },
   {
    "duration": 14,
    "start_time": "2023-08-09T20:31:57.188Z"
   },
   {
    "duration": 8,
    "start_time": "2023-08-09T20:33:21.093Z"
   },
   {
    "duration": 12,
    "start_time": "2023-08-09T20:34:07.673Z"
   },
   {
    "duration": 27,
    "start_time": "2023-08-09T20:34:11.653Z"
   },
   {
    "duration": 1264,
    "start_time": "2023-08-09T20:34:21.113Z"
   },
   {
    "duration": 3,
    "start_time": "2023-08-09T20:34:22.379Z"
   },
   {
    "duration": 630,
    "start_time": "2023-08-09T20:34:22.383Z"
   },
   {
    "duration": 120,
    "start_time": "2023-08-09T20:34:23.014Z"
   },
   {
    "duration": 404,
    "start_time": "2023-08-09T20:34:23.136Z"
   },
   {
    "duration": 345,
    "start_time": "2023-08-09T20:34:23.542Z"
   },
   {
    "duration": 22,
    "start_time": "2023-08-09T20:34:23.889Z"
   },
   {
    "duration": 4,
    "start_time": "2023-08-09T20:34:23.913Z"
   },
   {
    "duration": 31,
    "start_time": "2023-08-09T20:34:23.919Z"
   },
   {
    "duration": 15,
    "start_time": "2023-08-09T20:34:23.952Z"
   },
   {
    "duration": 12,
    "start_time": "2023-08-09T20:34:23.970Z"
   },
   {
    "duration": 19,
    "start_time": "2023-08-09T20:34:23.984Z"
   },
   {
    "duration": 6,
    "start_time": "2023-08-09T20:34:24.004Z"
   },
   {
    "duration": 67,
    "start_time": "2023-08-09T20:34:24.013Z"
   },
   {
    "duration": 16,
    "start_time": "2023-08-09T20:34:24.082Z"
   },
   {
    "duration": 43,
    "start_time": "2023-08-09T20:34:24.100Z"
   },
   {
    "duration": 19,
    "start_time": "2023-08-09T20:34:24.157Z"
   },
   {
    "duration": 159,
    "start_time": "2023-08-09T20:34:24.177Z"
   },
   {
    "duration": 183,
    "start_time": "2023-08-09T20:34:24.337Z"
   },
   {
    "duration": 92,
    "start_time": "2023-08-09T20:34:24.522Z"
   },
   {
    "duration": 256,
    "start_time": "2023-08-09T20:34:24.615Z"
   },
   {
    "duration": 13,
    "start_time": "2023-08-09T20:34:24.873Z"
   },
   {
    "duration": 6,
    "start_time": "2023-08-09T20:34:24.888Z"
   },
   {
    "duration": 78,
    "start_time": "2023-08-09T20:34:24.896Z"
   },
   {
    "duration": 2518,
    "start_time": "2023-08-09T20:34:24.977Z"
   },
   {
    "duration": 11,
    "start_time": "2023-08-09T20:34:27.497Z"
   },
   {
    "duration": 100,
    "start_time": "2023-08-09T20:34:27.510Z"
   },
   {
    "duration": 297,
    "start_time": "2023-08-09T20:34:27.612Z"
   },
   {
    "duration": 98,
    "start_time": "2023-08-09T20:34:27.911Z"
   },
   {
    "duration": 234,
    "start_time": "2023-08-09T20:34:28.011Z"
   },
   {
    "duration": 31,
    "start_time": "2023-08-09T20:34:28.247Z"
   },
   {
    "duration": 8,
    "start_time": "2023-08-09T20:34:28.279Z"
   },
   {
    "duration": 19,
    "start_time": "2023-08-09T20:34:28.289Z"
   },
   {
    "duration": 18,
    "start_time": "2023-08-09T20:34:28.309Z"
   },
   {
    "duration": 34,
    "start_time": "2023-08-09T20:34:28.329Z"
   },
   {
    "duration": 13,
    "start_time": "2023-08-09T20:34:28.366Z"
   },
   {
    "duration": 18,
    "start_time": "2023-08-09T20:34:28.381Z"
   },
   {
    "duration": 15,
    "start_time": "2023-08-09T20:34:28.401Z"
   },
   {
    "duration": 49,
    "start_time": "2023-08-09T20:34:28.418Z"
   },
   {
    "duration": 5,
    "start_time": "2023-08-09T20:34:28.470Z"
   },
   {
    "duration": 98,
    "start_time": "2023-08-09T20:34:28.481Z"
   },
   {
    "duration": 26,
    "start_time": "2023-08-09T20:34:28.581Z"
   },
   {
    "duration": 13,
    "start_time": "2023-08-09T20:34:28.609Z"
   },
   {
    "duration": 46,
    "start_time": "2023-08-09T20:34:28.624Z"
   },
   {
    "duration": 12,
    "start_time": "2023-08-09T20:34:28.672Z"
   },
   {
    "duration": 23,
    "start_time": "2023-08-09T20:34:28.686Z"
   },
   {
    "duration": 12,
    "start_time": "2023-08-09T20:34:28.711Z"
   },
   {
    "duration": 460,
    "start_time": "2023-08-09T20:34:28.725Z"
   },
   {
    "duration": 16,
    "start_time": "2023-08-09T20:34:29.187Z"
   },
   {
    "duration": 158,
    "start_time": "2023-08-09T20:34:29.205Z"
   },
   {
    "duration": 6,
    "start_time": "2023-08-09T20:34:29.366Z"
   },
   {
    "duration": 12,
    "start_time": "2023-08-09T20:34:29.374Z"
   },
   {
    "duration": 24,
    "start_time": "2023-08-09T20:34:29.387Z"
   },
   {
    "duration": 6,
    "start_time": "2023-08-09T20:34:29.413Z"
   },
   {
    "duration": 43,
    "start_time": "2023-08-09T20:34:29.421Z"
   },
   {
    "duration": 15,
    "start_time": "2023-08-09T20:34:29.467Z"
   },
   {
    "duration": 12,
    "start_time": "2023-08-09T20:34:29.484Z"
   },
   {
    "duration": 11,
    "start_time": "2023-08-09T20:34:29.497Z"
   },
   {
    "duration": 13,
    "start_time": "2023-08-09T20:34:29.510Z"
   },
   {
    "duration": 15,
    "start_time": "2023-08-09T20:34:29.524Z"
   },
   {
    "duration": 15,
    "start_time": "2023-08-09T20:34:29.540Z"
   },
   {
    "duration": 12,
    "start_time": "2023-08-09T20:34:29.565Z"
   },
   {
    "duration": 28,
    "start_time": "2023-08-09T20:34:29.579Z"
   },
   {
    "duration": 161,
    "start_time": "2023-08-09T20:34:29.609Z"
   },
   {
    "duration": 0,
    "start_time": "2023-08-09T20:34:29.773Z"
   },
   {
    "duration": 0,
    "start_time": "2023-08-09T20:34:29.774Z"
   },
   {
    "duration": 0,
    "start_time": "2023-08-09T20:34:29.775Z"
   },
   {
    "duration": 0,
    "start_time": "2023-08-09T20:34:29.776Z"
   },
   {
    "duration": 0,
    "start_time": "2023-08-09T20:34:29.777Z"
   },
   {
    "duration": 0,
    "start_time": "2023-08-09T20:34:29.778Z"
   },
   {
    "duration": 0,
    "start_time": "2023-08-09T20:34:29.779Z"
   },
   {
    "duration": 0,
    "start_time": "2023-08-09T20:34:29.780Z"
   },
   {
    "duration": 0,
    "start_time": "2023-08-09T20:34:29.781Z"
   },
   {
    "duration": 0,
    "start_time": "2023-08-09T20:34:29.782Z"
   },
   {
    "duration": 0,
    "start_time": "2023-08-09T20:34:29.783Z"
   },
   {
    "duration": 0,
    "start_time": "2023-08-09T20:34:29.784Z"
   },
   {
    "duration": 0,
    "start_time": "2023-08-09T20:34:29.785Z"
   },
   {
    "duration": 0,
    "start_time": "2023-08-09T20:34:29.786Z"
   },
   {
    "duration": 0,
    "start_time": "2023-08-09T20:34:29.787Z"
   },
   {
    "duration": 0,
    "start_time": "2023-08-09T20:34:29.788Z"
   },
   {
    "duration": 0,
    "start_time": "2023-08-09T20:34:29.789Z"
   },
   {
    "duration": 0,
    "start_time": "2023-08-09T20:34:29.790Z"
   },
   {
    "duration": 0,
    "start_time": "2023-08-09T20:34:29.791Z"
   },
   {
    "duration": 0,
    "start_time": "2023-08-09T20:34:29.792Z"
   },
   {
    "duration": 0,
    "start_time": "2023-08-09T20:34:29.794Z"
   },
   {
    "duration": 0,
    "start_time": "2023-08-09T20:34:29.795Z"
   },
   {
    "duration": 0,
    "start_time": "2023-08-09T20:34:29.796Z"
   },
   {
    "duration": 0,
    "start_time": "2023-08-09T20:34:29.798Z"
   },
   {
    "duration": 0,
    "start_time": "2023-08-09T20:34:29.799Z"
   },
   {
    "duration": 0,
    "start_time": "2023-08-09T20:34:29.800Z"
   },
   {
    "duration": 0,
    "start_time": "2023-08-09T20:34:29.801Z"
   },
   {
    "duration": 0,
    "start_time": "2023-08-09T20:34:29.802Z"
   },
   {
    "duration": 0,
    "start_time": "2023-08-09T20:34:29.803Z"
   },
   {
    "duration": 0,
    "start_time": "2023-08-09T20:34:29.804Z"
   },
   {
    "duration": 0,
    "start_time": "2023-08-09T20:34:29.805Z"
   },
   {
    "duration": 0,
    "start_time": "2023-08-09T20:34:29.806Z"
   },
   {
    "duration": 0,
    "start_time": "2023-08-09T20:34:29.807Z"
   },
   {
    "duration": 0,
    "start_time": "2023-08-09T20:34:29.808Z"
   },
   {
    "duration": 0,
    "start_time": "2023-08-09T20:34:29.860Z"
   },
   {
    "duration": 0,
    "start_time": "2023-08-09T20:34:29.862Z"
   },
   {
    "duration": 0,
    "start_time": "2023-08-09T20:34:29.863Z"
   },
   {
    "duration": 0,
    "start_time": "2023-08-09T20:34:29.864Z"
   },
   {
    "duration": 0,
    "start_time": "2023-08-09T20:34:29.865Z"
   },
   {
    "duration": 0,
    "start_time": "2023-08-09T20:34:29.866Z"
   },
   {
    "duration": 0,
    "start_time": "2023-08-09T20:34:29.867Z"
   },
   {
    "duration": 88,
    "start_time": "2023-08-09T20:36:58.484Z"
   },
   {
    "duration": 4,
    "start_time": "2023-08-09T20:37:04.180Z"
   },
   {
    "duration": 25,
    "start_time": "2023-08-09T20:39:21.980Z"
   },
   {
    "duration": 19,
    "start_time": "2023-08-09T20:40:55.699Z"
   },
   {
    "duration": 3,
    "start_time": "2023-08-09T20:40:57.401Z"
   },
   {
    "duration": 20,
    "start_time": "2023-08-09T20:41:04.282Z"
   },
   {
    "duration": 167,
    "start_time": "2023-08-09T20:44:39.704Z"
   },
   {
    "duration": 69,
    "start_time": "2023-08-09T20:44:56.262Z"
   },
   {
    "duration": 85,
    "start_time": "2023-08-09T20:45:05.604Z"
   },
   {
    "duration": 32,
    "start_time": "2023-08-09T20:45:10.382Z"
   },
   {
    "duration": 1212,
    "start_time": "2023-08-09T20:45:42.038Z"
   },
   {
    "duration": 9,
    "start_time": "2023-08-09T20:45:43.255Z"
   },
   {
    "duration": 627,
    "start_time": "2023-08-09T20:45:43.273Z"
   },
   {
    "duration": 119,
    "start_time": "2023-08-09T20:45:43.902Z"
   },
   {
    "duration": 388,
    "start_time": "2023-08-09T20:45:44.023Z"
   },
   {
    "duration": 316,
    "start_time": "2023-08-09T20:45:44.413Z"
   },
   {
    "duration": 39,
    "start_time": "2023-08-09T20:45:44.731Z"
   },
   {
    "duration": 4,
    "start_time": "2023-08-09T20:45:44.772Z"
   },
   {
    "duration": 14,
    "start_time": "2023-08-09T20:45:44.777Z"
   },
   {
    "duration": 6,
    "start_time": "2023-08-09T20:45:44.793Z"
   },
   {
    "duration": 14,
    "start_time": "2023-08-09T20:45:44.801Z"
   },
   {
    "duration": 48,
    "start_time": "2023-08-09T20:45:44.817Z"
   },
   {
    "duration": 38,
    "start_time": "2023-08-09T20:45:44.867Z"
   },
   {
    "duration": 17,
    "start_time": "2023-08-09T20:45:44.908Z"
   },
   {
    "duration": 20,
    "start_time": "2023-08-09T20:45:44.926Z"
   },
   {
    "duration": 141,
    "start_time": "2023-08-09T20:45:44.948Z"
   },
   {
    "duration": 152,
    "start_time": "2023-08-09T20:45:45.090Z"
   },
   {
    "duration": 93,
    "start_time": "2023-08-09T20:45:45.244Z"
   },
   {
    "duration": 63,
    "start_time": "2023-08-09T20:45:45.339Z"
   },
   {
    "duration": 102,
    "start_time": "2023-08-09T20:45:45.404Z"
   },
   {
    "duration": 12,
    "start_time": "2023-08-09T20:45:45.507Z"
   },
   {
    "duration": 19,
    "start_time": "2023-08-09T20:45:45.521Z"
   },
   {
    "duration": 36,
    "start_time": "2023-08-09T20:45:45.542Z"
   },
   {
    "duration": 2112,
    "start_time": "2023-08-09T20:45:45.580Z"
   },
   {
    "duration": 11,
    "start_time": "2023-08-09T20:45:47.693Z"
   },
   {
    "duration": 108,
    "start_time": "2023-08-09T20:45:47.760Z"
   },
   {
    "duration": 621,
    "start_time": "2023-08-09T20:45:47.870Z"
   },
   {
    "duration": 197,
    "start_time": "2023-08-09T20:45:48.492Z"
   },
   {
    "duration": 287,
    "start_time": "2023-08-09T20:45:48.690Z"
   },
   {
    "duration": 15,
    "start_time": "2023-08-09T20:45:48.979Z"
   },
   {
    "duration": 19,
    "start_time": "2023-08-09T20:45:48.996Z"
   },
   {
    "duration": 20,
    "start_time": "2023-08-09T20:45:49.018Z"
   },
   {
    "duration": 42,
    "start_time": "2023-08-09T20:45:49.040Z"
   },
   {
    "duration": 19,
    "start_time": "2023-08-09T20:45:49.085Z"
   },
   {
    "duration": 30,
    "start_time": "2023-08-09T20:45:49.106Z"
   },
   {
    "duration": 31,
    "start_time": "2023-08-09T20:45:49.138Z"
   },
   {
    "duration": 12,
    "start_time": "2023-08-09T20:45:49.171Z"
   },
   {
    "duration": 24,
    "start_time": "2023-08-09T20:45:49.185Z"
   },
   {
    "duration": 3,
    "start_time": "2023-08-09T20:45:49.211Z"
   },
   {
    "duration": 81,
    "start_time": "2023-08-09T20:45:49.216Z"
   },
   {
    "duration": 27,
    "start_time": "2023-08-09T20:45:49.303Z"
   },
   {
    "duration": 37,
    "start_time": "2023-08-09T20:45:49.332Z"
   },
   {
    "duration": 46,
    "start_time": "2023-08-09T20:45:49.372Z"
   },
   {
    "duration": 59,
    "start_time": "2023-08-09T20:45:49.420Z"
   },
   {
    "duration": 120,
    "start_time": "2023-08-09T20:45:49.481Z"
   },
   {
    "duration": 11,
    "start_time": "2023-08-09T20:45:49.603Z"
   },
   {
    "duration": 339,
    "start_time": "2023-08-09T20:45:49.615Z"
   },
   {
    "duration": 19,
    "start_time": "2023-08-09T20:45:49.956Z"
   },
   {
    "duration": 107,
    "start_time": "2023-08-09T20:45:49.977Z"
   },
   {
    "duration": 4,
    "start_time": "2023-08-09T20:45:50.085Z"
   },
   {
    "duration": 15,
    "start_time": "2023-08-09T20:45:50.091Z"
   },
   {
    "duration": 61,
    "start_time": "2023-08-09T20:45:50.108Z"
   },
   {
    "duration": 7,
    "start_time": "2023-08-09T20:45:50.170Z"
   },
   {
    "duration": 22,
    "start_time": "2023-08-09T20:45:50.179Z"
   },
   {
    "duration": 13,
    "start_time": "2023-08-09T20:45:50.202Z"
   },
   {
    "duration": 10,
    "start_time": "2023-08-09T20:45:50.217Z"
   },
   {
    "duration": 34,
    "start_time": "2023-08-09T20:45:50.229Z"
   },
   {
    "duration": 8,
    "start_time": "2023-08-09T20:45:50.270Z"
   },
   {
    "duration": 9,
    "start_time": "2023-08-09T20:45:50.280Z"
   },
   {
    "duration": 17,
    "start_time": "2023-08-09T20:45:50.290Z"
   },
   {
    "duration": 15,
    "start_time": "2023-08-09T20:45:50.308Z"
   },
   {
    "duration": 18,
    "start_time": "2023-08-09T20:45:50.325Z"
   },
   {
    "duration": 157,
    "start_time": "2023-08-09T20:45:50.345Z"
   },
   {
    "duration": 0,
    "start_time": "2023-08-09T20:45:50.504Z"
   },
   {
    "duration": 0,
    "start_time": "2023-08-09T20:45:50.505Z"
   },
   {
    "duration": 0,
    "start_time": "2023-08-09T20:45:50.506Z"
   },
   {
    "duration": 0,
    "start_time": "2023-08-09T20:45:50.507Z"
   },
   {
    "duration": 0,
    "start_time": "2023-08-09T20:45:50.508Z"
   },
   {
    "duration": 0,
    "start_time": "2023-08-09T20:45:50.509Z"
   },
   {
    "duration": 0,
    "start_time": "2023-08-09T20:45:50.510Z"
   },
   {
    "duration": 0,
    "start_time": "2023-08-09T20:45:50.511Z"
   },
   {
    "duration": 0,
    "start_time": "2023-08-09T20:45:50.512Z"
   },
   {
    "duration": 0,
    "start_time": "2023-08-09T20:45:50.513Z"
   },
   {
    "duration": 0,
    "start_time": "2023-08-09T20:45:50.514Z"
   },
   {
    "duration": 0,
    "start_time": "2023-08-09T20:45:50.515Z"
   },
   {
    "duration": 0,
    "start_time": "2023-08-09T20:45:50.516Z"
   },
   {
    "duration": 0,
    "start_time": "2023-08-09T20:45:50.517Z"
   },
   {
    "duration": 0,
    "start_time": "2023-08-09T20:45:50.519Z"
   },
   {
    "duration": 0,
    "start_time": "2023-08-09T20:45:50.520Z"
   },
   {
    "duration": 0,
    "start_time": "2023-08-09T20:45:50.520Z"
   },
   {
    "duration": 0,
    "start_time": "2023-08-09T20:45:50.522Z"
   },
   {
    "duration": 0,
    "start_time": "2023-08-09T20:45:50.522Z"
   },
   {
    "duration": 0,
    "start_time": "2023-08-09T20:45:50.523Z"
   },
   {
    "duration": 0,
    "start_time": "2023-08-09T20:45:50.524Z"
   },
   {
    "duration": 0,
    "start_time": "2023-08-09T20:45:50.525Z"
   },
   {
    "duration": 0,
    "start_time": "2023-08-09T20:45:50.564Z"
   },
   {
    "duration": 0,
    "start_time": "2023-08-09T20:45:50.565Z"
   },
   {
    "duration": 0,
    "start_time": "2023-08-09T20:45:50.565Z"
   },
   {
    "duration": 0,
    "start_time": "2023-08-09T20:45:50.566Z"
   },
   {
    "duration": 0,
    "start_time": "2023-08-09T20:45:50.567Z"
   },
   {
    "duration": 0,
    "start_time": "2023-08-09T20:45:50.567Z"
   },
   {
    "duration": 0,
    "start_time": "2023-08-09T20:45:50.568Z"
   },
   {
    "duration": 0,
    "start_time": "2023-08-09T20:45:50.570Z"
   },
   {
    "duration": 0,
    "start_time": "2023-08-09T20:45:50.571Z"
   },
   {
    "duration": 0,
    "start_time": "2023-08-09T20:45:50.573Z"
   },
   {
    "duration": 0,
    "start_time": "2023-08-09T20:45:50.573Z"
   },
   {
    "duration": 0,
    "start_time": "2023-08-09T20:45:50.574Z"
   },
   {
    "duration": 0,
    "start_time": "2023-08-09T20:45:50.575Z"
   },
   {
    "duration": 0,
    "start_time": "2023-08-09T20:45:50.576Z"
   },
   {
    "duration": 0,
    "start_time": "2023-08-09T20:45:50.577Z"
   },
   {
    "duration": 0,
    "start_time": "2023-08-09T20:45:50.578Z"
   },
   {
    "duration": 0,
    "start_time": "2023-08-09T20:45:50.579Z"
   },
   {
    "duration": 0,
    "start_time": "2023-08-09T20:45:50.580Z"
   },
   {
    "duration": 0,
    "start_time": "2023-08-09T20:45:50.581Z"
   },
   {
    "duration": 5,
    "start_time": "2023-08-09T20:47:19.484Z"
   },
   {
    "duration": 45,
    "start_time": "2023-08-09T20:47:40.541Z"
   },
   {
    "duration": 1561,
    "start_time": "2023-08-09T20:47:42.777Z"
   },
   {
    "duration": 5,
    "start_time": "2023-08-09T20:47:48.533Z"
   },
   {
    "duration": 19,
    "start_time": "2023-08-09T20:49:49.073Z"
   },
   {
    "duration": 302,
    "start_time": "2023-08-09T20:52:46.245Z"
   },
   {
    "duration": 227,
    "start_time": "2023-08-09T20:52:50.041Z"
   },
   {
    "duration": 1318,
    "start_time": "2023-08-09T21:01:00.551Z"
   },
   {
    "duration": 3,
    "start_time": "2023-08-09T21:01:01.872Z"
   },
   {
    "duration": 764,
    "start_time": "2023-08-09T21:01:01.876Z"
   },
   {
    "duration": 131,
    "start_time": "2023-08-09T21:01:02.642Z"
   },
   {
    "duration": 366,
    "start_time": "2023-08-09T21:01:02.776Z"
   },
   {
    "duration": 353,
    "start_time": "2023-08-09T21:01:03.144Z"
   },
   {
    "duration": 21,
    "start_time": "2023-08-09T21:01:03.499Z"
   },
   {
    "duration": 21,
    "start_time": "2023-08-09T21:01:03.521Z"
   },
   {
    "duration": 24,
    "start_time": "2023-08-09T21:01:03.544Z"
   },
   {
    "duration": 21,
    "start_time": "2023-08-09T21:01:03.570Z"
   },
   {
    "duration": 12,
    "start_time": "2023-08-09T21:01:03.592Z"
   },
   {
    "duration": 35,
    "start_time": "2023-08-09T21:01:03.605Z"
   },
   {
    "duration": 29,
    "start_time": "2023-08-09T21:01:03.641Z"
   },
   {
    "duration": 3,
    "start_time": "2023-08-09T21:01:03.675Z"
   },
   {
    "duration": 24,
    "start_time": "2023-08-09T21:01:03.679Z"
   },
   {
    "duration": 150,
    "start_time": "2023-08-09T21:01:03.705Z"
   },
   {
    "duration": 152,
    "start_time": "2023-08-09T21:01:03.866Z"
   },
   {
    "duration": 99,
    "start_time": "2023-08-09T21:01:04.020Z"
   },
   {
    "duration": 64,
    "start_time": "2023-08-09T21:01:04.121Z"
   },
   {
    "duration": 38,
    "start_time": "2023-08-09T21:01:04.187Z"
   },
   {
    "duration": 14,
    "start_time": "2023-08-09T21:01:04.227Z"
   },
   {
    "duration": 43,
    "start_time": "2023-08-09T21:01:04.258Z"
   },
   {
    "duration": 1531,
    "start_time": "2023-08-09T21:01:04.303Z"
   },
   {
    "duration": 57,
    "start_time": "2023-08-09T21:01:05.836Z"
   },
   {
    "duration": 473,
    "start_time": "2023-08-09T21:01:05.895Z"
   },
   {
    "duration": 199,
    "start_time": "2023-08-09T21:01:06.370Z"
   },
   {
    "duration": 415,
    "start_time": "2023-08-09T21:01:06.571Z"
   },
   {
    "duration": 7,
    "start_time": "2023-08-09T21:01:06.988Z"
   },
   {
    "duration": 80,
    "start_time": "2023-08-09T21:01:06.996Z"
   },
   {
    "duration": 18,
    "start_time": "2023-08-09T21:01:07.078Z"
   },
   {
    "duration": 73,
    "start_time": "2023-08-09T21:01:07.098Z"
   },
   {
    "duration": 51,
    "start_time": "2023-08-09T21:01:07.173Z"
   },
   {
    "duration": 32,
    "start_time": "2023-08-09T21:01:07.257Z"
   },
   {
    "duration": 12,
    "start_time": "2023-08-09T21:01:07.290Z"
   },
   {
    "duration": 75,
    "start_time": "2023-08-09T21:01:07.303Z"
   },
   {
    "duration": 21,
    "start_time": "2023-08-09T21:01:07.381Z"
   },
   {
    "duration": 269,
    "start_time": "2023-08-09T21:01:07.403Z"
   },
   {
    "duration": 0,
    "start_time": "2023-08-09T21:01:07.676Z"
   },
   {
    "duration": 0,
    "start_time": "2023-08-09T21:01:07.677Z"
   },
   {
    "duration": 0,
    "start_time": "2023-08-09T21:01:07.678Z"
   },
   {
    "duration": 0,
    "start_time": "2023-08-09T21:01:07.679Z"
   },
   {
    "duration": 0,
    "start_time": "2023-08-09T21:01:07.680Z"
   },
   {
    "duration": 1,
    "start_time": "2023-08-09T21:01:07.680Z"
   },
   {
    "duration": 0,
    "start_time": "2023-08-09T21:01:07.681Z"
   },
   {
    "duration": 0,
    "start_time": "2023-08-09T21:01:07.682Z"
   },
   {
    "duration": 1,
    "start_time": "2023-08-09T21:01:07.683Z"
   },
   {
    "duration": 0,
    "start_time": "2023-08-09T21:01:07.684Z"
   },
   {
    "duration": 0,
    "start_time": "2023-08-09T21:01:07.685Z"
   },
   {
    "duration": 0,
    "start_time": "2023-08-09T21:01:07.686Z"
   },
   {
    "duration": 0,
    "start_time": "2023-08-09T21:01:07.687Z"
   },
   {
    "duration": 0,
    "start_time": "2023-08-09T21:01:07.688Z"
   },
   {
    "duration": 0,
    "start_time": "2023-08-09T21:01:07.689Z"
   },
   {
    "duration": 0,
    "start_time": "2023-08-09T21:01:07.690Z"
   },
   {
    "duration": 0,
    "start_time": "2023-08-09T21:01:07.691Z"
   },
   {
    "duration": 0,
    "start_time": "2023-08-09T21:01:07.692Z"
   },
   {
    "duration": 0,
    "start_time": "2023-08-09T21:01:07.692Z"
   },
   {
    "duration": 0,
    "start_time": "2023-08-09T21:01:07.693Z"
   },
   {
    "duration": 0,
    "start_time": "2023-08-09T21:01:07.694Z"
   },
   {
    "duration": 0,
    "start_time": "2023-08-09T21:01:07.695Z"
   },
   {
    "duration": 0,
    "start_time": "2023-08-09T21:01:07.696Z"
   },
   {
    "duration": 0,
    "start_time": "2023-08-09T21:01:07.697Z"
   },
   {
    "duration": 0,
    "start_time": "2023-08-09T21:01:07.697Z"
   },
   {
    "duration": 0,
    "start_time": "2023-08-09T21:01:07.699Z"
   },
   {
    "duration": 0,
    "start_time": "2023-08-09T21:01:07.699Z"
   },
   {
    "duration": 0,
    "start_time": "2023-08-09T21:01:07.701Z"
   },
   {
    "duration": 0,
    "start_time": "2023-08-09T21:01:07.760Z"
   },
   {
    "duration": 0,
    "start_time": "2023-08-09T21:01:07.761Z"
   },
   {
    "duration": 0,
    "start_time": "2023-08-09T21:01:07.762Z"
   },
   {
    "duration": 0,
    "start_time": "2023-08-09T21:01:07.763Z"
   },
   {
    "duration": 0,
    "start_time": "2023-08-09T21:01:07.770Z"
   },
   {
    "duration": 0,
    "start_time": "2023-08-09T21:01:07.772Z"
   },
   {
    "duration": 0,
    "start_time": "2023-08-09T21:01:07.774Z"
   },
   {
    "duration": 0,
    "start_time": "2023-08-09T21:01:07.775Z"
   },
   {
    "duration": 0,
    "start_time": "2023-08-09T21:01:07.776Z"
   },
   {
    "duration": 0,
    "start_time": "2023-08-09T21:01:07.777Z"
   },
   {
    "duration": 0,
    "start_time": "2023-08-09T21:01:07.778Z"
   },
   {
    "duration": 0,
    "start_time": "2023-08-09T21:01:07.779Z"
   },
   {
    "duration": 0,
    "start_time": "2023-08-09T21:01:07.780Z"
   },
   {
    "duration": 0,
    "start_time": "2023-08-09T21:01:07.781Z"
   },
   {
    "duration": 0,
    "start_time": "2023-08-09T21:01:07.782Z"
   },
   {
    "duration": 0,
    "start_time": "2023-08-09T21:01:07.783Z"
   },
   {
    "duration": 0,
    "start_time": "2023-08-09T21:01:07.784Z"
   },
   {
    "duration": 0,
    "start_time": "2023-08-09T21:01:07.785Z"
   },
   {
    "duration": 0,
    "start_time": "2023-08-09T21:01:07.786Z"
   },
   {
    "duration": 0,
    "start_time": "2023-08-09T21:01:07.787Z"
   },
   {
    "duration": 0,
    "start_time": "2023-08-09T21:01:07.788Z"
   },
   {
    "duration": 0,
    "start_time": "2023-08-09T21:01:07.789Z"
   },
   {
    "duration": 0,
    "start_time": "2023-08-09T21:01:07.790Z"
   },
   {
    "duration": 0,
    "start_time": "2023-08-09T21:01:07.791Z"
   },
   {
    "duration": 0,
    "start_time": "2023-08-09T21:01:07.792Z"
   },
   {
    "duration": 0,
    "start_time": "2023-08-09T21:01:07.792Z"
   },
   {
    "duration": 0,
    "start_time": "2023-08-09T21:01:07.793Z"
   },
   {
    "duration": 0,
    "start_time": "2023-08-09T21:01:07.794Z"
   },
   {
    "duration": 0,
    "start_time": "2023-08-09T21:01:07.795Z"
   },
   {
    "duration": 0,
    "start_time": "2023-08-09T21:01:07.796Z"
   },
   {
    "duration": 0,
    "start_time": "2023-08-09T21:01:07.797Z"
   },
   {
    "duration": 0,
    "start_time": "2023-08-09T21:01:07.798Z"
   },
   {
    "duration": 0,
    "start_time": "2023-08-09T21:01:07.799Z"
   },
   {
    "duration": 1,
    "start_time": "2023-08-09T21:01:07.799Z"
   },
   {
    "duration": 0,
    "start_time": "2023-08-09T21:01:07.801Z"
   },
   {
    "duration": 0,
    "start_time": "2023-08-09T21:01:07.856Z"
   },
   {
    "duration": 0,
    "start_time": "2023-08-09T21:01:07.857Z"
   },
   {
    "duration": 0,
    "start_time": "2023-08-09T21:01:07.858Z"
   },
   {
    "duration": 20,
    "start_time": "2023-08-09T21:01:30.532Z"
   },
   {
    "duration": 17,
    "start_time": "2023-08-09T21:01:46.270Z"
   },
   {
    "duration": 5,
    "start_time": "2023-08-09T21:03:14.824Z"
   },
   {
    "duration": 15,
    "start_time": "2023-08-09T21:03:32.356Z"
   },
   {
    "duration": 14,
    "start_time": "2023-08-09T21:03:56.297Z"
   },
   {
    "duration": 16,
    "start_time": "2023-08-09T21:04:04.671Z"
   },
   {
    "duration": 10,
    "start_time": "2023-08-09T21:04:38.725Z"
   },
   {
    "duration": 15,
    "start_time": "2023-08-09T21:04:49.578Z"
   },
   {
    "duration": 11,
    "start_time": "2023-08-09T21:05:10.338Z"
   },
   {
    "duration": 5,
    "start_time": "2023-08-09T21:05:13.881Z"
   },
   {
    "duration": 6,
    "start_time": "2023-08-09T21:07:27.445Z"
   },
   {
    "duration": 7,
    "start_time": "2023-08-09T21:07:57.210Z"
   },
   {
    "duration": 1316,
    "start_time": "2023-08-09T21:08:04.255Z"
   },
   {
    "duration": 3,
    "start_time": "2023-08-09T21:08:05.573Z"
   },
   {
    "duration": 666,
    "start_time": "2023-08-09T21:08:05.578Z"
   },
   {
    "duration": 130,
    "start_time": "2023-08-09T21:08:06.245Z"
   },
   {
    "duration": 371,
    "start_time": "2023-08-09T21:08:06.378Z"
   },
   {
    "duration": 315,
    "start_time": "2023-08-09T21:08:06.756Z"
   },
   {
    "duration": 21,
    "start_time": "2023-08-09T21:08:07.073Z"
   },
   {
    "duration": 3,
    "start_time": "2023-08-09T21:08:07.096Z"
   },
   {
    "duration": 10,
    "start_time": "2023-08-09T21:08:07.100Z"
   },
   {
    "duration": 5,
    "start_time": "2023-08-09T21:08:07.112Z"
   },
   {
    "duration": 16,
    "start_time": "2023-08-09T21:08:07.119Z"
   },
   {
    "duration": 44,
    "start_time": "2023-08-09T21:08:07.137Z"
   },
   {
    "duration": 20,
    "start_time": "2023-08-09T21:08:07.182Z"
   },
   {
    "duration": 3,
    "start_time": "2023-08-09T21:08:07.205Z"
   },
   {
    "duration": 17,
    "start_time": "2023-08-09T21:08:07.210Z"
   },
   {
    "duration": 169,
    "start_time": "2023-08-09T21:08:07.229Z"
   },
   {
    "duration": 165,
    "start_time": "2023-08-09T21:08:07.400Z"
   },
   {
    "duration": 102,
    "start_time": "2023-08-09T21:08:07.567Z"
   },
   {
    "duration": 47,
    "start_time": "2023-08-09T21:08:07.671Z"
   },
   {
    "duration": 49,
    "start_time": "2023-08-09T21:08:07.720Z"
   },
   {
    "duration": 12,
    "start_time": "2023-08-09T21:08:07.771Z"
   },
   {
    "duration": 10,
    "start_time": "2023-08-09T21:08:07.784Z"
   },
   {
    "duration": 1649,
    "start_time": "2023-08-09T21:08:07.795Z"
   },
   {
    "duration": 51,
    "start_time": "2023-08-09T21:08:09.446Z"
   },
   {
    "duration": 284,
    "start_time": "2023-08-09T21:08:09.499Z"
   },
   {
    "duration": 92,
    "start_time": "2023-08-09T21:08:09.785Z"
   },
   {
    "duration": 217,
    "start_time": "2023-08-09T21:08:09.878Z"
   },
   {
    "duration": 8,
    "start_time": "2023-08-09T21:08:10.097Z"
   },
   {
    "duration": 37,
    "start_time": "2023-08-09T21:08:10.106Z"
   },
   {
    "duration": 32,
    "start_time": "2023-08-09T21:08:10.145Z"
   },
   {
    "duration": 8,
    "start_time": "2023-08-09T21:08:10.179Z"
   },
   {
    "duration": 7,
    "start_time": "2023-08-09T21:08:10.189Z"
   },
   {
    "duration": 16,
    "start_time": "2023-08-09T21:08:10.198Z"
   },
   {
    "duration": 5,
    "start_time": "2023-08-09T21:08:10.216Z"
   },
   {
    "duration": 5,
    "start_time": "2023-08-09T21:08:10.223Z"
   },
   {
    "duration": 16,
    "start_time": "2023-08-09T21:08:10.267Z"
   },
   {
    "duration": 6,
    "start_time": "2023-08-09T21:08:10.285Z"
   },
   {
    "duration": 15,
    "start_time": "2023-08-09T21:08:10.292Z"
   },
   {
    "duration": 117,
    "start_time": "2023-08-09T21:08:10.309Z"
   },
   {
    "duration": 0,
    "start_time": "2023-08-09T21:08:10.429Z"
   },
   {
    "duration": 0,
    "start_time": "2023-08-09T21:08:10.430Z"
   },
   {
    "duration": 0,
    "start_time": "2023-08-09T21:08:10.432Z"
   },
   {
    "duration": 0,
    "start_time": "2023-08-09T21:08:10.433Z"
   },
   {
    "duration": 0,
    "start_time": "2023-08-09T21:08:10.434Z"
   },
   {
    "duration": 0,
    "start_time": "2023-08-09T21:08:10.435Z"
   },
   {
    "duration": 0,
    "start_time": "2023-08-09T21:08:10.435Z"
   },
   {
    "duration": 0,
    "start_time": "2023-08-09T21:08:10.436Z"
   },
   {
    "duration": 0,
    "start_time": "2023-08-09T21:08:10.437Z"
   },
   {
    "duration": 0,
    "start_time": "2023-08-09T21:08:10.438Z"
   },
   {
    "duration": 0,
    "start_time": "2023-08-09T21:08:10.465Z"
   },
   {
    "duration": 0,
    "start_time": "2023-08-09T21:08:10.466Z"
   },
   {
    "duration": 0,
    "start_time": "2023-08-09T21:08:10.467Z"
   },
   {
    "duration": 0,
    "start_time": "2023-08-09T21:08:10.468Z"
   },
   {
    "duration": 0,
    "start_time": "2023-08-09T21:08:10.470Z"
   },
   {
    "duration": 0,
    "start_time": "2023-08-09T21:08:10.471Z"
   },
   {
    "duration": 0,
    "start_time": "2023-08-09T21:08:10.472Z"
   },
   {
    "duration": 0,
    "start_time": "2023-08-09T21:08:10.473Z"
   },
   {
    "duration": 0,
    "start_time": "2023-08-09T21:08:10.474Z"
   },
   {
    "duration": 0,
    "start_time": "2023-08-09T21:08:10.475Z"
   },
   {
    "duration": 0,
    "start_time": "2023-08-09T21:08:10.476Z"
   },
   {
    "duration": 0,
    "start_time": "2023-08-09T21:08:10.477Z"
   },
   {
    "duration": 0,
    "start_time": "2023-08-09T21:08:10.478Z"
   },
   {
    "duration": 0,
    "start_time": "2023-08-09T21:08:10.479Z"
   },
   {
    "duration": 0,
    "start_time": "2023-08-09T21:08:10.480Z"
   },
   {
    "duration": 0,
    "start_time": "2023-08-09T21:08:10.481Z"
   },
   {
    "duration": 0,
    "start_time": "2023-08-09T21:08:10.481Z"
   },
   {
    "duration": 0,
    "start_time": "2023-08-09T21:08:10.482Z"
   },
   {
    "duration": 0,
    "start_time": "2023-08-09T21:08:10.483Z"
   },
   {
    "duration": 0,
    "start_time": "2023-08-09T21:08:10.484Z"
   },
   {
    "duration": 0,
    "start_time": "2023-08-09T21:08:10.485Z"
   },
   {
    "duration": 0,
    "start_time": "2023-08-09T21:08:10.486Z"
   },
   {
    "duration": 0,
    "start_time": "2023-08-09T21:08:10.487Z"
   },
   {
    "duration": 0,
    "start_time": "2023-08-09T21:08:10.488Z"
   },
   {
    "duration": 0,
    "start_time": "2023-08-09T21:08:10.489Z"
   },
   {
    "duration": 0,
    "start_time": "2023-08-09T21:08:10.490Z"
   },
   {
    "duration": 0,
    "start_time": "2023-08-09T21:08:10.491Z"
   },
   {
    "duration": 0,
    "start_time": "2023-08-09T21:08:10.492Z"
   },
   {
    "duration": 0,
    "start_time": "2023-08-09T21:08:10.492Z"
   },
   {
    "duration": 0,
    "start_time": "2023-08-09T21:08:10.493Z"
   },
   {
    "duration": 0,
    "start_time": "2023-08-09T21:08:10.494Z"
   },
   {
    "duration": 0,
    "start_time": "2023-08-09T21:08:10.495Z"
   },
   {
    "duration": 0,
    "start_time": "2023-08-09T21:08:10.496Z"
   },
   {
    "duration": 0,
    "start_time": "2023-08-09T21:08:10.497Z"
   },
   {
    "duration": 0,
    "start_time": "2023-08-09T21:08:10.498Z"
   },
   {
    "duration": 0,
    "start_time": "2023-08-09T21:08:10.499Z"
   },
   {
    "duration": 1,
    "start_time": "2023-08-09T21:08:10.555Z"
   },
   {
    "duration": 0,
    "start_time": "2023-08-09T21:08:10.557Z"
   },
   {
    "duration": 0,
    "start_time": "2023-08-09T21:08:10.559Z"
   },
   {
    "duration": 0,
    "start_time": "2023-08-09T21:08:10.560Z"
   },
   {
    "duration": 0,
    "start_time": "2023-08-09T21:08:10.561Z"
   },
   {
    "duration": 0,
    "start_time": "2023-08-09T21:08:10.565Z"
   },
   {
    "duration": 0,
    "start_time": "2023-08-09T21:08:10.566Z"
   },
   {
    "duration": 0,
    "start_time": "2023-08-09T21:08:10.567Z"
   },
   {
    "duration": 0,
    "start_time": "2023-08-09T21:08:10.570Z"
   },
   {
    "duration": 0,
    "start_time": "2023-08-09T21:08:10.570Z"
   },
   {
    "duration": 0,
    "start_time": "2023-08-09T21:08:10.571Z"
   },
   {
    "duration": 0,
    "start_time": "2023-08-09T21:08:10.572Z"
   },
   {
    "duration": 0,
    "start_time": "2023-08-09T21:08:10.572Z"
   },
   {
    "duration": 0,
    "start_time": "2023-08-09T21:08:10.573Z"
   },
   {
    "duration": 0,
    "start_time": "2023-08-09T21:08:10.574Z"
   },
   {
    "duration": 0,
    "start_time": "2023-08-09T21:08:10.574Z"
   },
   {
    "duration": 0,
    "start_time": "2023-08-09T21:08:10.576Z"
   },
   {
    "duration": 0,
    "start_time": "2023-08-09T21:08:10.577Z"
   },
   {
    "duration": 0,
    "start_time": "2023-08-09T21:08:10.578Z"
   },
   {
    "duration": 0,
    "start_time": "2023-08-09T21:08:10.580Z"
   },
   {
    "duration": 12,
    "start_time": "2023-08-09T21:09:38.338Z"
   },
   {
    "duration": 16,
    "start_time": "2023-08-09T21:09:41.751Z"
   },
   {
    "duration": 1369,
    "start_time": "2023-08-09T21:15:02.845Z"
   },
   {
    "duration": 3,
    "start_time": "2023-08-09T21:15:04.216Z"
   },
   {
    "duration": 695,
    "start_time": "2023-08-09T21:15:04.220Z"
   },
   {
    "duration": 119,
    "start_time": "2023-08-09T21:15:04.917Z"
   },
   {
    "duration": 397,
    "start_time": "2023-08-09T21:15:05.038Z"
   },
   {
    "duration": 343,
    "start_time": "2023-08-09T21:15:05.437Z"
   },
   {
    "duration": 21,
    "start_time": "2023-08-09T21:15:05.781Z"
   },
   {
    "duration": 3,
    "start_time": "2023-08-09T21:15:05.804Z"
   },
   {
    "duration": 10,
    "start_time": "2023-08-09T21:15:05.809Z"
   },
   {
    "duration": 5,
    "start_time": "2023-08-09T21:15:05.822Z"
   },
   {
    "duration": 39,
    "start_time": "2023-08-09T21:15:05.829Z"
   },
   {
    "duration": 19,
    "start_time": "2023-08-09T21:15:05.870Z"
   },
   {
    "duration": 22,
    "start_time": "2023-08-09T21:15:05.890Z"
   },
   {
    "duration": 3,
    "start_time": "2023-08-09T21:15:05.914Z"
   },
   {
    "duration": 14,
    "start_time": "2023-08-09T21:15:05.918Z"
   },
   {
    "duration": 176,
    "start_time": "2023-08-09T21:15:05.934Z"
   },
   {
    "duration": 157,
    "start_time": "2023-08-09T21:15:06.112Z"
   },
   {
    "duration": 99,
    "start_time": "2023-08-09T21:15:06.271Z"
   },
   {
    "duration": 49,
    "start_time": "2023-08-09T21:15:06.372Z"
   },
   {
    "duration": 55,
    "start_time": "2023-08-09T21:15:06.424Z"
   },
   {
    "duration": 12,
    "start_time": "2023-08-09T21:15:06.481Z"
   },
   {
    "duration": 7,
    "start_time": "2023-08-09T21:15:06.495Z"
   },
   {
    "duration": 1606,
    "start_time": "2023-08-09T21:15:06.503Z"
   },
   {
    "duration": 57,
    "start_time": "2023-08-09T21:15:08.111Z"
   },
   {
    "duration": 279,
    "start_time": "2023-08-09T21:15:08.170Z"
   },
   {
    "duration": 113,
    "start_time": "2023-08-09T21:15:08.456Z"
   },
   {
    "duration": 216,
    "start_time": "2023-08-09T21:15:08.572Z"
   },
   {
    "duration": 10,
    "start_time": "2023-08-09T21:15:08.793Z"
   },
   {
    "duration": 20,
    "start_time": "2023-08-09T21:15:08.805Z"
   },
   {
    "duration": 48,
    "start_time": "2023-08-09T21:15:08.827Z"
   },
   {
    "duration": 10,
    "start_time": "2023-08-09T21:15:08.877Z"
   },
   {
    "duration": 9,
    "start_time": "2023-08-09T21:15:08.889Z"
   },
   {
    "duration": 18,
    "start_time": "2023-08-09T21:15:08.899Z"
   },
   {
    "duration": 8,
    "start_time": "2023-08-09T21:15:08.919Z"
   },
   {
    "duration": 16,
    "start_time": "2023-08-09T21:15:08.956Z"
   },
   {
    "duration": 17,
    "start_time": "2023-08-09T21:15:08.974Z"
   },
   {
    "duration": 6,
    "start_time": "2023-08-09T21:15:08.993Z"
   },
   {
    "duration": 18,
    "start_time": "2023-08-09T21:15:09.000Z"
   },
   {
    "duration": 4,
    "start_time": "2023-08-09T21:15:09.020Z"
   },
   {
    "duration": 111,
    "start_time": "2023-08-09T21:15:09.026Z"
   },
   {
    "duration": 51,
    "start_time": "2023-08-09T21:15:09.139Z"
   },
   {
    "duration": 13,
    "start_time": "2023-08-09T21:15:09.192Z"
   },
   {
    "duration": 19,
    "start_time": "2023-08-09T21:15:09.206Z"
   },
   {
    "duration": 40,
    "start_time": "2023-08-09T21:15:09.227Z"
   },
   {
    "duration": 26,
    "start_time": "2023-08-09T21:15:09.270Z"
   },
   {
    "duration": 12,
    "start_time": "2023-08-09T21:15:09.297Z"
   },
   {
    "duration": 367,
    "start_time": "2023-08-09T21:15:09.311Z"
   },
   {
    "duration": 15,
    "start_time": "2023-08-09T21:15:09.680Z"
   },
   {
    "duration": 108,
    "start_time": "2023-08-09T21:15:09.697Z"
   },
   {
    "duration": 5,
    "start_time": "2023-08-09T21:15:09.807Z"
   },
   {
    "duration": 29,
    "start_time": "2023-08-09T21:15:09.814Z"
   },
   {
    "duration": 32,
    "start_time": "2023-08-09T21:15:09.860Z"
   },
   {
    "duration": 6,
    "start_time": "2023-08-09T21:15:09.894Z"
   },
   {
    "duration": 18,
    "start_time": "2023-08-09T21:15:09.901Z"
   },
   {
    "duration": 12,
    "start_time": "2023-08-09T21:15:09.921Z"
   },
   {
    "duration": 38,
    "start_time": "2023-08-09T21:15:09.934Z"
   },
   {
    "duration": 3,
    "start_time": "2023-08-09T21:15:09.974Z"
   },
   {
    "duration": 28,
    "start_time": "2023-08-09T21:15:09.979Z"
   },
   {
    "duration": 12,
    "start_time": "2023-08-09T21:15:10.009Z"
   },
   {
    "duration": 17,
    "start_time": "2023-08-09T21:15:10.023Z"
   },
   {
    "duration": 11,
    "start_time": "2023-08-09T21:15:10.041Z"
   },
   {
    "duration": 27,
    "start_time": "2023-08-09T21:15:10.053Z"
   },
   {
    "duration": 147,
    "start_time": "2023-08-09T21:15:10.082Z"
   },
   {
    "duration": 0,
    "start_time": "2023-08-09T21:15:10.232Z"
   },
   {
    "duration": 0,
    "start_time": "2023-08-09T21:15:10.233Z"
   },
   {
    "duration": 0,
    "start_time": "2023-08-09T21:15:10.234Z"
   },
   {
    "duration": 0,
    "start_time": "2023-08-09T21:15:10.235Z"
   },
   {
    "duration": 0,
    "start_time": "2023-08-09T21:15:10.236Z"
   },
   {
    "duration": 0,
    "start_time": "2023-08-09T21:15:10.237Z"
   },
   {
    "duration": 0,
    "start_time": "2023-08-09T21:15:10.238Z"
   },
   {
    "duration": 0,
    "start_time": "2023-08-09T21:15:10.239Z"
   },
   {
    "duration": 0,
    "start_time": "2023-08-09T21:15:10.240Z"
   },
   {
    "duration": 0,
    "start_time": "2023-08-09T21:15:10.241Z"
   },
   {
    "duration": 0,
    "start_time": "2023-08-09T21:15:10.242Z"
   },
   {
    "duration": 0,
    "start_time": "2023-08-09T21:15:10.243Z"
   },
   {
    "duration": 0,
    "start_time": "2023-08-09T21:15:10.244Z"
   },
   {
    "duration": 0,
    "start_time": "2023-08-09T21:15:10.244Z"
   },
   {
    "duration": 0,
    "start_time": "2023-08-09T21:15:10.260Z"
   },
   {
    "duration": 0,
    "start_time": "2023-08-09T21:15:10.261Z"
   },
   {
    "duration": 0,
    "start_time": "2023-08-09T21:15:10.262Z"
   },
   {
    "duration": 0,
    "start_time": "2023-08-09T21:15:10.263Z"
   },
   {
    "duration": 0,
    "start_time": "2023-08-09T21:15:10.264Z"
   },
   {
    "duration": 0,
    "start_time": "2023-08-09T21:15:10.265Z"
   },
   {
    "duration": 0,
    "start_time": "2023-08-09T21:15:10.266Z"
   },
   {
    "duration": 0,
    "start_time": "2023-08-09T21:15:10.267Z"
   },
   {
    "duration": 0,
    "start_time": "2023-08-09T21:15:10.269Z"
   },
   {
    "duration": 0,
    "start_time": "2023-08-09T21:15:10.269Z"
   },
   {
    "duration": 0,
    "start_time": "2023-08-09T21:15:10.271Z"
   },
   {
    "duration": 0,
    "start_time": "2023-08-09T21:15:10.272Z"
   },
   {
    "duration": 0,
    "start_time": "2023-08-09T21:15:10.273Z"
   },
   {
    "duration": 0,
    "start_time": "2023-08-09T21:15:10.274Z"
   },
   {
    "duration": 0,
    "start_time": "2023-08-09T21:15:10.275Z"
   },
   {
    "duration": 0,
    "start_time": "2023-08-09T21:15:10.276Z"
   },
   {
    "duration": 0,
    "start_time": "2023-08-09T21:15:10.277Z"
   },
   {
    "duration": 0,
    "start_time": "2023-08-09T21:15:10.278Z"
   },
   {
    "duration": 0,
    "start_time": "2023-08-09T21:15:10.279Z"
   },
   {
    "duration": 0,
    "start_time": "2023-08-09T21:15:10.280Z"
   },
   {
    "duration": 0,
    "start_time": "2023-08-09T21:15:10.281Z"
   },
   {
    "duration": 0,
    "start_time": "2023-08-09T21:15:10.282Z"
   },
   {
    "duration": 0,
    "start_time": "2023-08-09T21:15:10.283Z"
   },
   {
    "duration": 0,
    "start_time": "2023-08-09T21:15:10.284Z"
   },
   {
    "duration": 0,
    "start_time": "2023-08-09T21:15:10.285Z"
   },
   {
    "duration": 0,
    "start_time": "2023-08-09T21:15:10.286Z"
   },
   {
    "duration": 0,
    "start_time": "2023-08-09T21:15:10.287Z"
   },
   {
    "duration": 19,
    "start_time": "2023-08-09T21:20:41.931Z"
   },
   {
    "duration": 27,
    "start_time": "2023-08-09T21:21:16.909Z"
   },
   {
    "duration": 110,
    "start_time": "2023-08-09T21:22:17.696Z"
   },
   {
    "duration": 229,
    "start_time": "2023-08-09T21:22:36.184Z"
   },
   {
    "duration": 111,
    "start_time": "2023-08-09T21:22:52.203Z"
   },
   {
    "duration": 28,
    "start_time": "2023-08-09T21:23:05.178Z"
   },
   {
    "duration": 117,
    "start_time": "2023-08-09T21:23:07.633Z"
   },
   {
    "duration": 109,
    "start_time": "2023-08-09T21:23:16.021Z"
   },
   {
    "duration": 109,
    "start_time": "2023-08-09T21:23:19.170Z"
   },
   {
    "duration": 114,
    "start_time": "2023-08-09T21:23:47.226Z"
   },
   {
    "duration": 103,
    "start_time": "2023-08-09T21:23:53.497Z"
   },
   {
    "duration": 69,
    "start_time": "2023-08-09T21:26:06.497Z"
   },
   {
    "duration": 1217,
    "start_time": "2023-08-09T21:31:36.620Z"
   },
   {
    "duration": 2,
    "start_time": "2023-08-09T21:31:37.839Z"
   },
   {
    "duration": 609,
    "start_time": "2023-08-09T21:31:37.842Z"
   },
   {
    "duration": 119,
    "start_time": "2023-08-09T21:31:38.453Z"
   },
   {
    "duration": 370,
    "start_time": "2023-08-09T21:31:38.573Z"
   },
   {
    "duration": 315,
    "start_time": "2023-08-09T21:31:38.945Z"
   },
   {
    "duration": 21,
    "start_time": "2023-08-09T21:31:39.261Z"
   },
   {
    "duration": 3,
    "start_time": "2023-08-09T21:31:39.283Z"
   },
   {
    "duration": 12,
    "start_time": "2023-08-09T21:31:39.288Z"
   },
   {
    "duration": 6,
    "start_time": "2023-08-09T21:31:39.302Z"
   },
   {
    "duration": 13,
    "start_time": "2023-08-09T21:31:39.310Z"
   },
   {
    "duration": 46,
    "start_time": "2023-08-09T21:31:39.325Z"
   },
   {
    "duration": 18,
    "start_time": "2023-08-09T21:31:39.373Z"
   },
   {
    "duration": 3,
    "start_time": "2023-08-09T21:31:39.393Z"
   },
   {
    "duration": 13,
    "start_time": "2023-08-09T21:31:39.398Z"
   },
   {
    "duration": 147,
    "start_time": "2023-08-09T21:31:39.413Z"
   },
   {
    "duration": 146,
    "start_time": "2023-08-09T21:31:39.562Z"
   },
   {
    "duration": 85,
    "start_time": "2023-08-09T21:31:39.710Z"
   },
   {
    "duration": 46,
    "start_time": "2023-08-09T21:31:39.796Z"
   },
   {
    "duration": 46,
    "start_time": "2023-08-09T21:31:39.843Z"
   },
   {
    "duration": 11,
    "start_time": "2023-08-09T21:31:39.890Z"
   },
   {
    "duration": 6,
    "start_time": "2023-08-09T21:31:39.903Z"
   },
   {
    "duration": 1437,
    "start_time": "2023-08-09T21:31:39.910Z"
   },
   {
    "duration": 41,
    "start_time": "2023-08-09T21:31:41.349Z"
   },
   {
    "duration": 261,
    "start_time": "2023-08-09T21:31:41.392Z"
   },
   {
    "duration": 72,
    "start_time": "2023-08-09T21:31:41.655Z"
   },
   {
    "duration": 190,
    "start_time": "2023-08-09T21:31:41.729Z"
   },
   {
    "duration": 7,
    "start_time": "2023-08-09T21:31:41.923Z"
   },
   {
    "duration": 29,
    "start_time": "2023-08-09T21:31:41.932Z"
   },
   {
    "duration": 18,
    "start_time": "2023-08-09T21:31:41.962Z"
   },
   {
    "duration": 16,
    "start_time": "2023-08-09T21:31:41.981Z"
   },
   {
    "duration": 8,
    "start_time": "2023-08-09T21:31:41.998Z"
   },
   {
    "duration": 16,
    "start_time": "2023-08-09T21:31:42.008Z"
   },
   {
    "duration": 5,
    "start_time": "2023-08-09T21:31:42.026Z"
   },
   {
    "duration": 25,
    "start_time": "2023-08-09T21:31:42.032Z"
   },
   {
    "duration": 26,
    "start_time": "2023-08-09T21:31:42.058Z"
   },
   {
    "duration": 12,
    "start_time": "2023-08-09T21:31:42.086Z"
   },
   {
    "duration": 21,
    "start_time": "2023-08-09T21:31:42.099Z"
   },
   {
    "duration": 6,
    "start_time": "2023-08-09T21:31:42.122Z"
   },
   {
    "duration": 72,
    "start_time": "2023-08-09T21:31:42.129Z"
   },
   {
    "duration": 25,
    "start_time": "2023-08-09T21:31:42.203Z"
   },
   {
    "duration": 14,
    "start_time": "2023-08-09T21:31:42.229Z"
   },
   {
    "duration": 25,
    "start_time": "2023-08-09T21:31:42.256Z"
   },
   {
    "duration": 109,
    "start_time": "2023-08-09T21:31:42.283Z"
   },
   {
    "duration": 101,
    "start_time": "2023-08-09T21:31:42.393Z"
   },
   {
    "duration": 13,
    "start_time": "2023-08-09T21:31:42.496Z"
   },
   {
    "duration": 362,
    "start_time": "2023-08-09T21:31:42.510Z"
   },
   {
    "duration": 14,
    "start_time": "2023-08-09T21:31:42.874Z"
   },
   {
    "duration": 106,
    "start_time": "2023-08-09T21:31:42.890Z"
   },
   {
    "duration": 4,
    "start_time": "2023-08-09T21:31:42.998Z"
   },
   {
    "duration": 82,
    "start_time": "2023-08-09T21:31:43.003Z"
   },
   {
    "duration": 11,
    "start_time": "2023-08-09T21:31:43.087Z"
   },
   {
    "duration": 9,
    "start_time": "2023-08-09T21:31:43.100Z"
   },
   {
    "duration": 11,
    "start_time": "2023-08-09T21:31:43.110Z"
   },
   {
    "duration": 9,
    "start_time": "2023-08-09T21:31:43.122Z"
   },
   {
    "duration": 27,
    "start_time": "2023-08-09T21:31:43.133Z"
   },
   {
    "duration": 32,
    "start_time": "2023-08-09T21:31:43.161Z"
   },
   {
    "duration": 19,
    "start_time": "2023-08-09T21:31:43.195Z"
   },
   {
    "duration": 9,
    "start_time": "2023-08-09T21:31:43.217Z"
   },
   {
    "duration": 141,
    "start_time": "2023-08-09T21:31:43.227Z"
   },
   {
    "duration": 0,
    "start_time": "2023-08-09T21:31:43.371Z"
   },
   {
    "duration": 0,
    "start_time": "2023-08-09T21:31:43.373Z"
   },
   {
    "duration": 0,
    "start_time": "2023-08-09T21:31:43.374Z"
   },
   {
    "duration": 0,
    "start_time": "2023-08-09T21:31:43.375Z"
   },
   {
    "duration": 0,
    "start_time": "2023-08-09T21:31:43.376Z"
   },
   {
    "duration": 0,
    "start_time": "2023-08-09T21:31:43.376Z"
   },
   {
    "duration": 0,
    "start_time": "2023-08-09T21:31:43.377Z"
   },
   {
    "duration": 0,
    "start_time": "2023-08-09T21:31:43.379Z"
   },
   {
    "duration": 0,
    "start_time": "2023-08-09T21:31:43.380Z"
   },
   {
    "duration": 0,
    "start_time": "2023-08-09T21:31:43.381Z"
   },
   {
    "duration": 0,
    "start_time": "2023-08-09T21:31:43.382Z"
   },
   {
    "duration": 0,
    "start_time": "2023-08-09T21:31:43.383Z"
   },
   {
    "duration": 0,
    "start_time": "2023-08-09T21:31:43.384Z"
   },
   {
    "duration": 0,
    "start_time": "2023-08-09T21:31:43.385Z"
   },
   {
    "duration": 0,
    "start_time": "2023-08-09T21:31:43.386Z"
   },
   {
    "duration": 0,
    "start_time": "2023-08-09T21:31:43.387Z"
   },
   {
    "duration": 0,
    "start_time": "2023-08-09T21:31:43.388Z"
   },
   {
    "duration": 0,
    "start_time": "2023-08-09T21:31:43.389Z"
   },
   {
    "duration": 0,
    "start_time": "2023-08-09T21:31:43.389Z"
   },
   {
    "duration": 0,
    "start_time": "2023-08-09T21:31:43.390Z"
   },
   {
    "duration": 0,
    "start_time": "2023-08-09T21:31:43.391Z"
   },
   {
    "duration": 0,
    "start_time": "2023-08-09T21:31:43.393Z"
   },
   {
    "duration": 0,
    "start_time": "2023-08-09T21:31:43.393Z"
   },
   {
    "duration": 0,
    "start_time": "2023-08-09T21:31:43.394Z"
   },
   {
    "duration": 0,
    "start_time": "2023-08-09T21:31:43.395Z"
   },
   {
    "duration": 0,
    "start_time": "2023-08-09T21:31:43.396Z"
   },
   {
    "duration": 0,
    "start_time": "2023-08-09T21:31:43.397Z"
   },
   {
    "duration": 0,
    "start_time": "2023-08-09T21:31:43.398Z"
   },
   {
    "duration": 0,
    "start_time": "2023-08-09T21:31:43.565Z"
   },
   {
    "duration": 0,
    "start_time": "2023-08-09T21:31:43.566Z"
   },
   {
    "duration": 0,
    "start_time": "2023-08-09T21:31:43.567Z"
   },
   {
    "duration": 0,
    "start_time": "2023-08-09T21:31:43.568Z"
   },
   {
    "duration": 0,
    "start_time": "2023-08-09T21:31:43.569Z"
   },
   {
    "duration": 0,
    "start_time": "2023-08-09T21:31:43.570Z"
   },
   {
    "duration": 0,
    "start_time": "2023-08-09T21:31:43.571Z"
   },
   {
    "duration": 0,
    "start_time": "2023-08-09T21:31:43.573Z"
   },
   {
    "duration": 0,
    "start_time": "2023-08-09T21:31:43.573Z"
   },
   {
    "duration": 0,
    "start_time": "2023-08-09T21:31:43.574Z"
   },
   {
    "duration": 0,
    "start_time": "2023-08-09T21:31:43.575Z"
   },
   {
    "duration": 0,
    "start_time": "2023-08-09T21:31:43.576Z"
   },
   {
    "duration": 0,
    "start_time": "2023-08-09T21:31:43.577Z"
   },
   {
    "duration": 51,
    "start_time": "2023-08-09T21:34:09.797Z"
   },
   {
    "duration": 11,
    "start_time": "2023-08-09T21:37:52.256Z"
   },
   {
    "duration": 1223,
    "start_time": "2023-08-09T21:50:34.427Z"
   },
   {
    "duration": 5,
    "start_time": "2023-08-09T21:50:35.652Z"
   },
   {
    "duration": 602,
    "start_time": "2023-08-09T21:50:35.658Z"
   },
   {
    "duration": 120,
    "start_time": "2023-08-09T21:50:36.261Z"
   },
   {
    "duration": 511,
    "start_time": "2023-08-09T21:50:36.383Z"
   },
   {
    "duration": 599,
    "start_time": "2023-08-09T21:50:36.895Z"
   },
   {
    "duration": 75,
    "start_time": "2023-08-09T21:50:37.495Z"
   },
   {
    "duration": 4,
    "start_time": "2023-08-09T21:50:37.571Z"
   },
   {
    "duration": 12,
    "start_time": "2023-08-09T21:50:37.576Z"
   },
   {
    "duration": 5,
    "start_time": "2023-08-09T21:50:37.589Z"
   },
   {
    "duration": 62,
    "start_time": "2023-08-09T21:50:37.596Z"
   },
   {
    "duration": 19,
    "start_time": "2023-08-09T21:50:37.660Z"
   },
   {
    "duration": 18,
    "start_time": "2023-08-09T21:50:37.681Z"
   },
   {
    "duration": 55,
    "start_time": "2023-08-09T21:50:37.702Z"
   },
   {
    "duration": 16,
    "start_time": "2023-08-09T21:50:37.758Z"
   },
   {
    "duration": 283,
    "start_time": "2023-08-09T21:50:37.776Z"
   },
   {
    "duration": 295,
    "start_time": "2023-08-09T21:50:38.061Z"
   },
   {
    "duration": 136,
    "start_time": "2023-08-09T21:50:38.358Z"
   },
   {
    "duration": 103,
    "start_time": "2023-08-09T21:50:38.496Z"
   },
   {
    "duration": 70,
    "start_time": "2023-08-09T21:50:38.600Z"
   },
   {
    "duration": 12,
    "start_time": "2023-08-09T21:50:38.672Z"
   },
   {
    "duration": 4,
    "start_time": "2023-08-09T21:50:38.685Z"
   },
   {
    "duration": 1491,
    "start_time": "2023-08-09T21:50:38.691Z"
   },
   {
    "duration": 36,
    "start_time": "2023-08-09T21:50:40.184Z"
   },
   {
    "duration": 274,
    "start_time": "2023-08-09T21:50:40.222Z"
   },
   {
    "duration": 88,
    "start_time": "2023-08-09T21:50:40.498Z"
   },
   {
    "duration": 197,
    "start_time": "2023-08-09T21:50:40.588Z"
   },
   {
    "duration": 8,
    "start_time": "2023-08-09T21:50:40.787Z"
   },
   {
    "duration": 18,
    "start_time": "2023-08-09T21:50:40.796Z"
   },
   {
    "duration": 42,
    "start_time": "2023-08-09T21:50:40.815Z"
   },
   {
    "duration": 8,
    "start_time": "2023-08-09T21:50:40.859Z"
   },
   {
    "duration": 11,
    "start_time": "2023-08-09T21:50:40.869Z"
   },
   {
    "duration": 17,
    "start_time": "2023-08-09T21:50:40.882Z"
   },
   {
    "duration": 7,
    "start_time": "2023-08-09T21:50:40.900Z"
   },
   {
    "duration": 6,
    "start_time": "2023-08-09T21:50:40.908Z"
   },
   {
    "duration": 43,
    "start_time": "2023-08-09T21:50:40.916Z"
   },
   {
    "duration": 5,
    "start_time": "2023-08-09T21:50:40.961Z"
   },
   {
    "duration": 19,
    "start_time": "2023-08-09T21:50:40.968Z"
   },
   {
    "duration": 3,
    "start_time": "2023-08-09T21:50:40.989Z"
   },
   {
    "duration": 101,
    "start_time": "2023-08-09T21:50:40.994Z"
   },
   {
    "duration": 28,
    "start_time": "2023-08-09T21:50:41.099Z"
   },
   {
    "duration": 29,
    "start_time": "2023-08-09T21:50:41.129Z"
   },
   {
    "duration": 26,
    "start_time": "2023-08-09T21:50:41.160Z"
   },
   {
    "duration": 114,
    "start_time": "2023-08-09T21:50:41.187Z"
   },
   {
    "duration": 108,
    "start_time": "2023-08-09T21:50:41.302Z"
   },
   {
    "duration": 13,
    "start_time": "2023-08-09T21:50:41.412Z"
   },
   {
    "duration": 322,
    "start_time": "2023-08-09T21:50:41.426Z"
   },
   {
    "duration": 18,
    "start_time": "2023-08-09T21:50:41.750Z"
   },
   {
    "duration": 106,
    "start_time": "2023-08-09T21:50:41.770Z"
   },
   {
    "duration": 3,
    "start_time": "2023-08-09T21:50:41.878Z"
   },
   {
    "duration": 46,
    "start_time": "2023-08-09T21:50:41.883Z"
   },
   {
    "duration": 32,
    "start_time": "2023-08-09T21:50:41.931Z"
   },
   {
    "duration": 10,
    "start_time": "2023-08-09T21:50:41.965Z"
   },
   {
    "duration": 31,
    "start_time": "2023-08-09T21:50:41.977Z"
   },
   {
    "duration": 7,
    "start_time": "2023-08-09T21:50:42.010Z"
   },
   {
    "duration": 18,
    "start_time": "2023-08-09T21:50:42.018Z"
   },
   {
    "duration": 18,
    "start_time": "2023-08-09T21:50:42.037Z"
   },
   {
    "duration": 22,
    "start_time": "2023-08-09T21:50:42.056Z"
   },
   {
    "duration": 1282,
    "start_time": "2023-08-09T21:58:18.759Z"
   },
   {
    "duration": 3,
    "start_time": "2023-08-09T21:58:20.043Z"
   },
   {
    "duration": 642,
    "start_time": "2023-08-09T21:58:20.047Z"
   },
   {
    "duration": 110,
    "start_time": "2023-08-09T21:58:20.692Z"
   },
   {
    "duration": 382,
    "start_time": "2023-08-09T21:58:20.804Z"
   },
   {
    "duration": 300,
    "start_time": "2023-08-09T21:58:21.188Z"
   },
   {
    "duration": 20,
    "start_time": "2023-08-09T21:58:21.490Z"
   },
   {
    "duration": 3,
    "start_time": "2023-08-09T21:58:21.512Z"
   },
   {
    "duration": 10,
    "start_time": "2023-08-09T21:58:21.516Z"
   },
   {
    "duration": 29,
    "start_time": "2023-08-09T21:58:21.527Z"
   },
   {
    "duration": 8,
    "start_time": "2023-08-09T21:58:21.558Z"
   },
   {
    "duration": 19,
    "start_time": "2023-08-09T21:58:21.567Z"
   },
   {
    "duration": 17,
    "start_time": "2023-08-09T21:58:21.589Z"
   },
   {
    "duration": 3,
    "start_time": "2023-08-09T21:58:21.607Z"
   },
   {
    "duration": 12,
    "start_time": "2023-08-09T21:58:21.612Z"
   },
   {
    "duration": 145,
    "start_time": "2023-08-09T21:58:21.626Z"
   },
   {
    "duration": 134,
    "start_time": "2023-08-09T21:58:21.772Z"
   },
   {
    "duration": 83,
    "start_time": "2023-08-09T21:58:21.908Z"
   },
   {
    "duration": 47,
    "start_time": "2023-08-09T21:58:21.993Z"
   },
   {
    "duration": 49,
    "start_time": "2023-08-09T21:58:22.041Z"
   },
   {
    "duration": 11,
    "start_time": "2023-08-09T21:58:22.092Z"
   },
   {
    "duration": 5,
    "start_time": "2023-08-09T21:58:22.104Z"
   },
   {
    "duration": 1419,
    "start_time": "2023-08-09T21:58:22.111Z"
   },
   {
    "duration": 46,
    "start_time": "2023-08-09T21:58:23.531Z"
   },
   {
    "duration": 270,
    "start_time": "2023-08-09T21:58:23.579Z"
   },
   {
    "duration": 81,
    "start_time": "2023-08-09T21:58:23.851Z"
   },
   {
    "duration": 222,
    "start_time": "2023-08-09T21:58:23.934Z"
   },
   {
    "duration": 9,
    "start_time": "2023-08-09T21:58:24.158Z"
   },
   {
    "duration": 18,
    "start_time": "2023-08-09T21:58:24.169Z"
   },
   {
    "duration": 18,
    "start_time": "2023-08-09T21:58:24.189Z"
   },
   {
    "duration": 7,
    "start_time": "2023-08-09T21:58:24.209Z"
   },
   {
    "duration": 41,
    "start_time": "2023-08-09T21:58:24.217Z"
   },
   {
    "duration": 24,
    "start_time": "2023-08-09T21:58:24.260Z"
   },
   {
    "duration": 9,
    "start_time": "2023-08-09T21:58:24.286Z"
   },
   {
    "duration": 6,
    "start_time": "2023-08-09T21:58:24.297Z"
   },
   {
    "duration": 20,
    "start_time": "2023-08-09T21:58:24.305Z"
   },
   {
    "duration": 5,
    "start_time": "2023-08-09T21:58:24.327Z"
   },
   {
    "duration": 29,
    "start_time": "2023-08-09T21:58:24.333Z"
   },
   {
    "duration": 3,
    "start_time": "2023-08-09T21:58:24.364Z"
   },
   {
    "duration": 74,
    "start_time": "2023-08-09T21:58:24.371Z"
   },
   {
    "duration": 32,
    "start_time": "2023-08-09T21:58:24.446Z"
   },
   {
    "duration": 14,
    "start_time": "2023-08-09T21:58:24.480Z"
   },
   {
    "duration": 25,
    "start_time": "2023-08-09T21:58:24.496Z"
   },
   {
    "duration": 115,
    "start_time": "2023-08-09T21:58:24.523Z"
   },
   {
    "duration": 104,
    "start_time": "2023-08-09T21:58:24.640Z"
   },
   {
    "duration": 20,
    "start_time": "2023-08-09T21:58:24.746Z"
   },
   {
    "duration": 320,
    "start_time": "2023-08-09T21:58:24.768Z"
   },
   {
    "duration": 14,
    "start_time": "2023-08-09T21:58:25.090Z"
   },
   {
    "duration": 91,
    "start_time": "2023-08-09T21:58:25.106Z"
   },
   {
    "duration": 4,
    "start_time": "2023-08-09T21:58:25.198Z"
   },
   {
    "duration": 91,
    "start_time": "2023-08-09T21:58:25.204Z"
   },
   {
    "duration": 12,
    "start_time": "2023-08-09T21:58:25.297Z"
   },
   {
    "duration": 11,
    "start_time": "2023-08-09T21:58:25.310Z"
   },
   {
    "duration": 35,
    "start_time": "2023-08-09T21:58:25.322Z"
   },
   {
    "duration": 6,
    "start_time": "2023-08-09T21:58:25.359Z"
   },
   {
    "duration": 14,
    "start_time": "2023-08-09T21:58:25.366Z"
   },
   {
    "duration": 6,
    "start_time": "2023-08-09T21:58:25.382Z"
   },
   {
    "duration": 11,
    "start_time": "2023-08-09T21:58:25.390Z"
   },
   {
    "duration": 1485,
    "start_time": "2023-08-10T05:58:43.543Z"
   },
   {
    "duration": 3,
    "start_time": "2023-08-10T05:58:45.030Z"
   },
   {
    "duration": 657,
    "start_time": "2023-08-10T05:58:45.034Z"
   },
   {
    "duration": 122,
    "start_time": "2023-08-10T05:58:45.693Z"
   },
   {
    "duration": 338,
    "start_time": "2023-08-10T05:58:45.818Z"
   },
   {
    "duration": 497,
    "start_time": "2023-08-10T05:58:46.159Z"
   },
   {
    "duration": 22,
    "start_time": "2023-08-10T05:58:46.658Z"
   },
   {
    "duration": 5,
    "start_time": "2023-08-10T05:58:46.681Z"
   },
   {
    "duration": 12,
    "start_time": "2023-08-10T05:58:46.688Z"
   },
   {
    "duration": 8,
    "start_time": "2023-08-10T05:58:46.702Z"
   },
   {
    "duration": 18,
    "start_time": "2023-08-10T05:58:46.711Z"
   },
   {
    "duration": 48,
    "start_time": "2023-08-10T05:58:46.731Z"
   },
   {
    "duration": 19,
    "start_time": "2023-08-10T05:58:46.781Z"
   },
   {
    "duration": 4,
    "start_time": "2023-08-10T05:58:46.804Z"
   },
   {
    "duration": 33,
    "start_time": "2023-08-10T05:58:46.810Z"
   },
   {
    "duration": 143,
    "start_time": "2023-08-10T05:58:46.845Z"
   },
   {
    "duration": 166,
    "start_time": "2023-08-10T05:58:46.990Z"
   },
   {
    "duration": 82,
    "start_time": "2023-08-10T05:58:47.158Z"
   },
   {
    "duration": 70,
    "start_time": "2023-08-10T05:58:47.242Z"
   },
   {
    "duration": 59,
    "start_time": "2023-08-10T05:58:47.314Z"
   },
   {
    "duration": 19,
    "start_time": "2023-08-10T05:58:47.376Z"
   },
   {
    "duration": 5,
    "start_time": "2023-08-10T05:58:47.398Z"
   },
   {
    "duration": 1652,
    "start_time": "2023-08-10T05:58:47.405Z"
   },
   {
    "duration": 43,
    "start_time": "2023-08-10T05:58:49.060Z"
   },
   {
    "duration": 315,
    "start_time": "2023-08-10T05:58:49.105Z"
   },
   {
    "duration": 89,
    "start_time": "2023-08-10T05:58:49.422Z"
   },
   {
    "duration": 207,
    "start_time": "2023-08-10T05:58:49.513Z"
   },
   {
    "duration": 7,
    "start_time": "2023-08-10T05:58:49.722Z"
   },
   {
    "duration": 36,
    "start_time": "2023-08-10T05:58:49.730Z"
   },
   {
    "duration": 18,
    "start_time": "2023-08-10T05:58:49.768Z"
   },
   {
    "duration": 9,
    "start_time": "2023-08-10T05:58:49.788Z"
   },
   {
    "duration": 19,
    "start_time": "2023-08-10T05:58:49.798Z"
   },
   {
    "duration": 46,
    "start_time": "2023-08-10T05:58:49.818Z"
   },
   {
    "duration": 6,
    "start_time": "2023-08-10T05:58:49.866Z"
   },
   {
    "duration": 10,
    "start_time": "2023-08-10T05:58:49.873Z"
   },
   {
    "duration": 21,
    "start_time": "2023-08-10T05:58:49.884Z"
   },
   {
    "duration": 5,
    "start_time": "2023-08-10T05:58:49.907Z"
   },
   {
    "duration": 49,
    "start_time": "2023-08-10T05:58:49.913Z"
   },
   {
    "duration": 4,
    "start_time": "2023-08-10T05:58:49.964Z"
   },
   {
    "duration": 71,
    "start_time": "2023-08-10T05:58:49.969Z"
   },
   {
    "duration": 23,
    "start_time": "2023-08-10T05:58:50.057Z"
   },
   {
    "duration": 16,
    "start_time": "2023-08-10T05:58:50.082Z"
   },
   {
    "duration": 26,
    "start_time": "2023-08-10T05:58:50.100Z"
   },
   {
    "duration": 158,
    "start_time": "2023-08-10T05:58:50.128Z"
   },
   {
    "duration": 113,
    "start_time": "2023-08-10T05:58:50.288Z"
   },
   {
    "duration": 15,
    "start_time": "2023-08-10T05:58:50.402Z"
   },
   {
    "duration": 857,
    "start_time": "2023-08-10T05:58:50.420Z"
   },
   {
    "duration": 19,
    "start_time": "2023-08-10T05:58:51.279Z"
   },
   {
    "duration": 99,
    "start_time": "2023-08-10T05:58:51.300Z"
   },
   {
    "duration": 56,
    "start_time": "2023-08-10T05:58:51.401Z"
   },
   {
    "duration": 46,
    "start_time": "2023-08-10T05:58:51.459Z"
   },
   {
    "duration": 49,
    "start_time": "2023-08-10T05:58:51.507Z"
   },
   {
    "duration": 14,
    "start_time": "2023-08-10T05:58:51.558Z"
   },
   {
    "duration": 32,
    "start_time": "2023-08-10T05:58:51.573Z"
   },
   {
    "duration": 7,
    "start_time": "2023-08-10T05:58:51.607Z"
   },
   {
    "duration": 32,
    "start_time": "2023-08-10T05:58:51.616Z"
   },
   {
    "duration": 13,
    "start_time": "2023-08-10T05:58:51.650Z"
   },
   {
    "duration": 17,
    "start_time": "2023-08-10T05:58:51.665Z"
   },
   {
    "duration": 28,
    "start_time": "2023-08-10T07:59:04.002Z"
   },
   {
    "duration": 53,
    "start_time": "2023-08-10T08:06:54.273Z"
   },
   {
    "duration": 5,
    "start_time": "2023-08-10T08:07:21.977Z"
   },
   {
    "duration": 55,
    "start_time": "2023-08-10T08:07:24.114Z"
   },
   {
    "duration": 67,
    "start_time": "2023-08-10T08:07:44.703Z"
   },
   {
    "duration": 16,
    "start_time": "2023-08-10T08:08:59.081Z"
   },
   {
    "duration": 132,
    "start_time": "2023-08-10T08:09:14.915Z"
   },
   {
    "duration": 7,
    "start_time": "2023-08-10T08:21:42.428Z"
   },
   {
    "duration": 16,
    "start_time": "2023-08-10T08:21:44.915Z"
   },
   {
    "duration": 11,
    "start_time": "2023-08-10T08:21:52.911Z"
   },
   {
    "duration": 9,
    "start_time": "2023-08-10T08:22:42.712Z"
   },
   {
    "duration": 10,
    "start_time": "2023-08-10T08:23:41.990Z"
   },
   {
    "duration": 8,
    "start_time": "2023-08-10T08:24:23.318Z"
   },
   {
    "duration": 11,
    "start_time": "2023-08-10T08:24:28.810Z"
   },
   {
    "duration": 1339,
    "start_time": "2023-08-10T08:33:13.637Z"
   },
   {
    "duration": 2,
    "start_time": "2023-08-10T08:33:14.979Z"
   },
   {
    "duration": 992,
    "start_time": "2023-08-10T08:33:14.982Z"
   },
   {
    "duration": 287,
    "start_time": "2023-08-10T08:33:15.976Z"
   },
   {
    "duration": 100,
    "start_time": "2023-08-10T08:33:16.266Z"
   },
   {
    "duration": 722,
    "start_time": "2023-08-10T08:33:16.368Z"
   },
   {
    "duration": 537,
    "start_time": "2023-08-10T08:33:17.092Z"
   },
   {
    "duration": 37,
    "start_time": "2023-08-10T08:33:17.631Z"
   },
   {
    "duration": 4,
    "start_time": "2023-08-10T08:33:17.671Z"
   },
   {
    "duration": 18,
    "start_time": "2023-08-10T08:33:17.676Z"
   },
   {
    "duration": 5,
    "start_time": "2023-08-10T08:33:17.696Z"
   },
   {
    "duration": 12,
    "start_time": "2023-08-10T08:33:17.703Z"
   },
   {
    "duration": 19,
    "start_time": "2023-08-10T08:33:17.717Z"
   },
   {
    "duration": 30,
    "start_time": "2023-08-10T08:33:17.739Z"
   },
   {
    "duration": 3,
    "start_time": "2023-08-10T08:33:17.771Z"
   },
   {
    "duration": 14,
    "start_time": "2023-08-10T08:33:17.776Z"
   },
   {
    "duration": 152,
    "start_time": "2023-08-10T08:33:17.792Z"
   },
   {
    "duration": 151,
    "start_time": "2023-08-10T08:33:17.945Z"
   },
   {
    "duration": 172,
    "start_time": "2023-08-10T08:33:18.098Z"
   },
   {
    "duration": 49,
    "start_time": "2023-08-10T08:33:18.272Z"
   },
   {
    "duration": 67,
    "start_time": "2023-08-10T08:33:18.323Z"
   },
   {
    "duration": 14,
    "start_time": "2023-08-10T08:33:18.392Z"
   },
   {
    "duration": 49,
    "start_time": "2023-08-10T08:33:18.408Z"
   },
   {
    "duration": 1713,
    "start_time": "2023-08-10T08:33:18.459Z"
   },
   {
    "duration": 53,
    "start_time": "2023-08-10T08:33:20.174Z"
   },
   {
    "duration": 300,
    "start_time": "2023-08-10T08:33:20.229Z"
   },
   {
    "duration": 96,
    "start_time": "2023-08-10T08:33:20.531Z"
   },
   {
    "duration": 242,
    "start_time": "2023-08-10T08:33:20.629Z"
   },
   {
    "duration": 9,
    "start_time": "2023-08-10T08:33:20.874Z"
   },
   {
    "duration": 38,
    "start_time": "2023-08-10T08:33:20.885Z"
   },
   {
    "duration": 20,
    "start_time": "2023-08-10T08:33:20.925Z"
   },
   {
    "duration": 21,
    "start_time": "2023-08-10T08:33:20.947Z"
   },
   {
    "duration": 21,
    "start_time": "2023-08-10T08:33:20.970Z"
   },
   {
    "duration": 22,
    "start_time": "2023-08-10T08:33:20.993Z"
   },
   {
    "duration": 22,
    "start_time": "2023-08-10T08:33:21.017Z"
   },
   {
    "duration": 7,
    "start_time": "2023-08-10T08:33:21.042Z"
   },
   {
    "duration": 31,
    "start_time": "2023-08-10T08:33:21.050Z"
   },
   {
    "duration": 48,
    "start_time": "2023-08-10T08:33:21.083Z"
   },
   {
    "duration": 52,
    "start_time": "2023-08-10T08:33:21.133Z"
   },
   {
    "duration": 11,
    "start_time": "2023-08-10T08:33:21.186Z"
   },
   {
    "duration": 81,
    "start_time": "2023-08-10T08:33:21.201Z"
   },
   {
    "duration": 28,
    "start_time": "2023-08-10T08:33:21.283Z"
   },
   {
    "duration": 14,
    "start_time": "2023-08-10T08:33:21.313Z"
   },
   {
    "duration": 52,
    "start_time": "2023-08-10T08:33:21.329Z"
   },
   {
    "duration": 114,
    "start_time": "2023-08-10T08:33:21.383Z"
   },
   {
    "duration": 111,
    "start_time": "2023-08-10T08:33:21.498Z"
   },
   {
    "duration": 13,
    "start_time": "2023-08-10T08:33:21.611Z"
   },
   {
    "duration": 367,
    "start_time": "2023-08-10T08:33:21.626Z"
   },
   {
    "duration": 17,
    "start_time": "2023-08-10T08:33:21.995Z"
   },
   {
    "duration": 164,
    "start_time": "2023-08-10T08:33:22.014Z"
   },
   {
    "duration": 3,
    "start_time": "2023-08-10T08:33:22.180Z"
   },
   {
    "duration": 10,
    "start_time": "2023-08-10T08:33:22.185Z"
   },
   {
    "duration": 75,
    "start_time": "2023-08-10T08:33:22.196Z"
   },
   {
    "duration": 18,
    "start_time": "2023-08-10T08:33:22.273Z"
   },
   {
    "duration": 10,
    "start_time": "2023-08-10T08:33:22.292Z"
   },
   {
    "duration": 32,
    "start_time": "2023-08-10T08:33:22.304Z"
   },
   {
    "duration": 35,
    "start_time": "2023-08-10T08:33:22.337Z"
   },
   {
    "duration": 42,
    "start_time": "2023-08-10T08:33:22.374Z"
   },
   {
    "duration": 15,
    "start_time": "2023-08-10T08:33:22.417Z"
   },
   {
    "duration": 22,
    "start_time": "2023-08-10T08:33:22.433Z"
   },
   {
    "duration": 9,
    "start_time": "2023-08-10T08:33:22.467Z"
   },
   {
    "duration": 1429,
    "start_time": "2023-08-10T08:35:01.981Z"
   },
   {
    "duration": 3,
    "start_time": "2023-08-10T08:35:03.412Z"
   },
   {
    "duration": 690,
    "start_time": "2023-08-10T08:35:03.416Z"
   },
   {
    "duration": 134,
    "start_time": "2023-08-10T08:35:04.108Z"
   },
   {
    "duration": 57,
    "start_time": "2023-08-10T08:35:04.244Z"
   },
   {
    "duration": 472,
    "start_time": "2023-08-10T08:35:04.303Z"
   },
   {
    "duration": 811,
    "start_time": "2023-08-10T08:35:04.777Z"
   },
   {
    "duration": 87,
    "start_time": "2023-08-10T08:35:05.590Z"
   },
   {
    "duration": 4,
    "start_time": "2023-08-10T08:35:05.679Z"
   },
   {
    "duration": 26,
    "start_time": "2023-08-10T08:35:05.685Z"
   },
   {
    "duration": 49,
    "start_time": "2023-08-10T08:35:05.713Z"
   },
   {
    "duration": 12,
    "start_time": "2023-08-10T08:35:05.765Z"
   },
   {
    "duration": 84,
    "start_time": "2023-08-10T08:35:05.780Z"
   },
   {
    "duration": 26,
    "start_time": "2023-08-10T08:35:05.870Z"
   },
   {
    "duration": 7,
    "start_time": "2023-08-10T08:35:05.898Z"
   },
   {
    "duration": 17,
    "start_time": "2023-08-10T08:35:05.958Z"
   },
   {
    "duration": 321,
    "start_time": "2023-08-10T08:35:05.978Z"
   },
   {
    "duration": 375,
    "start_time": "2023-08-10T08:35:06.301Z"
   },
   {
    "duration": 187,
    "start_time": "2023-08-10T08:35:06.678Z"
   },
   {
    "duration": 51,
    "start_time": "2023-08-10T08:35:06.867Z"
   },
   {
    "duration": 50,
    "start_time": "2023-08-10T08:35:06.956Z"
   },
   {
    "duration": 12,
    "start_time": "2023-08-10T08:35:07.008Z"
   },
   {
    "duration": 29,
    "start_time": "2023-08-10T08:35:07.022Z"
   },
   {
    "duration": 1719,
    "start_time": "2023-08-10T08:35:07.053Z"
   },
   {
    "duration": 39,
    "start_time": "2023-08-10T08:35:08.774Z"
   },
   {
    "duration": 390,
    "start_time": "2023-08-10T08:35:08.815Z"
   },
   {
    "duration": 103,
    "start_time": "2023-08-10T08:35:09.208Z"
   },
   {
    "duration": 228,
    "start_time": "2023-08-10T08:35:09.313Z"
   },
   {
    "duration": 13,
    "start_time": "2023-08-10T08:35:09.544Z"
   },
   {
    "duration": 29,
    "start_time": "2023-08-10T08:35:09.567Z"
   },
   {
    "duration": 20,
    "start_time": "2023-08-10T08:35:09.598Z"
   },
   {
    "duration": 9,
    "start_time": "2023-08-10T08:35:09.620Z"
   },
   {
    "duration": 36,
    "start_time": "2023-08-10T08:35:09.630Z"
   },
   {
    "duration": 21,
    "start_time": "2023-08-10T08:35:09.667Z"
   },
   {
    "duration": 7,
    "start_time": "2023-08-10T08:35:09.690Z"
   },
   {
    "duration": 7,
    "start_time": "2023-08-10T08:35:09.699Z"
   },
   {
    "duration": 35,
    "start_time": "2023-08-10T08:35:09.708Z"
   },
   {
    "duration": 78,
    "start_time": "2023-08-10T08:35:09.745Z"
   },
   {
    "duration": 125,
    "start_time": "2023-08-10T08:35:09.825Z"
   },
   {
    "duration": 34,
    "start_time": "2023-08-10T08:35:09.952Z"
   },
   {
    "duration": 101,
    "start_time": "2023-08-10T08:35:09.990Z"
   },
   {
    "duration": 29,
    "start_time": "2023-08-10T08:35:10.093Z"
   },
   {
    "duration": 45,
    "start_time": "2023-08-10T08:35:10.124Z"
   },
   {
    "duration": 29,
    "start_time": "2023-08-10T08:35:10.171Z"
   },
   {
    "duration": 120,
    "start_time": "2023-08-10T08:35:10.202Z"
   },
   {
    "duration": 127,
    "start_time": "2023-08-10T08:35:10.324Z"
   },
   {
    "duration": 17,
    "start_time": "2023-08-10T08:35:10.458Z"
   },
   {
    "duration": 362,
    "start_time": "2023-08-10T08:35:10.477Z"
   },
   {
    "duration": 21,
    "start_time": "2023-08-10T08:35:10.842Z"
   },
   {
    "duration": 129,
    "start_time": "2023-08-10T08:35:10.865Z"
   },
   {
    "duration": 3,
    "start_time": "2023-08-10T08:35:10.996Z"
   },
   {
    "duration": 6,
    "start_time": "2023-08-10T08:35:11.001Z"
   },
   {
    "duration": 89,
    "start_time": "2023-08-10T08:35:11.009Z"
   },
   {
    "duration": 12,
    "start_time": "2023-08-10T08:35:11.100Z"
   },
   {
    "duration": 10,
    "start_time": "2023-08-10T08:35:11.113Z"
   },
   {
    "duration": 47,
    "start_time": "2023-08-10T08:35:11.125Z"
   },
   {
    "duration": 7,
    "start_time": "2023-08-10T08:35:11.174Z"
   },
   {
    "duration": 17,
    "start_time": "2023-08-10T08:35:11.182Z"
   },
   {
    "duration": 10,
    "start_time": "2023-08-10T08:35:11.201Z"
   },
   {
    "duration": 12,
    "start_time": "2023-08-10T08:35:11.213Z"
   },
   {
    "duration": 49,
    "start_time": "2023-08-10T08:35:11.227Z"
   },
   {
    "duration": 24,
    "start_time": "2023-08-10T08:35:26.910Z"
   },
   {
    "duration": 29,
    "start_time": "2023-08-10T08:35:32.070Z"
   },
   {
    "duration": 1272,
    "start_time": "2023-08-10T08:35:41.517Z"
   },
   {
    "duration": 2,
    "start_time": "2023-08-10T08:35:42.791Z"
   },
   {
    "duration": 694,
    "start_time": "2023-08-10T08:35:42.795Z"
   },
   {
    "duration": 127,
    "start_time": "2023-08-10T08:35:43.491Z"
   },
   {
    "duration": 64,
    "start_time": "2023-08-10T08:35:43.620Z"
   },
   {
    "duration": 588,
    "start_time": "2023-08-10T08:35:43.687Z"
   },
   {
    "duration": 713,
    "start_time": "2023-08-10T08:35:44.278Z"
   },
   {
    "duration": 78,
    "start_time": "2023-08-10T08:35:44.993Z"
   },
   {
    "duration": 3,
    "start_time": "2023-08-10T08:35:45.074Z"
   },
   {
    "duration": 82,
    "start_time": "2023-08-10T08:35:45.081Z"
   },
   {
    "duration": 8,
    "start_time": "2023-08-10T08:35:45.165Z"
   },
   {
    "duration": 21,
    "start_time": "2023-08-10T08:35:45.177Z"
   },
   {
    "duration": 75,
    "start_time": "2023-08-10T08:35:45.201Z"
   },
   {
    "duration": 20,
    "start_time": "2023-08-10T08:35:45.279Z"
   },
   {
    "duration": 60,
    "start_time": "2023-08-10T08:35:45.301Z"
   },
   {
    "duration": 13,
    "start_time": "2023-08-10T08:35:45.363Z"
   },
   {
    "duration": 303,
    "start_time": "2023-08-10T08:35:45.379Z"
   },
   {
    "duration": 317,
    "start_time": "2023-08-10T08:35:45.684Z"
   },
   {
    "duration": 170,
    "start_time": "2023-08-10T08:35:46.003Z"
   },
   {
    "duration": 51,
    "start_time": "2023-08-10T08:35:46.175Z"
   },
   {
    "duration": 69,
    "start_time": "2023-08-10T08:35:46.228Z"
   },
   {
    "duration": 12,
    "start_time": "2023-08-10T08:35:46.299Z"
   },
   {
    "duration": 10,
    "start_time": "2023-08-10T08:35:46.313Z"
   },
   {
    "duration": 1726,
    "start_time": "2023-08-10T08:35:46.324Z"
   },
   {
    "duration": 47,
    "start_time": "2023-08-10T08:35:48.051Z"
   },
   {
    "duration": 328,
    "start_time": "2023-08-10T08:35:48.100Z"
   },
   {
    "duration": 101,
    "start_time": "2023-08-10T08:35:48.430Z"
   },
   {
    "duration": 250,
    "start_time": "2023-08-10T08:35:48.533Z"
   },
   {
    "duration": 8,
    "start_time": "2023-08-10T08:35:48.785Z"
   },
   {
    "duration": 24,
    "start_time": "2023-08-10T08:35:48.795Z"
   },
   {
    "duration": 59,
    "start_time": "2023-08-10T08:35:48.824Z"
   },
   {
    "duration": 11,
    "start_time": "2023-08-10T08:35:48.887Z"
   },
   {
    "duration": 63,
    "start_time": "2023-08-10T08:35:48.900Z"
   },
   {
    "duration": 78,
    "start_time": "2023-08-10T08:35:48.965Z"
   },
   {
    "duration": 30,
    "start_time": "2023-08-10T08:35:49.045Z"
   },
   {
    "duration": 47,
    "start_time": "2023-08-10T08:35:49.078Z"
   },
   {
    "duration": 43,
    "start_time": "2023-08-10T08:35:49.127Z"
   },
   {
    "duration": 48,
    "start_time": "2023-08-10T08:35:49.173Z"
   },
   {
    "duration": 44,
    "start_time": "2023-08-10T08:35:49.222Z"
   },
   {
    "duration": 10,
    "start_time": "2023-08-10T08:35:49.271Z"
   },
   {
    "duration": 100,
    "start_time": "2023-08-10T08:35:49.287Z"
   },
   {
    "duration": 27,
    "start_time": "2023-08-10T08:35:49.389Z"
   },
   {
    "duration": 40,
    "start_time": "2023-08-10T08:35:49.417Z"
   },
   {
    "duration": 33,
    "start_time": "2023-08-10T08:35:49.466Z"
   },
   {
    "duration": 118,
    "start_time": "2023-08-10T08:35:49.501Z"
   },
   {
    "duration": 115,
    "start_time": "2023-08-10T08:35:49.621Z"
   },
   {
    "duration": 19,
    "start_time": "2023-08-10T08:35:49.738Z"
   },
   {
    "duration": 366,
    "start_time": "2023-08-10T08:35:49.760Z"
   },
   {
    "duration": 32,
    "start_time": "2023-08-10T08:35:50.128Z"
   },
   {
    "duration": 119,
    "start_time": "2023-08-10T08:35:50.162Z"
   },
   {
    "duration": 3,
    "start_time": "2023-08-10T08:35:50.283Z"
   },
   {
    "duration": 17,
    "start_time": "2023-08-10T08:35:50.288Z"
   },
   {
    "duration": 82,
    "start_time": "2023-08-10T08:35:50.307Z"
   },
   {
    "duration": 26,
    "start_time": "2023-08-10T08:35:50.391Z"
   },
   {
    "duration": 17,
    "start_time": "2023-08-10T08:35:50.420Z"
   },
   {
    "duration": 52,
    "start_time": "2023-08-10T08:35:50.439Z"
   },
   {
    "duration": 43,
    "start_time": "2023-08-10T08:35:50.493Z"
   },
   {
    "duration": 58,
    "start_time": "2023-08-10T08:35:50.538Z"
   },
   {
    "duration": 44,
    "start_time": "2023-08-10T08:35:50.598Z"
   },
   {
    "duration": 38,
    "start_time": "2023-08-10T08:35:50.644Z"
   },
   {
    "duration": 51,
    "start_time": "2023-08-10T08:35:50.684Z"
   },
   {
    "duration": 1392,
    "start_time": "2023-08-10T08:40:26.603Z"
   },
   {
    "duration": 3,
    "start_time": "2023-08-10T08:40:27.997Z"
   },
   {
    "duration": 785,
    "start_time": "2023-08-10T08:40:28.001Z"
   },
   {
    "duration": 142,
    "start_time": "2023-08-10T08:40:28.788Z"
   },
   {
    "duration": 65,
    "start_time": "2023-08-10T08:40:28.932Z"
   },
   {
    "duration": 448,
    "start_time": "2023-08-10T08:40:28.999Z"
   },
   {
    "duration": 339,
    "start_time": "2023-08-10T08:40:29.449Z"
   },
   {
    "duration": 21,
    "start_time": "2023-08-10T08:40:29.790Z"
   },
   {
    "duration": 4,
    "start_time": "2023-08-10T08:40:29.813Z"
   },
   {
    "duration": 32,
    "start_time": "2023-08-10T08:40:29.818Z"
   },
   {
    "duration": 37,
    "start_time": "2023-08-10T08:40:29.852Z"
   },
   {
    "duration": 13,
    "start_time": "2023-08-10T08:40:29.890Z"
   },
   {
    "duration": 27,
    "start_time": "2023-08-10T08:40:29.905Z"
   },
   {
    "duration": 18,
    "start_time": "2023-08-10T08:40:29.935Z"
   },
   {
    "duration": 14,
    "start_time": "2023-08-10T08:40:29.955Z"
   },
   {
    "duration": 21,
    "start_time": "2023-08-10T08:40:29.971Z"
   },
   {
    "duration": 192,
    "start_time": "2023-08-10T08:40:29.995Z"
   },
   {
    "duration": 160,
    "start_time": "2023-08-10T08:40:30.189Z"
   },
   {
    "duration": 88,
    "start_time": "2023-08-10T08:40:30.351Z"
   },
   {
    "duration": 70,
    "start_time": "2023-08-10T08:40:30.440Z"
   },
   {
    "duration": 55,
    "start_time": "2023-08-10T08:40:30.512Z"
   },
   {
    "duration": 14,
    "start_time": "2023-08-10T08:40:30.573Z"
   },
   {
    "duration": 26,
    "start_time": "2023-08-10T08:40:30.589Z"
   },
   {
    "duration": 1718,
    "start_time": "2023-08-10T08:40:30.618Z"
   },
   {
    "duration": 51,
    "start_time": "2023-08-10T08:40:32.338Z"
   },
   {
    "duration": 321,
    "start_time": "2023-08-10T08:40:32.391Z"
   },
   {
    "duration": 100,
    "start_time": "2023-08-10T08:40:32.716Z"
   },
   {
    "duration": 230,
    "start_time": "2023-08-10T08:40:32.818Z"
   },
   {
    "duration": 24,
    "start_time": "2023-08-10T08:40:33.050Z"
   },
   {
    "duration": 20,
    "start_time": "2023-08-10T08:40:33.075Z"
   },
   {
    "duration": 26,
    "start_time": "2023-08-10T08:40:33.097Z"
   },
   {
    "duration": 22,
    "start_time": "2023-08-10T08:40:33.125Z"
   },
   {
    "duration": 25,
    "start_time": "2023-08-10T08:40:33.149Z"
   },
   {
    "duration": 34,
    "start_time": "2023-08-10T08:40:33.177Z"
   },
   {
    "duration": 12,
    "start_time": "2023-08-10T08:40:33.213Z"
   },
   {
    "duration": 32,
    "start_time": "2023-08-10T08:40:33.227Z"
   },
   {
    "duration": 37,
    "start_time": "2023-08-10T08:40:33.260Z"
   },
   {
    "duration": 5,
    "start_time": "2023-08-10T08:40:33.299Z"
   },
   {
    "duration": 35,
    "start_time": "2023-08-10T08:40:33.306Z"
   },
   {
    "duration": 4,
    "start_time": "2023-08-10T08:40:33.342Z"
   },
   {
    "duration": 82,
    "start_time": "2023-08-10T08:40:33.349Z"
   },
   {
    "duration": 44,
    "start_time": "2023-08-10T08:40:33.434Z"
   },
   {
    "duration": 19,
    "start_time": "2023-08-10T08:40:33.480Z"
   },
   {
    "duration": 63,
    "start_time": "2023-08-10T08:40:33.501Z"
   },
   {
    "duration": 118,
    "start_time": "2023-08-10T08:40:33.568Z"
   },
   {
    "duration": 132,
    "start_time": "2023-08-10T08:40:33.689Z"
   },
   {
    "duration": 15,
    "start_time": "2023-08-10T08:40:33.823Z"
   },
   {
    "duration": 411,
    "start_time": "2023-08-10T08:40:33.840Z"
   },
   {
    "duration": 25,
    "start_time": "2023-08-10T08:40:34.253Z"
   },
   {
    "duration": 116,
    "start_time": "2023-08-10T08:40:34.280Z"
   },
   {
    "duration": 3,
    "start_time": "2023-08-10T08:40:34.398Z"
   },
   {
    "duration": 16,
    "start_time": "2023-08-10T08:40:34.402Z"
   },
   {
    "duration": 80,
    "start_time": "2023-08-10T08:40:34.420Z"
   },
   {
    "duration": 13,
    "start_time": "2023-08-10T08:40:34.502Z"
   },
   {
    "duration": 12,
    "start_time": "2023-08-10T08:40:34.516Z"
   },
   {
    "duration": 44,
    "start_time": "2023-08-10T08:40:34.529Z"
   },
   {
    "duration": 18,
    "start_time": "2023-08-10T08:40:34.575Z"
   },
   {
    "duration": 14,
    "start_time": "2023-08-10T08:40:34.595Z"
   },
   {
    "duration": 11,
    "start_time": "2023-08-10T08:40:34.611Z"
   },
   {
    "duration": 42,
    "start_time": "2023-08-10T08:40:34.625Z"
   },
   {
    "duration": 11,
    "start_time": "2023-08-10T08:40:34.669Z"
   },
   {
    "duration": 1453,
    "start_time": "2023-08-10T09:00:17.790Z"
   },
   {
    "duration": 14,
    "start_time": "2023-08-10T09:00:19.246Z"
   },
   {
    "duration": 687,
    "start_time": "2023-08-10T09:00:19.265Z"
   },
   {
    "duration": 145,
    "start_time": "2023-08-10T09:00:19.953Z"
   },
   {
    "duration": 39,
    "start_time": "2023-08-10T09:00:20.100Z"
   },
   {
    "duration": 393,
    "start_time": "2023-08-10T09:00:20.140Z"
   },
   {
    "duration": 382,
    "start_time": "2023-08-10T09:00:20.535Z"
   },
   {
    "duration": 22,
    "start_time": "2023-08-10T09:00:20.919Z"
   },
   {
    "duration": 16,
    "start_time": "2023-08-10T09:00:20.943Z"
   },
   {
    "duration": 22,
    "start_time": "2023-08-10T09:00:20.965Z"
   },
   {
    "duration": 6,
    "start_time": "2023-08-10T09:00:20.989Z"
   },
   {
    "duration": 29,
    "start_time": "2023-08-10T09:00:20.997Z"
   },
   {
    "duration": 22,
    "start_time": "2023-08-10T09:00:21.028Z"
   },
   {
    "duration": 34,
    "start_time": "2023-08-10T09:00:21.053Z"
   },
   {
    "duration": 4,
    "start_time": "2023-08-10T09:00:21.088Z"
   },
   {
    "duration": 24,
    "start_time": "2023-08-10T09:00:21.094Z"
   },
   {
    "duration": 157,
    "start_time": "2023-08-10T09:00:21.120Z"
   },
   {
    "duration": 147,
    "start_time": "2023-08-10T09:00:21.284Z"
   },
   {
    "duration": 93,
    "start_time": "2023-08-10T09:00:21.433Z"
   },
   {
    "duration": 75,
    "start_time": "2023-08-10T09:00:21.528Z"
   },
   {
    "duration": 58,
    "start_time": "2023-08-10T09:00:21.605Z"
   },
   {
    "duration": 25,
    "start_time": "2023-08-10T09:00:21.667Z"
   },
   {
    "duration": 3,
    "start_time": "2023-08-10T09:00:21.694Z"
   },
   {
    "duration": 1797,
    "start_time": "2023-08-10T09:00:21.699Z"
   },
   {
    "duration": 38,
    "start_time": "2023-08-10T09:00:23.498Z"
   },
   {
    "duration": 322,
    "start_time": "2023-08-10T09:00:23.538Z"
   },
   {
    "duration": 122,
    "start_time": "2023-08-10T09:00:23.862Z"
   },
   {
    "duration": 236,
    "start_time": "2023-08-10T09:00:23.989Z"
   },
   {
    "duration": 10,
    "start_time": "2023-08-10T09:00:24.226Z"
   },
   {
    "duration": 50,
    "start_time": "2023-08-10T09:00:24.238Z"
   },
   {
    "duration": 31,
    "start_time": "2023-08-10T09:00:24.293Z"
   },
   {
    "duration": 20,
    "start_time": "2023-08-10T09:00:24.327Z"
   },
   {
    "duration": 25,
    "start_time": "2023-08-10T09:00:24.350Z"
   },
   {
    "duration": 26,
    "start_time": "2023-08-10T09:00:24.379Z"
   },
   {
    "duration": 8,
    "start_time": "2023-08-10T09:00:24.407Z"
   },
   {
    "duration": 18,
    "start_time": "2023-08-10T09:00:24.416Z"
   },
   {
    "duration": 31,
    "start_time": "2023-08-10T09:00:24.436Z"
   },
   {
    "duration": 6,
    "start_time": "2023-08-10T09:00:24.477Z"
   },
   {
    "duration": 26,
    "start_time": "2023-08-10T09:00:24.485Z"
   },
   {
    "duration": 4,
    "start_time": "2023-08-10T09:00:24.513Z"
   },
   {
    "duration": 80,
    "start_time": "2023-08-10T09:00:24.520Z"
   },
   {
    "duration": 29,
    "start_time": "2023-08-10T09:00:24.601Z"
   },
   {
    "duration": 43,
    "start_time": "2023-08-10T09:00:24.632Z"
   },
   {
    "duration": 35,
    "start_time": "2023-08-10T09:00:24.677Z"
   },
   {
    "duration": 119,
    "start_time": "2023-08-10T09:00:24.714Z"
   },
   {
    "duration": 134,
    "start_time": "2023-08-10T09:00:24.835Z"
   },
   {
    "duration": 22,
    "start_time": "2023-08-10T09:00:24.970Z"
   },
   {
    "duration": 800,
    "start_time": "2023-08-10T09:00:24.994Z"
   },
   {
    "duration": 23,
    "start_time": "2023-08-10T09:00:25.797Z"
   },
   {
    "duration": 147,
    "start_time": "2023-08-10T09:00:25.858Z"
   },
   {
    "duration": 3,
    "start_time": "2023-08-10T09:00:26.008Z"
   },
   {
    "duration": 29,
    "start_time": "2023-08-10T09:00:26.012Z"
   },
   {
    "duration": 58,
    "start_time": "2023-08-10T09:00:26.043Z"
   },
   {
    "duration": 16,
    "start_time": "2023-08-10T09:00:26.103Z"
   },
   {
    "duration": 13,
    "start_time": "2023-08-10T09:00:26.121Z"
   },
   {
    "duration": 39,
    "start_time": "2023-08-10T09:00:26.136Z"
   },
   {
    "duration": 13,
    "start_time": "2023-08-10T09:00:26.178Z"
   },
   {
    "duration": 13,
    "start_time": "2023-08-10T09:00:26.192Z"
   },
   {
    "duration": 10,
    "start_time": "2023-08-10T09:00:26.206Z"
   },
   {
    "duration": 17,
    "start_time": "2023-08-10T09:00:26.218Z"
   },
   {
    "duration": 11,
    "start_time": "2023-08-10T09:00:26.261Z"
   }
  ],
  "kernelspec": {
   "display_name": "Python 3",
   "language": "python",
   "name": "python3"
  },
  "language_info": {
   "codemirror_mode": {
    "name": "ipython",
    "version": 3
   },
   "file_extension": ".py",
   "mimetype": "text/x-python",
   "name": "python",
   "nbconvert_exporter": "python",
   "pygments_lexer": "ipython3",
   "version": "3.8.8"
  },
  "toc": {
   "base_numbering": 1,
   "nav_menu": {},
   "number_sections": true,
   "sideBar": true,
   "skip_h1_title": true,
   "title_cell": "Table of Contents",
   "title_sidebar": "Contents",
   "toc_cell": false,
   "toc_position": {
    "height": "calc(100% - 180px)",
    "left": "10px",
    "top": "150px",
    "width": "275px"
   },
   "toc_section_display": true,
   "toc_window_display": true
  }
 },
 "nbformat": 4,
 "nbformat_minor": 2
}
