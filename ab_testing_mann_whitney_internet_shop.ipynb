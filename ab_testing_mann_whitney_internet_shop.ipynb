{
 "cells": [
  {
   "cell_type": "markdown",
   "metadata": {},
   "source": [
    "# А/B тестирование: интернет-магазин"
   ]
  },
  {
   "cell_type": "markdown",
   "metadata": {},
   "source": [
    "<font color=\"DarkCyan\">Что тут есть: приоритизация гипотез ICE/RICE, расчет кумулятивных показателей, подготовка выборок для теста, проверка критерием Манна-Уитни, анализ кумулятивной выручки/среднего чека/относительного среднего чека в сравнении выборок \"А\" и \"Б\""
   ]
  },
  {
   "cell_type": "markdown",
   "metadata": {},
   "source": [
    "Отдел маркетинга собрал список гипотез для увеличения выручки: приоритизируем их, запустим А/Б тест и интерпретируем результаты."
   ]
  },
  {
   "cell_type": "markdown",
   "metadata": {},
   "source": [
    "## Предобработка данных"
   ]
  },
  {
   "cell_type": "markdown",
   "metadata": {},
   "source": [
    "> ○ подгрузим нужные нам библиотеки\n",
    "<br> ○ объявим переменные с датасетами\n",
    "<br> ○ напишем функцию и прогоним ей инфо о датасетах"
   ]
  },
  {
   "cell_type": "code",
   "execution_count": 1,
   "metadata": {},
   "outputs": [],
   "source": [
    "import pandas as pd\n",
    "import matplotlib.pyplot as plt\n",
    "import numpy as np\n",
    "import scipy.stats as stats\n",
    "import datetime as dt"
   ]
  },
  {
   "cell_type": "code",
   "execution_count": 2,
   "metadata": {},
   "outputs": [],
   "source": [
    "hyps = pd.read_csv('hypothesis.csv')\n",
    "orders = pd.read_csv('orders.csv')\n",
    "visitors = pd.read_csv('visitors.csv')"
   ]
  },
  {
   "cell_type": "code",
   "execution_count": 3,
   "metadata": {},
   "outputs": [
    {
     "data": {
      "text/html": [
       "<div>\n",
       "<style scoped>\n",
       "    .dataframe tbody tr th:only-of-type {\n",
       "        vertical-align: middle;\n",
       "    }\n",
       "\n",
       "    .dataframe tbody tr th {\n",
       "        vertical-align: top;\n",
       "    }\n",
       "\n",
       "    .dataframe thead th {\n",
       "        text-align: right;\n",
       "    }\n",
       "</style>\n",
       "<table border=\"1\" class=\"dataframe\">\n",
       "  <thead>\n",
       "    <tr style=\"text-align: right;\">\n",
       "      <th></th>\n",
       "      <th>Hypothesis</th>\n",
       "      <th>Reach</th>\n",
       "      <th>Impact</th>\n",
       "      <th>Confidence</th>\n",
       "      <th>Efforts</th>\n",
       "    </tr>\n",
       "  </thead>\n",
       "  <tbody>\n",
       "    <tr>\n",
       "      <th>0</th>\n",
       "      <td>Добавить два новых канала привлечения трафика,...</td>\n",
       "      <td>3</td>\n",
       "      <td>10</td>\n",
       "      <td>8</td>\n",
       "      <td>6</td>\n",
       "    </tr>\n",
       "  </tbody>\n",
       "</table>\n",
       "</div>"
      ],
      "text/plain": [
       "                                          Hypothesis  Reach  Impact  \\\n",
       "0  Добавить два новых канала привлечения трафика,...      3      10   \n",
       "\n",
       "   Confidence  Efforts  \n",
       "0           8        6  "
      ]
     },
     "metadata": {},
     "output_type": "display_data"
    },
    {
     "name": "stdout",
     "output_type": "stream",
     "text": [
      "<class 'pandas.core.frame.DataFrame'>\n",
      "RangeIndex: 9 entries, 0 to 8\n",
      "Data columns (total 5 columns):\n",
      " #   Column      Non-Null Count  Dtype \n",
      "---  ------      --------------  ----- \n",
      " 0   Hypothesis  9 non-null      object\n",
      " 1   Reach       9 non-null      int64 \n",
      " 2   Impact      9 non-null      int64 \n",
      " 3   Confidence  9 non-null      int64 \n",
      " 4   Efforts     9 non-null      int64 \n",
      "dtypes: int64(4), object(1)\n",
      "memory usage: 488.0+ bytes\n"
     ]
    },
    {
     "data": {
      "text/html": [
       "<div>\n",
       "<style scoped>\n",
       "    .dataframe tbody tr th:only-of-type {\n",
       "        vertical-align: middle;\n",
       "    }\n",
       "\n",
       "    .dataframe tbody tr th {\n",
       "        vertical-align: top;\n",
       "    }\n",
       "\n",
       "    .dataframe thead th {\n",
       "        text-align: right;\n",
       "    }\n",
       "</style>\n",
       "<table border=\"1\" class=\"dataframe\">\n",
       "  <thead>\n",
       "    <tr style=\"text-align: right;\">\n",
       "      <th></th>\n",
       "      <th>transactionId</th>\n",
       "      <th>visitorId</th>\n",
       "      <th>date</th>\n",
       "      <th>revenue</th>\n",
       "      <th>group</th>\n",
       "    </tr>\n",
       "  </thead>\n",
       "  <tbody>\n",
       "    <tr>\n",
       "      <th>0</th>\n",
       "      <td>3667963787</td>\n",
       "      <td>3312258926</td>\n",
       "      <td>2019-08-15</td>\n",
       "      <td>1650</td>\n",
       "      <td>B</td>\n",
       "    </tr>\n",
       "  </tbody>\n",
       "</table>\n",
       "</div>"
      ],
      "text/plain": [
       "   transactionId   visitorId        date  revenue group\n",
       "0     3667963787  3312258926  2019-08-15     1650     B"
      ]
     },
     "metadata": {},
     "output_type": "display_data"
    },
    {
     "name": "stdout",
     "output_type": "stream",
     "text": [
      "<class 'pandas.core.frame.DataFrame'>\n",
      "RangeIndex: 1197 entries, 0 to 1196\n",
      "Data columns (total 5 columns):\n",
      " #   Column         Non-Null Count  Dtype \n",
      "---  ------         --------------  ----- \n",
      " 0   transactionId  1197 non-null   int64 \n",
      " 1   visitorId      1197 non-null   int64 \n",
      " 2   date           1197 non-null   object\n",
      " 3   revenue        1197 non-null   int64 \n",
      " 4   group          1197 non-null   object\n",
      "dtypes: int64(3), object(2)\n",
      "memory usage: 46.9+ KB\n"
     ]
    },
    {
     "data": {
      "text/html": [
       "<div>\n",
       "<style scoped>\n",
       "    .dataframe tbody tr th:only-of-type {\n",
       "        vertical-align: middle;\n",
       "    }\n",
       "\n",
       "    .dataframe tbody tr th {\n",
       "        vertical-align: top;\n",
       "    }\n",
       "\n",
       "    .dataframe thead th {\n",
       "        text-align: right;\n",
       "    }\n",
       "</style>\n",
       "<table border=\"1\" class=\"dataframe\">\n",
       "  <thead>\n",
       "    <tr style=\"text-align: right;\">\n",
       "      <th></th>\n",
       "      <th>date</th>\n",
       "      <th>group</th>\n",
       "      <th>visitors</th>\n",
       "    </tr>\n",
       "  </thead>\n",
       "  <tbody>\n",
       "    <tr>\n",
       "      <th>0</th>\n",
       "      <td>2019-08-01</td>\n",
       "      <td>A</td>\n",
       "      <td>719</td>\n",
       "    </tr>\n",
       "  </tbody>\n",
       "</table>\n",
       "</div>"
      ],
      "text/plain": [
       "         date group  visitors\n",
       "0  2019-08-01     A       719"
      ]
     },
     "metadata": {},
     "output_type": "display_data"
    },
    {
     "name": "stdout",
     "output_type": "stream",
     "text": [
      "<class 'pandas.core.frame.DataFrame'>\n",
      "RangeIndex: 62 entries, 0 to 61\n",
      "Data columns (total 3 columns):\n",
      " #   Column    Non-Null Count  Dtype \n",
      "---  ------    --------------  ----- \n",
      " 0   date      62 non-null     object\n",
      " 1   group     62 non-null     object\n",
      " 2   visitors  62 non-null     int64 \n",
      "dtypes: int64(1), object(2)\n",
      "memory usage: 1.6+ KB\n"
     ]
    }
   ],
   "source": [
    "def lookatdf(hyps, orders, visitors):\n",
    "    for df in [hyps, orders, visitors]:\n",
    "        display(df.head(1))\n",
    "        df.info()\n",
    "    \n",
    "lookatdf(hyps, orders, visitors)"
   ]
  },
  {
   "cell_type": "markdown",
   "metadata": {},
   "source": [
    "> ○ поменяем формат данных в полях с датами\n",
    "<br> ○ проверим все сеты на полные дубликаты строк"
   ]
  },
  {
   "cell_type": "code",
   "execution_count": 4,
   "metadata": {},
   "outputs": [
    {
     "data": {
      "text/plain": [
       "0"
      ]
     },
     "execution_count": 4,
     "metadata": {},
     "output_type": "execute_result"
    }
   ],
   "source": [
    "orders['date'] = pd.to_datetime(orders['date'])\n",
    "visitors['date'] = pd.to_datetime(visitors['date'])\n",
    "hyps.duplicated().sum() + orders.duplicated().sum() + visitors.duplicated().sum()"
   ]
  },
  {
   "cell_type": "markdown",
   "metadata": {},
   "source": [
    "> ○ проверим сет заказов на предмет того, есть ли в разных группах юзеры с одинаковыми ID\n",
    "<br> ○ удалим юзеров, которые одновременно присутствуют в обеих группах"
   ]
  },
  {
   "cell_type": "code",
   "execution_count": 5,
   "metadata": {},
   "outputs": [
    {
     "data": {
      "text/plain": [
       "58"
      ]
     },
     "execution_count": 5,
     "metadata": {},
     "output_type": "execute_result"
    }
   ],
   "source": [
    "suspects = orders.groupby('visitorId').agg({'group': 'nunique'}).rename(columns={'group': 'qt_groups'})\n",
    "suspects = suspects.query('qt_groups > 1')\n",
    "suspects.index.nunique()"
   ]
  },
  {
   "cell_type": "markdown",
   "metadata": {},
   "source": [
    "> ○ видим, что есть пользователи, попавшие как в группу А, так и в группу Б\n",
    "<br> ○ удалим юзеров, которые одновременно присутствуют в обеих группах, перезаписав сет orders"
   ]
  },
  {
   "cell_type": "code",
   "execution_count": 6,
   "metadata": {},
   "outputs": [],
   "source": [
    "orders = orders.query('visitorId not in @suspects.index')"
   ]
  },
  {
   "cell_type": "markdown",
   "metadata": {},
   "source": [
    "> **Данные обработали. Перейдем к приоритизации и работе с сетом hyps (гипотезы)**"
   ]
  },
  {
   "cell_type": "markdown",
   "metadata": {},
   "source": [
    "## Приоритизация гипотез"
   ]
  },
  {
   "cell_type": "markdown",
   "metadata": {},
   "source": [
    "### Приоритизация гипотез по ICE"
   ]
  },
  {
   "cell_type": "markdown",
   "metadata": {},
   "source": [
    "> ○ создадим доп.поле в сете с гипотезами, рассчитав рейтинг по фреймворку ICE\n",
    "<br> ○ посмотрим топ-5 гипотез в рамках фреймворка "
   ]
  },
  {
   "cell_type": "code",
   "execution_count": 7,
   "metadata": {},
   "outputs": [
    {
     "data": {
      "text/html": [
       "<div>\n",
       "<style scoped>\n",
       "    .dataframe tbody tr th:only-of-type {\n",
       "        vertical-align: middle;\n",
       "    }\n",
       "\n",
       "    .dataframe tbody tr th {\n",
       "        vertical-align: top;\n",
       "    }\n",
       "\n",
       "    .dataframe thead th {\n",
       "        text-align: right;\n",
       "    }\n",
       "</style>\n",
       "<table border=\"1\" class=\"dataframe\">\n",
       "  <thead>\n",
       "    <tr style=\"text-align: right;\">\n",
       "      <th></th>\n",
       "      <th>Hypothesis</th>\n",
       "      <th>Reach</th>\n",
       "      <th>Impact</th>\n",
       "      <th>Confidence</th>\n",
       "      <th>Efforts</th>\n",
       "      <th>ICE</th>\n",
       "    </tr>\n",
       "  </thead>\n",
       "  <tbody>\n",
       "    <tr>\n",
       "      <th>8</th>\n",
       "      <td>Запустить акцию, дающую скидку на товар в день рождения</td>\n",
       "      <td>1</td>\n",
       "      <td>9</td>\n",
       "      <td>9</td>\n",
       "      <td>5</td>\n",
       "      <td>16.200000</td>\n",
       "    </tr>\n",
       "    <tr>\n",
       "      <th>0</th>\n",
       "      <td>Добавить два новых канала привлечения трафика, что позволит привлекать на 30% больше пользователей</td>\n",
       "      <td>3</td>\n",
       "      <td>10</td>\n",
       "      <td>8</td>\n",
       "      <td>6</td>\n",
       "      <td>13.333333</td>\n",
       "    </tr>\n",
       "    <tr>\n",
       "      <th>7</th>\n",
       "      <td>Добавить форму подписки на все основные страницы, чтобы собрать базу клиентов для email-рассылок</td>\n",
       "      <td>10</td>\n",
       "      <td>7</td>\n",
       "      <td>8</td>\n",
       "      <td>5</td>\n",
       "      <td>11.200000</td>\n",
       "    </tr>\n",
       "    <tr>\n",
       "      <th>6</th>\n",
       "      <td>Показать на главной странице баннеры с актуальными акциями и распродажами, чтобы увеличить конверсию</td>\n",
       "      <td>5</td>\n",
       "      <td>3</td>\n",
       "      <td>8</td>\n",
       "      <td>3</td>\n",
       "      <td>8.000000</td>\n",
       "    </tr>\n",
       "    <tr>\n",
       "      <th>2</th>\n",
       "      <td>Добавить блоки рекомендаций товаров на сайт интернет магазина, чтобы повысить конверсию и средний чек заказа</td>\n",
       "      <td>8</td>\n",
       "      <td>3</td>\n",
       "      <td>7</td>\n",
       "      <td>3</td>\n",
       "      <td>7.000000</td>\n",
       "    </tr>\n",
       "    <tr>\n",
       "      <th>1</th>\n",
       "      <td>Запустить собственную службу доставки, что сократит срок доставки заказов</td>\n",
       "      <td>2</td>\n",
       "      <td>5</td>\n",
       "      <td>4</td>\n",
       "      <td>10</td>\n",
       "      <td>2.000000</td>\n",
       "    </tr>\n",
       "    <tr>\n",
       "      <th>5</th>\n",
       "      <td>Добавить страницу отзывов клиентов о магазине, что позволит увеличить количество заказов</td>\n",
       "      <td>3</td>\n",
       "      <td>2</td>\n",
       "      <td>2</td>\n",
       "      <td>3</td>\n",
       "      <td>1.333333</td>\n",
       "    </tr>\n",
       "    <tr>\n",
       "      <th>3</th>\n",
       "      <td>Изменить структура категорий, что увеличит конверсию, т.к. пользователи быстрее найдут нужный товар</td>\n",
       "      <td>8</td>\n",
       "      <td>3</td>\n",
       "      <td>3</td>\n",
       "      <td>8</td>\n",
       "      <td>1.125000</td>\n",
       "    </tr>\n",
       "    <tr>\n",
       "      <th>4</th>\n",
       "      <td>Изменить цвет фона главной страницы, чтобы увеличить вовлеченность пользователей</td>\n",
       "      <td>3</td>\n",
       "      <td>1</td>\n",
       "      <td>1</td>\n",
       "      <td>1</td>\n",
       "      <td>1.000000</td>\n",
       "    </tr>\n",
       "  </tbody>\n",
       "</table>\n",
       "</div>"
      ],
      "text/plain": [
       "                                                                                                     Hypothesis  \\\n",
       "8                                                       Запустить акцию, дающую скидку на товар в день рождения   \n",
       "0            Добавить два новых канала привлечения трафика, что позволит привлекать на 30% больше пользователей   \n",
       "7              Добавить форму подписки на все основные страницы, чтобы собрать базу клиентов для email-рассылок   \n",
       "6          Показать на главной странице баннеры с актуальными акциями и распродажами, чтобы увеличить конверсию   \n",
       "2  Добавить блоки рекомендаций товаров на сайт интернет магазина, чтобы повысить конверсию и средний чек заказа   \n",
       "1                                     Запустить собственную службу доставки, что сократит срок доставки заказов   \n",
       "5                      Добавить страницу отзывов клиентов о магазине, что позволит увеличить количество заказов   \n",
       "3           Изменить структура категорий, что увеличит конверсию, т.к. пользователи быстрее найдут нужный товар   \n",
       "4                              Изменить цвет фона главной страницы, чтобы увеличить вовлеченность пользователей   \n",
       "\n",
       "   Reach  Impact  Confidence  Efforts        ICE  \n",
       "8      1       9           9        5  16.200000  \n",
       "0      3      10           8        6  13.333333  \n",
       "7     10       7           8        5  11.200000  \n",
       "6      5       3           8        3   8.000000  \n",
       "2      8       3           7        3   7.000000  \n",
       "1      2       5           4       10   2.000000  \n",
       "5      3       2           2        3   1.333333  \n",
       "3      8       3           3        8   1.125000  \n",
       "4      3       1           1        1   1.000000  "
      ]
     },
     "metadata": {},
     "output_type": "display_data"
    }
   ],
   "source": [
    "pd.options.display.max_colwidth = 400\n",
    "\n",
    "hyps['ICE'] = (hyps['Impact'] * hyps['Confidence'])/hyps['Efforts']\n",
    "display(hyps.sort_values(by='ICE', ascending=False))"
   ]
  },
  {
   "cell_type": "markdown",
   "metadata": {},
   "source": [
    "> ○ \"победила\" гипотеза о запуске акции со скидкой на товар - видим почти максимальные цифры в факторах влияния / уверенности в оценке **(Impact / Confidence = 9)**, а также среднюю величину трудозатрат **(Efforts = 5)**\n",
    "<br> ○ вместе с тем фактор охвата имеет очень низкий балл **(Reach = 1)**. Охватим мало пользователей, если приоритизируем по Ice - посмотрим, как изменится топ-5 в случае применения другого фреймворка  "
   ]
  },
  {
   "cell_type": "markdown",
   "metadata": {},
   "source": [
    "### Приоритизация гипотез по RICE"
   ]
  },
  {
   "cell_type": "markdown",
   "metadata": {},
   "source": [
    "> ○ применим фреймворк RICE, рассчитав оценку в отдельном поле датасета"
   ]
  },
  {
   "cell_type": "code",
   "execution_count": 8,
   "metadata": {},
   "outputs": [
    {
     "data": {
      "text/html": [
       "<div>\n",
       "<style scoped>\n",
       "    .dataframe tbody tr th:only-of-type {\n",
       "        vertical-align: middle;\n",
       "    }\n",
       "\n",
       "    .dataframe tbody tr th {\n",
       "        vertical-align: top;\n",
       "    }\n",
       "\n",
       "    .dataframe thead th {\n",
       "        text-align: right;\n",
       "    }\n",
       "</style>\n",
       "<table border=\"1\" class=\"dataframe\">\n",
       "  <thead>\n",
       "    <tr style=\"text-align: right;\">\n",
       "      <th></th>\n",
       "      <th>Hypothesis</th>\n",
       "      <th>Reach</th>\n",
       "      <th>Impact</th>\n",
       "      <th>Confidence</th>\n",
       "      <th>Efforts</th>\n",
       "      <th>ICE</th>\n",
       "      <th>RICE</th>\n",
       "    </tr>\n",
       "  </thead>\n",
       "  <tbody>\n",
       "    <tr>\n",
       "      <th>7</th>\n",
       "      <td>Добавить форму подписки на все основные страницы, чтобы собрать базу клиентов для email-рассылок</td>\n",
       "      <td>10</td>\n",
       "      <td>7</td>\n",
       "      <td>8</td>\n",
       "      <td>5</td>\n",
       "      <td>11.200000</td>\n",
       "      <td>112.0</td>\n",
       "    </tr>\n",
       "    <tr>\n",
       "      <th>2</th>\n",
       "      <td>Добавить блоки рекомендаций товаров на сайт интернет магазина, чтобы повысить конверсию и средний чек заказа</td>\n",
       "      <td>8</td>\n",
       "      <td>3</td>\n",
       "      <td>7</td>\n",
       "      <td>3</td>\n",
       "      <td>7.000000</td>\n",
       "      <td>56.0</td>\n",
       "    </tr>\n",
       "    <tr>\n",
       "      <th>0</th>\n",
       "      <td>Добавить два новых канала привлечения трафика, что позволит привлекать на 30% больше пользователей</td>\n",
       "      <td>3</td>\n",
       "      <td>10</td>\n",
       "      <td>8</td>\n",
       "      <td>6</td>\n",
       "      <td>13.333333</td>\n",
       "      <td>40.0</td>\n",
       "    </tr>\n",
       "    <tr>\n",
       "      <th>6</th>\n",
       "      <td>Показать на главной странице баннеры с актуальными акциями и распродажами, чтобы увеличить конверсию</td>\n",
       "      <td>5</td>\n",
       "      <td>3</td>\n",
       "      <td>8</td>\n",
       "      <td>3</td>\n",
       "      <td>8.000000</td>\n",
       "      <td>40.0</td>\n",
       "    </tr>\n",
       "    <tr>\n",
       "      <th>8</th>\n",
       "      <td>Запустить акцию, дающую скидку на товар в день рождения</td>\n",
       "      <td>1</td>\n",
       "      <td>9</td>\n",
       "      <td>9</td>\n",
       "      <td>5</td>\n",
       "      <td>16.200000</td>\n",
       "      <td>16.2</td>\n",
       "    </tr>\n",
       "    <tr>\n",
       "      <th>3</th>\n",
       "      <td>Изменить структура категорий, что увеличит конверсию, т.к. пользователи быстрее найдут нужный товар</td>\n",
       "      <td>8</td>\n",
       "      <td>3</td>\n",
       "      <td>3</td>\n",
       "      <td>8</td>\n",
       "      <td>1.125000</td>\n",
       "      <td>9.0</td>\n",
       "    </tr>\n",
       "    <tr>\n",
       "      <th>1</th>\n",
       "      <td>Запустить собственную службу доставки, что сократит срок доставки заказов</td>\n",
       "      <td>2</td>\n",
       "      <td>5</td>\n",
       "      <td>4</td>\n",
       "      <td>10</td>\n",
       "      <td>2.000000</td>\n",
       "      <td>4.0</td>\n",
       "    </tr>\n",
       "    <tr>\n",
       "      <th>5</th>\n",
       "      <td>Добавить страницу отзывов клиентов о магазине, что позволит увеличить количество заказов</td>\n",
       "      <td>3</td>\n",
       "      <td>2</td>\n",
       "      <td>2</td>\n",
       "      <td>3</td>\n",
       "      <td>1.333333</td>\n",
       "      <td>4.0</td>\n",
       "    </tr>\n",
       "    <tr>\n",
       "      <th>4</th>\n",
       "      <td>Изменить цвет фона главной страницы, чтобы увеличить вовлеченность пользователей</td>\n",
       "      <td>3</td>\n",
       "      <td>1</td>\n",
       "      <td>1</td>\n",
       "      <td>1</td>\n",
       "      <td>1.000000</td>\n",
       "      <td>3.0</td>\n",
       "    </tr>\n",
       "  </tbody>\n",
       "</table>\n",
       "</div>"
      ],
      "text/plain": [
       "                                                                                                     Hypothesis  \\\n",
       "7              Добавить форму подписки на все основные страницы, чтобы собрать базу клиентов для email-рассылок   \n",
       "2  Добавить блоки рекомендаций товаров на сайт интернет магазина, чтобы повысить конверсию и средний чек заказа   \n",
       "0            Добавить два новых канала привлечения трафика, что позволит привлекать на 30% больше пользователей   \n",
       "6          Показать на главной странице баннеры с актуальными акциями и распродажами, чтобы увеличить конверсию   \n",
       "8                                                       Запустить акцию, дающую скидку на товар в день рождения   \n",
       "3           Изменить структура категорий, что увеличит конверсию, т.к. пользователи быстрее найдут нужный товар   \n",
       "1                                     Запустить собственную службу доставки, что сократит срок доставки заказов   \n",
       "5                      Добавить страницу отзывов клиентов о магазине, что позволит увеличить количество заказов   \n",
       "4                              Изменить цвет фона главной страницы, чтобы увеличить вовлеченность пользователей   \n",
       "\n",
       "   Reach  Impact  Confidence  Efforts        ICE   RICE  \n",
       "7     10       7           8        5  11.200000  112.0  \n",
       "2      8       3           7        3   7.000000   56.0  \n",
       "0      3      10           8        6  13.333333   40.0  \n",
       "6      5       3           8        3   8.000000   40.0  \n",
       "8      1       9           9        5  16.200000   16.2  \n",
       "3      8       3           3        8   1.125000    9.0  \n",
       "1      2       5           4       10   2.000000    4.0  \n",
       "5      3       2           2        3   1.333333    4.0  \n",
       "4      3       1           1        1   1.000000    3.0  "
      ]
     },
     "execution_count": 8,
     "metadata": {},
     "output_type": "execute_result"
    }
   ],
   "source": [
    "hyps['RICE'] = (hyps['Reach'] * hyps['Impact'] * hyps['Confidence'])/hyps['Efforts']\n",
    "hyps.sort_values(by='RICE', ascending=False)"
   ]
  },
  {
   "cell_type": "markdown",
   "metadata": {},
   "source": [
    "> ○ в абсолютный топ вышла гипотеза с добавлением формы подписки на основные страницы магазина\n",
    "<br> ○ фактор охвата самый высокий **(Reach = 10)**, включение этого фактора в оценку и изменило приоритизацию. Отметим, что данная - единственная с максимальным охватом, равным 10\n",
    "<br> ○ также обратим внимание, что влияние / уверенность в оценке +- схожи с гипотезой, вышедшей в топ по модели ICE **(Impact = 7 / Confidence = 8)**, а трудозатраты вообще аналогичны **(Efforts = 5)**\n",
    "<br> \n",
    "<br>**Итого рекомендовано остановиться на фреймворке RICE и выбрать для проведения гипотезу с добавлением формы подписки. В других сферах можно было бы остановиться и на ICE, но в случае интернет-магазина точно не стоит упускать из внимания параметр охвата**"
   ]
  },
  {
   "cell_type": "markdown",
   "metadata": {},
   "source": [
    "## Анализ A/B-теста"
   ]
  },
  {
   "cell_type": "markdown",
   "metadata": {},
   "source": [
    "### Подготовка датасета для анализа"
   ]
  },
  {
   "cell_type": "markdown",
   "metadata": {},
   "source": [
    "> ○ соберем группировкой отдельные датафреймы по сету visitors: кол-во посетителей магазина по дням / кумулятивно в рамках каждой группы\n",
    "<br> ○ аналогично поступим с датасетом orders, собрав дневные / кумулятивные данные по кол-ву заказов и выручке\n",
    "<br> ○ добавим в кумулятивные фреймы orders доп.столбец с рассчитанным средним кумулятивным чеком. Округлим его до 2 знаков после запятой\n",
    "<br> ○ объединим по дате все данные из полученных датафреймов, собрав общий сет. Дадим сету новое, короткое имя\n",
    "<br> ○ добавим еще 2 поля с рассчитанным кумулятивным средним кол-вом заказов на посетителя. Округлим до 2 знаков после запятой\n",
    "<br>\n",
    "<br> **Сет будем собирать функцией - добавим в параметры фильтрацию (по умолчанию False), а также значение revenue_max. В дальнейшем нам понадобится быстро выкинуть выбросы из расчетов - предусмотрим этот момент заранее**"
   ]
  },
  {
   "cell_type": "markdown",
   "metadata": {},
   "source": [
    "#### function: get_the_union "
   ]
  },
  {
   "cell_type": "code",
   "execution_count": 9,
   "metadata": {},
   "outputs": [],
   "source": [
    "def get_the_union(visitors, orders, revenue_max, filter_me=False):\n",
    "    \n",
    "    # фильтр по умолчанию неактивен, в случае активации отсекает заказы-\"выбросы\" (скалькулируем дальше, пока оставим без внимания)\n",
    "    if filter_me:\n",
    "        orders = orders.query('revenue <= @revenue_max')\n",
    "    \n",
    "    # A group, кол-во юзеров (кумулятивно на каждую дату)\n",
    "    vis_a_daily = (visitors.query('group == \"A\"')[['date', 'visitors']]\n",
    "                   .rename(columns={'visitors': 'vis_a_qt'})\n",
    "                   .sort_values(by='date'))\n",
    "    # A group, кол-во юзеров (кумулятивно на каждую дату\n",
    "    vis_a_cummy = (vis_a_daily\n",
    "                   .apply(lambda x: vis_a_daily[vis_a_daily['date'] <= x['date']]\n",
    "                   .agg({'date': 'max', 'vis_a_qt': \"sum\"}), axis=1)\n",
    "                   .rename(columns={'vis_a_qt': 'vis_a_qt_cummy'}))\n",
    "    \n",
    "    # B group, кол-во юзеров (дневное)\n",
    "    vis_b_daily = (visitors.query('group == \"B\"')[['date', 'visitors']]\n",
    "                   .rename(columns={'visitors': 'vis_b_qt'})\n",
    "                   .sort_values(by='date'))\n",
    "\n",
    "    # B group, кол-во юзеров (накопительно на каждую дату)\n",
    "    vis_b_cummy = (vis_b_daily\n",
    "                   .apply(lambda x: vis_b_daily[vis_b_daily['date'] <= x['date']]\n",
    "                   .agg({'date': 'max', 'vis_b_qt': \"sum\"}), axis=1)\n",
    "                   .rename(columns={'vis_b_qt': 'vis_b_qt_cummy'}))\n",
    "    \n",
    "    # A group, кол-во заказов / объем выручки (дневное)\n",
    "    ord_a_daily = (orders.query('group == \"A\"')[['date', 'transactionId', 'visitorId', 'revenue']]\n",
    "                   .groupby('date', as_index=False)\n",
    "                   .agg({'transactionId': pd.Series.nunique, 'revenue': 'sum'})\n",
    "                   .rename(columns={'transactionId': 'ord_a_qt', 'revenue': 'rev_a_daily'})\n",
    "                   .sort_values(by='date'))\n",
    "    # A group, кол-во заказов / объем выручки (накопительно на каждую дату)\n",
    "    ord_a_cummy = (ord_a_daily\n",
    "                   .apply(lambda x: ord_a_daily[ord_a_daily['date'] <= x['date']]\n",
    "                   .agg({'date': 'max', 'ord_a_qt': 'sum', 'rev_a_daily': 'sum'}), axis=1)\n",
    "                   .rename(columns={'ord_a_qt': 'ord_a_qt_cummy', 'rev_a_daily': 'rev_a_cummy'})\n",
    "                   .sort_values(by='date'))\n",
    "    \n",
    "    # B group, кол-во заказов / объем выручки (дневное)\n",
    "    ord_b_daily = (orders.query('group == \"B\"')[['date', 'transactionId', 'visitorId', 'revenue']]\n",
    "                   .groupby('date', as_index=False)\n",
    "                   .agg({'transactionId': pd.Series.nunique, 'revenue': 'sum'})\n",
    "                   .rename(columns={'transactionId': 'ord_b_qt', 'revenue': 'rev_b_daily'})\n",
    "                   .sort_values(by='date'))\n",
    "\n",
    "    # B group, кол-во заказов / объем выручки (накопительно на каждую дату)\n",
    "    ord_b_cummy = (ord_b_daily\n",
    "                   .apply(lambda x: ord_b_daily[ord_b_daily['date'] <= x['date']]\n",
    "                   .agg({'date': 'max', 'ord_b_qt': 'sum', 'rev_b_daily': 'sum'}), axis=1)\n",
    "                   .rename(columns={'ord_b_qt': 'ord_b_qt_cummy', 'rev_b_daily': 'rev_b_cummy'})\n",
    "                   .sort_values(by='date'))\n",
    "\n",
    "    # A group, добавление поля с рассчитанным кумулятивным чеком\n",
    "    ord_a_cummy['avg_check_a'] = round(ord_a_cummy['rev_a_cummy'] / ord_a_cummy['ord_a_qt_cummy'],2)\n",
    "\n",
    "    # B group, добавление поля с рассчитанным кумулятивным чеком\n",
    "    ord_b_cummy['avg_check_b'] = round(ord_b_cummy['rev_b_cummy'] / ord_b_cummy['ord_b_qt_cummy'],2)\n",
    "\n",
    "    # собираем единый датасет, в строке будут все вышеперечисленные данные в рамках 1 даты (как дневные, так и кумулятивные)\n",
    "    union_date = (ord_a_daily\n",
    "             .merge(ord_b_daily, left_on='date', right_on='date', how='left')\n",
    "             .merge(ord_a_cummy, left_on='date', right_on='date', how='left')\n",
    "             .merge(ord_b_cummy, left_on='date', right_on='date', how='left')\n",
    "             .merge(vis_a_daily, left_on='date', right_on='date', how='left')\n",
    "             .merge(vis_b_daily, left_on='date', right_on='date', how='left')\n",
    "             .merge(vis_a_cummy, left_on='date', right_on='date', how='left')\n",
    "             .merge(vis_b_cummy, left_on='date', right_on='date', how='left'))\n",
    "\n",
    "    # объявим новую короткую переменную для лаконичности кода\n",
    "    ud = union_date\n",
    "\n",
    "    # A group, среднее кол-во заказов на посетителя (накопительно на дату)\n",
    "    ud['ord_by_vis_a'] = round(ud['vis_a_qt_cummy'] / ud['ord_a_qt_cummy'],2)\n",
    "\n",
    "    # B group, среднее кол-во заказов на посетителя (накопительно на дату)\n",
    "    ud['ord_by_vis_b'] = round(ud['vis_b_qt_cummy'] / ud['ord_b_qt_cummy'],2)\n",
    "    \n",
    "    return ud"
   ]
  },
  {
   "cell_type": "markdown",
   "metadata": {},
   "source": [
    "> ○ объявим 2 переменные, рассчитав функцию - без фильтра данных и с фильтром (прим.: revenue_max калькулируется позднее в шаге расчета 99-го перцентиля стоимости заказа)\n",
    "<br> ○ посмотрим на верхушку полученного датасета без фильтра данных"
   ]
  },
  {
   "cell_type": "code",
   "execution_count": 10,
   "metadata": {
    "scrolled": false
   },
   "outputs": [
    {
     "data": {
      "text/html": [
       "<div>\n",
       "<style scoped>\n",
       "    .dataframe tbody tr th:only-of-type {\n",
       "        vertical-align: middle;\n",
       "    }\n",
       "\n",
       "    .dataframe tbody tr th {\n",
       "        vertical-align: top;\n",
       "    }\n",
       "\n",
       "    .dataframe thead th {\n",
       "        text-align: right;\n",
       "    }\n",
       "</style>\n",
       "<table border=\"1\" class=\"dataframe\">\n",
       "  <thead>\n",
       "    <tr style=\"text-align: right;\">\n",
       "      <th></th>\n",
       "      <th>date</th>\n",
       "      <th>ord_a_qt</th>\n",
       "      <th>rev_a_daily</th>\n",
       "      <th>ord_b_qt</th>\n",
       "      <th>rev_b_daily</th>\n",
       "      <th>ord_a_qt_cummy</th>\n",
       "      <th>rev_a_cummy</th>\n",
       "      <th>avg_check_a</th>\n",
       "      <th>ord_b_qt_cummy</th>\n",
       "      <th>rev_b_cummy</th>\n",
       "      <th>avg_check_b</th>\n",
       "      <th>vis_a_qt</th>\n",
       "      <th>vis_b_qt</th>\n",
       "      <th>vis_a_qt_cummy</th>\n",
       "      <th>vis_b_qt_cummy</th>\n",
       "      <th>ord_by_vis_a</th>\n",
       "      <th>ord_by_vis_b</th>\n",
       "    </tr>\n",
       "  </thead>\n",
       "  <tbody>\n",
       "    <tr>\n",
       "      <th>0</th>\n",
       "      <td>2019-08-01</td>\n",
       "      <td>23</td>\n",
       "      <td>142779</td>\n",
       "      <td>17</td>\n",
       "      <td>59758</td>\n",
       "      <td>23</td>\n",
       "      <td>142779</td>\n",
       "      <td>6207.78</td>\n",
       "      <td>17</td>\n",
       "      <td>59758</td>\n",
       "      <td>3515.18</td>\n",
       "      <td>719</td>\n",
       "      <td>713</td>\n",
       "      <td>719</td>\n",
       "      <td>713</td>\n",
       "      <td>31.26</td>\n",
       "      <td>41.94</td>\n",
       "    </tr>\n",
       "    <tr>\n",
       "      <th>1</th>\n",
       "      <td>2019-08-02</td>\n",
       "      <td>19</td>\n",
       "      <td>91602</td>\n",
       "      <td>23</td>\n",
       "      <td>162043</td>\n",
       "      <td>42</td>\n",
       "      <td>234381</td>\n",
       "      <td>5580.50</td>\n",
       "      <td>40</td>\n",
       "      <td>221801</td>\n",
       "      <td>5545.02</td>\n",
       "      <td>619</td>\n",
       "      <td>581</td>\n",
       "      <td>1338</td>\n",
       "      <td>1294</td>\n",
       "      <td>31.86</td>\n",
       "      <td>32.35</td>\n",
       "    </tr>\n",
       "  </tbody>\n",
       "</table>\n",
       "</div>"
      ],
      "text/plain": [
       "        date  ord_a_qt  rev_a_daily  ord_b_qt  rev_b_daily  ord_a_qt_cummy  \\\n",
       "0 2019-08-01        23       142779        17        59758              23   \n",
       "1 2019-08-02        19        91602        23       162043              42   \n",
       "\n",
       "   rev_a_cummy  avg_check_a  ord_b_qt_cummy  rev_b_cummy  avg_check_b  \\\n",
       "0       142779      6207.78              17        59758      3515.18   \n",
       "1       234381      5580.50              40       221801      5545.02   \n",
       "\n",
       "   vis_a_qt  vis_b_qt  vis_a_qt_cummy  vis_b_qt_cummy  ord_by_vis_a  \\\n",
       "0       719       713             719             713         31.26   \n",
       "1       619       581            1338            1294         31.86   \n",
       "\n",
       "   ord_by_vis_b  \n",
       "0         41.94  \n",
       "1         32.35  "
      ]
     },
     "execution_count": 10,
     "metadata": {},
     "output_type": "execute_result"
    }
   ],
   "source": [
    "# задали параметр revenue_max\n",
    "revenue_max = 53904\n",
    "\n",
    "# рассчитали функцией итоговый датасет без фильтра данных\n",
    "ud = get_the_union(visitors, orders, revenue_max)\n",
    "\n",
    "# тот же датасет с фильтром данных (ud_f - сокращение от union_date_filtered)\n",
    "ud_f = get_the_union(visitors, orders, revenue_max, filter_me=True)\n",
    "\n",
    "ud.head(2)"
   ]
  },
  {
   "cell_type": "markdown",
   "metadata": {
    "scrolled": false
   },
   "source": [
    "> **Посмотрели верхушку полученного датасета - видим, что дневные/ кумулятивные данные указаны верно, средний чек / среднее кол-во заказов посчитано правильно. Можем переходить к построению графиков по сету**"
   ]
  },
  {
   "cell_type": "markdown",
   "metadata": {},
   "source": [
    "### Анализ показателя: кумулятивная выручка по группам"
   ]
  },
  {
   "cell_type": "code",
   "execution_count": 11,
   "metadata": {},
   "outputs": [
    {
     "data": {
      "image/png": "[encoded data removed]",
      "text/plain": [
       "<Figure size 864x360 with 1 Axes>"
      ]
     },
     "metadata": {
      "needs_background": "light"
     },
     "output_type": "display_data"
    }
   ],
   "source": [
    "plt.figure(figsize=(12,5))\n",
    "plt.style.use('ggplot')\n",
    "\n",
    "plt.plot(ud['date'], ud['rev_a_cummy'], label='A, cummulative_revenue', color='MediumVioletRed')\n",
    "plt.plot(ud['date'], ud['rev_b_cummy'], label='B, cummulative_revenue', color='DarkCyan')\n",
    "plt.title('Кумулятивная выручка по группам')\n",
    "plt.xlabel('Дата')\n",
    "plt.ylabel('Млн, у.е.')\n",
    "plt.legend();"
   ]
  },
  {
   "cell_type": "code",
   "execution_count": 12,
   "metadata": {},
   "outputs": [
    {
     "data": {
      "text/html": [
       "<div>\n",
       "<style scoped>\n",
       "    .dataframe tbody tr th:only-of-type {\n",
       "        vertical-align: middle;\n",
       "    }\n",
       "\n",
       "    .dataframe tbody tr th {\n",
       "        vertical-align: top;\n",
       "    }\n",
       "\n",
       "    .dataframe thead th {\n",
       "        text-align: right;\n",
       "    }\n",
       "</style>\n",
       "<table border=\"1\" class=\"dataframe\">\n",
       "  <thead>\n",
       "    <tr style=\"text-align: right;\">\n",
       "      <th></th>\n",
       "      <th>date</th>\n",
       "      <th>ord_a_qt</th>\n",
       "      <th>rev_a_daily</th>\n",
       "      <th>ord_b_qt</th>\n",
       "      <th>rev_b_daily</th>\n",
       "      <th>ord_a_qt_cummy</th>\n",
       "      <th>rev_a_cummy</th>\n",
       "      <th>avg_check_a</th>\n",
       "      <th>ord_b_qt_cummy</th>\n",
       "      <th>rev_b_cummy</th>\n",
       "      <th>avg_check_b</th>\n",
       "      <th>vis_a_qt</th>\n",
       "      <th>vis_b_qt</th>\n",
       "      <th>vis_a_qt_cummy</th>\n",
       "      <th>vis_b_qt_cummy</th>\n",
       "      <th>ord_by_vis_a</th>\n",
       "      <th>ord_by_vis_b</th>\n",
       "    </tr>\n",
       "  </thead>\n",
       "  <tbody>\n",
       "    <tr>\n",
       "      <th>29</th>\n",
       "      <td>2019-08-30</td>\n",
       "      <td>9</td>\n",
       "      <td>78180</td>\n",
       "      <td>21</td>\n",
       "      <td>209223</td>\n",
       "      <td>460</td>\n",
       "      <td>3311413</td>\n",
       "      <td>7198.72</td>\n",
       "      <td>531</td>\n",
       "      <td>4955833</td>\n",
       "      <td>9333.02</td>\n",
       "      <td>490</td>\n",
       "      <td>490</td>\n",
       "      <td>18037</td>\n",
       "      <td>18198</td>\n",
       "      <td>39.21</td>\n",
       "      <td>34.27</td>\n",
       "    </tr>\n",
       "    <tr>\n",
       "      <th>30</th>\n",
       "      <td>2019-08-31</td>\n",
       "      <td>8</td>\n",
       "      <td>53243</td>\n",
       "      <td>17</td>\n",
       "      <td>113139</td>\n",
       "      <td>468</td>\n",
       "      <td>3364656</td>\n",
       "      <td>7189.44</td>\n",
       "      <td>548</td>\n",
       "      <td>5068972</td>\n",
       "      <td>9249.95</td>\n",
       "      <td>699</td>\n",
       "      <td>718</td>\n",
       "      <td>18736</td>\n",
       "      <td>18916</td>\n",
       "      <td>40.03</td>\n",
       "      <td>34.52</td>\n",
       "    </tr>\n",
       "  </tbody>\n",
       "</table>\n",
       "</div>"
      ],
      "text/plain": [
       "         date  ord_a_qt  rev_a_daily  ord_b_qt  rev_b_daily  ord_a_qt_cummy  \\\n",
       "29 2019-08-30         9        78180        21       209223             460   \n",
       "30 2019-08-31         8        53243        17       113139             468   \n",
       "\n",
       "    rev_a_cummy  avg_check_a  ord_b_qt_cummy  rev_b_cummy  avg_check_b  \\\n",
       "29      3311413      7198.72             531      4955833      9333.02   \n",
       "30      3364656      7189.44             548      5068972      9249.95   \n",
       "\n",
       "    vis_a_qt  vis_b_qt  vis_a_qt_cummy  vis_b_qt_cummy  ord_by_vis_a  \\\n",
       "29       490       490           18037           18198         39.21   \n",
       "30       699       718           18736           18916         40.03   \n",
       "\n",
       "    ord_by_vis_b  \n",
       "29         34.27  \n",
       "30         34.52  "
      ]
     },
     "execution_count": 12,
     "metadata": {},
     "output_type": "execute_result"
    }
   ],
   "source": [
    "ud.tail(2)"
   ]
  },
  {
   "cell_type": "markdown",
   "metadata": {},
   "source": [
    "> ○ линия группы B чуть выше линии группы А. Вместе с тем начиная с 19 августа группа B существенно обгоняет группу А по показателю кумулятивной выручки\n",
    "<br> ○ это может быть связано с тем, что в дату 19/08 случилась крупная выручка по группе B, что и подняло линию группы выше на весь оставшийся период. **Проверим это в графике выручки по дням + посмотрев срез датафрейма по датам:**"
   ]
  },
  {
   "cell_type": "code",
   "execution_count": 13,
   "metadata": {},
   "outputs": [
    {
     "data": {
      "image/png": "[encoded data removed]",
      "text/plain": [
       "<Figure size 864x360 with 1 Axes>"
      ]
     },
     "metadata": {},
     "output_type": "display_data"
    }
   ],
   "source": [
    "# строим графики выручки по дням\n",
    "plt.figure(figsize=(12,5))\n",
    "plt.plot(ud['date'], ud['rev_a_daily'], label='A, daily_revenue', color='MediumVioletRed')\n",
    "plt.plot(ud['date'], ud['rev_b_daily'], label='B, daily_revenue', color='DarkCyan')\n",
    "plt.title('Дневная выручка по группам')\n",
    "plt.xlabel('Дата')\n",
    "plt.ylabel('Млн, у.е.')\n",
    "plt.legend();"
   ]
  },
  {
   "cell_type": "code",
   "execution_count": 14,
   "metadata": {
    "scrolled": true
   },
   "outputs": [
    {
     "data": {
      "text/html": [
       "<style  type=\"text/css\" >\n",
       "#T_b1f95_row0_col1{\n",
       "            background-color:  #fbfafa;\n",
       "            color:  #000000;\n",
       "        }#T_b1f95_row0_col2,#T_b1f95_row2_col1{\n",
       "            background-color:  #ffffff;\n",
       "            color:  #000000;\n",
       "        }#T_b1f95_row1_col1,#T_b1f95_row1_col2{\n",
       "            background-color:  #333399;\n",
       "            color:  #f1f1f1;\n",
       "        }#T_b1f95_row2_col2{\n",
       "            background-color:  #d7ccc9;\n",
       "            color:  #000000;\n",
       "        }</style><table id=\"T_b1f95_\" ><thead>    <tr>        <th class=\"blank level0\" ></th>        <th class=\"col_heading level0 col0\" >date</th>        <th class=\"col_heading level0 col1\" >rev_a_daily</th>        <th class=\"col_heading level0 col2\" >rev_b_daily</th>    </tr></thead><tbody>\n",
       "                <tr>\n",
       "                        <th id=\"T_b1f95_level0_row0\" class=\"row_heading level0 row0\" >17</th>\n",
       "                        <td id=\"T_b1f95_row0_col0\" class=\"data row0 col0\" >2019-08-18 00:00:00</td>\n",
       "                        <td id=\"T_b1f95_row0_col1\" class=\"data row0 col1\" >59581</td>\n",
       "                        <td id=\"T_b1f95_row0_col2\" class=\"data row0 col2\" >35323</td>\n",
       "            </tr>\n",
       "            <tr>\n",
       "                        <th id=\"T_b1f95_level0_row1\" class=\"row_heading level0 row1\" >18</th>\n",
       "                        <td id=\"T_b1f95_row1_col0\" class=\"data row1 col0\" >2019-08-19 00:00:00</td>\n",
       "                        <td id=\"T_b1f95_row1_col1\" class=\"data row1 col1\" >168193</td>\n",
       "                        <td id=\"T_b1f95_row1_col2\" class=\"data row1 col2\" >1429920</td>\n",
       "            </tr>\n",
       "            <tr>\n",
       "                        <th id=\"T_b1f95_level0_row2\" class=\"row_heading level0 row2\" >19</th>\n",
       "                        <td id=\"T_b1f95_row2_col0\" class=\"data row2 col0\" >2019-08-20 00:00:00</td>\n",
       "                        <td id=\"T_b1f95_row2_col1\" class=\"data row2 col1\" >58679</td>\n",
       "                        <td id=\"T_b1f95_row2_col2\" class=\"data row2 col2\" >147274</td>\n",
       "            </tr>\n",
       "    </tbody></table>"
      ],
      "text/plain": [
       "<pandas.io.formats.style.Styler at 0x7f8a38239be0>"
      ]
     },
     "metadata": {},
     "output_type": "display_data"
    }
   ],
   "source": [
    "# посмотрим выручку за день пика, а также за день до и после него\n",
    "display(ud[['date', 'rev_a_daily', 'rev_b_daily']]\n",
    "        .query('date >= \"2019-08-18\" and date <= \"2019-08-20\"')\n",
    "        .style.background_gradient(cmap='terrain_r', axis=0))"
   ]
  },
  {
   "cell_type": "markdown",
   "metadata": {},
   "source": [
    ">**Итого знаем, что графики кумулятивной выручки искажены некой крупной покупкой в дату 19 августа. Теперь посмотрим, как будет выглядеть тот же график, но без выбросов:**"
   ]
  },
  {
   "cell_type": "code",
   "execution_count": 15,
   "metadata": {},
   "outputs": [
    {
     "data": {
      "image/png": "[encoded data removed]",
      "text/plain": [
       "<Figure size 864x360 with 1 Axes>"
      ]
     },
     "metadata": {},
     "output_type": "display_data"
    }
   ],
   "source": [
    "plt.figure(figsize=(12,5))\n",
    "\n",
    "plt.plot(ud_f['date'], ud_f['rev_a_cummy'], label='A_filter, cummulative_revenue', color='MediumVioletRed')\n",
    "plt.plot(ud_f['date'], ud_f['rev_b_cummy'], label='B_filter, cummulative_revenue', color='DarkCyan')\n",
    "plt.title('Кумулятивная выручка по группам (без выбросов)')\n",
    "plt.xlabel('Дата')\n",
    "plt.ylabel('Млн, у.е.')\n",
    "plt.legend();"
   ]
  },
  {
   "cell_type": "markdown",
   "metadata": {},
   "source": [
    "> **Теперь можем сделать адекватный вывод, тк убрали выбросы из данных: \n",
    "<br>кумулятивная выручка группы B стабильно выше аналогичного показателя группы А в период тестирования**"
   ]
  },
  {
   "cell_type": "markdown",
   "metadata": {},
   "source": [
    "### Анализ показателя: кумулятивный средний чек"
   ]
  },
  {
   "cell_type": "markdown",
   "metadata": {},
   "source": [
    "> ○ построим сразу 2 графика: по данным с выбросами и без них"
   ]
  },
  {
   "cell_type": "code",
   "execution_count": 16,
   "metadata": {},
   "outputs": [
    {
     "data": {
      "image/png": "[encoded data removed]",
      "text/plain": [
       "<Figure size 864x360 with 1 Axes>"
      ]
     },
     "metadata": {},
     "output_type": "display_data"
    }
   ],
   "source": [
    "# данные без фильтра\n",
    "plt.figure(figsize=(12,5))\n",
    "plt.plot(ud['date'], ud['avg_check_a'], label='A, avg_cummulative_check', color='MediumVioletRed')\n",
    "plt.plot(ud['date'], ud['avg_check_b'], label='B, avg_cummulative_check', color='DarkCyan')\n",
    "plt.title('Кумулятивный средний чек по группам')\n",
    "plt.xlabel('Дата')\n",
    "plt.ylabel('у.е.')\n",
    "plt.legend();"
   ]
  },
  {
   "cell_type": "markdown",
   "metadata": {},
   "source": [
    "> ○ видим аналогичный (предыдущему графику) пик в дату 19/08 \n",
    "<br> ○ пик логичен, тк кумулятивный средний чек рассчитывается из кумулятивной выручки\n",
    "<br>**Посмотрим, как будет выглядеть график на данных без выбросов:**"
   ]
  },
  {
   "cell_type": "code",
   "execution_count": 17,
   "metadata": {},
   "outputs": [
    {
     "data": {
      "image/png": "[encoded data removed]",
      "text/plain": [
       "<Figure size 864x360 with 1 Axes>"
      ]
     },
     "metadata": {},
     "output_type": "display_data"
    }
   ],
   "source": [
    "# данные отфльтрованы\n",
    "plt.figure(figsize=(12,5))\n",
    "plt.plot(ud_f['date'], ud_f['avg_check_a'], label='A_filter, avg_cummulative_check', color='MediumVioletRed')\n",
    "plt.plot(ud_f['date'], ud_f['avg_check_b'], label='B_filter, avg_cummulative_check', color='DarkCyan')\n",
    "plt.title('Кумулятивный средний чек по группам (без выбросов)')\n",
    "plt.xlabel('Дата')\n",
    "plt.ylabel('у.е.')\n",
    "plt.legend();"
   ]
  },
  {
   "cell_type": "markdown",
   "metadata": {},
   "source": [
    "> **По данным без выбросов видим:\n",
    "<br> ○ данные сильно отличались в первую треть эксперимента, но далее +- стабилизировались \n",
    "<br> ○ по видимости в группе А ранее были недорогие заказы, средний чек с ходом эксперимента имеет тренд на рост\n",
    "<br> ○ в группе В ситуация иная - в начале эксперимента значения были минимальными (видимо, были недорогие заказы), далее рост почти в 2 раза - после чего стабильные значения в коридоре 6-6200\n",
    "<br> ○ также на отфильтрованных данных стал явно виден еще 1 пик в дату 7/08 по группе В - вероятно в ту дату \"приплюсовались\" дорогие и малочисленные заказы \n",
    "<br> ○ можно сказать, что кумулятивный средний чек группы В в основном выше, чем в группе А. Вместе с тем к концу теста группа А обогнала группу В**"
   ]
  },
  {
   "cell_type": "markdown",
   "metadata": {},
   "source": [
    "### Анализ: относительное изменение кумулятивного среднего чека группы В к группе А"
   ]
  },
  {
   "cell_type": "markdown",
   "metadata": {},
   "source": [
    "> ○ построим сразу 2 графика: по данным с выбросами и без них"
   ]
  },
  {
   "cell_type": "code",
   "execution_count": 18,
   "metadata": {},
   "outputs": [
    {
     "data": {
      "image/png": "[encoded data removed]",
      "text/plain": [
       "<Figure size 864x360 with 1 Axes>"
      ]
     },
     "metadata": {},
     "output_type": "display_data"
    }
   ],
   "source": [
    "# данные без фильтра\n",
    "plt.figure(figsize=(12,5))\n",
    "(plt.plot(ud['date'], (ud['avg_check_b'] / ud['avg_check_a'] -1), \n",
    "          label='avg_cummulative_check_relative_b_to_a', color='MediumSeaGreen'))\n",
    "plt.axhline(y=0, color='DarkSlateGrey', linestyle='--')\n",
    "plt.title('Относительный кумулятивный средний чек группы В к группе А')\n",
    "plt.xlabel('Дата')\n",
    "plt.legend();"
   ]
  },
  {
   "cell_type": "code",
   "execution_count": 19,
   "metadata": {},
   "outputs": [
    {
     "data": {
      "image/png": "[encoded data removed]",
      "text/plain": [
       "<Figure size 864x360 with 1 Axes>"
      ]
     },
     "metadata": {},
     "output_type": "display_data"
    }
   ],
   "source": [
    "#данные отфильтрованы\n",
    "plt.figure(figsize=(12,5))\n",
    "(plt.plot(ud_f['date'], (ud_f['avg_check_b'] / ud_f['avg_check_a'] -1), \n",
    "          label='filter_avg_cummulative_check_relative_b_to_a', color='MediumSeaGreen'))\n",
    "plt.axhline(y=0, color='DarkSlateGrey', linestyle='--')\n",
    "plt.title('Относительный кумулятивный средний чек группы В к группе А (без выбросов)')\n",
    "plt.xlabel('Дата')\n",
    "plt.legend();"
   ]
  },
  {
   "cell_type": "markdown",
   "metadata": {},
   "source": [
    "> **Сравнение графиков дало понимание ряда вещей:\n",
    "<br> ○ пик в дату 19/08 (есть только в графике без фильтра) - обоснован выбросом\n",
    "<br> ○ пик в даты 06-07/08 обоснован более дорогими / малочисленными заказами группы В, совершенными в эти даты\n",
    "<br> ○ в целом - линия, в основном находится над контрольной линией (кроме начала периода и его конца). Тем не менее, к концу эксперимента показатель группы В стал ниже показателя группы А**"
   ]
  },
  {
   "cell_type": "markdown",
   "metadata": {},
   "source": [
    "### Анализ: кумулятивное среднее кол-во заказов на посетителя по группам"
   ]
  },
  {
   "cell_type": "markdown",
   "metadata": {},
   "source": [
    "> ○ строим график"
   ]
  },
  {
   "cell_type": "code",
   "execution_count": 20,
   "metadata": {},
   "outputs": [],
   "source": [
    "# добавляем доп столбцы с конверсией\n",
    "ud['conversion_a'] = ud['ord_a_qt_cummy'] / ud['vis_a_qt_cummy'] \n",
    "ud['conversion_b'] = ud['ord_b_qt_cummy'] / ud['vis_b_qt_cummy'] "
   ]
  },
  {
   "cell_type": "code",
   "execution_count": 21,
   "metadata": {},
   "outputs": [
    {
     "data": {
      "image/png": "[encoded data removed]",
      "text/plain": [
       "<Figure size 864x360 with 1 Axes>"
      ]
     },
     "metadata": {},
     "output_type": "display_data"
    }
   ],
   "source": [
    "plt.figure(figsize=(12,5))\n",
    "plt.plot(ud['date'], ud['conversion_a'], label='A, orders_cummulative', color='MediumVioletRed')\n",
    "plt.plot(ud['date'], ud['conversion_b'], label='B, orders_cummulative', color='DarkCyan')\n",
    "plt.title('Кумулятивное среднее кол-во заказов по группам')\n",
    "plt.xlabel('Дата')\n",
    "plt.ylabel('Количество заказов на посетителя')\n",
    "plt.legend();"
   ]
  },
  {
   "cell_type": "markdown",
   "metadata": {},
   "source": [
    "> **Что мы видим:\n",
    "<br> ○ кумулятивное среднее кол-во заказов на посетителя по группе А изначально было выше группы В, но в дату 6/08 все изиенилось: группа В ведет весь оставшийся период эксперимента\n",
    "<br> ○ группа А имеет тренд на снижение; группа В сильно поднялась с начала эксперимента, вместе с тем есть также небольшой тренд на снижение к концу эксперимента. В целом видим, что группа В стабильно выше по уровню конверсии, нежели группа А**"
   ]
  },
  {
   "cell_type": "markdown",
   "metadata": {},
   "source": [
    "### Анализ: относительное изменение кумулятивного среднего количества заказов на посетителя группы B к группе A"
   ]
  },
  {
   "cell_type": "code",
   "execution_count": 22,
   "metadata": {
    "scrolled": true
   },
   "outputs": [
    {
     "data": {
      "image/png": "[encoded data removed]",
      "text/plain": [
       "<Figure size 864x360 with 1 Axes>"
      ]
     },
     "metadata": {},
     "output_type": "display_data"
    }
   ],
   "source": [
    "plt.figure(figsize=(12,5))\n",
    "(plt.plot(ud['date'], (ud['conversion_b'] / ud['conversion_a'] -1), \n",
    "          label='conversion_relative_b_to_a', color='MediumSeaGreen'))\n",
    "plt.axhline(y=0, color='DarkSlateGrey', linestyle='--')\n",
    "plt.title('Относительное кумулятивное кол-во заказов группы В к группе А')\n",
    "plt.xlabel('Дата')\n",
    "plt.legend();"
   ]
  },
  {
   "cell_type": "markdown",
   "metadata": {},
   "source": [
    "> **○ по данному графику можем сказать, что кумулятивная конверсия группы В уверенно выше аналогичного показателя группы А с даты 6/08**"
   ]
  },
  {
   "cell_type": "markdown",
   "metadata": {},
   "source": [
    "### Анализ: количество заказов на пользователя"
   ]
  },
  {
   "cell_type": "markdown",
   "metadata": {},
   "source": [
    "#### (график)"
   ]
  },
  {
   "cell_type": "markdown",
   "metadata": {},
   "source": [
    "> ○ построим 3 маленьких датафрейма, сгруппировав данные по юзеру, чтобы получить кол-во уникальных заказов\n",
    "<br> ○ зададим переменные x_values для простановки номеров\n",
    "<br> ○ построим 3 графика по каждому датасету на одном полотне"
   ]
  },
  {
   "cell_type": "code",
   "execution_count": 23,
   "metadata": {},
   "outputs": [
    {
     "data": {
      "image/png": "[encoded data removed]",
      "text/plain": [
       "<Figure size 1080x360 with 3 Axes>"
      ]
     },
     "metadata": {},
     "output_type": "display_data"
    }
   ],
   "source": [
    "# создаем датасеты\n",
    "ord_by_vis_a = (orders.query('group == \"A\"')\n",
    "               .groupby('visitorId', as_index=False)\n",
    "               .agg({'transactionId': pd.Series.nunique})\n",
    "               .rename(columns={'transactionId': 'qt_a'})\n",
    "               .sort_values(by='qt_a', ascending=False))\n",
    "\n",
    "ord_by_vis_b = (orders.query('group == \"B\"')\n",
    "               .groupby('visitorId', as_index=False)\n",
    "               .agg({'transactionId': pd.Series.nunique})\n",
    "               .rename(columns={'transactionId': 'qt_b'})\n",
    "               .sort_values(by='qt_b', ascending=False))\n",
    "\n",
    "orders_total = (orders.groupby('visitorId', as_index=False)\n",
    "                .agg({'transactionId': pd.Series.nunique})\n",
    "                .rename(columns={'transactionId': 'qt_all'})\n",
    "                .sort_values(by='qt_all', ascending=False))\n",
    "\n",
    "# объявляем переменные с номерами наблюдений для каждого фрейма\n",
    "x_values_a = pd.Series(range(0, len(ord_by_vis_a)))\n",
    "x_values_b = pd.Series(range(0, len(ord_by_vis_b)))\n",
    "x_values_total = pd.Series(range(0, len(orders_total)))\n",
    "\n",
    "# строим графики по каждому фрейму\n",
    "fig, axs = plt.subplots(nrows=1, ncols=3, figsize=(15, 5), sharey=True)\n",
    "fig.suptitle('orders_by_visitors (total / A / B)')\n",
    "axs[0].scatter(x_values_total, orders_total['qt_all'], color='MediumSeaGreen', alpha=0.5);\n",
    "axs[1].scatter(x_values_a, ord_by_vis_a['qt_a'], color='MediumVioletRed', alpha=0.5);\n",
    "axs[2].scatter(x_values_b, ord_by_vis_b['qt_b'], color='DarkCyan', alpha=0.5);"
   ]
  },
  {
   "cell_type": "markdown",
   "metadata": {},
   "source": [
    "> **Итого видим, что выбросов по количеству заказов - нет. Фильтровать данные не нужно, 2-3 заказа на клиента считаем нормальными значениями**\n",
    "\n",
    "<br> *примечание для ревьюера: честно сказать, именно это полотно из 3 графиков показало мне, что есть юзеры, присутствующие в обеих группах (максимум графика тотал был выше максимумов по графикам групп А / В). Этих юзеров я исключила на шаге 1, в предобработке данных. Если бы я этого не сделала - то на графиках этого шага были бы неадекватные значения (типа 7). Их бы я и посчитала выбросами*"
   ]
  },
  {
   "cell_type": "markdown",
   "metadata": {},
   "source": [
    "#### (перцентиль)"
   ]
  },
  {
   "cell_type": "code",
   "execution_count": 24,
   "metadata": {},
   "outputs": [
    {
     "data": {
      "text/plain": [
       "array([1., 2.])"
      ]
     },
     "execution_count": 24,
     "metadata": {},
     "output_type": "execute_result"
    }
   ],
   "source": [
    "np.percentile(orders_total['qt_all'], [95,99])"
   ]
  },
  {
   "cell_type": "markdown",
   "metadata": {},
   "source": [
    ">**Уже с графика видели, что не будет высоких значений по кол-ву заказов на юзера. 99% клиентов имеют до 2 заказов включительно. Ничего не отсекаем**"
   ]
  },
  {
   "cell_type": "markdown",
   "metadata": {},
   "source": [
    "### Анализ: стоимость заказов"
   ]
  },
  {
   "cell_type": "markdown",
   "metadata": {},
   "source": [
    "#### (график)"
   ]
  },
  {
   "cell_type": "code",
   "execution_count": 25,
   "metadata": {},
   "outputs": [
    {
     "data": {
      "image/png": "[encoded data removed]",
      "text/plain": [
       "<Figure size 432x288 with 1 Axes>"
      ]
     },
     "metadata": {},
     "output_type": "display_data"
    }
   ],
   "source": [
    "# сделали список с номерами экспериментов по кол-ву\n",
    "x_values_rev = pd.Series(range(0, orders['transactionId'].nunique()))\n",
    "\n",
    "# создаем график:\n",
    "plt.scatter(x_values_rev, orders['revenue'], color='MediumSeaGreen', alpha=0.3);"
   ]
  },
  {
   "cell_type": "markdown",
   "metadata": {},
   "source": [
    "> **Выбросы по суммам есть - видится, что их немного. Найдем перцентиль, чтобы понять, с какого значения начинается выброс**"
   ]
  },
  {
   "cell_type": "markdown",
   "metadata": {},
   "source": [
    "#### (перцентиль)"
   ]
  },
  {
   "cell_type": "code",
   "execution_count": 26,
   "metadata": {},
   "outputs": [
    {
     "data": {
      "text/plain": [
       "array([26785., 53904.])"
      ]
     },
     "execution_count": 26,
     "metadata": {},
     "output_type": "execute_result"
    }
   ],
   "source": [
    "np.percentile(orders['revenue'], [95,99])"
   ]
  },
  {
   "cell_type": "markdown",
   "metadata": {},
   "source": [
    "> ○ **99% заказов имеют сумму до 53904 (1% = ~10 человек), значение 53904 и примем за максимально возможное. Что выше него - будем считать выбросом.**\n",
    "<br> ○ также отмечу, что это значение и было установлено в кач-ве параметра revenue_max в функции (см пункт 3.1.1)\n",
    "<br> ○ посмотрим справочно - как изменится график, если удалить 10 покупок, подходящих под выброс:"
   ]
  },
  {
   "cell_type": "code",
   "execution_count": 27,
   "metadata": {},
   "outputs": [
    {
     "data": {
      "image/png": "[encoded data removed]",
      "text/plain": [
       "<Figure size 432x288 with 1 Axes>"
      ]
     },
     "metadata": {},
     "output_type": "display_data"
    }
   ],
   "source": [
    "orders_filtered = orders.query('revenue <= 53904')\n",
    "x_values_rev = pd.Series(range(0, orders_filtered['transactionId'].nunique()))\n",
    "plt.scatter(x_values_rev, orders_filtered['revenue'], color='MediumSeaGreen', alpha=0.3);"
   ]
  },
  {
   "cell_type": "markdown",
   "metadata": {},
   "source": [
    "> **Теперь данные выглядят нормально - нет пограничных значений, точки разбросаны равномерно. Перейдем к проверкам стат.значимости**"
   ]
  },
  {
   "cell_type": "markdown",
   "metadata": {},
   "source": [
    "## Статитическая значимость различий между группами"
   ]
  },
  {
   "cell_type": "markdown",
   "metadata": {},
   "source": [
    "### Статистическая значимость: среднее количество заказов"
   ]
  },
  {
   "cell_type": "markdown",
   "metadata": {},
   "source": [
    "> ○ для расчета нам понадобятся уже созданные переменные с кол-вом заказов на посетителя + общий датасет с данными (по дням/кумулятивными и тд)\n",
    "<br> ○ создаем переменные, в которых юзерам будет соответствовать кол-во заказов (а кто ничего не заказал - будет иметь 0 в поле)\n",
    "<br> ○ проверим выборки критерием Манна-Уитни и сравним полученное pvalue с уровнем статистической значимости, чтобы понять, отличаются ли группы друг от друга по показателю кол-ва заказов на посетителя\n",
    "<br> ○ проверим относительное различие среднего кол-ва заказов группы В к аналогичному показателю группы А"
   ]
  },
  {
   "cell_type": "markdown",
   "metadata": {},
   "source": [
    "<div class=\"alert alert-block alert-info\">\n",
    "Сформулируем гипотезы:\n",
    "    <br>H0 (нулевая гипотеза) - между группами нет статистически значимых различий в количестве заказов на посетителя\n",
    "    <br>H1 (альтеративная гипотеза) - между группами есть статистически значимые различия в количестве заказов на посетителя"
   ]
  },
  {
   "cell_type": "code",
   "execution_count": 28,
   "metadata": {},
   "outputs": [
    {
     "name": "stdout",
     "output_type": "stream",
     "text": [
      "p_value (среднее кол-во заказов) = 0.006\n",
      "относительный прирост среднего числа заказов группы B = 0.160\n",
      "\n",
      "Отвергаем нулевую гипотезу: между группами есть статистически значимые различия в количестве заказов на посетителя\n"
     ]
    }
   ],
   "source": [
    "# A group, список клиентов с кол-вом заказов\n",
    "sam_a = (pd\n",
    "         .concat([ord_by_vis_a['qt_a'],\n",
    "                  pd.Series(0,index=np.arange(ud['vis_a_qt'].sum() - len(ord_by_vis_a['qt_a'])), name='qt')], \n",
    "                 axis=0))\n",
    "\n",
    "# B group, список клиентов с кол-вом заказов\n",
    "sam_b = (pd\n",
    "         .concat([ord_by_vis_b['qt_b'],\n",
    "                  pd.Series(0,index=np.arange(ud['vis_b_qt'].sum() - len(ord_by_vis_b['qt_b'])), name='qt')], \n",
    "                 axis=0))\n",
    "\n",
    "# рассчитываем критерий Манна-Уитни\n",
    "# рассчитываем относительное различие среднего кол-ва заказов группы В к группе А\n",
    "results_avg_qt = stats.mannwhitneyu(sam_a, sam_b)\n",
    "relative_avg_qt = (sam_b.mean() / sam_a.mean() - 1)\n",
    "\n",
    "print(\"p_value (среднее кол-во заказов) = {0:.3f}\".format(results_avg_qt.pvalue))\n",
    "print(\"относительный прирост среднего числа заказов группы B = {0:.3f}\".format(relative_avg_qt))\n",
    "print()\n",
    "alpha = .05\n",
    "if (results_avg_qt.pvalue < alpha):\n",
    "    print(\"Отвергаем нулевую гипотезу: между группами есть статистически значимые различия в количестве заказов на посетителя\")\n",
    "else:\n",
    "    print(\"Не получилось отвергнуть нулевую гипотезу: между группами нет статистически значимых различий в количестве заказов на посетителя\")"
   ]
  },
  {
   "cell_type": "markdown",
   "metadata": {},
   "source": [
    "> **Тест показал, что есть статистические различия в кол-ве заказов, при этом в относительном различии среднего кол-ва заказов группа B показала себя на 16% лучше группы А.**"
   ]
  },
  {
   "cell_type": "code",
   "execution_count": 29,
   "metadata": {},
   "outputs": [
    {
     "data": {
      "image/png": "[encoded data removed]",
      "text/plain": [
       "<Figure size 720x216 with 3 Axes>"
      ]
     },
     "metadata": {},
     "output_type": "display_data"
    }
   ],
   "source": [
    "# строим графики по каждому фрейму\n",
    "fig, axs = plt.subplots(nrows=1, ncols=3, figsize=(10, 3), sharey=True)\n",
    "fig.suptitle('orders_by_visitors (total / A / B)')\n",
    "axs[0].scatter(x_values_total, orders_total['qt_all'], color='MediumSeaGreen', alpha=0.5);\n",
    "axs[1].scatter(x_values_a, ord_by_vis_a['qt_a'], color='MediumVioletRed', alpha=0.5);\n",
    "axs[2].scatter(x_values_b, ord_by_vis_b['qt_b'], color='DarkCyan', alpha=0.5);"
   ]
  },
  {
   "cell_type": "code",
   "execution_count": 30,
   "metadata": {},
   "outputs": [
    {
     "data": {
      "text/plain": [
       "array([1., 2.])"
      ]
     },
     "execution_count": 30,
     "metadata": {},
     "output_type": "execute_result"
    }
   ],
   "source": [
    "np.percentile(orders_total['qt_all'], [95,99])"
   ]
  },
  {
   "cell_type": "code",
   "execution_count": 31,
   "metadata": {},
   "outputs": [
    {
     "data": {
      "text/html": [
       "<div>\n",
       "<style scoped>\n",
       "    .dataframe tbody tr th:only-of-type {\n",
       "        vertical-align: middle;\n",
       "    }\n",
       "\n",
       "    .dataframe tbody tr th {\n",
       "        vertical-align: top;\n",
       "    }\n",
       "\n",
       "    .dataframe thead th {\n",
       "        text-align: right;\n",
       "    }\n",
       "</style>\n",
       "<table border=\"1\" class=\"dataframe\">\n",
       "  <thead>\n",
       "    <tr style=\"text-align: right;\">\n",
       "      <th></th>\n",
       "      <th>visitorId</th>\n",
       "      <th>qt_all</th>\n",
       "    </tr>\n",
       "  </thead>\n",
       "  <tbody>\n",
       "    <tr>\n",
       "      <th>908</th>\n",
       "      <td>3967698036</td>\n",
       "      <td>3</td>\n",
       "    </tr>\n",
       "    <tr>\n",
       "      <th>478</th>\n",
       "      <td>2108163459</td>\n",
       "      <td>3</td>\n",
       "    </tr>\n",
       "    <tr>\n",
       "      <th>687</th>\n",
       "      <td>2988190573</td>\n",
       "      <td>3</td>\n",
       "    </tr>\n",
       "    <tr>\n",
       "      <th>890</th>\n",
       "      <td>3908431265</td>\n",
       "      <td>3</td>\n",
       "    </tr>\n",
       "    <tr>\n",
       "      <th>138</th>\n",
       "      <td>611059232</td>\n",
       "      <td>3</td>\n",
       "    </tr>\n",
       "  </tbody>\n",
       "</table>\n",
       "</div>"
      ],
      "text/plain": [
       "      visitorId  qt_all\n",
       "908  3967698036       3\n",
       "478  2108163459       3\n",
       "687  2988190573       3\n",
       "890  3908431265       3\n",
       "138   611059232       3"
      ]
     },
     "execution_count": 31,
     "metadata": {},
     "output_type": "execute_result"
    }
   ],
   "source": [
    "orders_total.sort_values(by='qt_all', ascending=False).head(5)"
   ]
  },
  {
   "cell_type": "markdown",
   "metadata": {},
   "source": [
    "### Статистическая значимость: средний чек заказа (\"сырые\" данные)"
   ]
  },
  {
   "cell_type": "markdown",
   "metadata": {},
   "source": [
    "> ○ для лаконичности кода объявим переменные со срезами сета orders по группам\n",
    "<br> ○ проверим выборки критерием Манна-Уитни и сравним полученное pvalue с уровнем статистической значимости, чтобы понять, отличаются ли группы друг от друга по показателю среднего чека\n",
    "<br> ○ проверим относительное различие среднего чека группы В к аналогичному показателю группы А"
   ]
  },
  {
   "cell_type": "markdown",
   "metadata": {},
   "source": [
    "<div class=\"alert alert-block alert-info\">\n",
    "Сформулируем гипотезы:\n",
    "    <br>H0 (нулевая гипотеза) - между группами нет статистически значимых различий в среднем чеке заказа\n",
    "    <br>H1 (альтеративная гипотеза) - между группами есть статистически значимые различия в среднем чеке заказа"
   ]
  },
  {
   "cell_type": "code",
   "execution_count": 32,
   "metadata": {},
   "outputs": [
    {
     "name": "stdout",
     "output_type": "stream",
     "text": [
      "p_value (средний чек заказа, 'сырые' данные) = 0.415\n",
      "относительный прирост среднего чека заказа группы B = 0.287\n",
      "\n",
      "Не получилось отвергнуть нулевую гипотезу: между группами нет статистически значимых различий\n"
     ]
    }
   ],
   "source": [
    "o_a = orders.query('group == \"A\"')\n",
    "o_b = orders.query('group == \"B\"')\n",
    "\n",
    "results_avg_check = stats.mannwhitneyu(o_a['revenue'], o_b['revenue'])\n",
    "relative_avg_check = (o_b['revenue'].mean() / o_a['revenue'].mean() - 1)\n",
    "\n",
    "print(\"p_value (средний чек заказа, 'сырые' данные) = {0:.3f}\".format(results_avg_check.pvalue))\n",
    "print(\"относительный прирост среднего чека заказа группы B = {0:.3f}\".format(relative_avg_check))\n",
    "print()\n",
    "alpha = .05\n",
    "if (results_avg_check.pvalue < alpha):\n",
    "    print(\"Отвергаем нулевую гипотезу: между группами есть статистически значимые различия\")\n",
    "else:\n",
    "    print(\"Не получилось отвергнуть нулевую гипотезу: между группами нет статистически значимых различий\")"
   ]
  },
  {
   "cell_type": "markdown",
   "metadata": {},
   "source": [
    "**p_value значительно больше 0.05. Соответственно, у нас нет причин отвергать нулевую гипотезу и считать, что существуют статистически значимые различия в среднем чеке групп - несмотря на наблюдаемое различие в средних чеках (средний чек заказа в группе В выше аналогичного показателя группы А на 28.7%)**"
   ]
  },
  {
   "cell_type": "markdown",
   "metadata": {},
   "source": [
    "### Статистическая значимость: средний чек заказа (\"чистые\" данные)"
   ]
  },
  {
   "cell_type": "markdown",
   "metadata": {},
   "source": [
    "<div class=\"alert alert-block alert-info\">\n",
    "Сформулируем гипотезы:\n",
    "    <br>H0 (нулевая гипотеза) - между группами нет статистически значимых различий в среднем чеке заказа\n",
    "    <br>H1 (альтеративная гипотеза) - между группами есть статистически значимые различия в среднем чеке заказа"
   ]
  },
  {
   "cell_type": "markdown",
   "metadata": {},
   "source": [
    "> ○ сделаем действия, аналогичные предыдущему пункту - с учетом корректировки датасетов с данными заказов\n",
    "<br> ○ возьмем в расчет сет orders_filtered (в нем уже отсечены значения выше 53904 (см пункт 3.8.2))"
   ]
  },
  {
   "cell_type": "code",
   "execution_count": 33,
   "metadata": {},
   "outputs": [
    {
     "name": "stdout",
     "output_type": "stream",
     "text": [
      "p_value (средний чек заказа, 'чистые' данные) = 0.450\n",
      "относительный прирост среднего чека заказа группы B = -0.032\n",
      "\n",
      "Не получилось отвергнуть нулевую гипотезу: между группами нет статистически значимых различий\n"
     ]
    }
   ],
   "source": [
    "o_a_clear = orders_filtered.query('group == \"A\"')\n",
    "o_b_clear = orders_filtered.query('group == \"B\"')\n",
    "\n",
    "results_avg_check_clear = stats.mannwhitneyu(o_a_clear['revenue'], o_b_clear['revenue'])\n",
    "relative_avg_check_clear = ((o_b_clear['revenue'].mean() / o_a_clear['revenue'].mean()) - 1)\n",
    "\n",
    "print(\"p_value (средний чек заказа, 'чистые' данные) = {0:.3f}\".format(results_avg_check_clear.pvalue))\n",
    "print(\"относительный прирост среднего чека заказа группы B = {0:.3f}\".format(relative_avg_check_clear))\n",
    "print()\n",
    "alpha = .05\n",
    "if (results_avg_check_clear.pvalue < alpha):\n",
    "    print(\"Отвергаем нулевую гипотезу: между группами есть статистически значимые различия\")\n",
    "else:\n",
    "    print(\"Не получилось отвергнуть нулевую гипотезу: между группами нет статистически значимых различий\")"
   ]
  },
  {
   "cell_type": "markdown",
   "metadata": {},
   "source": [
    "**Видим, как изменился относительный средний чек группы В к группе А - после исключения выбросов он стал даже ниже на 3% (выбросы оказывали существенное влияние). Вместе с этим уровень p_value все также превышает 0.05 - значит нет причин думать, что между выборками есть статистически значимые различия в показателе среднего чека заказа**"
   ]
  },
  {
   "cell_type": "markdown",
   "metadata": {},
   "source": [
    "## Выводы"
   ]
  },
  {
   "cell_type": "markdown",
   "metadata": {},
   "source": [
    ">**Итого по тесту имеем:**\n",
    "<br> ○ по кумулятивной выручке группа В лидирует (график пункта 3.2)\n",
    "<br> ○ кумулятивный средний чек группы В был выше в начале эксперимента, сейчас группа А перегнала группу В по этому показателю (пункт 3.3), то же самое видим в пункте 3.4 в относительном графике\n",
    "<br> ○ по графику кумулятивной конверсии лидирует группа В\n",
    "<br> ○ по стат значимости: группы различаются по показателю среднего кол-ва заказов, при этом группа В выигрывает на 16% в части относительного прироста кол-ва числа заказов\n",
    "<br> ○ по показателю среднего чека нет статистических различий между выборками. Средний чек группы В лидирует только с включенными выбросами, без выбросов относительный проигрыш группы В - около 3%\n",
    "<br>\n",
    "\n",
    "<br>**Тест продолжался достаточное кол-во времени, группа В имеет стат.значимые отличия по среднему кол-ву заказов + показывает относительный прирост кол-ва заказов / также по всем кумулятивным графикам видим однозначное лидерство группы В. Тест следует завершить, признав победу за группой В.**"
   ]
  }
 ],
 "metadata": {
  "ExecuteTimeLog": [
   {
    "duration": 1210,
    "start_time": "2023-05-23T10:09:20.361Z"
   },
   {
    "duration": 191,
    "start_time": "2023-05-23T10:10:48.199Z"
   },
   {
    "duration": 101,
    "start_time": "2023-05-23T10:10:54.905Z"
   },
   {
    "duration": 10,
    "start_time": "2023-05-23T10:10:59.145Z"
   },
   {
    "duration": 6,
    "start_time": "2023-05-23T10:11:24.251Z"
   },
   {
    "duration": 7,
    "start_time": "2023-05-23T10:11:30.497Z"
   },
   {
    "duration": 11,
    "start_time": "2023-05-23T10:12:51.022Z"
   },
   {
    "duration": 60,
    "start_time": "2023-05-23T10:17:19.462Z"
   },
   {
    "duration": 51,
    "start_time": "2023-05-23T10:17:38.783Z"
   },
   {
    "duration": 51,
    "start_time": "2023-05-23T10:19:27.976Z"
   },
   {
    "duration": 13,
    "start_time": "2023-05-23T10:21:16.481Z"
   },
   {
    "duration": 6,
    "start_time": "2023-05-23T10:21:34.088Z"
   },
   {
    "duration": 12,
    "start_time": "2023-05-23T10:21:40.348Z"
   },
   {
    "duration": 6,
    "start_time": "2023-05-23T10:21:48.100Z"
   },
   {
    "duration": 6,
    "start_time": "2023-05-23T10:22:12.590Z"
   },
   {
    "duration": 8,
    "start_time": "2023-05-23T10:22:29.555Z"
   },
   {
    "duration": 13,
    "start_time": "2023-05-23T10:24:42.467Z"
   },
   {
    "duration": 11,
    "start_time": "2023-05-23T10:24:47.042Z"
   },
   {
    "duration": 11,
    "start_time": "2023-05-23T10:25:09.442Z"
   },
   {
    "duration": 10,
    "start_time": "2023-05-23T10:26:23.439Z"
   },
   {
    "duration": 12,
    "start_time": "2023-05-23T10:26:46.238Z"
   },
   {
    "duration": 6,
    "start_time": "2023-05-23T10:43:54.946Z"
   },
   {
    "duration": 20,
    "start_time": "2023-05-23T10:44:03.816Z"
   },
   {
    "duration": 63,
    "start_time": "2023-05-23T10:44:09.241Z"
   },
   {
    "duration": 9,
    "start_time": "2023-05-23T10:44:12.252Z"
   },
   {
    "duration": 90,
    "start_time": "2023-05-23T10:49:15.015Z"
   },
   {
    "duration": 53,
    "start_time": "2023-05-23T10:49:26.321Z"
   },
   {
    "duration": 41,
    "start_time": "2023-05-23T10:49:29.715Z"
   },
   {
    "duration": 42,
    "start_time": "2023-05-23T10:49:49.888Z"
   },
   {
    "duration": 185,
    "start_time": "2023-05-23T10:50:19.692Z"
   },
   {
    "duration": 180,
    "start_time": "2023-05-23T10:50:35.100Z"
   },
   {
    "duration": 8,
    "start_time": "2023-05-23T10:52:02.283Z"
   },
   {
    "duration": 265,
    "start_time": "2023-05-23T10:57:30.913Z"
   },
   {
    "duration": 326,
    "start_time": "2023-05-23T10:57:34.394Z"
   },
   {
    "duration": 14,
    "start_time": "2023-05-23T10:59:32.219Z"
   },
   {
    "duration": 19,
    "start_time": "2023-05-23T11:00:01.438Z"
   },
   {
    "duration": 260,
    "start_time": "2023-05-23T11:00:13.840Z"
   },
   {
    "duration": 17,
    "start_time": "2023-05-23T11:00:15.407Z"
   },
   {
    "duration": 12,
    "start_time": "2023-05-23T11:00:19.675Z"
   },
   {
    "duration": 253,
    "start_time": "2023-05-23T11:01:01.513Z"
   },
   {
    "duration": 154,
    "start_time": "2023-05-23T11:01:13.296Z"
   },
   {
    "duration": 16,
    "start_time": "2023-05-23T11:02:40.918Z"
   },
   {
    "duration": 8,
    "start_time": "2023-05-23T11:02:48.178Z"
   },
   {
    "duration": 164,
    "start_time": "2023-05-23T11:03:19.584Z"
   },
   {
    "duration": 220,
    "start_time": "2023-05-23T11:03:34.457Z"
   },
   {
    "duration": 12,
    "start_time": "2023-05-23T11:03:42.411Z"
   },
   {
    "duration": 8,
    "start_time": "2023-05-23T11:03:58.850Z"
   },
   {
    "duration": 8,
    "start_time": "2023-05-23T11:04:05.440Z"
   },
   {
    "duration": 10,
    "start_time": "2023-05-23T11:04:11.290Z"
   },
   {
    "duration": 169,
    "start_time": "2023-05-23T11:04:22.379Z"
   },
   {
    "duration": 174,
    "start_time": "2023-05-23T11:04:26.109Z"
   },
   {
    "duration": 226,
    "start_time": "2023-05-23T11:04:48.286Z"
   },
   {
    "duration": 220,
    "start_time": "2023-05-23T11:04:52.810Z"
   },
   {
    "duration": 172,
    "start_time": "2023-05-23T11:05:35.562Z"
   },
   {
    "duration": 178,
    "start_time": "2023-05-23T11:05:41.257Z"
   },
   {
    "duration": 169,
    "start_time": "2023-05-23T11:05:52.745Z"
   },
   {
    "duration": 177,
    "start_time": "2023-05-23T11:06:06.534Z"
   },
   {
    "duration": 168,
    "start_time": "2023-05-23T14:49:37.862Z"
   },
   {
    "duration": 12,
    "start_time": "2023-05-23T14:50:54.609Z"
   },
   {
    "duration": 5,
    "start_time": "2023-05-23T14:51:18.146Z"
   },
   {
    "duration": 138,
    "start_time": "2023-05-23T14:53:12.260Z"
   },
   {
    "duration": 145,
    "start_time": "2023-05-23T14:53:46.921Z"
   },
   {
    "duration": 168,
    "start_time": "2023-05-23T14:53:56.412Z"
   },
   {
    "duration": 152,
    "start_time": "2023-05-23T14:53:59.177Z"
   },
   {
    "duration": 168,
    "start_time": "2023-05-23T14:54:08.565Z"
   },
   {
    "duration": 13,
    "start_time": "2023-05-23T14:55:48.457Z"
   },
   {
    "duration": 10,
    "start_time": "2023-05-23T14:56:36.044Z"
   },
   {
    "duration": 144,
    "start_time": "2023-05-23T14:59:37.154Z"
   },
   {
    "duration": 48,
    "start_time": "2023-05-23T14:59:44.580Z"
   },
   {
    "duration": 207,
    "start_time": "2023-05-23T14:59:53.563Z"
   },
   {
    "duration": 141,
    "start_time": "2023-05-23T14:59:56.532Z"
   },
   {
    "duration": 155,
    "start_time": "2023-05-23T15:00:15.387Z"
   },
   {
    "duration": 354,
    "start_time": "2023-05-23T15:02:06.982Z"
   },
   {
    "duration": 10,
    "start_time": "2023-05-23T15:05:54.731Z"
   },
   {
    "duration": 8,
    "start_time": "2023-05-23T15:05:57.940Z"
   },
   {
    "duration": 7,
    "start_time": "2023-05-23T15:06:47.690Z"
   },
   {
    "duration": 169,
    "start_time": "2023-05-23T15:07:46.241Z"
   },
   {
    "duration": 9,
    "start_time": "2023-05-23T16:22:28.982Z"
   },
   {
    "duration": 11,
    "start_time": "2023-05-23T16:22:32.018Z"
   },
   {
    "duration": 13,
    "start_time": "2023-05-23T16:23:15.086Z"
   },
   {
    "duration": 965,
    "start_time": "2023-05-23T16:58:11.658Z"
   },
   {
    "duration": 11,
    "start_time": "2023-05-23T16:58:37.273Z"
   },
   {
    "duration": 1099,
    "start_time": "2023-05-23T16:59:01.582Z"
   },
   {
    "duration": 76,
    "start_time": "2023-05-23T16:59:02.683Z"
   },
   {
    "duration": 60,
    "start_time": "2023-05-23T16:59:02.761Z"
   },
   {
    "duration": 5,
    "start_time": "2023-05-23T16:59:02.823Z"
   },
   {
    "duration": 27,
    "start_time": "2023-05-23T16:59:02.830Z"
   },
   {
    "duration": 22,
    "start_time": "2023-05-23T16:59:02.859Z"
   },
   {
    "duration": 18,
    "start_time": "2023-05-23T16:59:02.882Z"
   },
   {
    "duration": 30,
    "start_time": "2023-05-23T16:59:02.902Z"
   },
   {
    "duration": 285,
    "start_time": "2023-05-23T16:59:02.933Z"
   },
   {
    "duration": 12,
    "start_time": "2023-05-23T16:59:03.219Z"
   },
   {
    "duration": 8,
    "start_time": "2023-05-23T16:59:03.232Z"
   },
   {
    "duration": 269,
    "start_time": "2023-05-23T16:59:03.241Z"
   },
   {
    "duration": 178,
    "start_time": "2023-05-23T16:59:03.511Z"
   },
   {
    "duration": 10,
    "start_time": "2023-05-23T16:59:03.692Z"
   },
   {
    "duration": 304,
    "start_time": "2023-05-23T16:59:03.704Z"
   },
   {
    "duration": 191,
    "start_time": "2023-05-23T16:59:04.010Z"
   },
   {
    "duration": 146,
    "start_time": "2023-05-23T16:59:04.203Z"
   },
   {
    "duration": 179,
    "start_time": "2023-05-23T16:59:04.351Z"
   },
   {
    "duration": 226,
    "start_time": "2023-05-23T17:00:12.963Z"
   },
   {
    "duration": 65,
    "start_time": "2023-05-23T19:20:26.782Z"
   },
   {
    "duration": 1428,
    "start_time": "2023-05-23T19:20:32.543Z"
   },
   {
    "duration": 206,
    "start_time": "2023-05-23T19:20:33.973Z"
   },
   {
    "duration": 68,
    "start_time": "2023-05-23T19:20:34.181Z"
   },
   {
    "duration": 5,
    "start_time": "2023-05-23T19:20:34.251Z"
   },
   {
    "duration": 10,
    "start_time": "2023-05-23T19:20:34.273Z"
   },
   {
    "duration": 15,
    "start_time": "2023-05-23T19:20:34.284Z"
   },
   {
    "duration": 14,
    "start_time": "2023-05-23T19:20:34.301Z"
   },
   {
    "duration": 14,
    "start_time": "2023-05-23T19:20:34.317Z"
   },
   {
    "duration": 317,
    "start_time": "2023-05-23T19:20:34.333Z"
   },
   {
    "duration": 20,
    "start_time": "2023-05-23T19:20:34.652Z"
   },
   {
    "duration": 11,
    "start_time": "2023-05-23T19:20:34.674Z"
   },
   {
    "duration": 301,
    "start_time": "2023-05-23T19:20:34.687Z"
   },
   {
    "duration": 206,
    "start_time": "2023-05-23T19:20:34.990Z"
   },
   {
    "duration": 12,
    "start_time": "2023-05-23T19:20:35.199Z"
   },
   {
    "duration": 304,
    "start_time": "2023-05-23T19:20:35.213Z"
   },
   {
    "duration": 211,
    "start_time": "2023-05-23T19:20:35.519Z"
   },
   {
    "duration": 341,
    "start_time": "2023-05-23T19:20:35.732Z"
   },
   {
    "duration": 14,
    "start_time": "2023-05-23T19:21:06.421Z"
   },
   {
    "duration": 14,
    "start_time": "2023-05-23T19:21:15.784Z"
   },
   {
    "duration": 12,
    "start_time": "2023-05-23T19:21:23.019Z"
   },
   {
    "duration": 8,
    "start_time": "2023-05-23T19:23:26.986Z"
   },
   {
    "duration": 17,
    "start_time": "2023-05-23T19:23:31.643Z"
   },
   {
    "duration": 12,
    "start_time": "2023-05-23T19:23:46.140Z"
   },
   {
    "duration": 14,
    "start_time": "2023-05-23T19:23:51.694Z"
   },
   {
    "duration": 19,
    "start_time": "2023-05-23T19:24:59.602Z"
   },
   {
    "duration": 9,
    "start_time": "2023-05-23T19:26:33.594Z"
   },
   {
    "duration": 17,
    "start_time": "2023-05-23T19:26:37.268Z"
   },
   {
    "duration": 108,
    "start_time": "2023-05-23T19:26:43.541Z"
   },
   {
    "duration": 283,
    "start_time": "2023-05-23T19:26:55.023Z"
   },
   {
    "duration": 138,
    "start_time": "2023-05-23T19:27:11.693Z"
   },
   {
    "duration": 251,
    "start_time": "2023-05-23T19:27:18.341Z"
   },
   {
    "duration": 137,
    "start_time": "2023-05-23T19:54:39.370Z"
   },
   {
    "duration": 139,
    "start_time": "2023-05-23T19:54:43.669Z"
   },
   {
    "duration": 1169,
    "start_time": "2023-05-23T19:56:03.281Z"
   },
   {
    "duration": 83,
    "start_time": "2023-05-23T19:56:04.452Z"
   },
   {
    "duration": 68,
    "start_time": "2023-05-23T19:56:04.537Z"
   },
   {
    "duration": 6,
    "start_time": "2023-05-23T19:56:04.607Z"
   },
   {
    "duration": 112,
    "start_time": "2023-05-23T19:56:04.615Z"
   },
   {
    "duration": 0,
    "start_time": "2023-05-23T19:56:04.729Z"
   },
   {
    "duration": 0,
    "start_time": "2023-05-23T19:56:04.730Z"
   },
   {
    "duration": 0,
    "start_time": "2023-05-23T19:56:04.731Z"
   },
   {
    "duration": 0,
    "start_time": "2023-05-23T19:56:04.732Z"
   },
   {
    "duration": 0,
    "start_time": "2023-05-23T19:56:04.733Z"
   },
   {
    "duration": 0,
    "start_time": "2023-05-23T19:56:04.734Z"
   },
   {
    "duration": 0,
    "start_time": "2023-05-23T19:56:04.735Z"
   },
   {
    "duration": 0,
    "start_time": "2023-05-23T19:56:04.736Z"
   },
   {
    "duration": 0,
    "start_time": "2023-05-23T19:56:04.737Z"
   },
   {
    "duration": 0,
    "start_time": "2023-05-23T19:56:04.738Z"
   },
   {
    "duration": 0,
    "start_time": "2023-05-23T19:56:04.739Z"
   },
   {
    "duration": 0,
    "start_time": "2023-05-23T19:56:04.740Z"
   },
   {
    "duration": 0,
    "start_time": "2023-05-23T19:56:04.741Z"
   },
   {
    "duration": 0,
    "start_time": "2023-05-23T19:56:04.741Z"
   },
   {
    "duration": 128,
    "start_time": "2023-05-23T19:56:49.591Z"
   },
   {
    "duration": 112,
    "start_time": "2023-05-23T19:57:03.209Z"
   },
   {
    "duration": 129,
    "start_time": "2023-05-23T19:57:43.442Z"
   },
   {
    "duration": 117,
    "start_time": "2023-05-23T19:57:46.694Z"
   },
   {
    "duration": 128,
    "start_time": "2023-05-23T19:57:55.417Z"
   },
   {
    "duration": 143,
    "start_time": "2023-05-23T19:57:58.568Z"
   },
   {
    "duration": 118,
    "start_time": "2023-05-23T19:58:05.588Z"
   },
   {
    "duration": 6,
    "start_time": "2023-05-23T19:58:48.873Z"
   },
   {
    "duration": 4,
    "start_time": "2023-05-23T19:59:14.026Z"
   },
   {
    "duration": 4,
    "start_time": "2023-05-23T19:59:16.524Z"
   },
   {
    "duration": 5,
    "start_time": "2023-05-23T19:59:18.341Z"
   },
   {
    "duration": 5,
    "start_time": "2023-05-23T19:59:23.046Z"
   },
   {
    "duration": 1226,
    "start_time": "2023-05-23T20:00:56.435Z"
   },
   {
    "duration": 83,
    "start_time": "2023-05-23T20:00:57.663Z"
   },
   {
    "duration": 72,
    "start_time": "2023-05-23T20:00:57.748Z"
   },
   {
    "duration": 7,
    "start_time": "2023-05-23T20:00:57.823Z"
   },
   {
    "duration": 29,
    "start_time": "2023-05-23T20:00:57.832Z"
   },
   {
    "duration": 26,
    "start_time": "2023-05-23T20:00:57.871Z"
   },
   {
    "duration": 23,
    "start_time": "2023-05-23T20:00:57.899Z"
   },
   {
    "duration": 28,
    "start_time": "2023-05-23T20:00:57.924Z"
   },
   {
    "duration": 338,
    "start_time": "2023-05-23T20:00:57.954Z"
   },
   {
    "duration": 12,
    "start_time": "2023-05-23T20:00:58.295Z"
   },
   {
    "duration": 25,
    "start_time": "2023-05-23T20:00:58.309Z"
   },
   {
    "duration": 285,
    "start_time": "2023-05-23T20:00:58.335Z"
   },
   {
    "duration": 200,
    "start_time": "2023-05-23T20:00:58.622Z"
   },
   {
    "duration": 14,
    "start_time": "2023-05-23T20:00:58.824Z"
   },
   {
    "duration": 346,
    "start_time": "2023-05-23T20:00:58.840Z"
   },
   {
    "duration": 219,
    "start_time": "2023-05-23T20:00:59.188Z"
   },
   {
    "duration": 277,
    "start_time": "2023-05-23T20:00:59.409Z"
   },
   {
    "duration": 136,
    "start_time": "2023-05-23T20:00:59.688Z"
   },
   {
    "duration": 6,
    "start_time": "2023-05-23T20:00:59.826Z"
   },
   {
    "duration": 13,
    "start_time": "2023-05-23T20:02:52.621Z"
   },
   {
    "duration": 13,
    "start_time": "2023-05-23T20:02:57.349Z"
   },
   {
    "duration": 15,
    "start_time": "2023-05-23T20:03:22.692Z"
   },
   {
    "duration": 58,
    "start_time": "2023-05-24T10:12:34.586Z"
   },
   {
    "duration": 1265,
    "start_time": "2023-05-24T10:12:40.464Z"
   },
   {
    "duration": 191,
    "start_time": "2023-05-24T10:12:41.731Z"
   },
   {
    "duration": 69,
    "start_time": "2023-05-24T10:12:41.923Z"
   },
   {
    "duration": 5,
    "start_time": "2023-05-24T10:12:41.994Z"
   },
   {
    "duration": 11,
    "start_time": "2023-05-24T10:12:42.002Z"
   },
   {
    "duration": 44,
    "start_time": "2023-05-24T10:12:42.015Z"
   },
   {
    "duration": 17,
    "start_time": "2023-05-24T10:12:42.061Z"
   },
   {
    "duration": 11,
    "start_time": "2023-05-24T10:12:42.080Z"
   },
   {
    "duration": 306,
    "start_time": "2023-05-24T10:12:42.092Z"
   },
   {
    "duration": 13,
    "start_time": "2023-05-24T10:12:42.400Z"
   },
   {
    "duration": 14,
    "start_time": "2023-05-24T10:12:42.414Z"
   },
   {
    "duration": 321,
    "start_time": "2023-05-24T10:12:42.430Z"
   },
   {
    "duration": 197,
    "start_time": "2023-05-24T10:12:42.753Z"
   },
   {
    "duration": 12,
    "start_time": "2023-05-24T10:12:42.953Z"
   },
   {
    "duration": 385,
    "start_time": "2023-05-24T10:12:42.967Z"
   },
   {
    "duration": 209,
    "start_time": "2023-05-24T10:12:43.354Z"
   },
   {
    "duration": 285,
    "start_time": "2023-05-24T10:12:43.565Z"
   },
   {
    "duration": 134,
    "start_time": "2023-05-24T10:12:43.852Z"
   },
   {
    "duration": 4,
    "start_time": "2023-05-24T10:12:43.988Z"
   },
   {
    "duration": 10,
    "start_time": "2023-05-24T10:12:43.994Z"
   },
   {
    "duration": 75,
    "start_time": "2023-05-24T10:14:25.285Z"
   },
   {
    "duration": 7,
    "start_time": "2023-05-24T10:14:28.277Z"
   },
   {
    "duration": 9,
    "start_time": "2023-05-24T10:14:51.161Z"
   },
   {
    "duration": 9,
    "start_time": "2023-05-24T10:14:58.208Z"
   },
   {
    "duration": 105,
    "start_time": "2023-05-24T10:17:21.807Z"
   },
   {
    "duration": 13,
    "start_time": "2023-05-24T10:17:26.310Z"
   },
   {
    "duration": 8,
    "start_time": "2023-05-24T10:18:02.361Z"
   },
   {
    "duration": 12,
    "start_time": "2023-05-24T10:18:06.993Z"
   },
   {
    "duration": 9,
    "start_time": "2023-05-24T10:18:26.091Z"
   },
   {
    "duration": 11,
    "start_time": "2023-05-24T10:18:31.688Z"
   },
   {
    "duration": 16,
    "start_time": "2023-05-24T10:18:35.150Z"
   },
   {
    "duration": 126,
    "start_time": "2023-05-24T10:18:43.349Z"
   },
   {
    "duration": 4,
    "start_time": "2023-05-24T10:19:24.651Z"
   },
   {
    "duration": 3,
    "start_time": "2023-05-24T10:19:31.458Z"
   },
   {
    "duration": 13,
    "start_time": "2023-05-24T10:19:53.870Z"
   },
   {
    "duration": 5,
    "start_time": "2023-05-24T10:19:56.850Z"
   },
   {
    "duration": 10,
    "start_time": "2023-05-24T10:22:54.816Z"
   },
   {
    "duration": 8,
    "start_time": "2023-05-24T10:23:11.270Z"
   },
   {
    "duration": 8,
    "start_time": "2023-05-24T10:24:22.862Z"
   },
   {
    "duration": 7,
    "start_time": "2023-05-24T10:24:27.401Z"
   },
   {
    "duration": 201,
    "start_time": "2023-05-24T10:24:29.951Z"
   },
   {
    "duration": 145,
    "start_time": "2023-05-24T10:24:38.866Z"
   },
   {
    "duration": 130,
    "start_time": "2023-05-24T10:24:43.859Z"
   },
   {
    "duration": 6,
    "start_time": "2023-05-24T10:25:41.155Z"
   },
   {
    "duration": 131,
    "start_time": "2023-05-24T10:30:22.764Z"
   },
   {
    "duration": 168,
    "start_time": "2023-05-24T10:31:07.759Z"
   },
   {
    "duration": 6,
    "start_time": "2023-05-24T10:31:46.086Z"
   },
   {
    "duration": 6,
    "start_time": "2023-05-24T10:32:10.577Z"
   },
   {
    "duration": 13,
    "start_time": "2023-05-24T10:36:13.956Z"
   },
   {
    "duration": 8,
    "start_time": "2023-05-24T10:36:25.514Z"
   },
   {
    "duration": 8,
    "start_time": "2023-05-24T10:36:36.059Z"
   },
   {
    "duration": 140,
    "start_time": "2023-05-24T10:37:36.708Z"
   },
   {
    "duration": 12,
    "start_time": "2023-05-24T10:38:18.386Z"
   },
   {
    "duration": 11,
    "start_time": "2023-05-24T10:38:31.581Z"
   },
   {
    "duration": 127,
    "start_time": "2023-05-24T10:38:39.720Z"
   },
   {
    "duration": 122,
    "start_time": "2023-05-24T10:39:02.222Z"
   },
   {
    "duration": 71,
    "start_time": "2023-05-24T10:50:33.859Z"
   },
   {
    "duration": 66,
    "start_time": "2023-05-24T10:50:39.498Z"
   },
   {
    "duration": 75,
    "start_time": "2023-05-24T10:50:46.121Z"
   },
   {
    "duration": 314,
    "start_time": "2023-05-24T10:51:08.470Z"
   },
   {
    "duration": 325,
    "start_time": "2023-05-24T10:55:15.180Z"
   },
   {
    "duration": 3,
    "start_time": "2023-05-24T10:55:20.114Z"
   },
   {
    "duration": 308,
    "start_time": "2023-05-24T10:55:28.098Z"
   },
   {
    "duration": 54,
    "start_time": "2023-05-25T15:00:05.170Z"
   },
   {
    "duration": 1383,
    "start_time": "2023-05-25T15:00:10.181Z"
   },
   {
    "duration": 246,
    "start_time": "2023-05-25T15:00:11.566Z"
   },
   {
    "duration": 70,
    "start_time": "2023-05-25T15:00:11.814Z"
   },
   {
    "duration": 6,
    "start_time": "2023-05-25T15:00:11.886Z"
   },
   {
    "duration": 68,
    "start_time": "2023-05-25T15:00:11.894Z"
   },
   {
    "duration": 22,
    "start_time": "2023-05-25T15:00:11.964Z"
   },
   {
    "duration": 31,
    "start_time": "2023-05-25T15:00:11.988Z"
   },
   {
    "duration": 33,
    "start_time": "2023-05-25T15:00:12.021Z"
   },
   {
    "duration": 338,
    "start_time": "2023-05-25T15:00:12.056Z"
   },
   {
    "duration": 17,
    "start_time": "2023-05-25T15:00:12.396Z"
   },
   {
    "duration": 26,
    "start_time": "2023-05-25T15:00:12.415Z"
   },
   {
    "duration": 329,
    "start_time": "2023-05-25T15:00:12.444Z"
   },
   {
    "duration": 210,
    "start_time": "2023-05-25T15:00:12.776Z"
   },
   {
    "duration": 13,
    "start_time": "2023-05-25T15:00:12.989Z"
   },
   {
    "duration": 348,
    "start_time": "2023-05-25T15:00:13.004Z"
   },
   {
    "duration": 226,
    "start_time": "2023-05-25T15:00:13.355Z"
   },
   {
    "duration": 294,
    "start_time": "2023-05-25T15:00:13.583Z"
   },
   {
    "duration": 139,
    "start_time": "2023-05-25T15:00:13.879Z"
   },
   {
    "duration": 7,
    "start_time": "2023-05-25T15:00:14.020Z"
   },
   {
    "duration": 57,
    "start_time": "2023-05-25T15:00:14.028Z"
   },
   {
    "duration": 155,
    "start_time": "2023-05-25T15:00:14.087Z"
   },
   {
    "duration": 6,
    "start_time": "2023-05-25T15:00:14.245Z"
   },
   {
    "duration": 36,
    "start_time": "2023-05-25T15:00:14.253Z"
   },
   {
    "duration": 109,
    "start_time": "2023-05-26T11:55:23.567Z"
   },
   {
    "duration": 1741,
    "start_time": "2023-05-26T11:55:29.209Z"
   },
   {
    "duration": 339,
    "start_time": "2023-05-26T11:55:30.957Z"
   },
   {
    "duration": 118,
    "start_time": "2023-05-26T11:55:31.298Z"
   },
   {
    "duration": 8,
    "start_time": "2023-05-26T11:55:31.425Z"
   },
   {
    "duration": 25,
    "start_time": "2023-05-26T11:55:31.435Z"
   },
   {
    "duration": 67,
    "start_time": "2023-05-26T11:55:31.461Z"
   },
   {
    "duration": 16,
    "start_time": "2023-05-26T11:55:31.536Z"
   },
   {
    "duration": 41,
    "start_time": "2023-05-26T11:55:31.554Z"
   },
   {
    "duration": 456,
    "start_time": "2023-05-26T11:55:31.597Z"
   },
   {
    "duration": 15,
    "start_time": "2023-05-26T11:55:32.056Z"
   },
   {
    "duration": 10,
    "start_time": "2023-05-26T11:55:32.073Z"
   },
   {
    "duration": 405,
    "start_time": "2023-05-26T11:55:32.088Z"
   },
   {
    "duration": 227,
    "start_time": "2023-05-26T11:55:32.499Z"
   },
   {
    "duration": 22,
    "start_time": "2023-05-26T11:55:32.729Z"
   },
   {
    "duration": 460,
    "start_time": "2023-05-26T11:55:32.753Z"
   },
   {
    "duration": 301,
    "start_time": "2023-05-26T11:55:33.216Z"
   },
   {
    "duration": 388,
    "start_time": "2023-05-26T11:55:33.519Z"
   },
   {
    "duration": 172,
    "start_time": "2023-05-26T11:55:33.912Z"
   },
   {
    "duration": 5,
    "start_time": "2023-05-26T11:55:34.086Z"
   },
   {
    "duration": 30,
    "start_time": "2023-05-26T11:55:34.093Z"
   },
   {
    "duration": 178,
    "start_time": "2023-05-26T11:55:34.125Z"
   },
   {
    "duration": 6,
    "start_time": "2023-05-26T11:55:34.310Z"
   },
   {
    "duration": 156,
    "start_time": "2023-05-26T11:55:34.318Z"
   },
   {
    "duration": 0,
    "start_time": "2023-05-26T11:55:34.478Z"
   },
   {
    "duration": 121,
    "start_time": "2023-05-26T11:55:45.847Z"
   },
   {
    "duration": 216,
    "start_time": "2023-05-26T11:56:14.210Z"
   },
   {
    "duration": 220,
    "start_time": "2023-05-26T11:56:29.554Z"
   },
   {
    "duration": 107,
    "start_time": "2023-05-26T12:28:37.917Z"
   },
   {
    "duration": 206,
    "start_time": "2023-05-26T12:28:42.263Z"
   },
   {
    "duration": 143,
    "start_time": "2023-05-26T12:28:59.804Z"
   },
   {
    "duration": 135,
    "start_time": "2023-05-26T12:29:07.976Z"
   },
   {
    "duration": 133,
    "start_time": "2023-05-26T12:29:11.938Z"
   },
   {
    "duration": 26,
    "start_time": "2023-05-26T12:32:05.373Z"
   },
   {
    "duration": 13,
    "start_time": "2023-05-26T12:34:38.935Z"
   },
   {
    "duration": 11,
    "start_time": "2023-05-26T12:34:46.462Z"
   },
   {
    "duration": 1627,
    "start_time": "2023-05-26T12:35:40.878Z"
   },
   {
    "duration": 24,
    "start_time": "2023-05-26T12:35:44.699Z"
   },
   {
    "duration": 124,
    "start_time": "2023-05-26T12:39:31.774Z"
   },
   {
    "duration": 81,
    "start_time": "2023-05-26T12:39:36.081Z"
   },
   {
    "duration": 76,
    "start_time": "2023-05-26T12:39:38.897Z"
   },
   {
    "duration": 151,
    "start_time": "2023-05-26T12:41:25.535Z"
   },
   {
    "duration": 138,
    "start_time": "2023-05-26T12:41:45.722Z"
   },
   {
    "duration": 16,
    "start_time": "2023-05-26T12:42:17.576Z"
   },
   {
    "duration": 18,
    "start_time": "2023-05-26T12:44:03.293Z"
   },
   {
    "duration": 18,
    "start_time": "2023-05-26T12:45:23.825Z"
   },
   {
    "duration": 23,
    "start_time": "2023-05-26T12:45:32.839Z"
   },
   {
    "duration": 124,
    "start_time": "2023-05-26T12:46:48.425Z"
   },
   {
    "duration": 55,
    "start_time": "2023-05-26T12:46:58.577Z"
   },
   {
    "duration": 24,
    "start_time": "2023-05-26T12:47:05.397Z"
   },
   {
    "duration": 91,
    "start_time": "2023-05-26T12:50:29.173Z"
   },
   {
    "duration": 70,
    "start_time": "2023-05-26T12:50:33.912Z"
   },
   {
    "duration": 133,
    "start_time": "2023-05-26T12:52:14.620Z"
   },
   {
    "duration": 147,
    "start_time": "2023-05-26T13:07:43.103Z"
   },
   {
    "duration": 29,
    "start_time": "2023-05-26T13:10:57.115Z"
   },
   {
    "duration": 34,
    "start_time": "2023-05-26T13:12:08.059Z"
   },
   {
    "duration": 76,
    "start_time": "2023-05-26T13:14:53.016Z"
   },
   {
    "duration": 96,
    "start_time": "2023-05-26T13:15:58.643Z"
   },
   {
    "duration": 82,
    "start_time": "2023-05-26T13:16:02.794Z"
   },
   {
    "duration": 121,
    "start_time": "2023-05-26T13:16:27.102Z"
   },
   {
    "duration": 115,
    "start_time": "2023-05-26T13:16:29.898Z"
   },
   {
    "duration": 169,
    "start_time": "2023-05-26T13:17:32.398Z"
   },
   {
    "duration": 184,
    "start_time": "2023-05-26T13:17:38.646Z"
   },
   {
    "duration": 171,
    "start_time": "2023-05-26T13:17:47.979Z"
   },
   {
    "duration": 12,
    "start_time": "2023-05-26T13:19:23.420Z"
   },
   {
    "duration": 114,
    "start_time": "2023-05-26T13:20:47.410Z"
   },
   {
    "duration": 16,
    "start_time": "2023-05-26T13:20:52.108Z"
   },
   {
    "duration": 20,
    "start_time": "2023-05-26T13:20:58.802Z"
   },
   {
    "duration": 328,
    "start_time": "2023-05-26T13:21:07.393Z"
   },
   {
    "duration": 249,
    "start_time": "2023-05-26T13:21:23.896Z"
   },
   {
    "duration": 225,
    "start_time": "2023-05-26T13:22:00.203Z"
   },
   {
    "duration": 154,
    "start_time": "2023-05-26T13:22:15.664Z"
   },
   {
    "duration": 224,
    "start_time": "2023-05-26T13:22:31.800Z"
   },
   {
    "duration": 209,
    "start_time": "2023-05-26T13:22:47.416Z"
   },
   {
    "duration": 181,
    "start_time": "2023-05-26T13:22:53.801Z"
   },
   {
    "duration": 232,
    "start_time": "2023-05-26T13:23:00.098Z"
   },
   {
    "duration": 266,
    "start_time": "2023-05-26T13:23:03.264Z"
   },
   {
    "duration": 16,
    "start_time": "2023-05-26T13:23:22.098Z"
   },
   {
    "duration": 11,
    "start_time": "2023-05-26T13:27:04.619Z"
   },
   {
    "duration": 22,
    "start_time": "2023-05-26T13:28:52.451Z"
   },
   {
    "duration": 182,
    "start_time": "2023-05-26T13:28:54.016Z"
   },
   {
    "duration": 12,
    "start_time": "2023-05-26T13:29:09.297Z"
   },
   {
    "duration": 260,
    "start_time": "2023-05-26T13:29:29.339Z"
   },
   {
    "duration": 211,
    "start_time": "2023-05-26T13:30:22.510Z"
   },
   {
    "duration": 278,
    "start_time": "2023-05-26T13:31:11.416Z"
   },
   {
    "duration": 234,
    "start_time": "2023-05-26T13:31:34.630Z"
   },
   {
    "duration": 258,
    "start_time": "2023-05-26T13:32:40.913Z"
   },
   {
    "duration": 286,
    "start_time": "2023-05-26T13:33:40.757Z"
   },
   {
    "duration": 235,
    "start_time": "2023-05-26T13:33:59.322Z"
   },
   {
    "duration": 18,
    "start_time": "2023-05-26T13:36:50.071Z"
   },
   {
    "duration": 12,
    "start_time": "2023-05-26T13:39:49.250Z"
   },
   {
    "duration": 15,
    "start_time": "2023-05-26T13:39:59.682Z"
   },
   {
    "duration": 216,
    "start_time": "2023-05-26T13:40:11.343Z"
   },
   {
    "duration": 10,
    "start_time": "2023-05-26T13:41:23.525Z"
   },
   {
    "duration": 171,
    "start_time": "2023-05-26T13:43:25.888Z"
   },
   {
    "duration": 160,
    "start_time": "2023-05-26T13:43:45.028Z"
   },
   {
    "duration": 155,
    "start_time": "2023-05-26T13:43:51.535Z"
   },
   {
    "duration": 1597,
    "start_time": "2023-05-26T13:44:08.631Z"
   },
   {
    "duration": 1701,
    "start_time": "2023-05-26T13:44:22.513Z"
   },
   {
    "duration": 133,
    "start_time": "2023-05-26T13:44:37.290Z"
   },
   {
    "duration": 1726,
    "start_time": "2023-05-26T13:44:50.778Z"
   },
   {
    "duration": 144,
    "start_time": "2023-05-26T13:44:58.777Z"
   },
   {
    "duration": 1836,
    "start_time": "2023-05-26T13:45:02.919Z"
   },
   {
    "duration": 161,
    "start_time": "2023-05-26T13:45:13.571Z"
   },
   {
    "duration": 47,
    "start_time": "2023-05-26T13:45:27.415Z"
   },
   {
    "duration": 28,
    "start_time": "2023-05-26T13:46:05.213Z"
   },
   {
    "duration": 226,
    "start_time": "2023-05-26T13:46:44.422Z"
   },
   {
    "duration": 160,
    "start_time": "2023-05-26T13:47:51.323Z"
   },
   {
    "duration": 201,
    "start_time": "2023-05-26T13:47:55.695Z"
   },
   {
    "duration": 201,
    "start_time": "2023-05-26T13:49:56.673Z"
   },
   {
    "duration": 90,
    "start_time": "2023-05-26T13:50:09.306Z"
   },
   {
    "duration": 214,
    "start_time": "2023-05-26T13:50:11.511Z"
   },
   {
    "duration": 320,
    "start_time": "2023-05-26T13:50:27.400Z"
   },
   {
    "duration": 193,
    "start_time": "2023-05-26T13:50:48.598Z"
   },
   {
    "duration": 192,
    "start_time": "2023-05-26T13:50:53.171Z"
   },
   {
    "duration": 185,
    "start_time": "2023-05-26T13:51:10.022Z"
   },
   {
    "duration": 196,
    "start_time": "2023-05-26T13:51:19.004Z"
   },
   {
    "duration": 207,
    "start_time": "2023-05-26T13:51:26.665Z"
   },
   {
    "duration": 218,
    "start_time": "2023-05-26T13:51:31.506Z"
   },
   {
    "duration": 246,
    "start_time": "2023-05-26T13:52:01.892Z"
   },
   {
    "duration": 213,
    "start_time": "2023-05-26T13:52:23.204Z"
   },
   {
    "duration": 213,
    "start_time": "2023-05-26T13:52:46.762Z"
   },
   {
    "duration": 377,
    "start_time": "2023-05-26T13:53:27.476Z"
   },
   {
    "duration": 303,
    "start_time": "2023-05-26T13:53:33.399Z"
   },
   {
    "duration": 332,
    "start_time": "2023-05-26T13:53:46.104Z"
   },
   {
    "duration": 356,
    "start_time": "2023-05-26T13:54:03.671Z"
   },
   {
    "duration": 460,
    "start_time": "2023-05-26T13:54:11.968Z"
   },
   {
    "duration": 185,
    "start_time": "2023-05-26T13:54:43.102Z"
   },
   {
    "duration": 223,
    "start_time": "2023-05-26T13:54:47.407Z"
   },
   {
    "duration": 359,
    "start_time": "2023-05-26T13:54:49.871Z"
   },
   {
    "duration": 194,
    "start_time": "2023-05-26T13:54:53.219Z"
   },
   {
    "duration": 227,
    "start_time": "2023-05-26T13:54:58.002Z"
   },
   {
    "duration": 308,
    "start_time": "2023-05-26T13:55:00.135Z"
   },
   {
    "duration": 20,
    "start_time": "2023-05-26T13:56:09.974Z"
   },
   {
    "duration": 22,
    "start_time": "2023-05-26T13:59:51.767Z"
   },
   {
    "duration": 1221,
    "start_time": "2023-05-26T14:21:24.346Z"
   },
   {
    "duration": 15,
    "start_time": "2023-05-26T14:21:35.353Z"
   },
   {
    "duration": 18,
    "start_time": "2023-05-26T14:21:50.571Z"
   },
   {
    "duration": 14,
    "start_time": "2023-05-26T14:21:52.748Z"
   },
   {
    "duration": 41,
    "start_time": "2023-05-26T14:23:10.349Z"
   },
   {
    "duration": 15,
    "start_time": "2023-05-26T14:23:11.855Z"
   },
   {
    "duration": 15,
    "start_time": "2023-05-26T14:24:13.696Z"
   },
   {
    "duration": 1067,
    "start_time": "2023-05-26T14:24:19.999Z"
   },
   {
    "duration": 159,
    "start_time": "2023-05-26T14:24:21.068Z"
   },
   {
    "duration": 60,
    "start_time": "2023-05-26T14:24:21.228Z"
   },
   {
    "duration": 6,
    "start_time": "2023-05-26T14:24:21.290Z"
   },
   {
    "duration": 32,
    "start_time": "2023-05-26T14:24:21.298Z"
   },
   {
    "duration": 22,
    "start_time": "2023-05-26T14:24:21.332Z"
   },
   {
    "duration": 16,
    "start_time": "2023-05-26T14:24:21.356Z"
   },
   {
    "duration": 22,
    "start_time": "2023-05-26T14:24:21.374Z"
   },
   {
    "duration": 112,
    "start_time": "2023-05-26T14:24:21.397Z"
   },
   {
    "duration": 8,
    "start_time": "2023-05-26T14:24:21.510Z"
   },
   {
    "duration": 141,
    "start_time": "2023-05-26T14:24:21.520Z"
   },
   {
    "duration": 38,
    "start_time": "2023-05-26T14:24:21.663Z"
   },
   {
    "duration": 15,
    "start_time": "2023-05-26T14:24:21.703Z"
   },
   {
    "duration": 172,
    "start_time": "2023-05-26T14:24:21.722Z"
   },
   {
    "duration": 267,
    "start_time": "2023-05-26T14:24:21.896Z"
   },
   {
    "duration": 196,
    "start_time": "2023-05-26T14:24:22.164Z"
   },
   {
    "duration": 325,
    "start_time": "2023-05-26T14:24:22.362Z"
   },
   {
    "duration": 12,
    "start_time": "2023-05-26T14:24:22.689Z"
   },
   {
    "duration": 118,
    "start_time": "2023-05-26T14:24:22.703Z"
   },
   {
    "duration": 0,
    "start_time": "2023-05-26T14:24:22.823Z"
   },
   {
    "duration": 0,
    "start_time": "2023-05-26T14:24:22.824Z"
   },
   {
    "duration": 0,
    "start_time": "2023-05-26T14:24:22.826Z"
   },
   {
    "duration": 0,
    "start_time": "2023-05-26T14:24:22.828Z"
   },
   {
    "duration": 0,
    "start_time": "2023-05-26T14:24:22.829Z"
   },
   {
    "duration": 0,
    "start_time": "2023-05-26T14:24:22.831Z"
   },
   {
    "duration": 0,
    "start_time": "2023-05-26T14:24:22.832Z"
   },
   {
    "duration": 0,
    "start_time": "2023-05-26T14:24:22.833Z"
   },
   {
    "duration": 0,
    "start_time": "2023-05-26T14:24:22.834Z"
   },
   {
    "duration": 0,
    "start_time": "2023-05-26T14:24:22.836Z"
   },
   {
    "duration": 0,
    "start_time": "2023-05-26T14:24:22.838Z"
   },
   {
    "duration": 1,
    "start_time": "2023-05-26T14:24:22.839Z"
   },
   {
    "duration": 0,
    "start_time": "2023-05-26T14:24:22.841Z"
   },
   {
    "duration": 0,
    "start_time": "2023-05-26T14:24:22.878Z"
   },
   {
    "duration": 0,
    "start_time": "2023-05-26T14:24:22.880Z"
   },
   {
    "duration": 0,
    "start_time": "2023-05-26T14:24:22.881Z"
   },
   {
    "duration": 0,
    "start_time": "2023-05-26T14:24:22.882Z"
   },
   {
    "duration": 0,
    "start_time": "2023-05-26T14:24:22.884Z"
   },
   {
    "duration": 197,
    "start_time": "2023-05-26T14:29:10.066Z"
   },
   {
    "duration": 236,
    "start_time": "2023-05-26T14:29:48.571Z"
   },
   {
    "duration": 197,
    "start_time": "2023-05-26T14:29:50.692Z"
   },
   {
    "duration": 5,
    "start_time": "2023-05-26T14:30:14.049Z"
   },
   {
    "duration": 1073,
    "start_time": "2023-05-26T14:30:21.092Z"
   },
   {
    "duration": 77,
    "start_time": "2023-05-26T14:30:22.167Z"
   },
   {
    "duration": 71,
    "start_time": "2023-05-26T14:30:22.246Z"
   },
   {
    "duration": 6,
    "start_time": "2023-05-26T14:30:22.319Z"
   },
   {
    "duration": 10,
    "start_time": "2023-05-26T14:30:22.326Z"
   },
   {
    "duration": 12,
    "start_time": "2023-05-26T14:30:22.337Z"
   },
   {
    "duration": 39,
    "start_time": "2023-05-26T14:30:22.351Z"
   },
   {
    "duration": 32,
    "start_time": "2023-05-26T14:30:22.392Z"
   },
   {
    "duration": 109,
    "start_time": "2023-05-26T14:30:22.425Z"
   },
   {
    "duration": 9,
    "start_time": "2023-05-26T14:30:22.537Z"
   },
   {
    "duration": 172,
    "start_time": "2023-05-26T14:30:22.547Z"
   },
   {
    "duration": 24,
    "start_time": "2023-05-26T14:30:22.720Z"
   },
   {
    "duration": 48,
    "start_time": "2023-05-26T14:30:22.746Z"
   },
   {
    "duration": 154,
    "start_time": "2023-05-26T14:30:22.798Z"
   },
   {
    "duration": 285,
    "start_time": "2023-05-26T14:30:22.954Z"
   },
   {
    "duration": 213,
    "start_time": "2023-05-26T14:30:23.242Z"
   },
   {
    "duration": 344,
    "start_time": "2023-05-26T14:30:23.456Z"
   },
   {
    "duration": 216,
    "start_time": "2023-05-26T14:30:23.802Z"
   },
   {
    "duration": 5,
    "start_time": "2023-05-26T14:30:24.020Z"
   },
   {
    "duration": 23,
    "start_time": "2023-05-26T14:30:24.027Z"
   },
   {
    "duration": 356,
    "start_time": "2023-05-26T14:30:24.052Z"
   },
   {
    "duration": 16,
    "start_time": "2023-05-26T14:30:24.411Z"
   },
   {
    "duration": 6,
    "start_time": "2023-05-26T14:30:24.429Z"
   },
   {
    "duration": 199,
    "start_time": "2023-05-26T14:30:24.437Z"
   },
   {
    "duration": 218,
    "start_time": "2023-05-26T14:30:24.637Z"
   },
   {
    "duration": 23,
    "start_time": "2023-05-26T14:30:24.856Z"
   },
   {
    "duration": 19,
    "start_time": "2023-05-26T14:30:24.881Z"
   },
   {
    "duration": 290,
    "start_time": "2023-05-26T14:30:24.902Z"
   },
   {
    "duration": 210,
    "start_time": "2023-05-26T14:30:25.194Z"
   },
   {
    "duration": 383,
    "start_time": "2023-05-26T14:30:25.406Z"
   },
   {
    "duration": 173,
    "start_time": "2023-05-26T14:30:25.791Z"
   },
   {
    "duration": 12,
    "start_time": "2023-05-26T14:30:25.966Z"
   },
   {
    "duration": 12,
    "start_time": "2023-05-26T14:30:25.980Z"
   },
   {
    "duration": 138,
    "start_time": "2023-05-26T14:30:25.994Z"
   },
   {
    "duration": 6,
    "start_time": "2023-05-26T14:30:26.134Z"
   },
   {
    "duration": 177,
    "start_time": "2023-05-26T14:30:26.142Z"
   },
   {
    "duration": 121,
    "start_time": "2023-05-26T14:30:26.322Z"
   },
   {
    "duration": 204,
    "start_time": "2023-05-26T14:36:55.171Z"
   },
   {
    "duration": 202,
    "start_time": "2023-05-26T14:36:59.680Z"
   },
   {
    "duration": 204,
    "start_time": "2023-05-26T14:37:03.408Z"
   },
   {
    "duration": 318,
    "start_time": "2023-05-26T14:38:37.550Z"
   },
   {
    "duration": 298,
    "start_time": "2023-05-26T14:38:42.802Z"
   },
   {
    "duration": 148,
    "start_time": "2023-05-26T14:39:56.854Z"
   },
   {
    "duration": 139,
    "start_time": "2023-05-26T14:40:32.103Z"
   },
   {
    "duration": 16,
    "start_time": "2023-05-26T14:41:10.051Z"
   },
   {
    "duration": 15,
    "start_time": "2023-05-26T14:41:19.261Z"
   },
   {
    "duration": 6,
    "start_time": "2023-05-26T14:41:29.871Z"
   },
   {
    "duration": 11,
    "start_time": "2023-05-26T14:41:56.137Z"
   },
   {
    "duration": 1457,
    "start_time": "2023-05-26T14:42:22.744Z"
   },
   {
    "duration": 16,
    "start_time": "2023-05-26T14:42:35.021Z"
   },
   {
    "duration": 76,
    "start_time": "2023-05-26T14:48:11.757Z"
   },
   {
    "duration": 139,
    "start_time": "2023-05-26T14:48:19.840Z"
   },
   {
    "duration": 127,
    "start_time": "2023-05-26T14:48:25.098Z"
   },
   {
    "duration": 85,
    "start_time": "2023-05-26T14:51:44.643Z"
   },
   {
    "duration": 130,
    "start_time": "2023-05-26T14:51:59.336Z"
   },
   {
    "duration": 215,
    "start_time": "2023-05-26T14:53:16.849Z"
   },
   {
    "duration": 243,
    "start_time": "2023-05-26T14:57:13.170Z"
   },
   {
    "duration": 197,
    "start_time": "2023-05-26T14:57:20.102Z"
   },
   {
    "duration": 219,
    "start_time": "2023-05-26T14:57:33.994Z"
   },
   {
    "duration": 139,
    "start_time": "2023-05-26T14:57:53.252Z"
   },
   {
    "duration": 163,
    "start_time": "2023-05-26T14:58:00.573Z"
   },
   {
    "duration": 1468,
    "start_time": "2023-05-26T14:59:07.176Z"
   },
   {
    "duration": 1445,
    "start_time": "2023-05-26T14:59:30.313Z"
   },
   {
    "duration": 275,
    "start_time": "2023-05-26T15:00:05.404Z"
   },
   {
    "duration": 185,
    "start_time": "2023-05-26T15:00:24.468Z"
   },
   {
    "duration": 169,
    "start_time": "2023-05-26T15:00:59.150Z"
   },
   {
    "duration": 9,
    "start_time": "2023-05-26T15:01:27.301Z"
   },
   {
    "duration": 268,
    "start_time": "2023-05-26T15:01:39.513Z"
   },
   {
    "duration": 172,
    "start_time": "2023-05-26T15:01:59.777Z"
   },
   {
    "duration": 192,
    "start_time": "2023-05-26T15:02:04.438Z"
   },
   {
    "duration": 186,
    "start_time": "2023-05-26T15:02:09.847Z"
   },
   {
    "duration": 176,
    "start_time": "2023-05-26T15:02:34.599Z"
   },
   {
    "duration": 162,
    "start_time": "2023-05-26T15:02:39.084Z"
   },
   {
    "duration": 163,
    "start_time": "2023-05-26T15:02:42.446Z"
   },
   {
    "duration": 186,
    "start_time": "2023-05-26T15:02:46.205Z"
   },
   {
    "duration": 297,
    "start_time": "2023-05-26T15:02:53.330Z"
   },
   {
    "duration": 441,
    "start_time": "2023-05-26T15:03:01.155Z"
   },
   {
    "duration": 192,
    "start_time": "2023-05-26T15:03:09.413Z"
   },
   {
    "duration": 314,
    "start_time": "2023-05-26T15:03:14.294Z"
   },
   {
    "duration": 197,
    "start_time": "2023-05-26T15:03:40.192Z"
   },
   {
    "duration": 171,
    "start_time": "2023-05-26T15:03:54.994Z"
   },
   {
    "duration": 75,
    "start_time": "2023-05-26T15:04:24.195Z"
   },
   {
    "duration": 131,
    "start_time": "2023-05-26T15:04:26.593Z"
   },
   {
    "duration": 185,
    "start_time": "2023-05-26T15:04:34.546Z"
   },
   {
    "duration": 187,
    "start_time": "2023-05-26T15:04:44.096Z"
   },
   {
    "duration": 176,
    "start_time": "2023-05-26T15:05:08.203Z"
   },
   {
    "duration": 175,
    "start_time": "2023-05-26T15:05:15.378Z"
   },
   {
    "duration": 411,
    "start_time": "2023-05-26T15:05:23.348Z"
   },
   {
    "duration": 181,
    "start_time": "2023-05-26T15:05:32.495Z"
   },
   {
    "duration": 207,
    "start_time": "2023-05-26T15:05:40.640Z"
   },
   {
    "duration": 167,
    "start_time": "2023-05-26T15:05:46.942Z"
   },
   {
    "duration": 182,
    "start_time": "2023-05-26T15:05:51.364Z"
   },
   {
    "duration": 190,
    "start_time": "2023-05-26T15:05:56.502Z"
   },
   {
    "duration": 187,
    "start_time": "2023-05-26T15:06:17.973Z"
   },
   {
    "duration": 87,
    "start_time": "2023-05-26T15:07:42.090Z"
   },
   {
    "duration": 229,
    "start_time": "2023-05-26T15:07:51.431Z"
   },
   {
    "duration": 283,
    "start_time": "2023-05-26T15:08:26.341Z"
   },
   {
    "duration": 270,
    "start_time": "2023-05-26T15:08:42.294Z"
   },
   {
    "duration": 256,
    "start_time": "2023-05-26T15:09:00.544Z"
   },
   {
    "duration": 423,
    "start_time": "2023-05-26T15:09:10.411Z"
   },
   {
    "duration": 226,
    "start_time": "2023-05-26T15:09:15.199Z"
   },
   {
    "duration": 267,
    "start_time": "2023-05-26T15:09:31.943Z"
   },
   {
    "duration": 261,
    "start_time": "2023-05-26T15:09:39.899Z"
   },
   {
    "duration": 217,
    "start_time": "2023-05-26T15:09:46.942Z"
   },
   {
    "duration": 248,
    "start_time": "2023-05-26T15:11:23.542Z"
   },
   {
    "duration": 238,
    "start_time": "2023-05-26T15:11:27.195Z"
   },
   {
    "duration": 363,
    "start_time": "2023-05-26T15:11:32.901Z"
   },
   {
    "duration": 232,
    "start_time": "2023-05-26T15:11:38.246Z"
   },
   {
    "duration": 87,
    "start_time": "2023-05-26T15:11:48.255Z"
   },
   {
    "duration": 288,
    "start_time": "2023-05-26T15:11:51.040Z"
   },
   {
    "duration": 309,
    "start_time": "2023-05-26T15:11:57.161Z"
   },
   {
    "duration": 340,
    "start_time": "2023-05-26T15:12:27.594Z"
   },
   {
    "duration": 236,
    "start_time": "2023-05-26T15:13:39.099Z"
   },
   {
    "duration": 224,
    "start_time": "2023-05-26T15:13:43.507Z"
   },
   {
    "duration": 13,
    "start_time": "2023-05-26T15:14:18.218Z"
   },
   {
    "duration": 13,
    "start_time": "2023-05-26T15:14:20.841Z"
   },
   {
    "duration": 14,
    "start_time": "2023-05-26T15:14:29.843Z"
   },
   {
    "duration": 351,
    "start_time": "2023-05-26T15:14:32.598Z"
   },
   {
    "duration": 217,
    "start_time": "2023-05-26T15:14:35.936Z"
   },
   {
    "duration": 212,
    "start_time": "2023-05-26T15:14:43.765Z"
   },
   {
    "duration": 5,
    "start_time": "2023-05-26T15:15:48.404Z"
   },
   {
    "duration": 17,
    "start_time": "2023-05-26T15:16:06.577Z"
   },
   {
    "duration": 6,
    "start_time": "2023-05-26T15:17:02.405Z"
   },
   {
    "duration": 8,
    "start_time": "2023-05-26T15:18:32.943Z"
   },
   {
    "duration": 9,
    "start_time": "2023-05-26T15:18:46.804Z"
   },
   {
    "duration": 10,
    "start_time": "2023-05-26T15:18:55.461Z"
   },
   {
    "duration": 230,
    "start_time": "2023-05-26T15:20:45.000Z"
   },
   {
    "duration": 240,
    "start_time": "2023-05-26T15:20:46.300Z"
   },
   {
    "duration": 329,
    "start_time": "2023-05-26T15:20:48.742Z"
   },
   {
    "duration": 302,
    "start_time": "2023-05-26T15:21:13.105Z"
   },
   {
    "duration": 275,
    "start_time": "2023-05-26T15:21:20.115Z"
   },
   {
    "duration": 8,
    "start_time": "2023-05-26T15:27:28.867Z"
   },
   {
    "duration": 14,
    "start_time": "2023-05-26T15:27:32.482Z"
   },
   {
    "duration": 1234,
    "start_time": "2023-05-29T11:21:46.409Z"
   },
   {
    "duration": 238,
    "start_time": "2023-05-29T11:21:47.645Z"
   },
   {
    "duration": 64,
    "start_time": "2023-05-29T11:21:47.885Z"
   },
   {
    "duration": 5,
    "start_time": "2023-05-29T11:21:47.952Z"
   },
   {
    "duration": 8,
    "start_time": "2023-05-29T11:21:47.976Z"
   },
   {
    "duration": 109,
    "start_time": "2023-05-29T11:21:47.986Z"
   },
   {
    "duration": 0,
    "start_time": "2023-05-29T11:21:48.097Z"
   },
   {
    "duration": 0,
    "start_time": "2023-05-29T11:21:48.099Z"
   },
   {
    "duration": 0,
    "start_time": "2023-05-29T11:21:48.100Z"
   },
   {
    "duration": 0,
    "start_time": "2023-05-29T11:21:48.101Z"
   },
   {
    "duration": 0,
    "start_time": "2023-05-29T11:21:48.102Z"
   },
   {
    "duration": 0,
    "start_time": "2023-05-29T11:21:48.104Z"
   },
   {
    "duration": 0,
    "start_time": "2023-05-29T11:21:48.105Z"
   },
   {
    "duration": 0,
    "start_time": "2023-05-29T11:21:48.106Z"
   },
   {
    "duration": 0,
    "start_time": "2023-05-29T11:21:48.107Z"
   },
   {
    "duration": 0,
    "start_time": "2023-05-29T11:21:48.108Z"
   },
   {
    "duration": 0,
    "start_time": "2023-05-29T11:21:48.109Z"
   },
   {
    "duration": 0,
    "start_time": "2023-05-29T11:21:48.110Z"
   },
   {
    "duration": 0,
    "start_time": "2023-05-29T11:21:48.111Z"
   },
   {
    "duration": 0,
    "start_time": "2023-05-29T11:21:48.112Z"
   },
   {
    "duration": 0,
    "start_time": "2023-05-29T11:21:48.113Z"
   },
   {
    "duration": 0,
    "start_time": "2023-05-29T11:21:48.114Z"
   },
   {
    "duration": 0,
    "start_time": "2023-05-29T11:21:48.115Z"
   },
   {
    "duration": 0,
    "start_time": "2023-05-29T11:21:48.116Z"
   },
   {
    "duration": 0,
    "start_time": "2023-05-29T11:21:48.118Z"
   },
   {
    "duration": 0,
    "start_time": "2023-05-29T11:21:48.119Z"
   },
   {
    "duration": 0,
    "start_time": "2023-05-29T11:21:48.121Z"
   },
   {
    "duration": 0,
    "start_time": "2023-05-29T11:21:48.122Z"
   },
   {
    "duration": 0,
    "start_time": "2023-05-29T11:21:48.124Z"
   },
   {
    "duration": 0,
    "start_time": "2023-05-29T11:21:48.125Z"
   },
   {
    "duration": 0,
    "start_time": "2023-05-29T11:21:48.177Z"
   },
   {
    "duration": 0,
    "start_time": "2023-05-29T11:21:48.178Z"
   },
   {
    "duration": 0,
    "start_time": "2023-05-29T11:21:48.180Z"
   },
   {
    "duration": 0,
    "start_time": "2023-05-29T11:21:48.181Z"
   },
   {
    "duration": 0,
    "start_time": "2023-05-29T11:21:48.182Z"
   },
   {
    "duration": 0,
    "start_time": "2023-05-29T11:21:48.183Z"
   },
   {
    "duration": 0,
    "start_time": "2023-05-29T11:21:48.184Z"
   },
   {
    "duration": 0,
    "start_time": "2023-05-29T11:21:48.186Z"
   },
   {
    "duration": 0,
    "start_time": "2023-05-29T11:21:48.187Z"
   },
   {
    "duration": 0,
    "start_time": "2023-05-29T11:21:48.188Z"
   },
   {
    "duration": 0,
    "start_time": "2023-05-29T11:21:48.189Z"
   },
   {
    "duration": 0,
    "start_time": "2023-05-29T11:21:48.190Z"
   },
   {
    "duration": 0,
    "start_time": "2023-05-29T11:21:48.191Z"
   },
   {
    "duration": 0,
    "start_time": "2023-05-29T11:21:48.192Z"
   },
   {
    "duration": 9,
    "start_time": "2023-05-29T11:21:55.419Z"
   },
   {
    "duration": 14,
    "start_time": "2023-05-29T11:22:52.041Z"
   },
   {
    "duration": 16,
    "start_time": "2023-05-29T11:23:06.292Z"
   },
   {
    "duration": 16,
    "start_time": "2023-05-29T11:23:12.092Z"
   },
   {
    "duration": 264,
    "start_time": "2023-05-29T11:28:08.612Z"
   },
   {
    "duration": 296,
    "start_time": "2023-05-29T11:28:12.340Z"
   },
   {
    "duration": 1006,
    "start_time": "2023-05-29T11:28:22.340Z"
   },
   {
    "duration": 1026,
    "start_time": "2023-05-29T11:29:03.416Z"
   },
   {
    "duration": 77,
    "start_time": "2023-05-29T11:29:04.444Z"
   },
   {
    "duration": 66,
    "start_time": "2023-05-29T11:29:04.523Z"
   },
   {
    "duration": 6,
    "start_time": "2023-05-29T11:29:04.591Z"
   },
   {
    "duration": 10,
    "start_time": "2023-05-29T11:29:04.599Z"
   },
   {
    "duration": 11,
    "start_time": "2023-05-29T11:29:04.611Z"
   },
   {
    "duration": 11,
    "start_time": "2023-05-29T11:29:04.624Z"
   },
   {
    "duration": 14,
    "start_time": "2023-05-29T11:29:04.637Z"
   },
   {
    "duration": 121,
    "start_time": "2023-05-29T11:29:04.677Z"
   },
   {
    "duration": 7,
    "start_time": "2023-05-29T11:29:04.799Z"
   },
   {
    "duration": 158,
    "start_time": "2023-05-29T11:29:04.808Z"
   },
   {
    "duration": 28,
    "start_time": "2023-05-29T11:29:04.968Z"
   },
   {
    "duration": 16,
    "start_time": "2023-05-29T11:29:04.998Z"
   },
   {
    "duration": 304,
    "start_time": "2023-05-29T11:29:05.016Z"
   },
   {
    "duration": 203,
    "start_time": "2023-05-29T11:29:05.322Z"
   },
   {
    "duration": 326,
    "start_time": "2023-05-29T11:29:05.527Z"
   },
   {
    "duration": 213,
    "start_time": "2023-05-29T11:29:05.854Z"
   },
   {
    "duration": 323,
    "start_time": "2023-05-29T11:29:06.069Z"
   },
   {
    "duration": 332,
    "start_time": "2023-05-29T11:29:06.394Z"
   },
   {
    "duration": 298,
    "start_time": "2023-05-29T11:29:06.728Z"
   },
   {
    "duration": 7,
    "start_time": "2023-05-29T11:29:07.029Z"
   },
   {
    "duration": 1048,
    "start_time": "2023-05-29T11:29:07.038Z"
   },
   {
    "duration": 0,
    "start_time": "2023-05-29T11:29:08.088Z"
   },
   {
    "duration": 0,
    "start_time": "2023-05-29T11:29:08.089Z"
   },
   {
    "duration": 0,
    "start_time": "2023-05-29T11:29:08.091Z"
   },
   {
    "duration": 0,
    "start_time": "2023-05-29T11:29:08.092Z"
   },
   {
    "duration": 0,
    "start_time": "2023-05-29T11:29:08.093Z"
   },
   {
    "duration": 0,
    "start_time": "2023-05-29T11:29:08.094Z"
   },
   {
    "duration": 0,
    "start_time": "2023-05-29T11:29:08.095Z"
   },
   {
    "duration": 0,
    "start_time": "2023-05-29T11:29:08.097Z"
   },
   {
    "duration": 0,
    "start_time": "2023-05-29T11:29:08.098Z"
   },
   {
    "duration": 0,
    "start_time": "2023-05-29T11:29:08.100Z"
   },
   {
    "duration": 0,
    "start_time": "2023-05-29T11:29:08.101Z"
   },
   {
    "duration": 0,
    "start_time": "2023-05-29T11:29:08.102Z"
   },
   {
    "duration": 1,
    "start_time": "2023-05-29T11:29:08.103Z"
   },
   {
    "duration": 0,
    "start_time": "2023-05-29T11:29:08.105Z"
   },
   {
    "duration": 0,
    "start_time": "2023-05-29T11:29:08.106Z"
   },
   {
    "duration": 0,
    "start_time": "2023-05-29T11:29:08.107Z"
   },
   {
    "duration": 0,
    "start_time": "2023-05-29T11:29:08.109Z"
   },
   {
    "duration": 0,
    "start_time": "2023-05-29T11:29:08.110Z"
   },
   {
    "duration": 1,
    "start_time": "2023-05-29T11:29:08.111Z"
   },
   {
    "duration": 0,
    "start_time": "2023-05-29T11:29:08.113Z"
   },
   {
    "duration": 0,
    "start_time": "2023-05-29T11:29:08.114Z"
   },
   {
    "duration": 71,
    "start_time": "2023-05-29T11:38:39.543Z"
   },
   {
    "duration": 547,
    "start_time": "2023-05-29T11:38:42.937Z"
   },
   {
    "duration": 319,
    "start_time": "2023-05-29T11:38:53.580Z"
   },
   {
    "duration": 434,
    "start_time": "2023-05-29T11:39:03.926Z"
   },
   {
    "duration": 401,
    "start_time": "2023-05-29T11:39:07.377Z"
   },
   {
    "duration": 438,
    "start_time": "2023-05-29T11:39:11.341Z"
   },
   {
    "duration": 306,
    "start_time": "2023-05-29T11:41:08.176Z"
   },
   {
    "duration": 14,
    "start_time": "2023-05-29T11:43:53.095Z"
   },
   {
    "duration": 17,
    "start_time": "2023-05-29T11:44:35.341Z"
   },
   {
    "duration": 17,
    "start_time": "2023-05-29T11:46:11.873Z"
   },
   {
    "duration": 18,
    "start_time": "2023-05-29T11:46:25.580Z"
   },
   {
    "duration": 21,
    "start_time": "2023-05-29T11:46:33.642Z"
   },
   {
    "duration": 22,
    "start_time": "2023-05-29T11:48:25.872Z"
   },
   {
    "duration": 1117,
    "start_time": "2023-05-29T11:51:31.703Z"
   },
   {
    "duration": 639,
    "start_time": "2023-05-29T11:51:45.147Z"
   },
   {
    "duration": 355,
    "start_time": "2023-05-29T11:52:36.412Z"
   },
   {
    "duration": 15,
    "start_time": "2023-05-29T11:52:42.206Z"
   },
   {
    "duration": 17,
    "start_time": "2023-05-29T11:53:13.520Z"
   },
   {
    "duration": 681,
    "start_time": "2023-05-29T11:56:06.804Z"
   },
   {
    "duration": 19,
    "start_time": "2023-05-29T12:50:23.017Z"
   },
   {
    "duration": 19,
    "start_time": "2023-05-29T18:32:07.029Z"
   },
   {
    "duration": 15,
    "start_time": "2023-05-29T18:33:10.438Z"
   },
   {
    "duration": 19,
    "start_time": "2023-05-29T18:33:30.488Z"
   },
   {
    "duration": 50,
    "start_time": "2023-05-29T18:33:40.634Z"
   },
   {
    "duration": 15,
    "start_time": "2023-05-29T18:33:44.485Z"
   },
   {
    "duration": 50,
    "start_time": "2023-05-29T18:33:55.690Z"
   },
   {
    "duration": 216,
    "start_time": "2023-05-29T18:43:01.756Z"
   },
   {
    "duration": 8,
    "start_time": "2023-05-29T18:44:40.130Z"
   },
   {
    "duration": 19,
    "start_time": "2023-05-29T18:44:43.787Z"
   },
   {
    "duration": 1160,
    "start_time": "2023-05-29T18:44:52.098Z"
   },
   {
    "duration": 83,
    "start_time": "2023-05-29T18:44:53.260Z"
   },
   {
    "duration": 76,
    "start_time": "2023-05-29T18:44:53.345Z"
   },
   {
    "duration": 5,
    "start_time": "2023-05-29T18:44:53.423Z"
   },
   {
    "duration": 11,
    "start_time": "2023-05-29T18:44:53.430Z"
   },
   {
    "duration": 13,
    "start_time": "2023-05-29T18:44:53.443Z"
   },
   {
    "duration": 18,
    "start_time": "2023-05-29T18:44:53.481Z"
   },
   {
    "duration": 18,
    "start_time": "2023-05-29T18:44:53.501Z"
   },
   {
    "duration": 144,
    "start_time": "2023-05-29T18:44:53.520Z"
   },
   {
    "duration": 20,
    "start_time": "2023-05-29T18:44:53.666Z"
   },
   {
    "duration": 190,
    "start_time": "2023-05-29T18:44:53.689Z"
   },
   {
    "duration": 31,
    "start_time": "2023-05-29T18:44:53.883Z"
   },
   {
    "duration": 16,
    "start_time": "2023-05-29T18:44:53.916Z"
   },
   {
    "duration": 340,
    "start_time": "2023-05-29T18:44:53.935Z"
   },
   {
    "duration": 222,
    "start_time": "2023-05-29T18:44:54.280Z"
   },
   {
    "duration": 331,
    "start_time": "2023-05-29T18:44:54.504Z"
   },
   {
    "duration": 220,
    "start_time": "2023-05-29T18:44:54.845Z"
   },
   {
    "duration": 352,
    "start_time": "2023-05-29T18:44:55.067Z"
   },
   {
    "duration": 317,
    "start_time": "2023-05-29T18:44:55.421Z"
   },
   {
    "duration": 342,
    "start_time": "2023-05-29T18:44:55.740Z"
   },
   {
    "duration": 26,
    "start_time": "2023-05-29T18:44:56.085Z"
   },
   {
    "duration": 28,
    "start_time": "2023-05-29T18:44:56.113Z"
   },
   {
    "duration": 21,
    "start_time": "2023-05-29T18:44:56.143Z"
   },
   {
    "duration": 20,
    "start_time": "2023-05-29T18:44:56.166Z"
   },
   {
    "duration": 950,
    "start_time": "2023-05-29T18:44:56.189Z"
   },
   {
    "duration": 0,
    "start_time": "2023-05-29T18:44:57.142Z"
   },
   {
    "duration": 0,
    "start_time": "2023-05-29T18:44:57.143Z"
   },
   {
    "duration": 0,
    "start_time": "2023-05-29T18:44:57.145Z"
   },
   {
    "duration": 0,
    "start_time": "2023-05-29T18:44:57.147Z"
   },
   {
    "duration": 0,
    "start_time": "2023-05-29T18:44:57.149Z"
   },
   {
    "duration": 0,
    "start_time": "2023-05-29T18:44:57.150Z"
   },
   {
    "duration": 0,
    "start_time": "2023-05-29T18:44:57.152Z"
   },
   {
    "duration": 0,
    "start_time": "2023-05-29T18:44:57.153Z"
   },
   {
    "duration": 0,
    "start_time": "2023-05-29T18:44:57.154Z"
   },
   {
    "duration": 0,
    "start_time": "2023-05-29T18:44:57.156Z"
   },
   {
    "duration": 0,
    "start_time": "2023-05-29T18:44:57.157Z"
   },
   {
    "duration": 0,
    "start_time": "2023-05-29T18:44:57.158Z"
   },
   {
    "duration": 0,
    "start_time": "2023-05-29T18:44:57.159Z"
   },
   {
    "duration": 0,
    "start_time": "2023-05-29T18:44:57.161Z"
   },
   {
    "duration": 0,
    "start_time": "2023-05-29T18:44:57.162Z"
   },
   {
    "duration": 0,
    "start_time": "2023-05-29T18:44:57.163Z"
   },
   {
    "duration": 0,
    "start_time": "2023-05-29T18:44:57.164Z"
   },
   {
    "duration": 0,
    "start_time": "2023-05-29T18:44:57.165Z"
   },
   {
    "duration": 0,
    "start_time": "2023-05-29T18:44:57.166Z"
   },
   {
    "duration": 0,
    "start_time": "2023-05-29T18:44:57.167Z"
   },
   {
    "duration": 0,
    "start_time": "2023-05-29T18:44:57.169Z"
   },
   {
    "duration": 10,
    "start_time": "2023-05-29T18:46:51.148Z"
   },
   {
    "duration": 7,
    "start_time": "2023-05-29T18:46:59.851Z"
   },
   {
    "duration": 9,
    "start_time": "2023-05-29T18:47:26.387Z"
   },
   {
    "duration": 25,
    "start_time": "2023-05-29T18:48:09.987Z"
   },
   {
    "duration": 27,
    "start_time": "2023-05-29T18:48:13.874Z"
   },
   {
    "duration": 5,
    "start_time": "2023-05-29T18:48:36.521Z"
   },
   {
    "duration": 9,
    "start_time": "2023-05-29T18:48:42.085Z"
   },
   {
    "duration": 23,
    "start_time": "2023-05-29T18:58:31.928Z"
   },
   {
    "duration": 218,
    "start_time": "2023-05-29T19:02:45.786Z"
   },
   {
    "duration": 295,
    "start_time": "2023-05-29T19:02:50.844Z"
   },
   {
    "duration": 1234,
    "start_time": "2023-05-30T11:34:31.839Z"
   },
   {
    "duration": 225,
    "start_time": "2023-05-30T11:34:33.075Z"
   },
   {
    "duration": 57,
    "start_time": "2023-05-30T11:34:33.302Z"
   },
   {
    "duration": 5,
    "start_time": "2023-05-30T11:34:33.361Z"
   },
   {
    "duration": 13,
    "start_time": "2023-05-30T11:34:33.368Z"
   },
   {
    "duration": 10,
    "start_time": "2023-05-30T11:34:33.383Z"
   },
   {
    "duration": 11,
    "start_time": "2023-05-30T11:34:33.395Z"
   },
   {
    "duration": 13,
    "start_time": "2023-05-30T11:34:33.407Z"
   },
   {
    "duration": 127,
    "start_time": "2023-05-30T11:34:33.422Z"
   },
   {
    "duration": 8,
    "start_time": "2023-05-30T11:34:33.550Z"
   },
   {
    "duration": 132,
    "start_time": "2023-05-30T11:34:33.578Z"
   },
   {
    "duration": 23,
    "start_time": "2023-05-30T11:34:33.711Z"
   },
   {
    "duration": 15,
    "start_time": "2023-05-30T11:34:33.736Z"
   },
   {
    "duration": 302,
    "start_time": "2023-05-30T11:34:33.779Z"
   },
   {
    "duration": 181,
    "start_time": "2023-05-30T11:34:34.082Z"
   },
   {
    "duration": 363,
    "start_time": "2023-05-30T11:34:34.265Z"
   },
   {
    "duration": 218,
    "start_time": "2023-05-30T11:34:34.630Z"
   },
   {
    "duration": 331,
    "start_time": "2023-05-30T11:34:34.850Z"
   },
   {
    "duration": 272,
    "start_time": "2023-05-30T11:34:35.183Z"
   },
   {
    "duration": 333,
    "start_time": "2023-05-30T11:34:35.457Z"
   },
   {
    "duration": 418,
    "start_time": "2023-05-30T11:34:35.792Z"
   },
   {
    "duration": 0,
    "start_time": "2023-05-30T11:34:36.211Z"
   },
   {
    "duration": 0,
    "start_time": "2023-05-30T11:34:36.213Z"
   },
   {
    "duration": 0,
    "start_time": "2023-05-30T11:34:36.213Z"
   },
   {
    "duration": 0,
    "start_time": "2023-05-30T11:34:36.214Z"
   },
   {
    "duration": 0,
    "start_time": "2023-05-30T11:34:36.215Z"
   },
   {
    "duration": 0,
    "start_time": "2023-05-30T11:34:36.216Z"
   },
   {
    "duration": 0,
    "start_time": "2023-05-30T11:34:36.217Z"
   },
   {
    "duration": 0,
    "start_time": "2023-05-30T11:34:36.218Z"
   },
   {
    "duration": 0,
    "start_time": "2023-05-30T11:34:36.219Z"
   },
   {
    "duration": 0,
    "start_time": "2023-05-30T11:34:36.221Z"
   },
   {
    "duration": 0,
    "start_time": "2023-05-30T11:34:36.221Z"
   },
   {
    "duration": 0,
    "start_time": "2023-05-30T11:34:36.222Z"
   },
   {
    "duration": 0,
    "start_time": "2023-05-30T11:34:36.224Z"
   },
   {
    "duration": 0,
    "start_time": "2023-05-30T11:34:36.224Z"
   },
   {
    "duration": 0,
    "start_time": "2023-05-30T11:34:36.225Z"
   },
   {
    "duration": 0,
    "start_time": "2023-05-30T11:34:36.226Z"
   },
   {
    "duration": 0,
    "start_time": "2023-05-30T11:34:36.227Z"
   },
   {
    "duration": 0,
    "start_time": "2023-05-30T11:34:36.228Z"
   },
   {
    "duration": 0,
    "start_time": "2023-05-30T11:34:36.229Z"
   },
   {
    "duration": 0,
    "start_time": "2023-05-30T11:34:36.230Z"
   },
   {
    "duration": 0,
    "start_time": "2023-05-30T11:34:36.231Z"
   },
   {
    "duration": 0,
    "start_time": "2023-05-30T11:34:36.232Z"
   },
   {
    "duration": 0,
    "start_time": "2023-05-30T11:34:36.233Z"
   },
   {
    "duration": 0,
    "start_time": "2023-05-30T11:34:36.233Z"
   },
   {
    "duration": 12,
    "start_time": "2023-05-30T11:36:03.326Z"
   },
   {
    "duration": 12,
    "start_time": "2023-05-30T11:36:47.870Z"
   },
   {
    "duration": 1212,
    "start_time": "2023-05-30T11:37:02.279Z"
   },
   {
    "duration": 1154,
    "start_time": "2023-05-30T11:37:15.189Z"
   },
   {
    "duration": 1115,
    "start_time": "2023-05-30T11:37:37.210Z"
   },
   {
    "duration": 8,
    "start_time": "2023-05-30T11:37:44.971Z"
   },
   {
    "duration": 12,
    "start_time": "2023-05-30T11:37:50.601Z"
   },
   {
    "duration": 18,
    "start_time": "2023-05-30T11:38:56.407Z"
   },
   {
    "duration": 16,
    "start_time": "2023-05-30T11:39:04.400Z"
   },
   {
    "duration": 10,
    "start_time": "2023-05-30T11:39:12.909Z"
   },
   {
    "duration": 26,
    "start_time": "2023-05-30T11:40:20.813Z"
   },
   {
    "duration": 13,
    "start_time": "2023-05-30T11:40:34.003Z"
   },
   {
    "duration": 26,
    "start_time": "2023-05-30T11:41:02.621Z"
   },
   {
    "duration": 5,
    "start_time": "2023-05-30T11:41:07.963Z"
   },
   {
    "duration": 18,
    "start_time": "2023-05-30T11:41:10.871Z"
   },
   {
    "duration": 13,
    "start_time": "2023-05-30T11:44:27.579Z"
   },
   {
    "duration": 1162,
    "start_time": "2023-05-30T11:45:13.979Z"
   },
   {
    "duration": 78,
    "start_time": "2023-05-30T11:45:15.143Z"
   },
   {
    "duration": 86,
    "start_time": "2023-05-30T11:45:15.223Z"
   },
   {
    "duration": 6,
    "start_time": "2023-05-30T11:45:15.311Z"
   },
   {
    "duration": 14,
    "start_time": "2023-05-30T11:45:15.318Z"
   },
   {
    "duration": 11,
    "start_time": "2023-05-30T11:45:15.334Z"
   },
   {
    "duration": 122,
    "start_time": "2023-05-30T11:45:15.347Z"
   },
   {
    "duration": 0,
    "start_time": "2023-05-30T11:45:15.472Z"
   },
   {
    "duration": 0,
    "start_time": "2023-05-30T11:45:15.478Z"
   },
   {
    "duration": 0,
    "start_time": "2023-05-30T11:45:15.479Z"
   },
   {
    "duration": 0,
    "start_time": "2023-05-30T11:45:15.480Z"
   },
   {
    "duration": 0,
    "start_time": "2023-05-30T11:45:15.482Z"
   },
   {
    "duration": 0,
    "start_time": "2023-05-30T11:45:15.482Z"
   },
   {
    "duration": 0,
    "start_time": "2023-05-30T11:45:15.483Z"
   },
   {
    "duration": 0,
    "start_time": "2023-05-30T11:45:15.484Z"
   },
   {
    "duration": 0,
    "start_time": "2023-05-30T11:45:15.485Z"
   },
   {
    "duration": 0,
    "start_time": "2023-05-30T11:45:15.486Z"
   },
   {
    "duration": 0,
    "start_time": "2023-05-30T11:45:15.487Z"
   },
   {
    "duration": 0,
    "start_time": "2023-05-30T11:45:15.488Z"
   },
   {
    "duration": 0,
    "start_time": "2023-05-30T11:45:15.489Z"
   },
   {
    "duration": 0,
    "start_time": "2023-05-30T11:45:15.490Z"
   },
   {
    "duration": 0,
    "start_time": "2023-05-30T11:45:15.491Z"
   },
   {
    "duration": 0,
    "start_time": "2023-05-30T11:45:15.492Z"
   },
   {
    "duration": 0,
    "start_time": "2023-05-30T11:45:15.492Z"
   },
   {
    "duration": 0,
    "start_time": "2023-05-30T11:45:15.493Z"
   },
   {
    "duration": 0,
    "start_time": "2023-05-30T11:45:15.494Z"
   },
   {
    "duration": 0,
    "start_time": "2023-05-30T11:45:15.495Z"
   },
   {
    "duration": 0,
    "start_time": "2023-05-30T11:45:15.496Z"
   },
   {
    "duration": 0,
    "start_time": "2023-05-30T11:45:15.497Z"
   },
   {
    "duration": 0,
    "start_time": "2023-05-30T11:45:15.498Z"
   },
   {
    "duration": 0,
    "start_time": "2023-05-30T11:45:15.499Z"
   },
   {
    "duration": 0,
    "start_time": "2023-05-30T11:45:15.500Z"
   },
   {
    "duration": 0,
    "start_time": "2023-05-30T11:45:15.501Z"
   },
   {
    "duration": 0,
    "start_time": "2023-05-30T11:45:15.503Z"
   },
   {
    "duration": 0,
    "start_time": "2023-05-30T11:45:15.503Z"
   },
   {
    "duration": 0,
    "start_time": "2023-05-30T11:45:15.504Z"
   },
   {
    "duration": 0,
    "start_time": "2023-05-30T11:45:15.505Z"
   },
   {
    "duration": 0,
    "start_time": "2023-05-30T11:45:15.506Z"
   },
   {
    "duration": 0,
    "start_time": "2023-05-30T11:45:15.507Z"
   },
   {
    "duration": 0,
    "start_time": "2023-05-30T11:45:15.508Z"
   },
   {
    "duration": 0,
    "start_time": "2023-05-30T11:45:15.509Z"
   },
   {
    "duration": 0,
    "start_time": "2023-05-30T11:45:15.510Z"
   },
   {
    "duration": 0,
    "start_time": "2023-05-30T11:45:15.511Z"
   },
   {
    "duration": 0,
    "start_time": "2023-05-30T11:45:15.512Z"
   },
   {
    "duration": 1,
    "start_time": "2023-05-30T11:45:15.513Z"
   },
   {
    "duration": 0,
    "start_time": "2023-05-30T11:45:15.515Z"
   },
   {
    "duration": 0,
    "start_time": "2023-05-30T11:45:15.516Z"
   },
   {
    "duration": 11,
    "start_time": "2023-05-30T11:45:48.475Z"
   },
   {
    "duration": 9,
    "start_time": "2023-05-30T11:46:11.058Z"
   },
   {
    "duration": 6,
    "start_time": "2023-05-30T11:48:28.359Z"
   },
   {
    "duration": 1121,
    "start_time": "2023-05-30T11:48:34.860Z"
   },
   {
    "duration": 78,
    "start_time": "2023-05-30T11:48:35.983Z"
   },
   {
    "duration": 58,
    "start_time": "2023-05-30T11:48:36.062Z"
   },
   {
    "duration": 5,
    "start_time": "2023-05-30T11:48:36.122Z"
   },
   {
    "duration": 9,
    "start_time": "2023-05-30T11:48:36.129Z"
   },
   {
    "duration": 11,
    "start_time": "2023-05-30T11:48:36.139Z"
   },
   {
    "duration": 6,
    "start_time": "2023-05-30T11:48:36.177Z"
   },
   {
    "duration": 15,
    "start_time": "2023-05-30T11:48:36.184Z"
   },
   {
    "duration": 17,
    "start_time": "2023-05-30T11:48:36.200Z"
   },
   {
    "duration": 12,
    "start_time": "2023-05-30T11:48:36.219Z"
   },
   {
    "duration": 133,
    "start_time": "2023-05-30T11:48:36.232Z"
   },
   {
    "duration": 8,
    "start_time": "2023-05-30T11:48:36.378Z"
   },
   {
    "duration": 140,
    "start_time": "2023-05-30T11:48:36.387Z"
   },
   {
    "duration": 24,
    "start_time": "2023-05-30T11:48:36.530Z"
   },
   {
    "duration": 35,
    "start_time": "2023-05-30T11:48:36.556Z"
   },
   {
    "duration": 267,
    "start_time": "2023-05-30T11:48:36.593Z"
   },
   {
    "duration": 185,
    "start_time": "2023-05-30T11:48:36.862Z"
   },
   {
    "duration": 318,
    "start_time": "2023-05-30T11:48:37.048Z"
   },
   {
    "duration": 202,
    "start_time": "2023-05-30T11:48:37.368Z"
   },
   {
    "duration": 313,
    "start_time": "2023-05-30T11:48:37.572Z"
   },
   {
    "duration": 235,
    "start_time": "2023-05-30T11:48:37.887Z"
   },
   {
    "duration": 300,
    "start_time": "2023-05-30T11:48:38.123Z"
   },
   {
    "duration": 15,
    "start_time": "2023-05-30T11:48:38.424Z"
   },
   {
    "duration": 74,
    "start_time": "2023-05-30T11:48:38.441Z"
   },
   {
    "duration": 0,
    "start_time": "2023-05-30T11:48:38.517Z"
   },
   {
    "duration": 0,
    "start_time": "2023-05-30T11:48:38.518Z"
   },
   {
    "duration": 0,
    "start_time": "2023-05-30T11:48:38.519Z"
   },
   {
    "duration": 0,
    "start_time": "2023-05-30T11:48:38.520Z"
   },
   {
    "duration": 0,
    "start_time": "2023-05-30T11:48:38.522Z"
   },
   {
    "duration": 0,
    "start_time": "2023-05-30T11:48:38.523Z"
   },
   {
    "duration": 0,
    "start_time": "2023-05-30T11:48:38.524Z"
   },
   {
    "duration": 0,
    "start_time": "2023-05-30T11:48:38.525Z"
   },
   {
    "duration": 0,
    "start_time": "2023-05-30T11:48:38.526Z"
   },
   {
    "duration": 0,
    "start_time": "2023-05-30T11:48:38.527Z"
   },
   {
    "duration": 0,
    "start_time": "2023-05-30T11:48:38.528Z"
   },
   {
    "duration": 0,
    "start_time": "2023-05-30T11:48:38.529Z"
   },
   {
    "duration": 0,
    "start_time": "2023-05-30T11:48:38.530Z"
   },
   {
    "duration": 0,
    "start_time": "2023-05-30T11:48:38.530Z"
   },
   {
    "duration": 0,
    "start_time": "2023-05-30T11:48:38.531Z"
   },
   {
    "duration": 0,
    "start_time": "2023-05-30T11:48:38.532Z"
   },
   {
    "duration": 0,
    "start_time": "2023-05-30T11:48:38.533Z"
   },
   {
    "duration": 0,
    "start_time": "2023-05-30T11:48:38.534Z"
   },
   {
    "duration": 0,
    "start_time": "2023-05-30T11:48:38.535Z"
   },
   {
    "duration": 0,
    "start_time": "2023-05-30T11:48:38.536Z"
   },
   {
    "duration": 0,
    "start_time": "2023-05-30T11:48:38.537Z"
   },
   {
    "duration": 0,
    "start_time": "2023-05-30T11:48:38.538Z"
   },
   {
    "duration": 0,
    "start_time": "2023-05-30T11:48:38.539Z"
   },
   {
    "duration": 1190,
    "start_time": "2023-05-30T12:29:17.176Z"
   },
   {
    "duration": 78,
    "start_time": "2023-05-30T12:29:18.368Z"
   },
   {
    "duration": 67,
    "start_time": "2023-05-30T12:29:18.448Z"
   },
   {
    "duration": 6,
    "start_time": "2023-05-30T12:29:18.517Z"
   },
   {
    "duration": 10,
    "start_time": "2023-05-30T12:29:18.526Z"
   },
   {
    "duration": 41,
    "start_time": "2023-05-30T12:29:18.538Z"
   },
   {
    "duration": 6,
    "start_time": "2023-05-30T12:29:18.581Z"
   },
   {
    "duration": 13,
    "start_time": "2023-05-30T12:29:18.588Z"
   },
   {
    "duration": 16,
    "start_time": "2023-05-30T12:29:18.602Z"
   },
   {
    "duration": 14,
    "start_time": "2023-05-30T12:29:18.620Z"
   },
   {
    "duration": 146,
    "start_time": "2023-05-30T12:29:18.636Z"
   },
   {
    "duration": 8,
    "start_time": "2023-05-30T12:29:18.784Z"
   },
   {
    "duration": 168,
    "start_time": "2023-05-30T12:29:18.793Z"
   },
   {
    "duration": 33,
    "start_time": "2023-05-30T12:29:18.964Z"
   },
   {
    "duration": 17,
    "start_time": "2023-05-30T12:29:18.999Z"
   },
   {
    "duration": 351,
    "start_time": "2023-05-30T12:29:19.017Z"
   },
   {
    "duration": 226,
    "start_time": "2023-05-30T12:29:19.377Z"
   },
   {
    "duration": 287,
    "start_time": "2023-05-30T12:29:19.605Z"
   },
   {
    "duration": 223,
    "start_time": "2023-05-30T12:29:19.893Z"
   },
   {
    "duration": 296,
    "start_time": "2023-05-30T12:29:20.118Z"
   },
   {
    "duration": 124,
    "start_time": "2023-05-30T12:29:20.416Z"
   },
   {
    "duration": 289,
    "start_time": "2023-05-30T12:29:20.542Z"
   },
   {
    "duration": 0,
    "start_time": "2023-05-30T12:29:20.833Z"
   },
   {
    "duration": 0,
    "start_time": "2023-05-30T12:29:20.834Z"
   },
   {
    "duration": 0,
    "start_time": "2023-05-30T12:29:20.835Z"
   },
   {
    "duration": 0,
    "start_time": "2023-05-30T12:29:20.836Z"
   },
   {
    "duration": 0,
    "start_time": "2023-05-30T12:29:20.838Z"
   },
   {
    "duration": 0,
    "start_time": "2023-05-30T12:29:20.839Z"
   },
   {
    "duration": 0,
    "start_time": "2023-05-30T12:29:20.840Z"
   },
   {
    "duration": 0,
    "start_time": "2023-05-30T12:29:20.841Z"
   },
   {
    "duration": 0,
    "start_time": "2023-05-30T12:29:20.842Z"
   },
   {
    "duration": 0,
    "start_time": "2023-05-30T12:29:20.843Z"
   },
   {
    "duration": 0,
    "start_time": "2023-05-30T12:29:20.844Z"
   },
   {
    "duration": 0,
    "start_time": "2023-05-30T12:29:20.845Z"
   },
   {
    "duration": 1,
    "start_time": "2023-05-30T12:29:20.846Z"
   },
   {
    "duration": 0,
    "start_time": "2023-05-30T12:29:20.847Z"
   },
   {
    "duration": 0,
    "start_time": "2023-05-30T12:29:20.878Z"
   },
   {
    "duration": 0,
    "start_time": "2023-05-30T12:29:20.880Z"
   },
   {
    "duration": 0,
    "start_time": "2023-05-30T12:29:20.881Z"
   },
   {
    "duration": 0,
    "start_time": "2023-05-30T12:29:20.882Z"
   },
   {
    "duration": 0,
    "start_time": "2023-05-30T12:29:20.883Z"
   },
   {
    "duration": 0,
    "start_time": "2023-05-30T12:29:20.884Z"
   },
   {
    "duration": 0,
    "start_time": "2023-05-30T12:29:20.885Z"
   },
   {
    "duration": 0,
    "start_time": "2023-05-30T12:29:20.886Z"
   },
   {
    "duration": 0,
    "start_time": "2023-05-30T12:29:20.887Z"
   },
   {
    "duration": 214,
    "start_time": "2023-05-30T12:29:47.106Z"
   },
   {
    "duration": 312,
    "start_time": "2023-05-30T12:29:50.340Z"
   },
   {
    "duration": 394,
    "start_time": "2023-05-30T12:30:10.585Z"
   },
   {
    "duration": 151,
    "start_time": "2023-05-30T12:31:29.960Z"
   },
   {
    "duration": 10,
    "start_time": "2023-05-30T12:32:25.595Z"
   },
   {
    "duration": 9,
    "start_time": "2023-05-30T12:32:40.414Z"
   },
   {
    "duration": 5,
    "start_time": "2023-05-30T12:33:10.622Z"
   },
   {
    "duration": 1249,
    "start_time": "2023-05-30T12:34:26.456Z"
   },
   {
    "duration": 81,
    "start_time": "2023-05-30T12:34:27.707Z"
   },
   {
    "duration": 65,
    "start_time": "2023-05-30T12:34:27.790Z"
   },
   {
    "duration": 21,
    "start_time": "2023-05-30T12:34:27.857Z"
   },
   {
    "duration": 11,
    "start_time": "2023-05-30T12:34:27.881Z"
   },
   {
    "duration": 10,
    "start_time": "2023-05-30T12:34:27.894Z"
   },
   {
    "duration": 18,
    "start_time": "2023-05-30T12:34:27.905Z"
   },
   {
    "duration": 12,
    "start_time": "2023-05-30T12:34:27.924Z"
   },
   {
    "duration": 14,
    "start_time": "2023-05-30T12:34:27.938Z"
   },
   {
    "duration": 29,
    "start_time": "2023-05-30T12:34:27.954Z"
   },
   {
    "duration": 13,
    "start_time": "2023-05-30T12:34:27.984Z"
   },
   {
    "duration": 128,
    "start_time": "2023-05-30T12:34:27.998Z"
   },
   {
    "duration": 9,
    "start_time": "2023-05-30T12:34:28.127Z"
   },
   {
    "duration": 166,
    "start_time": "2023-05-30T12:34:28.140Z"
   },
   {
    "duration": 113,
    "start_time": "2023-05-30T12:34:28.308Z"
   },
   {
    "duration": 58,
    "start_time": "2023-05-30T12:34:28.423Z"
   },
   {
    "duration": 263,
    "start_time": "2023-05-30T12:34:28.482Z"
   },
   {
    "duration": 268,
    "start_time": "2023-05-30T12:34:28.746Z"
   },
   {
    "duration": 469,
    "start_time": "2023-05-30T12:34:29.016Z"
   },
   {
    "duration": 404,
    "start_time": "2023-05-30T12:34:29.487Z"
   },
   {
    "duration": 411,
    "start_time": "2023-05-30T12:34:29.893Z"
   },
   {
    "duration": 501,
    "start_time": "2023-05-30T12:34:30.306Z"
   },
   {
    "duration": 333,
    "start_time": "2023-05-30T12:34:30.809Z"
   },
   {
    "duration": 5,
    "start_time": "2023-05-30T12:34:31.144Z"
   },
   {
    "duration": 31,
    "start_time": "2023-05-30T12:34:31.150Z"
   },
   {
    "duration": 155,
    "start_time": "2023-05-30T12:34:31.183Z"
   },
   {
    "duration": 5,
    "start_time": "2023-05-30T12:34:31.339Z"
   },
   {
    "duration": 146,
    "start_time": "2023-05-30T12:34:31.345Z"
   },
   {
    "duration": 207,
    "start_time": "2023-05-30T12:34:31.492Z"
   },
   {
    "duration": 12,
    "start_time": "2023-05-30T12:34:42.262Z"
   },
   {
    "duration": 12,
    "start_time": "2023-05-30T12:34:55.771Z"
   },
   {
    "duration": 77,
    "start_time": "2023-05-30T12:36:45.902Z"
   },
   {
    "duration": 137,
    "start_time": "2023-05-30T12:36:49.659Z"
   },
   {
    "duration": 10,
    "start_time": "2023-05-30T12:39:22.670Z"
   },
   {
    "duration": 1321,
    "start_time": "2023-05-30T12:40:07.919Z"
   },
   {
    "duration": 1215,
    "start_time": "2023-05-30T12:40:32.716Z"
   },
   {
    "duration": 11,
    "start_time": "2023-05-30T12:40:36.620Z"
   },
   {
    "duration": 1202,
    "start_time": "2023-05-30T12:40:40.275Z"
   },
   {
    "duration": 117,
    "start_time": "2023-05-30T12:40:54.268Z"
   },
   {
    "duration": 4,
    "start_time": "2023-05-30T12:41:22.653Z"
   },
   {
    "duration": 7,
    "start_time": "2023-05-30T12:41:33.877Z"
   },
   {
    "duration": 128,
    "start_time": "2023-05-30T12:42:16.368Z"
   },
   {
    "duration": 139,
    "start_time": "2023-05-30T12:42:22.075Z"
   },
   {
    "duration": 5,
    "start_time": "2023-05-30T12:42:42.867Z"
   },
   {
    "duration": 13,
    "start_time": "2023-05-30T12:43:23.686Z"
   },
   {
    "duration": 304,
    "start_time": "2023-05-30T12:45:11.701Z"
   },
   {
    "duration": 970,
    "start_time": "2023-05-30T12:45:18.791Z"
   },
   {
    "duration": 30,
    "start_time": "2023-05-30T12:45:24.912Z"
   },
   {
    "duration": 21,
    "start_time": "2023-05-30T12:46:00.651Z"
   },
   {
    "duration": 26,
    "start_time": "2023-05-30T12:46:17.332Z"
   },
   {
    "duration": 22,
    "start_time": "2023-05-30T12:46:22.518Z"
   },
   {
    "duration": 20,
    "start_time": "2023-05-30T12:46:28.378Z"
   },
   {
    "duration": 15,
    "start_time": "2023-05-30T12:47:58.896Z"
   },
   {
    "duration": 150,
    "start_time": "2023-05-30T12:48:45.773Z"
   },
   {
    "duration": 127,
    "start_time": "2023-05-30T12:49:31.054Z"
   },
   {
    "duration": 21,
    "start_time": "2023-05-30T12:56:12.523Z"
   },
   {
    "duration": 13,
    "start_time": "2023-05-30T12:56:16.966Z"
   },
   {
    "duration": 15,
    "start_time": "2023-05-30T12:58:50.057Z"
   },
   {
    "duration": 6,
    "start_time": "2023-05-30T12:58:57.993Z"
   },
   {
    "duration": 8,
    "start_time": "2023-05-30T12:59:05.706Z"
   },
   {
    "duration": 5,
    "start_time": "2023-05-30T13:01:42.899Z"
   },
   {
    "duration": 4,
    "start_time": "2023-05-30T13:02:04.447Z"
   },
   {
    "duration": 5,
    "start_time": "2023-05-30T13:02:13.199Z"
   },
   {
    "duration": 11,
    "start_time": "2023-05-30T13:03:23.004Z"
   },
   {
    "duration": 4,
    "start_time": "2023-05-30T13:03:53.601Z"
   },
   {
    "duration": 1097,
    "start_time": "2023-05-30T13:03:59.224Z"
   },
   {
    "duration": 84,
    "start_time": "2023-05-30T13:04:00.323Z"
   },
   {
    "duration": 66,
    "start_time": "2023-05-30T13:04:00.409Z"
   },
   {
    "duration": 6,
    "start_time": "2023-05-30T13:04:00.482Z"
   },
   {
    "duration": 31,
    "start_time": "2023-05-30T13:04:00.490Z"
   },
   {
    "duration": 27,
    "start_time": "2023-05-30T13:04:00.522Z"
   },
   {
    "duration": 31,
    "start_time": "2023-05-30T13:04:00.551Z"
   },
   {
    "duration": 79,
    "start_time": "2023-05-30T13:04:00.584Z"
   },
   {
    "duration": 61,
    "start_time": "2023-05-30T13:04:00.665Z"
   },
   {
    "duration": 47,
    "start_time": "2023-05-30T13:04:00.729Z"
   },
   {
    "duration": 151,
    "start_time": "2023-05-30T13:04:00.777Z"
   },
   {
    "duration": 162,
    "start_time": "2023-05-30T13:04:00.930Z"
   },
   {
    "duration": 21,
    "start_time": "2023-05-30T13:04:01.094Z"
   },
   {
    "duration": 14,
    "start_time": "2023-05-30T13:04:01.117Z"
   },
   {
    "duration": 297,
    "start_time": "2023-05-30T13:04:01.132Z"
   },
   {
    "duration": 208,
    "start_time": "2023-05-30T13:04:01.431Z"
   },
   {
    "duration": 328,
    "start_time": "2023-05-30T13:04:01.641Z"
   },
   {
    "duration": 224,
    "start_time": "2023-05-30T13:04:01.971Z"
   },
   {
    "duration": 298,
    "start_time": "2023-05-30T13:04:02.198Z"
   },
   {
    "duration": 251,
    "start_time": "2023-05-30T13:04:02.498Z"
   },
   {
    "duration": 344,
    "start_time": "2023-05-30T13:04:02.751Z"
   },
   {
    "duration": 6,
    "start_time": "2023-05-30T13:04:03.097Z"
   },
   {
    "duration": 134,
    "start_time": "2023-05-30T13:04:03.104Z"
   },
   {
    "duration": 5,
    "start_time": "2023-05-30T13:04:03.240Z"
   },
   {
    "duration": 226,
    "start_time": "2023-05-30T13:04:03.247Z"
   },
   {
    "duration": 12,
    "start_time": "2023-05-30T13:04:03.477Z"
   },
   {
    "duration": 5,
    "start_time": "2023-05-30T13:04:03.492Z"
   },
   {
    "duration": 113,
    "start_time": "2023-05-30T13:04:03.500Z"
   },
   {
    "duration": 0,
    "start_time": "2023-05-30T13:04:03.614Z"
   },
   {
    "duration": 0,
    "start_time": "2023-05-30T13:04:03.616Z"
   },
   {
    "duration": 0,
    "start_time": "2023-05-30T13:04:03.617Z"
   },
   {
    "duration": 0,
    "start_time": "2023-05-30T13:04:03.618Z"
   },
   {
    "duration": 0,
    "start_time": "2023-05-30T13:04:03.619Z"
   },
   {
    "duration": 14,
    "start_time": "2023-05-30T13:04:22.859Z"
   },
   {
    "duration": 13,
    "start_time": "2023-05-30T13:04:29.100Z"
   },
   {
    "duration": 13,
    "start_time": "2023-05-30T13:04:32.644Z"
   },
   {
    "duration": 19,
    "start_time": "2023-05-30T13:04:41.475Z"
   },
   {
    "duration": 18,
    "start_time": "2023-05-30T13:05:03.576Z"
   },
   {
    "duration": 82,
    "start_time": "2023-05-30T13:05:15.624Z"
   },
   {
    "duration": 18,
    "start_time": "2023-05-30T13:05:22.582Z"
   },
   {
    "duration": 7,
    "start_time": "2023-05-30T13:05:39.785Z"
   },
   {
    "duration": 5,
    "start_time": "2023-05-30T13:05:43.930Z"
   },
   {
    "duration": 17,
    "start_time": "2023-05-30T13:07:05.908Z"
   },
   {
    "duration": 18,
    "start_time": "2023-05-30T13:07:38.043Z"
   },
   {
    "duration": 87,
    "start_time": "2023-05-30T13:07:47.495Z"
   },
   {
    "duration": 8,
    "start_time": "2023-05-30T13:07:58.943Z"
   },
   {
    "duration": 14,
    "start_time": "2023-05-30T13:12:16.095Z"
   },
   {
    "duration": 132,
    "start_time": "2023-05-30T13:16:29.976Z"
   },
   {
    "duration": 78,
    "start_time": "2023-05-30T13:16:32.646Z"
   },
   {
    "duration": 8,
    "start_time": "2023-05-30T13:16:36.376Z"
   },
   {
    "duration": 7,
    "start_time": "2023-05-30T13:17:45.954Z"
   },
   {
    "duration": 7,
    "start_time": "2023-05-30T13:18:54.749Z"
   },
   {
    "duration": 32,
    "start_time": "2023-05-30T13:20:47.351Z"
   },
   {
    "duration": 31,
    "start_time": "2023-05-30T13:24:45.581Z"
   },
   {
    "duration": 72,
    "start_time": "2023-05-30T13:24:48.215Z"
   },
   {
    "duration": 22,
    "start_time": "2023-05-30T13:24:52.502Z"
   },
   {
    "duration": 4,
    "start_time": "2023-05-30T13:27:33.326Z"
   },
   {
    "duration": 4,
    "start_time": "2023-05-30T13:27:41.913Z"
   },
   {
    "duration": 13,
    "start_time": "2023-05-30T13:27:49.819Z"
   },
   {
    "duration": 25,
    "start_time": "2023-05-30T13:28:53.572Z"
   },
   {
    "duration": 21,
    "start_time": "2023-05-30T13:29:43.171Z"
   },
   {
    "duration": 139,
    "start_time": "2023-05-30T14:46:53.446Z"
   },
   {
    "duration": 119,
    "start_time": "2023-05-30T14:47:25.574Z"
   },
   {
    "duration": 12,
    "start_time": "2023-05-30T14:49:09.120Z"
   },
   {
    "duration": 20,
    "start_time": "2023-05-30T14:52:37.094Z"
   },
   {
    "duration": 22,
    "start_time": "2023-05-30T14:52:45.846Z"
   },
   {
    "duration": 14,
    "start_time": "2023-05-30T14:52:48.476Z"
   },
   {
    "duration": 12,
    "start_time": "2023-05-30T14:53:13.318Z"
   },
   {
    "duration": 21,
    "start_time": "2023-05-30T14:53:29.580Z"
   },
   {
    "duration": 18,
    "start_time": "2023-05-30T14:53:35.554Z"
   },
   {
    "duration": 16,
    "start_time": "2023-05-30T14:55:17.758Z"
   },
   {
    "duration": 41,
    "start_time": "2023-05-30T14:58:00.269Z"
   },
   {
    "duration": 13,
    "start_time": "2023-05-30T15:08:59.384Z"
   },
   {
    "duration": 84,
    "start_time": "2023-05-30T15:09:04.087Z"
   },
   {
    "duration": 11,
    "start_time": "2023-05-30T15:09:07.096Z"
   },
   {
    "duration": 112,
    "start_time": "2023-05-30T15:19:25.271Z"
   },
   {
    "duration": 218,
    "start_time": "2023-05-30T15:31:33.360Z"
   },
   {
    "duration": 11,
    "start_time": "2023-05-30T15:31:37.651Z"
   },
   {
    "duration": 12,
    "start_time": "2023-05-30T15:31:49.472Z"
   },
   {
    "duration": 234,
    "start_time": "2023-05-30T15:33:50.454Z"
   },
   {
    "duration": 207,
    "start_time": "2023-05-30T15:34:55.238Z"
   },
   {
    "duration": 235,
    "start_time": "2023-05-30T15:36:15.960Z"
   },
   {
    "duration": 13,
    "start_time": "2023-05-30T15:36:17.642Z"
   },
   {
    "duration": 12,
    "start_time": "2023-05-30T15:37:29.817Z"
   },
   {
    "duration": 15,
    "start_time": "2023-05-30T15:37:37.582Z"
   },
   {
    "duration": 13,
    "start_time": "2023-05-30T15:52:59.125Z"
   },
   {
    "duration": 190,
    "start_time": "2023-05-30T15:53:28.636Z"
   },
   {
    "duration": 16,
    "start_time": "2023-05-30T15:54:11.696Z"
   },
   {
    "duration": 18,
    "start_time": "2023-05-30T15:54:55.408Z"
   },
   {
    "duration": 23,
    "start_time": "2023-05-30T15:55:08.419Z"
   },
   {
    "duration": 13,
    "start_time": "2023-05-30T15:55:53.272Z"
   },
   {
    "duration": 15,
    "start_time": "2023-05-30T15:55:56.312Z"
   },
   {
    "duration": 14,
    "start_time": "2023-05-30T15:56:01.881Z"
   },
   {
    "duration": 19,
    "start_time": "2023-05-30T15:56:11.847Z"
   },
   {
    "duration": 15,
    "start_time": "2023-05-30T16:43:12.589Z"
   },
   {
    "duration": 11,
    "start_time": "2023-05-30T16:43:25.406Z"
   },
   {
    "duration": 20,
    "start_time": "2023-05-30T16:43:45.629Z"
   },
   {
    "duration": 11,
    "start_time": "2023-05-30T16:44:06.740Z"
   },
   {
    "duration": 11,
    "start_time": "2023-05-30T16:44:12.228Z"
   },
   {
    "duration": 20,
    "start_time": "2023-05-30T16:44:23.653Z"
   },
   {
    "duration": 3,
    "start_time": "2023-05-30T16:44:28.417Z"
   },
   {
    "duration": 58,
    "start_time": "2023-05-30T16:44:38.137Z"
   },
   {
    "duration": 17,
    "start_time": "2023-05-30T16:44:41.881Z"
   },
   {
    "duration": 28,
    "start_time": "2023-05-30T16:45:09.350Z"
   },
   {
    "duration": 26,
    "start_time": "2023-05-30T16:45:17.123Z"
   },
   {
    "duration": 19,
    "start_time": "2023-05-30T16:45:24.594Z"
   },
   {
    "duration": 16,
    "start_time": "2023-05-30T16:45:31.885Z"
   },
   {
    "duration": 11,
    "start_time": "2023-05-30T16:45:37.774Z"
   },
   {
    "duration": 76,
    "start_time": "2023-05-30T16:45:44.345Z"
   },
   {
    "duration": 16,
    "start_time": "2023-05-30T16:45:48.903Z"
   },
   {
    "duration": 19,
    "start_time": "2023-05-30T16:46:17.746Z"
   },
   {
    "duration": 26,
    "start_time": "2023-05-30T16:46:51.575Z"
   },
   {
    "duration": 20,
    "start_time": "2023-05-30T16:47:13.639Z"
   },
   {
    "duration": 22,
    "start_time": "2023-05-30T16:47:18.721Z"
   },
   {
    "duration": 21,
    "start_time": "2023-05-30T16:47:26.850Z"
   },
   {
    "duration": 18,
    "start_time": "2023-05-30T16:47:37.780Z"
   },
   {
    "duration": 19,
    "start_time": "2023-05-30T16:47:42.415Z"
   },
   {
    "duration": 18,
    "start_time": "2023-05-30T16:47:48.622Z"
   },
   {
    "duration": 28,
    "start_time": "2023-05-30T16:48:34.540Z"
   },
   {
    "duration": 19,
    "start_time": "2023-05-30T16:48:39.713Z"
   },
   {
    "duration": 18,
    "start_time": "2023-05-30T16:48:50.831Z"
   },
   {
    "duration": 21,
    "start_time": "2023-05-30T16:48:56.696Z"
   },
   {
    "duration": 19,
    "start_time": "2023-05-30T16:49:03.418Z"
   },
   {
    "duration": 139,
    "start_time": "2023-05-30T17:00:00.347Z"
   },
   {
    "duration": 161,
    "start_time": "2023-05-30T17:00:07.824Z"
   },
   {
    "duration": 200,
    "start_time": "2023-05-30T17:00:14.665Z"
   },
   {
    "duration": 120,
    "start_time": "2023-05-30T17:00:39.180Z"
   },
   {
    "duration": 181,
    "start_time": "2023-05-30T17:00:47.692Z"
   },
   {
    "duration": 128,
    "start_time": "2023-05-30T17:01:33.689Z"
   },
   {
    "duration": 128,
    "start_time": "2023-05-30T17:01:44.495Z"
   },
   {
    "duration": 15,
    "start_time": "2023-05-30T17:05:01.240Z"
   },
   {
    "duration": 22,
    "start_time": "2023-05-30T17:05:05.906Z"
   },
   {
    "duration": 249,
    "start_time": "2023-05-30T17:05:08.053Z"
   },
   {
    "duration": 367,
    "start_time": "2023-05-30T17:05:24.771Z"
   },
   {
    "duration": 216,
    "start_time": "2023-05-30T17:09:28.887Z"
   },
   {
    "duration": 85,
    "start_time": "2023-05-30T17:09:46.277Z"
   },
   {
    "duration": 71,
    "start_time": "2023-05-30T17:09:53.107Z"
   },
   {
    "duration": 105,
    "start_time": "2023-05-30T17:10:03.921Z"
   },
   {
    "duration": 92,
    "start_time": "2023-05-30T17:10:06.847Z"
   },
   {
    "duration": 241,
    "start_time": "2023-05-30T17:11:12.395Z"
   },
   {
    "duration": 240,
    "start_time": "2023-05-30T17:11:18.563Z"
   },
   {
    "duration": 92,
    "start_time": "2023-05-30T17:11:38.934Z"
   },
   {
    "duration": 84,
    "start_time": "2023-05-30T17:11:56.907Z"
   },
   {
    "duration": 235,
    "start_time": "2023-05-30T17:12:07.643Z"
   },
   {
    "duration": 82,
    "start_time": "2023-05-30T17:12:16.502Z"
   },
   {
    "duration": 89,
    "start_time": "2023-05-30T17:12:22.968Z"
   },
   {
    "duration": 13,
    "start_time": "2023-05-30T17:12:31.602Z"
   },
   {
    "duration": 10,
    "start_time": "2023-05-30T17:12:35.188Z"
   },
   {
    "duration": 11,
    "start_time": "2023-05-30T17:12:41.858Z"
   },
   {
    "duration": 227,
    "start_time": "2023-05-30T17:12:51.284Z"
   },
   {
    "duration": 218,
    "start_time": "2023-05-30T17:13:13.089Z"
   },
   {
    "duration": 1197,
    "start_time": "2023-05-30T17:13:28.287Z"
   },
   {
    "duration": 12,
    "start_time": "2023-05-30T17:13:29.486Z"
   },
   {
    "duration": 12,
    "start_time": "2023-05-30T17:13:29.501Z"
   },
   {
    "duration": 7,
    "start_time": "2023-05-30T17:13:29.516Z"
   },
   {
    "duration": 14,
    "start_time": "2023-05-30T17:13:29.525Z"
   },
   {
    "duration": 51,
    "start_time": "2023-05-30T17:13:29.541Z"
   },
   {
    "duration": 17,
    "start_time": "2023-05-30T17:13:29.594Z"
   },
   {
    "duration": 113,
    "start_time": "2023-05-30T17:13:29.613Z"
   },
   {
    "duration": 0,
    "start_time": "2023-05-30T17:13:29.728Z"
   },
   {
    "duration": 0,
    "start_time": "2023-05-30T17:13:29.729Z"
   },
   {
    "duration": 0,
    "start_time": "2023-05-30T17:13:29.730Z"
   },
   {
    "duration": 0,
    "start_time": "2023-05-30T17:13:29.731Z"
   },
   {
    "duration": 0,
    "start_time": "2023-05-30T17:13:29.732Z"
   },
   {
    "duration": 0,
    "start_time": "2023-05-30T17:13:29.734Z"
   },
   {
    "duration": 0,
    "start_time": "2023-05-30T17:13:29.735Z"
   },
   {
    "duration": 0,
    "start_time": "2023-05-30T17:13:29.737Z"
   },
   {
    "duration": 0,
    "start_time": "2023-05-30T17:13:29.738Z"
   },
   {
    "duration": 0,
    "start_time": "2023-05-30T17:13:29.739Z"
   },
   {
    "duration": 0,
    "start_time": "2023-05-30T17:13:29.741Z"
   },
   {
    "duration": 0,
    "start_time": "2023-05-30T17:13:29.742Z"
   },
   {
    "duration": 0,
    "start_time": "2023-05-30T17:13:29.743Z"
   },
   {
    "duration": 0,
    "start_time": "2023-05-30T17:13:29.744Z"
   },
   {
    "duration": 0,
    "start_time": "2023-05-30T17:13:29.746Z"
   },
   {
    "duration": 1,
    "start_time": "2023-05-30T17:13:29.778Z"
   },
   {
    "duration": 12,
    "start_time": "2023-05-30T17:13:42.640Z"
   },
   {
    "duration": 9,
    "start_time": "2023-05-30T17:13:44.882Z"
   },
   {
    "duration": 212,
    "start_time": "2023-05-30T17:13:53.050Z"
   },
   {
    "duration": 208,
    "start_time": "2023-05-30T17:13:57.923Z"
   },
   {
    "duration": 236,
    "start_time": "2023-05-30T17:16:49.872Z"
   },
   {
    "duration": 220,
    "start_time": "2023-05-30T17:17:51.674Z"
   },
   {
    "duration": 231,
    "start_time": "2023-05-30T17:18:47.843Z"
   },
   {
    "duration": 1229,
    "start_time": "2023-05-30T17:19:25.681Z"
   },
   {
    "duration": 11,
    "start_time": "2023-05-30T17:19:26.913Z"
   },
   {
    "duration": 21,
    "start_time": "2023-05-30T17:19:26.926Z"
   },
   {
    "duration": 6,
    "start_time": "2023-05-30T17:19:26.949Z"
   },
   {
    "duration": 13,
    "start_time": "2023-05-30T17:19:26.977Z"
   },
   {
    "duration": 19,
    "start_time": "2023-05-30T17:19:26.991Z"
   },
   {
    "duration": 20,
    "start_time": "2023-05-30T17:19:27.011Z"
   },
   {
    "duration": 252,
    "start_time": "2023-05-30T17:19:27.033Z"
   },
   {
    "duration": 299,
    "start_time": "2023-05-30T17:19:27.287Z"
   },
   {
    "duration": 250,
    "start_time": "2023-05-30T17:19:27.587Z"
   },
   {
    "duration": 68,
    "start_time": "2023-05-30T17:19:27.839Z"
   },
   {
    "duration": 179,
    "start_time": "2023-05-30T17:19:27.909Z"
   },
   {
    "duration": 281,
    "start_time": "2023-05-30T17:19:28.090Z"
   },
   {
    "duration": 188,
    "start_time": "2023-05-30T17:19:28.378Z"
   },
   {
    "duration": 300,
    "start_time": "2023-05-30T17:19:28.567Z"
   },
   {
    "duration": 238,
    "start_time": "2023-05-30T17:19:28.868Z"
   },
   {
    "duration": 381,
    "start_time": "2023-05-30T17:19:29.108Z"
   },
   {
    "duration": 6,
    "start_time": "2023-05-30T17:19:29.491Z"
   },
   {
    "duration": 137,
    "start_time": "2023-05-30T17:19:29.499Z"
   },
   {
    "duration": 5,
    "start_time": "2023-05-30T17:19:29.637Z"
   },
   {
    "duration": 143,
    "start_time": "2023-05-30T17:19:29.644Z"
   },
   {
    "duration": 25,
    "start_time": "2023-05-30T17:19:29.789Z"
   },
   {
    "duration": 17,
    "start_time": "2023-05-30T17:19:29.815Z"
   },
   {
    "duration": 46,
    "start_time": "2023-05-30T17:19:29.834Z"
   },
   {
    "duration": 250,
    "start_time": "2023-05-30T17:20:16.946Z"
   },
   {
    "duration": 220,
    "start_time": "2023-05-30T17:20:55.995Z"
   },
   {
    "duration": 487,
    "start_time": "2023-05-30T17:21:28.246Z"
   },
   {
    "duration": 418,
    "start_time": "2023-05-30T17:21:39.786Z"
   },
   {
    "duration": 245,
    "start_time": "2023-05-30T17:24:00.348Z"
   },
   {
    "duration": 428,
    "start_time": "2023-05-30T17:25:37.179Z"
   },
   {
    "duration": 188,
    "start_time": "2023-05-30T17:27:59.007Z"
   },
   {
    "duration": 16,
    "start_time": "2023-05-30T17:29:23.140Z"
   },
   {
    "duration": 233,
    "start_time": "2023-05-30T17:29:28.501Z"
   },
   {
    "duration": 357,
    "start_time": "2023-05-30T17:33:15.650Z"
   },
   {
    "duration": 314,
    "start_time": "2023-05-30T17:33:21.541Z"
   },
   {
    "duration": 190,
    "start_time": "2023-05-30T17:37:11.117Z"
   },
   {
    "duration": 15,
    "start_time": "2023-05-30T18:02:41.215Z"
   },
   {
    "duration": 25,
    "start_time": "2023-05-30T18:02:53.160Z"
   },
   {
    "duration": 36,
    "start_time": "2023-05-30T18:03:06.120Z"
   },
   {
    "duration": 27,
    "start_time": "2023-05-30T18:03:12.983Z"
   },
   {
    "duration": 11,
    "start_time": "2023-05-30T18:03:22.490Z"
   },
   {
    "duration": 22,
    "start_time": "2023-05-30T18:03:29.079Z"
   },
   {
    "duration": 18,
    "start_time": "2023-05-30T18:03:41.116Z"
   },
   {
    "duration": 48,
    "start_time": "2023-05-30T18:07:01.275Z"
   },
   {
    "duration": 19,
    "start_time": "2023-05-30T18:07:15.679Z"
   },
   {
    "duration": 14,
    "start_time": "2023-05-30T18:07:17.893Z"
   },
   {
    "duration": 307,
    "start_time": "2023-05-30T18:10:11.215Z"
   },
   {
    "duration": 285,
    "start_time": "2023-05-30T18:10:36.622Z"
   },
   {
    "duration": 318,
    "start_time": "2023-05-30T18:13:48.423Z"
   },
   {
    "duration": 289,
    "start_time": "2023-05-30T18:13:58.291Z"
   },
   {
    "duration": 274,
    "start_time": "2023-05-30T18:14:12.313Z"
   },
   {
    "duration": 312,
    "start_time": "2023-05-30T18:14:16.531Z"
   },
   {
    "duration": 180,
    "start_time": "2023-05-30T18:17:54.527Z"
   },
   {
    "duration": 220,
    "start_time": "2023-05-30T18:18:08.024Z"
   },
   {
    "duration": 279,
    "start_time": "2023-05-30T18:31:08.731Z"
   },
   {
    "duration": 302,
    "start_time": "2023-05-30T18:31:38.867Z"
   },
   {
    "duration": 423,
    "start_time": "2023-05-30T18:31:53.060Z"
   },
   {
    "duration": 217,
    "start_time": "2023-05-30T18:32:20.498Z"
   },
   {
    "duration": 205,
    "start_time": "2023-05-30T18:32:22.795Z"
   },
   {
    "duration": 211,
    "start_time": "2023-05-30T18:32:25.886Z"
   },
   {
    "duration": 218,
    "start_time": "2023-05-30T18:32:30.791Z"
   },
   {
    "duration": 510,
    "start_time": "2023-05-30T18:34:00.178Z"
   },
   {
    "duration": 6,
    "start_time": "2023-05-30T18:40:06.895Z"
   },
   {
    "duration": 6,
    "start_time": "2023-05-30T19:05:15.505Z"
   },
   {
    "duration": 121,
    "start_time": "2023-05-30T19:15:14.440Z"
   },
   {
    "duration": 121,
    "start_time": "2023-05-30T19:15:20.435Z"
   },
   {
    "duration": 15,
    "start_time": "2023-05-30T19:16:02.676Z"
   },
   {
    "duration": 74,
    "start_time": "2023-05-30T19:16:09.598Z"
   },
   {
    "duration": 132,
    "start_time": "2023-05-30T19:16:25.691Z"
   },
   {
    "duration": 122,
    "start_time": "2023-05-30T19:16:48.591Z"
   },
   {
    "duration": 5,
    "start_time": "2023-05-30T19:18:30.071Z"
   },
   {
    "duration": 5,
    "start_time": "2023-05-30T19:18:37.006Z"
   },
   {
    "duration": 4,
    "start_time": "2023-05-30T19:22:58.383Z"
   },
   {
    "duration": 74,
    "start_time": "2023-05-30T19:23:02.215Z"
   },
   {
    "duration": 5,
    "start_time": "2023-05-30T19:23:09.197Z"
   },
   {
    "duration": 124,
    "start_time": "2023-05-30T19:26:40.418Z"
   },
   {
    "duration": 6,
    "start_time": "2023-05-30T19:36:35.013Z"
   },
   {
    "duration": 5,
    "start_time": "2023-05-30T19:38:18.638Z"
   },
   {
    "duration": 7,
    "start_time": "2023-05-30T19:38:26.590Z"
   },
   {
    "duration": 4,
    "start_time": "2023-05-30T19:38:59.660Z"
   },
   {
    "duration": 4,
    "start_time": "2023-05-30T19:39:14.915Z"
   },
   {
    "duration": 5,
    "start_time": "2023-05-30T19:39:32.397Z"
   },
   {
    "duration": 9,
    "start_time": "2023-05-30T19:39:37.586Z"
   },
   {
    "duration": 24,
    "start_time": "2023-05-30T19:42:21.021Z"
   },
   {
    "duration": 27,
    "start_time": "2023-05-30T19:42:26.398Z"
   },
   {
    "duration": 26,
    "start_time": "2023-05-30T19:42:30.749Z"
   },
   {
    "duration": 30,
    "start_time": "2023-05-30T19:43:22.344Z"
   },
   {
    "duration": 52,
    "start_time": "2023-05-30T19:44:25.728Z"
   },
   {
    "duration": 43,
    "start_time": "2023-05-30T19:44:31.706Z"
   },
   {
    "duration": 40,
    "start_time": "2023-05-30T19:44:59.382Z"
   },
   {
    "duration": 37,
    "start_time": "2023-05-30T19:45:13.086Z"
   },
   {
    "duration": 53,
    "start_time": "2023-05-30T19:45:55.524Z"
   },
   {
    "duration": 40,
    "start_time": "2023-05-30T19:46:09.602Z"
   },
   {
    "duration": 27,
    "start_time": "2023-05-30T19:47:40.490Z"
   },
   {
    "duration": 77,
    "start_time": "2023-05-30T19:48:02.240Z"
   },
   {
    "duration": 24,
    "start_time": "2023-05-30T19:48:05.994Z"
   },
   {
    "duration": 26,
    "start_time": "2023-05-30T19:48:09.578Z"
   },
   {
    "duration": 24,
    "start_time": "2023-05-30T19:48:12.779Z"
   },
   {
    "duration": 23,
    "start_time": "2023-05-30T19:48:30.953Z"
   },
   {
    "duration": 26,
    "start_time": "2023-05-30T19:48:49.624Z"
   },
   {
    "duration": 24,
    "start_time": "2023-05-30T19:49:02.703Z"
   },
   {
    "duration": 26,
    "start_time": "2023-05-30T19:49:20.898Z"
   },
   {
    "duration": 5,
    "start_time": "2023-05-30T19:53:00.109Z"
   },
   {
    "duration": 5,
    "start_time": "2023-05-30T19:53:03.774Z"
   },
   {
    "duration": 1582,
    "start_time": "2023-05-30T19:53:09.803Z"
   },
   {
    "duration": 4,
    "start_time": "2023-05-30T19:53:14.146Z"
   },
   {
    "duration": 8,
    "start_time": "2023-05-30T19:53:25.416Z"
   },
   {
    "duration": 6,
    "start_time": "2023-05-30T19:53:32.004Z"
   },
   {
    "duration": 6,
    "start_time": "2023-05-30T19:53:50.302Z"
   },
   {
    "duration": 27,
    "start_time": "2023-05-30T20:02:35.682Z"
   },
   {
    "duration": 23,
    "start_time": "2023-05-30T20:07:32.952Z"
   },
   {
    "duration": 24,
    "start_time": "2023-05-30T20:07:43.490Z"
   },
   {
    "duration": 25,
    "start_time": "2023-05-30T20:07:48.017Z"
   },
   {
    "duration": 26,
    "start_time": "2023-05-30T20:11:32.407Z"
   },
   {
    "duration": 16,
    "start_time": "2023-05-30T20:12:00.102Z"
   },
   {
    "duration": 11,
    "start_time": "2023-05-30T20:12:33.695Z"
   },
   {
    "duration": 93,
    "start_time": "2023-05-30T20:28:33.422Z"
   },
   {
    "duration": 15,
    "start_time": "2023-05-30T20:28:42.405Z"
   },
   {
    "duration": 15,
    "start_time": "2023-05-30T20:28:47.810Z"
   },
   {
    "duration": 12,
    "start_time": "2023-05-30T20:29:39.690Z"
   },
   {
    "duration": 24,
    "start_time": "2023-05-30T20:30:44.287Z"
   },
   {
    "duration": 15,
    "start_time": "2023-05-30T20:30:48.462Z"
   },
   {
    "duration": 13,
    "start_time": "2023-05-30T20:33:59.383Z"
   },
   {
    "duration": 16,
    "start_time": "2023-05-30T20:34:37.798Z"
   },
   {
    "duration": 13,
    "start_time": "2023-05-30T20:35:13.510Z"
   },
   {
    "duration": 16,
    "start_time": "2023-05-30T20:35:30.803Z"
   },
   {
    "duration": 17,
    "start_time": "2023-05-30T20:35:50.213Z"
   },
   {
    "duration": 12,
    "start_time": "2023-05-30T20:36:09.558Z"
   },
   {
    "duration": 12,
    "start_time": "2023-05-30T20:37:02.178Z"
   },
   {
    "duration": 12,
    "start_time": "2023-05-30T20:38:06.613Z"
   },
   {
    "duration": 1948,
    "start_time": "2023-05-31T10:15:38.902Z"
   },
   {
    "duration": 15,
    "start_time": "2023-05-31T10:15:40.852Z"
   },
   {
    "duration": 21,
    "start_time": "2023-05-31T10:15:40.869Z"
   },
   {
    "duration": 11,
    "start_time": "2023-05-31T10:15:40.892Z"
   },
   {
    "duration": 24,
    "start_time": "2023-05-31T10:15:40.905Z"
   },
   {
    "duration": 24,
    "start_time": "2023-05-31T10:15:40.932Z"
   },
   {
    "duration": 17,
    "start_time": "2023-05-31T10:15:40.959Z"
   },
   {
    "duration": 562,
    "start_time": "2023-05-31T10:15:40.982Z"
   },
   {
    "duration": 372,
    "start_time": "2023-05-31T10:15:41.546Z"
   },
   {
    "duration": 325,
    "start_time": "2023-05-31T10:15:41.920Z"
   },
   {
    "duration": 89,
    "start_time": "2023-05-31T10:15:42.247Z"
   },
   {
    "duration": 262,
    "start_time": "2023-05-31T10:15:42.338Z"
   },
   {
    "duration": 249,
    "start_time": "2023-05-31T10:15:42.602Z"
   },
   {
    "duration": 244,
    "start_time": "2023-05-31T10:15:42.854Z"
   },
   {
    "duration": 392,
    "start_time": "2023-05-31T10:15:43.100Z"
   },
   {
    "duration": 496,
    "start_time": "2023-05-31T10:15:43.501Z"
   },
   {
    "duration": 363,
    "start_time": "2023-05-31T10:15:43.999Z"
   },
   {
    "duration": 440,
    "start_time": "2023-05-31T10:15:44.365Z"
   },
   {
    "duration": 960,
    "start_time": "2023-05-31T10:15:44.808Z"
   },
   {
    "duration": 6,
    "start_time": "2023-05-31T10:15:45.770Z"
   },
   {
    "duration": 199,
    "start_time": "2023-05-31T10:15:45.778Z"
   },
   {
    "duration": 31,
    "start_time": "2023-05-31T10:15:45.982Z"
   },
   {
    "duration": 208,
    "start_time": "2023-05-31T10:15:46.022Z"
   },
   {
    "duration": 228,
    "start_time": "2023-05-31T10:15:46.234Z"
   },
   {
    "duration": 0,
    "start_time": "2023-05-31T10:15:46.464Z"
   },
   {
    "duration": 0,
    "start_time": "2023-05-31T10:15:46.465Z"
   },
   {
    "duration": 40,
    "start_time": "2023-05-31T10:16:34.222Z"
   },
   {
    "duration": 23,
    "start_time": "2023-05-31T10:16:37.205Z"
   },
   {
    "duration": 16,
    "start_time": "2023-05-31T10:16:39.954Z"
   },
   {
    "duration": 14,
    "start_time": "2023-05-31T10:39:57.758Z"
   },
   {
    "duration": 1286,
    "start_time": "2023-05-31T10:42:41.909Z"
   },
   {
    "duration": 12,
    "start_time": "2023-05-31T10:42:43.198Z"
   },
   {
    "duration": 21,
    "start_time": "2023-05-31T10:42:43.212Z"
   },
   {
    "duration": 18,
    "start_time": "2023-05-31T10:42:43.236Z"
   },
   {
    "duration": 15,
    "start_time": "2023-05-31T10:42:43.256Z"
   },
   {
    "duration": 37,
    "start_time": "2023-05-31T10:42:43.273Z"
   },
   {
    "duration": 18,
    "start_time": "2023-05-31T10:42:43.313Z"
   },
   {
    "duration": 480,
    "start_time": "2023-05-31T10:42:43.333Z"
   },
   {
    "duration": 321,
    "start_time": "2023-05-31T10:42:43.814Z"
   },
   {
    "duration": 272,
    "start_time": "2023-05-31T10:42:44.139Z"
   },
   {
    "duration": 82,
    "start_time": "2023-05-31T10:42:44.413Z"
   },
   {
    "duration": 215,
    "start_time": "2023-05-31T10:42:44.497Z"
   },
   {
    "duration": 232,
    "start_time": "2023-05-31T10:42:44.714Z"
   },
   {
    "duration": 216,
    "start_time": "2023-05-31T10:42:44.948Z"
   },
   {
    "duration": 343,
    "start_time": "2023-05-31T10:42:45.166Z"
   },
   {
    "duration": 340,
    "start_time": "2023-05-31T10:42:45.511Z"
   },
   {
    "duration": 299,
    "start_time": "2023-05-31T10:42:45.854Z"
   },
   {
    "duration": 328,
    "start_time": "2023-05-31T10:42:46.155Z"
   },
   {
    "duration": 550,
    "start_time": "2023-05-31T10:42:46.485Z"
   },
   {
    "duration": 5,
    "start_time": "2023-05-31T10:42:47.037Z"
   },
   {
    "duration": 131,
    "start_time": "2023-05-31T10:42:47.043Z"
   },
   {
    "duration": 18,
    "start_time": "2023-05-31T10:42:47.176Z"
   },
   {
    "duration": 131,
    "start_time": "2023-05-31T10:42:47.196Z"
   },
   {
    "duration": 28,
    "start_time": "2023-05-31T10:42:47.329Z"
   },
   {
    "duration": 30,
    "start_time": "2023-05-31T10:42:47.359Z"
   },
   {
    "duration": 16,
    "start_time": "2023-05-31T10:42:47.391Z"
   },
   {
    "duration": 1267,
    "start_time": "2023-05-31T10:49:34.248Z"
   },
   {
    "duration": 16,
    "start_time": "2023-05-31T10:49:35.518Z"
   },
   {
    "duration": 32,
    "start_time": "2023-05-31T10:49:35.535Z"
   },
   {
    "duration": 19,
    "start_time": "2023-05-31T10:49:35.569Z"
   },
   {
    "duration": 30,
    "start_time": "2023-05-31T10:49:35.590Z"
   },
   {
    "duration": 16,
    "start_time": "2023-05-31T10:49:35.623Z"
   },
   {
    "duration": 31,
    "start_time": "2023-05-31T10:49:35.641Z"
   },
   {
    "duration": 473,
    "start_time": "2023-05-31T10:49:35.674Z"
   },
   {
    "duration": 313,
    "start_time": "2023-05-31T10:49:36.148Z"
   },
   {
    "duration": 251,
    "start_time": "2023-05-31T10:49:36.463Z"
   },
   {
    "duration": 77,
    "start_time": "2023-05-31T10:49:36.717Z"
   },
   {
    "duration": 226,
    "start_time": "2023-05-31T10:49:36.795Z"
   },
   {
    "duration": 208,
    "start_time": "2023-05-31T10:49:37.022Z"
   },
   {
    "duration": 198,
    "start_time": "2023-05-31T10:49:37.232Z"
   },
   {
    "duration": 305,
    "start_time": "2023-05-31T10:49:37.431Z"
   },
   {
    "duration": 309,
    "start_time": "2023-05-31T10:49:37.738Z"
   },
   {
    "duration": 287,
    "start_time": "2023-05-31T10:49:38.048Z"
   },
   {
    "duration": 293,
    "start_time": "2023-05-31T10:49:38.337Z"
   },
   {
    "duration": 596,
    "start_time": "2023-05-31T10:49:38.632Z"
   },
   {
    "duration": 5,
    "start_time": "2023-05-31T10:49:39.230Z"
   },
   {
    "duration": 134,
    "start_time": "2023-05-31T10:49:39.236Z"
   },
   {
    "duration": 6,
    "start_time": "2023-05-31T10:49:39.376Z"
   },
   {
    "duration": 129,
    "start_time": "2023-05-31T10:49:39.391Z"
   },
   {
    "duration": 28,
    "start_time": "2023-05-31T10:49:39.522Z"
   },
   {
    "duration": 36,
    "start_time": "2023-05-31T10:49:39.552Z"
   },
   {
    "duration": 14,
    "start_time": "2023-05-31T10:49:39.590Z"
   },
   {
    "duration": 1184,
    "start_time": "2023-05-31T10:53:22.150Z"
   },
   {
    "duration": 10,
    "start_time": "2023-05-31T10:53:23.336Z"
   },
   {
    "duration": 10,
    "start_time": "2023-05-31T10:53:23.348Z"
   },
   {
    "duration": 5,
    "start_time": "2023-05-31T10:53:23.359Z"
   },
   {
    "duration": 18,
    "start_time": "2023-05-31T10:53:23.366Z"
   },
   {
    "duration": 12,
    "start_time": "2023-05-31T10:53:23.386Z"
   },
   {
    "duration": 11,
    "start_time": "2023-05-31T10:53:23.400Z"
   },
   {
    "duration": 465,
    "start_time": "2023-05-31T10:53:23.413Z"
   },
   {
    "duration": 282,
    "start_time": "2023-05-31T10:53:23.880Z"
   },
   {
    "duration": 200,
    "start_time": "2023-05-31T10:53:24.165Z"
   },
   {
    "duration": 55,
    "start_time": "2023-05-31T10:53:24.367Z"
   },
   {
    "duration": 209,
    "start_time": "2023-05-31T10:53:24.424Z"
   },
   {
    "duration": 203,
    "start_time": "2023-05-31T10:53:24.634Z"
   },
   {
    "duration": 203,
    "start_time": "2023-05-31T10:53:24.839Z"
   },
   {
    "duration": 323,
    "start_time": "2023-05-31T10:53:25.044Z"
   },
   {
    "duration": 355,
    "start_time": "2023-05-31T10:53:25.369Z"
   },
   {
    "duration": 297,
    "start_time": "2023-05-31T10:53:25.725Z"
   },
   {
    "duration": 266,
    "start_time": "2023-05-31T10:53:26.024Z"
   },
   {
    "duration": 547,
    "start_time": "2023-05-31T10:53:26.292Z"
   },
   {
    "duration": 5,
    "start_time": "2023-05-31T10:53:26.840Z"
   },
   {
    "duration": 132,
    "start_time": "2023-05-31T10:53:26.847Z"
   },
   {
    "duration": 6,
    "start_time": "2023-05-31T10:53:26.981Z"
   },
   {
    "duration": 151,
    "start_time": "2023-05-31T10:53:26.989Z"
   },
   {
    "duration": 24,
    "start_time": "2023-05-31T10:53:27.141Z"
   },
   {
    "duration": 12,
    "start_time": "2023-05-31T10:53:27.178Z"
   },
   {
    "duration": 13,
    "start_time": "2023-05-31T10:53:27.192Z"
   },
   {
    "duration": 108,
    "start_time": "2023-05-31T11:11:36.591Z"
   },
   {
    "duration": 1485,
    "start_time": "2023-05-31T11:57:06.077Z"
   },
   {
    "duration": 11,
    "start_time": "2023-05-31T11:57:07.564Z"
   },
   {
    "duration": 70,
    "start_time": "2023-05-31T11:57:07.577Z"
   },
   {
    "duration": 27,
    "start_time": "2023-05-31T11:57:07.649Z"
   },
   {
    "duration": 38,
    "start_time": "2023-05-31T11:57:07.679Z"
   },
   {
    "duration": 41,
    "start_time": "2023-05-31T11:57:07.719Z"
   },
   {
    "duration": 51,
    "start_time": "2023-05-31T11:57:07.762Z"
   },
   {
    "duration": 465,
    "start_time": "2023-05-31T11:57:07.814Z"
   },
   {
    "duration": 281,
    "start_time": "2023-05-31T11:57:08.281Z"
   },
   {
    "duration": 207,
    "start_time": "2023-05-31T11:57:08.563Z"
   },
   {
    "duration": 63,
    "start_time": "2023-05-31T11:57:08.771Z"
   },
   {
    "duration": 204,
    "start_time": "2023-05-31T11:57:08.838Z"
   },
   {
    "duration": 207,
    "start_time": "2023-05-31T11:57:09.044Z"
   },
   {
    "duration": 229,
    "start_time": "2023-05-31T11:57:09.254Z"
   },
   {
    "duration": 379,
    "start_time": "2023-05-31T11:57:09.485Z"
   },
   {
    "duration": 374,
    "start_time": "2023-05-31T11:57:09.866Z"
   },
   {
    "duration": 277,
    "start_time": "2023-05-31T11:57:10.242Z"
   },
   {
    "duration": 313,
    "start_time": "2023-05-31T11:57:10.521Z"
   },
   {
    "duration": 601,
    "start_time": "2023-05-31T11:57:10.842Z"
   },
   {
    "duration": 5,
    "start_time": "2023-05-31T11:57:11.445Z"
   },
   {
    "duration": 152,
    "start_time": "2023-05-31T11:57:11.452Z"
   },
   {
    "duration": 5,
    "start_time": "2023-05-31T11:57:11.606Z"
   },
   {
    "duration": 153,
    "start_time": "2023-05-31T11:57:11.624Z"
   },
   {
    "duration": 28,
    "start_time": "2023-05-31T11:57:11.778Z"
   },
   {
    "duration": 35,
    "start_time": "2023-05-31T11:57:11.808Z"
   },
   {
    "duration": 54,
    "start_time": "2023-05-31T11:57:11.845Z"
   },
   {
    "duration": 117,
    "start_time": "2023-05-31T11:58:36.338Z"
   },
   {
    "duration": 1227,
    "start_time": "2023-05-31T11:58:44.493Z"
   },
   {
    "duration": 130,
    "start_time": "2023-05-31T11:58:45.722Z"
   },
   {
    "duration": 10,
    "start_time": "2023-05-31T11:58:45.854Z"
   },
   {
    "duration": 81,
    "start_time": "2023-05-31T11:58:45.866Z"
   },
   {
    "duration": 19,
    "start_time": "2023-05-31T11:58:45.949Z"
   },
   {
    "duration": 19,
    "start_time": "2023-05-31T11:58:45.969Z"
   },
   {
    "duration": 25,
    "start_time": "2023-05-31T11:58:45.990Z"
   },
   {
    "duration": 27,
    "start_time": "2023-05-31T11:58:46.017Z"
   },
   {
    "duration": 495,
    "start_time": "2023-05-31T11:58:46.046Z"
   },
   {
    "duration": 320,
    "start_time": "2023-05-31T11:58:46.545Z"
   },
   {
    "duration": 230,
    "start_time": "2023-05-31T11:58:46.867Z"
   },
   {
    "duration": 84,
    "start_time": "2023-05-31T11:58:47.099Z"
   },
   {
    "duration": 264,
    "start_time": "2023-05-31T11:58:47.185Z"
   },
   {
    "duration": 253,
    "start_time": "2023-05-31T11:58:47.451Z"
   },
   {
    "duration": 257,
    "start_time": "2023-05-31T11:58:47.706Z"
   },
   {
    "duration": 306,
    "start_time": "2023-05-31T11:58:47.965Z"
   },
   {
    "duration": 322,
    "start_time": "2023-05-31T11:58:48.273Z"
   },
   {
    "duration": 758,
    "start_time": "2023-05-31T11:58:48.599Z"
   },
   {
    "duration": 569,
    "start_time": "2023-05-31T11:58:49.359Z"
   },
   {
    "duration": 1185,
    "start_time": "2023-05-31T11:58:49.936Z"
   },
   {
    "duration": 20,
    "start_time": "2023-05-31T11:58:51.123Z"
   },
   {
    "duration": 160,
    "start_time": "2023-05-31T11:58:51.145Z"
   },
   {
    "duration": 5,
    "start_time": "2023-05-31T11:58:51.307Z"
   },
   {
    "duration": 180,
    "start_time": "2023-05-31T11:58:51.315Z"
   },
   {
    "duration": 49,
    "start_time": "2023-05-31T11:58:51.497Z"
   },
   {
    "duration": 12,
    "start_time": "2023-05-31T11:58:51.548Z"
   },
   {
    "duration": 119,
    "start_time": "2023-05-31T11:58:51.561Z"
   },
   {
    "duration": 14,
    "start_time": "2023-05-31T12:00:24.711Z"
   },
   {
    "duration": 110,
    "start_time": "2023-05-31T12:04:58.963Z"
   },
   {
    "duration": 13,
    "start_time": "2023-05-31T12:05:17.484Z"
   },
   {
    "duration": 14,
    "start_time": "2023-05-31T12:05:20.792Z"
   },
   {
    "duration": 31,
    "start_time": "2023-05-31T12:05:50.719Z"
   },
   {
    "duration": 11,
    "start_time": "2023-05-31T12:06:09.111Z"
   },
   {
    "duration": 22,
    "start_time": "2023-05-31T12:06:16.334Z"
   },
   {
    "duration": 12,
    "start_time": "2023-05-31T12:08:05.182Z"
   },
   {
    "duration": 15,
    "start_time": "2023-05-31T12:09:14.580Z"
   },
   {
    "duration": 15,
    "start_time": "2023-05-31T12:09:26.513Z"
   },
   {
    "duration": 226,
    "start_time": "2023-05-31T12:10:54.682Z"
   },
   {
    "duration": 216,
    "start_time": "2023-05-31T12:11:07.411Z"
   },
   {
    "duration": 178,
    "start_time": "2023-05-31T12:11:17.203Z"
   },
   {
    "duration": 184,
    "start_time": "2023-05-31T12:11:20.860Z"
   },
   {
    "duration": 190,
    "start_time": "2023-05-31T12:11:56.837Z"
   },
   {
    "duration": 275,
    "start_time": "2023-05-31T12:12:02.213Z"
   },
   {
    "duration": 164,
    "start_time": "2023-05-31T12:12:07.282Z"
   },
   {
    "duration": 268,
    "start_time": "2023-05-31T12:12:54.720Z"
   },
   {
    "duration": 194,
    "start_time": "2023-05-31T12:13:42.601Z"
   },
   {
    "duration": 13,
    "start_time": "2023-05-31T12:14:07.900Z"
   },
   {
    "duration": 14,
    "start_time": "2023-05-31T12:14:12.929Z"
   },
   {
    "duration": 204,
    "start_time": "2023-05-31T12:14:28.479Z"
   },
   {
    "duration": 221,
    "start_time": "2023-05-31T12:21:04.944Z"
   },
   {
    "duration": 212,
    "start_time": "2023-05-31T12:22:56.116Z"
   },
   {
    "duration": 219,
    "start_time": "2023-05-31T12:23:08.841Z"
   },
   {
    "duration": 67,
    "start_time": "2023-05-31T12:23:19.129Z"
   },
   {
    "duration": 219,
    "start_time": "2023-05-31T12:23:30.041Z"
   },
   {
    "duration": 201,
    "start_time": "2023-05-31T12:24:04.286Z"
   },
   {
    "duration": 253,
    "start_time": "2023-05-31T12:24:27.283Z"
   },
   {
    "duration": 317,
    "start_time": "2023-05-31T12:24:36.851Z"
   },
   {
    "duration": 225,
    "start_time": "2023-05-31T12:24:49.475Z"
   },
   {
    "duration": 321,
    "start_time": "2023-05-31T12:25:23.660Z"
   },
   {
    "duration": 340,
    "start_time": "2023-05-31T12:25:29.381Z"
   },
   {
    "duration": 353,
    "start_time": "2023-05-31T12:25:40.319Z"
   },
   {
    "duration": 392,
    "start_time": "2023-05-31T12:25:50.714Z"
   },
   {
    "duration": 307,
    "start_time": "2023-05-31T12:25:56.689Z"
   },
   {
    "duration": 292,
    "start_time": "2023-05-31T12:26:09.275Z"
   },
   {
    "duration": 268,
    "start_time": "2023-05-31T12:26:16.172Z"
   },
   {
    "duration": 300,
    "start_time": "2023-05-31T12:26:27.034Z"
   },
   {
    "duration": 328,
    "start_time": "2023-05-31T12:26:33.788Z"
   },
   {
    "duration": 295,
    "start_time": "2023-05-31T12:27:14.989Z"
   },
   {
    "duration": 233,
    "start_time": "2023-05-31T12:30:46.777Z"
   },
   {
    "duration": 321,
    "start_time": "2023-05-31T12:32:42.436Z"
   },
   {
    "duration": 1329,
    "start_time": "2023-06-01T06:37:40.283Z"
   },
   {
    "duration": 277,
    "start_time": "2023-06-01T06:37:41.614Z"
   },
   {
    "duration": 13,
    "start_time": "2023-06-01T06:37:41.893Z"
   },
   {
    "duration": 34,
    "start_time": "2023-06-01T06:37:41.908Z"
   },
   {
    "duration": 5,
    "start_time": "2023-06-01T06:37:41.944Z"
   },
   {
    "duration": 17,
    "start_time": "2023-06-01T06:37:41.957Z"
   },
   {
    "duration": 14,
    "start_time": "2023-06-01T06:37:41.976Z"
   },
   {
    "duration": 13,
    "start_time": "2023-06-01T06:37:41.992Z"
   },
   {
    "duration": 498,
    "start_time": "2023-06-01T06:37:42.007Z"
   },
   {
    "duration": 306,
    "start_time": "2023-06-01T06:37:42.507Z"
   },
   {
    "duration": 13,
    "start_time": "2023-06-01T06:37:42.815Z"
   },
   {
    "duration": 227,
    "start_time": "2023-06-01T06:37:42.830Z"
   },
   {
    "duration": 52,
    "start_time": "2023-06-01T06:37:43.062Z"
   },
   {
    "duration": 233,
    "start_time": "2023-06-01T06:37:43.115Z"
   },
   {
    "duration": 228,
    "start_time": "2023-06-01T06:37:43.349Z"
   },
   {
    "duration": 226,
    "start_time": "2023-06-01T06:37:43.579Z"
   },
   {
    "duration": 413,
    "start_time": "2023-06-01T06:37:43.806Z"
   },
   {
    "duration": 363,
    "start_time": "2023-06-01T06:37:44.221Z"
   },
   {
    "duration": 308,
    "start_time": "2023-06-01T06:37:44.586Z"
   },
   {
    "duration": 294,
    "start_time": "2023-06-01T06:37:44.896Z"
   },
   {
    "duration": 585,
    "start_time": "2023-06-01T06:37:45.192Z"
   },
   {
    "duration": 5,
    "start_time": "2023-06-01T06:37:45.778Z"
   },
   {
    "duration": 176,
    "start_time": "2023-06-01T06:37:45.785Z"
   },
   {
    "duration": 13,
    "start_time": "2023-06-01T06:37:45.966Z"
   },
   {
    "duration": 162,
    "start_time": "2023-06-01T06:37:45.982Z"
   },
   {
    "duration": 37,
    "start_time": "2023-06-01T06:37:46.146Z"
   },
   {
    "duration": 169,
    "start_time": "2023-06-01T06:37:46.185Z"
   },
   {
    "duration": 0,
    "start_time": "2023-06-01T06:37:46.356Z"
   },
   {
    "duration": 133,
    "start_time": "2023-06-01T06:38:39.745Z"
   },
   {
    "duration": 59,
    "start_time": "2023-06-01T07:34:28.595Z"
   },
   {
    "duration": 1271,
    "start_time": "2023-06-01T07:34:34.900Z"
   },
   {
    "duration": 247,
    "start_time": "2023-06-01T07:34:36.173Z"
   },
   {
    "duration": 25,
    "start_time": "2023-06-01T07:34:36.422Z"
   },
   {
    "duration": 10,
    "start_time": "2023-06-01T07:34:36.448Z"
   },
   {
    "duration": 9,
    "start_time": "2023-06-01T07:34:36.460Z"
   },
   {
    "duration": 22,
    "start_time": "2023-06-01T07:34:36.470Z"
   },
   {
    "duration": 49,
    "start_time": "2023-06-01T07:34:36.494Z"
   },
   {
    "duration": 17,
    "start_time": "2023-06-01T07:34:36.545Z"
   },
   {
    "duration": 481,
    "start_time": "2023-06-01T07:34:36.564Z"
   },
   {
    "duration": 285,
    "start_time": "2023-06-01T07:34:37.046Z"
   },
   {
    "duration": 18,
    "start_time": "2023-06-01T07:34:37.335Z"
   },
   {
    "duration": 219,
    "start_time": "2023-06-01T07:34:37.356Z"
   },
   {
    "duration": 72,
    "start_time": "2023-06-01T07:34:37.576Z"
   },
   {
    "duration": 223,
    "start_time": "2023-06-01T07:34:37.651Z"
   },
   {
    "duration": 211,
    "start_time": "2023-06-01T07:34:37.876Z"
   },
   {
    "duration": 259,
    "start_time": "2023-06-01T07:34:38.089Z"
   },
   {
    "duration": 330,
    "start_time": "2023-06-01T07:34:38.351Z"
   },
   {
    "duration": 338,
    "start_time": "2023-06-01T07:34:38.683Z"
   },
   {
    "duration": 366,
    "start_time": "2023-06-01T07:34:39.026Z"
   },
   {
    "duration": 368,
    "start_time": "2023-06-01T07:34:39.394Z"
   },
   {
    "duration": 607,
    "start_time": "2023-06-01T07:34:39.764Z"
   },
   {
    "duration": 5,
    "start_time": "2023-06-01T07:34:40.372Z"
   },
   {
    "duration": 151,
    "start_time": "2023-06-01T07:34:40.379Z"
   },
   {
    "duration": 8,
    "start_time": "2023-06-01T07:34:40.537Z"
   },
   {
    "duration": 151,
    "start_time": "2023-06-01T07:34:40.546Z"
   },
   {
    "duration": 45,
    "start_time": "2023-06-01T07:34:40.699Z"
   },
   {
    "duration": 11,
    "start_time": "2023-06-01T07:34:40.746Z"
   },
   {
    "duration": 13,
    "start_time": "2023-06-01T07:34:40.758Z"
   },
   {
    "duration": 151,
    "start_time": "2023-06-01T07:36:39.188Z"
   },
   {
    "duration": 12,
    "start_time": "2023-06-01T07:37:13.401Z"
   },
   {
    "duration": 19,
    "start_time": "2023-06-01T07:37:42.050Z"
   },
   {
    "duration": 111,
    "start_time": "2023-06-01T07:38:18.951Z"
   },
   {
    "duration": 7,
    "start_time": "2023-06-01T07:38:23.923Z"
   },
   {
    "duration": 19,
    "start_time": "2023-06-01T07:39:44.684Z"
   },
   {
    "duration": 27,
    "start_time": "2023-06-01T07:39:53.852Z"
   },
   {
    "duration": 7,
    "start_time": "2023-06-01T07:40:18.166Z"
   },
   {
    "duration": 354,
    "start_time": "2023-06-01T07:42:18.964Z"
   },
   {
    "duration": 5,
    "start_time": "2023-06-01T07:42:45.761Z"
   },
   {
    "duration": 8,
    "start_time": "2023-06-01T07:42:54.951Z"
   },
   {
    "duration": 8,
    "start_time": "2023-06-01T07:43:28.204Z"
   },
   {
    "duration": 13,
    "start_time": "2023-06-01T07:43:32.416Z"
   },
   {
    "duration": 9,
    "start_time": "2023-06-01T08:37:37.954Z"
   },
   {
    "duration": 8,
    "start_time": "2023-06-01T08:48:02.214Z"
   },
   {
    "duration": 12,
    "start_time": "2023-06-01T08:48:09.407Z"
   },
   {
    "duration": 11,
    "start_time": "2023-06-01T08:48:14.817Z"
   },
   {
    "duration": 16,
    "start_time": "2023-06-01T08:48:34.672Z"
   },
   {
    "duration": 12,
    "start_time": "2023-06-01T08:48:41.972Z"
   },
   {
    "duration": 9,
    "start_time": "2023-06-01T08:48:46.504Z"
   },
   {
    "duration": 10,
    "start_time": "2023-06-01T08:48:59.142Z"
   },
   {
    "duration": 9,
    "start_time": "2023-06-01T08:49:07.665Z"
   },
   {
    "duration": 11,
    "start_time": "2023-06-01T08:49:32.981Z"
   },
   {
    "duration": 186,
    "start_time": "2023-06-01T08:53:41.523Z"
   },
   {
    "duration": 153,
    "start_time": "2023-06-01T08:53:51.018Z"
   },
   {
    "duration": 187,
    "start_time": "2023-06-01T08:54:48.611Z"
   },
   {
    "duration": 140,
    "start_time": "2023-06-01T08:59:31.002Z"
   },
   {
    "duration": 1653,
    "start_time": "2023-06-01T09:00:21.958Z"
   },
   {
    "duration": 215,
    "start_time": "2023-06-01T09:00:23.614Z"
   },
   {
    "duration": 21,
    "start_time": "2023-06-01T09:00:23.834Z"
   },
   {
    "duration": 31,
    "start_time": "2023-06-01T09:00:23.858Z"
   },
   {
    "duration": 26,
    "start_time": "2023-06-01T09:00:23.892Z"
   },
   {
    "duration": 21,
    "start_time": "2023-06-01T09:00:23.921Z"
   },
   {
    "duration": 21,
    "start_time": "2023-06-01T09:00:23.944Z"
   },
   {
    "duration": 25,
    "start_time": "2023-06-01T09:00:23.967Z"
   },
   {
    "duration": 636,
    "start_time": "2023-06-01T09:00:23.994Z"
   },
   {
    "duration": 316,
    "start_time": "2023-06-01T09:00:24.634Z"
   },
   {
    "duration": 16,
    "start_time": "2023-06-01T09:00:24.952Z"
   },
   {
    "duration": 235,
    "start_time": "2023-06-01T09:00:24.970Z"
   },
   {
    "duration": 89,
    "start_time": "2023-06-01T09:00:25.207Z"
   },
   {
    "duration": 270,
    "start_time": "2023-06-01T09:00:25.299Z"
   },
   {
    "duration": 330,
    "start_time": "2023-06-01T09:00:25.571Z"
   },
   {
    "duration": 252,
    "start_time": "2023-06-01T09:00:25.906Z"
   },
   {
    "duration": 279,
    "start_time": "2023-06-01T09:00:26.160Z"
   },
   {
    "duration": 338,
    "start_time": "2023-06-01T09:00:26.440Z"
   },
   {
    "duration": 329,
    "start_time": "2023-06-01T09:00:26.780Z"
   },
   {
    "duration": 19,
    "start_time": "2023-06-01T09:00:27.110Z"
   },
   {
    "duration": 26,
    "start_time": "2023-06-01T09:00:27.134Z"
   },
   {
    "duration": 144,
    "start_time": "2023-06-01T09:00:27.162Z"
   },
   {
    "duration": 17,
    "start_time": "2023-06-01T09:00:27.308Z"
   },
   {
    "duration": 54,
    "start_time": "2023-06-01T09:00:27.326Z"
   },
   {
    "duration": 6,
    "start_time": "2023-06-01T09:00:27.382Z"
   },
   {
    "duration": 314,
    "start_time": "2023-06-01T09:00:27.390Z"
   },
   {
    "duration": 574,
    "start_time": "2023-06-01T09:00:27.706Z"
   },
   {
    "duration": 5,
    "start_time": "2023-06-01T09:00:28.282Z"
   },
   {
    "duration": 180,
    "start_time": "2023-06-01T09:00:28.289Z"
   },
   {
    "duration": 9,
    "start_time": "2023-06-01T09:00:28.470Z"
   },
   {
    "duration": 190,
    "start_time": "2023-06-01T09:00:28.483Z"
   },
   {
    "duration": 92,
    "start_time": "2023-06-01T09:00:28.675Z"
   },
   {
    "duration": 686,
    "start_time": "2023-06-01T09:00:28.769Z"
   },
   {
    "duration": 8,
    "start_time": "2023-06-01T09:00:29.470Z"
   },
   {
    "duration": 61,
    "start_time": "2023-06-01T09:00:29.480Z"
   },
   {
    "duration": 20,
    "start_time": "2023-06-01T09:00:29.545Z"
   },
   {
    "duration": 61,
    "start_time": "2023-06-01T09:00:29.572Z"
   },
   {
    "duration": 10,
    "start_time": "2023-06-01T09:05:53.083Z"
   },
   {
    "duration": 13,
    "start_time": "2023-06-01T09:11:21.899Z"
   },
   {
    "duration": 20,
    "start_time": "2023-06-01T09:11:25.158Z"
   },
   {
    "duration": 16,
    "start_time": "2023-06-01T09:11:45.596Z"
   },
   {
    "duration": 230,
    "start_time": "2023-06-01T09:12:23.573Z"
   },
   {
    "duration": 26,
    "start_time": "2023-06-01T12:19:59.327Z"
   },
   {
    "duration": 6,
    "start_time": "2023-06-01T12:20:16.290Z"
   },
   {
    "duration": 8,
    "start_time": "2023-06-01T12:20:19.858Z"
   },
   {
    "duration": 9,
    "start_time": "2023-06-01T12:20:27.007Z"
   },
   {
    "duration": 9,
    "start_time": "2023-06-01T12:20:46.779Z"
   },
   {
    "duration": 8,
    "start_time": "2023-06-01T12:20:50.457Z"
   },
   {
    "duration": 295,
    "start_time": "2023-06-01T12:21:13.708Z"
   },
   {
    "duration": 281,
    "start_time": "2023-06-01T12:24:21.115Z"
   },
   {
    "duration": 6,
    "start_time": "2023-06-01T12:26:23.849Z"
   },
   {
    "duration": 221,
    "start_time": "2023-06-01T12:26:25.087Z"
   },
   {
    "duration": 393,
    "start_time": "2023-06-01T12:31:00.488Z"
   },
   {
    "duration": 42,
    "start_time": "2023-06-01T12:33:04.602Z"
   },
   {
    "duration": 1291,
    "start_time": "2023-06-01T12:38:40.648Z"
   },
   {
    "duration": 147,
    "start_time": "2023-06-01T12:38:41.942Z"
   },
   {
    "duration": 34,
    "start_time": "2023-06-01T12:38:42.091Z"
   },
   {
    "duration": 16,
    "start_time": "2023-06-01T12:38:42.128Z"
   },
   {
    "duration": 6,
    "start_time": "2023-06-01T12:38:42.147Z"
   },
   {
    "duration": 17,
    "start_time": "2023-06-01T12:38:42.156Z"
   },
   {
    "duration": 17,
    "start_time": "2023-06-01T12:38:42.175Z"
   },
   {
    "duration": 19,
    "start_time": "2023-06-01T12:38:42.224Z"
   },
   {
    "duration": 506,
    "start_time": "2023-06-01T12:38:42.245Z"
   },
   {
    "duration": 358,
    "start_time": "2023-06-01T12:38:42.753Z"
   },
   {
    "duration": 24,
    "start_time": "2023-06-01T12:38:43.113Z"
   },
   {
    "duration": 263,
    "start_time": "2023-06-01T12:38:43.138Z"
   },
   {
    "duration": 81,
    "start_time": "2023-06-01T12:38:43.403Z"
   },
   {
    "duration": 326,
    "start_time": "2023-06-01T12:38:43.488Z"
   },
   {
    "duration": 329,
    "start_time": "2023-06-01T12:38:43.815Z"
   },
   {
    "duration": 699,
    "start_time": "2023-06-01T12:38:44.147Z"
   },
   {
    "duration": 691,
    "start_time": "2023-06-01T12:38:44.849Z"
   },
   {
    "duration": 720,
    "start_time": "2023-06-01T12:38:45.542Z"
   },
   {
    "duration": 7,
    "start_time": "2023-06-01T12:38:46.264Z"
   },
   {
    "duration": 560,
    "start_time": "2023-06-01T12:38:46.272Z"
   },
   {
    "duration": 348,
    "start_time": "2023-06-01T12:38:46.834Z"
   },
   {
    "duration": 732,
    "start_time": "2023-06-01T12:38:47.184Z"
   },
   {
    "duration": 10,
    "start_time": "2023-06-01T12:38:47.918Z"
   },
   {
    "duration": 155,
    "start_time": "2023-06-01T12:38:47.930Z"
   },
   {
    "duration": 7,
    "start_time": "2023-06-01T12:38:48.087Z"
   },
   {
    "duration": 179,
    "start_time": "2023-06-01T12:38:48.095Z"
   },
   {
    "duration": 59,
    "start_time": "2023-06-01T12:38:48.276Z"
   },
   {
    "duration": 363,
    "start_time": "2023-06-01T12:38:48.338Z"
   },
   {
    "duration": 6,
    "start_time": "2023-06-01T12:38:48.702Z"
   },
   {
    "duration": 33,
    "start_time": "2023-06-01T12:38:48.711Z"
   },
   {
    "duration": 18,
    "start_time": "2023-06-01T12:38:48.746Z"
   },
   {
    "duration": 16,
    "start_time": "2023-06-01T12:38:48.765Z"
   },
   {
    "duration": 1110,
    "start_time": "2023-06-02T06:42:48.001Z"
   },
   {
    "duration": 243,
    "start_time": "2023-06-02T06:42:49.113Z"
   },
   {
    "duration": 12,
    "start_time": "2023-06-02T06:42:49.360Z"
   },
   {
    "duration": 10,
    "start_time": "2023-06-02T06:42:49.374Z"
   },
   {
    "duration": 4,
    "start_time": "2023-06-02T06:42:49.386Z"
   },
   {
    "duration": 12,
    "start_time": "2023-06-02T06:42:49.392Z"
   },
   {
    "duration": 13,
    "start_time": "2023-06-02T06:42:49.405Z"
   },
   {
    "duration": 48,
    "start_time": "2023-06-02T06:42:49.420Z"
   },
   {
    "duration": 489,
    "start_time": "2023-06-02T06:42:49.470Z"
   },
   {
    "duration": 309,
    "start_time": "2023-06-02T06:42:49.964Z"
   },
   {
    "duration": 13,
    "start_time": "2023-06-02T06:42:50.275Z"
   },
   {
    "duration": 234,
    "start_time": "2023-06-02T06:42:50.290Z"
   },
   {
    "duration": 63,
    "start_time": "2023-06-02T06:42:50.525Z"
   },
   {
    "duration": 240,
    "start_time": "2023-06-02T06:42:50.589Z"
   },
   {
    "duration": 233,
    "start_time": "2023-06-02T06:42:50.831Z"
   },
   {
    "duration": 218,
    "start_time": "2023-06-02T06:42:51.067Z"
   },
   {
    "duration": 296,
    "start_time": "2023-06-02T06:42:51.287Z"
   },
   {
    "duration": 323,
    "start_time": "2023-06-02T06:42:51.585Z"
   },
   {
    "duration": 5,
    "start_time": "2023-06-02T06:42:51.911Z"
   },
   {
    "duration": 316,
    "start_time": "2023-06-02T06:42:51.917Z"
   },
   {
    "duration": 363,
    "start_time": "2023-06-02T06:42:52.235Z"
   },
   {
    "duration": 573,
    "start_time": "2023-06-02T06:42:52.600Z"
   },
   {
    "duration": 5,
    "start_time": "2023-06-02T06:42:53.175Z"
   },
   {
    "duration": 140,
    "start_time": "2023-06-02T06:42:53.182Z"
   },
   {
    "duration": 4,
    "start_time": "2023-06-02T06:42:53.324Z"
   },
   {
    "duration": 141,
    "start_time": "2023-06-02T06:42:53.330Z"
   },
   {
    "duration": 26,
    "start_time": "2023-06-02T06:42:53.472Z"
   },
   {
    "duration": 288,
    "start_time": "2023-06-02T06:42:53.501Z"
   },
   {
    "duration": 6,
    "start_time": "2023-06-02T06:42:53.790Z"
   },
   {
    "duration": 9,
    "start_time": "2023-06-02T06:42:53.798Z"
   },
   {
    "duration": 12,
    "start_time": "2023-06-02T06:42:53.809Z"
   },
   {
    "duration": 40,
    "start_time": "2023-06-02T06:42:53.823Z"
   }
  ],
  "kernelspec": {
   "display_name": "Python 3",
   "language": "python",
   "name": "python3"
  },
  "language_info": {
   "codemirror_mode": {
    "name": "ipython",
    "version": 3
   },
   "file_extension": ".py",
   "mimetype": "text/x-python",
   "name": "python",
   "nbconvert_exporter": "python",
   "pygments_lexer": "ipython3",
   "version": "3.8.8"
  },
  "toc": {
   "base_numbering": 1,
   "nav_menu": {},
   "number_sections": true,
   "sideBar": true,
   "skip_h1_title": true,
   "title_cell": "Table of Contents",
   "title_sidebar": "Contents",
   "toc_cell": false,
   "toc_position": {
    "height": "calc(100% - 180px)",
    "left": "10px",
    "top": "150px",
    "width": "331.745px"
   },
   "toc_section_display": true,
   "toc_window_display": true
  }
 },
 "nbformat": 4,
 "nbformat_minor": 2
}
